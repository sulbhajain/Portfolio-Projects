{
 "cells": [
  {
   "cell_type": "code",
   "execution_count": 2,
   "metadata": {
    "collapsed": true
   },
   "outputs": [],
   "source": [
    "import pandas as pd\n"
   ]
  },
  {
   "cell_type": "code",
   "execution_count": 3,
   "metadata": {
    "collapsed": true
   },
   "outputs": [],
   "source": [
    "file_data = pd.read_csv(\"data/food_info.csv\")"
   ]
  },
  {
   "cell_type": "code",
   "execution_count": 4,
   "metadata": {},
   "outputs": [
    {
     "data": {
      "text/html": [
       "<div>\n",
       "<style>\n",
       "    .dataframe thead tr:only-child th {\n",
       "        text-align: right;\n",
       "    }\n",
       "\n",
       "    .dataframe thead th {\n",
       "        text-align: left;\n",
       "    }\n",
       "\n",
       "    .dataframe tbody tr th {\n",
       "        vertical-align: top;\n",
       "    }\n",
       "</style>\n",
       "<table border=\"1\" class=\"dataframe\">\n",
       "  <thead>\n",
       "    <tr style=\"text-align: right;\">\n",
       "      <th></th>\n",
       "      <th>NDB_No</th>\n",
       "      <th>Shrt_Desc</th>\n",
       "      <th>Water_(g)</th>\n",
       "      <th>Energ_Kcal</th>\n",
       "      <th>Protein_(g)</th>\n",
       "      <th>Lipid_Tot_(g)</th>\n",
       "      <th>Ash_(g)</th>\n",
       "      <th>Carbohydrt_(g)</th>\n",
       "      <th>Fiber_TD_(g)</th>\n",
       "      <th>Sugar_Tot_(g)</th>\n",
       "      <th>...</th>\n",
       "      <th>Lycopene_(µg)</th>\n",
       "      <th>Lut+Zea_ (µg)</th>\n",
       "      <th>Vit_E_(mg)</th>\n",
       "      <th>Vit_D_µg</th>\n",
       "      <th>Vit_D_IU</th>\n",
       "      <th>Vit_K_(µg)</th>\n",
       "      <th>FA_Sat_(g)</th>\n",
       "      <th>FA_Mono_(g)</th>\n",
       "      <th>FA_Poly_(g)</th>\n",
       "      <th>Cholestrl_(mg)</th>\n",
       "    </tr>\n",
       "  </thead>\n",
       "  <tbody>\n",
       "    <tr>\n",
       "      <th>0</th>\n",
       "      <td>1001</td>\n",
       "      <td>BUTTER,WITH SALT</td>\n",
       "      <td>15.87</td>\n",
       "      <td>717</td>\n",
       "      <td>0.85</td>\n",
       "      <td>81.11</td>\n",
       "      <td>2.11</td>\n",
       "      <td>0.06</td>\n",
       "      <td>0.0</td>\n",
       "      <td>0.06</td>\n",
       "      <td>...</td>\n",
       "      <td>0.0</td>\n",
       "      <td>0.0</td>\n",
       "      <td>2.32</td>\n",
       "      <td>0.0</td>\n",
       "      <td>0.0</td>\n",
       "      <td>7.0</td>\n",
       "      <td>51.368</td>\n",
       "      <td>21.021</td>\n",
       "      <td>3.043</td>\n",
       "      <td>215.0</td>\n",
       "    </tr>\n",
       "    <tr>\n",
       "      <th>1</th>\n",
       "      <td>1002</td>\n",
       "      <td>BUTTER,WHIPPED,W/ SALT</td>\n",
       "      <td>16.72</td>\n",
       "      <td>718</td>\n",
       "      <td>0.49</td>\n",
       "      <td>78.30</td>\n",
       "      <td>1.62</td>\n",
       "      <td>2.87</td>\n",
       "      <td>0.0</td>\n",
       "      <td>0.06</td>\n",
       "      <td>...</td>\n",
       "      <td>0.0</td>\n",
       "      <td>13.0</td>\n",
       "      <td>1.37</td>\n",
       "      <td>0.0</td>\n",
       "      <td>0.0</td>\n",
       "      <td>4.6</td>\n",
       "      <td>45.390</td>\n",
       "      <td>19.874</td>\n",
       "      <td>3.331</td>\n",
       "      <td>225.0</td>\n",
       "    </tr>\n",
       "    <tr>\n",
       "      <th>2</th>\n",
       "      <td>1003</td>\n",
       "      <td>BUTTER OIL,ANHYDROUS</td>\n",
       "      <td>0.24</td>\n",
       "      <td>876</td>\n",
       "      <td>0.28</td>\n",
       "      <td>99.48</td>\n",
       "      <td>0.00</td>\n",
       "      <td>0.00</td>\n",
       "      <td>0.0</td>\n",
       "      <td>0.00</td>\n",
       "      <td>...</td>\n",
       "      <td>0.0</td>\n",
       "      <td>0.0</td>\n",
       "      <td>2.80</td>\n",
       "      <td>0.0</td>\n",
       "      <td>0.0</td>\n",
       "      <td>8.6</td>\n",
       "      <td>61.924</td>\n",
       "      <td>28.732</td>\n",
       "      <td>3.694</td>\n",
       "      <td>256.0</td>\n",
       "    </tr>\n",
       "  </tbody>\n",
       "</table>\n",
       "<p>3 rows × 48 columns</p>\n",
       "</div>"
      ],
      "text/plain": [
       "   NDB_No               Shrt_Desc  Water_(g)  Energ_Kcal  Protein_(g)  \\\n",
       "0    1001        BUTTER,WITH SALT      15.87         717         0.85   \n",
       "1    1002  BUTTER,WHIPPED,W/ SALT      16.72         718         0.49   \n",
       "2    1003    BUTTER OIL,ANHYDROUS       0.24         876         0.28   \n",
       "\n",
       "   Lipid_Tot_(g)  Ash_(g)  Carbohydrt_(g)  Fiber_TD_(g)  Sugar_Tot_(g)  \\\n",
       "0          81.11     2.11            0.06           0.0           0.06   \n",
       "1          78.30     1.62            2.87           0.0           0.06   \n",
       "2          99.48     0.00            0.00           0.0           0.00   \n",
       "\n",
       "        ...        Lycopene_(µg)  Lut+Zea_ (µg)  Vit_E_(mg)  Vit_D_µg  \\\n",
       "0       ...                  0.0            0.0        2.32       0.0   \n",
       "1       ...                  0.0           13.0        1.37       0.0   \n",
       "2       ...                  0.0            0.0        2.80       0.0   \n",
       "\n",
       "   Vit_D_IU  Vit_K_(µg)  FA_Sat_(g)  FA_Mono_(g)  FA_Poly_(g)  Cholestrl_(mg)  \n",
       "0       0.0         7.0      51.368       21.021        3.043           215.0  \n",
       "1       0.0         4.6      45.390       19.874        3.331           225.0  \n",
       "2       0.0         8.6      61.924       28.732        3.694           256.0  \n",
       "\n",
       "[3 rows x 48 columns]"
      ]
     },
     "execution_count": 4,
     "metadata": {},
     "output_type": "execute_result"
    }
   ],
   "source": [
    "file_data.head(3)"
   ]
  },
  {
   "cell_type": "code",
   "execution_count": 5,
   "metadata": {},
   "outputs": [
    {
     "data": {
      "text/plain": [
       "(8790, 48)"
      ]
     },
     "execution_count": 5,
     "metadata": {},
     "output_type": "execute_result"
    }
   ],
   "source": [
    "file_data.shape"
   ]
  },
  {
   "cell_type": "code",
   "execution_count": 6,
   "metadata": {},
   "outputs": [
    {
     "data": {
      "text/plain": [
       "NDB_No                 int64\n",
       "Shrt_Desc             object\n",
       "Water_(g)            float64\n",
       "Energ_Kcal             int64\n",
       "Protein_(g)          float64\n",
       "Lipid_Tot_(g)        float64\n",
       "Ash_(g)              float64\n",
       "Carbohydrt_(g)       float64\n",
       "Fiber_TD_(g)         float64\n",
       "Sugar_Tot_(g)        float64\n",
       "Calcium_(mg)         float64\n",
       "Iron_(mg)            float64\n",
       "Magnesium_(mg)       float64\n",
       "Phosphorus_(mg)      float64\n",
       "Potassium_(mg)       float64\n",
       "Sodium_(mg)          float64\n",
       "Zinc_(mg)            float64\n",
       "Copper_(mg)          float64\n",
       "Manganese_(mg)       float64\n",
       "Selenium_(µg)        float64\n",
       "Vit_C_(mg)           float64\n",
       "Thiamin_(mg)         float64\n",
       "Riboflavin_(mg)      float64\n",
       "Niacin_(mg)          float64\n",
       "Panto_Acid_mg)       float64\n",
       "Vit_B6_(mg)          float64\n",
       "Folate_Tot_(µg)      float64\n",
       "Folic_Acid_(µg)      float64\n",
       "Food_Folate_(µg)     float64\n",
       "Folate_DFE_(µg)      float64\n",
       "Choline_Tot_ (mg)    float64\n",
       "Vit_B12_(µg)         float64\n",
       "Vit_A_IU             float64\n",
       "Vit_A_RAE            float64\n",
       "Retinol_(µg)         float64\n",
       "Alpha_Carot_(µg)     float64\n",
       "Beta_Carot_(µg)      float64\n",
       "Beta_Crypt_(µg)      float64\n",
       "Lycopene_(µg)        float64\n",
       "Lut+Zea_ (µg)        float64\n",
       "Vit_E_(mg)           float64\n",
       "Vit_D_µg             float64\n",
       "Vit_D_IU             float64\n",
       "Vit_K_(µg)           float64\n",
       "FA_Sat_(g)           float64\n",
       "FA_Mono_(g)          float64\n",
       "FA_Poly_(g)          float64\n",
       "Cholestrl_(mg)       float64\n",
       "dtype: object"
      ]
     },
     "execution_count": 6,
     "metadata": {},
     "output_type": "execute_result"
    }
   ],
   "source": [
    "file_data.dtypes"
   ]
  },
  {
   "cell_type": "code",
   "execution_count": 7,
   "metadata": {},
   "outputs": [
    {
     "data": {
      "text/plain": [
       "pandas.core.frame.DataFrame"
      ]
     },
     "execution_count": 7,
     "metadata": {},
     "output_type": "execute_result"
    }
   ],
   "source": [
    "type(file_data)"
   ]
  },
  {
   "cell_type": "code",
   "execution_count": 8,
   "metadata": {},
   "outputs": [
    {
     "name": "stdout",
     "output_type": "stream",
     "text": [
      "   NDB_No               Shrt_Desc  Water_(g)  Energ_Kcal  Protein_(g)  \\\n",
      "0    1001        BUTTER,WITH SALT      15.87         717         0.85   \n",
      "1    1002  BUTTER,WHIPPED,W/ SALT      16.72         718         0.49   \n",
      "2    1003    BUTTER OIL,ANHYDROUS       0.24         876         0.28   \n",
      "3    1004             CHEESE,BLUE      42.41         353        21.40   \n",
      "4    1005            CHEESE,BRICK      41.11         371        23.24   \n",
      "\n",
      "   Lipid_Tot_(g)  Ash_(g)  Carbohydrt_(g)  Fiber_TD_(g)  Sugar_Tot_(g)  \\\n",
      "0          81.11     2.11            0.06           0.0           0.06   \n",
      "1          78.30     1.62            2.87           0.0           0.06   \n",
      "2          99.48     0.00            0.00           0.0           0.00   \n",
      "3          28.74     5.11            2.34           0.0           0.50   \n",
      "4          29.68     3.18            2.79           0.0           0.51   \n",
      "\n",
      "        ...        Lycopene_(µg)  Lut+Zea_ (µg)  Vit_E_(mg)  Vit_D_µg  \\\n",
      "0       ...                  0.0            0.0        2.32       0.0   \n",
      "1       ...                  0.0           13.0        1.37       0.0   \n",
      "2       ...                  0.0            0.0        2.80       0.0   \n",
      "3       ...                  0.0            0.0        0.25       0.5   \n",
      "4       ...                  0.0            0.0        0.26       0.5   \n",
      "\n",
      "   Vit_D_IU  Vit_K_(µg)  FA_Sat_(g)  FA_Mono_(g)  FA_Poly_(g)  Cholestrl_(mg)  \n",
      "0       0.0         7.0      51.368       21.021        3.043           215.0  \n",
      "1       0.0         4.6      45.390       19.874        3.331           225.0  \n",
      "2       0.0         8.6      61.924       28.732        3.694           256.0  \n",
      "3      21.0         2.4      18.669        7.778        0.800            75.0  \n",
      "4      22.0         2.5      18.764        8.598        0.784            94.0  \n",
      "\n",
      "[5 rows x 48 columns]\n"
     ]
    }
   ],
   "source": [
    "print(file_data.head())"
   ]
  },
  {
   "cell_type": "code",
   "execution_count": 9,
   "metadata": {},
   "outputs": [
    {
     "name": "stdout",
     "output_type": "stream",
     "text": [
      "NDB_No                           1001\n",
      "Shrt_Desc            BUTTER,WITH SALT\n",
      "Water_(g)                       15.87\n",
      "Energ_Kcal                        717\n",
      "Protein_(g)                      0.85\n",
      "Lipid_Tot_(g)                   81.11\n",
      "Ash_(g)                          2.11\n",
      "Carbohydrt_(g)                   0.06\n",
      "Fiber_TD_(g)                        0\n",
      "Sugar_Tot_(g)                    0.06\n",
      "Calcium_(mg)                       24\n",
      "Iron_(mg)                        0.02\n",
      "Magnesium_(mg)                      2\n",
      "Phosphorus_(mg)                    24\n",
      "Potassium_(mg)                     24\n",
      "Sodium_(mg)                       643\n",
      "Zinc_(mg)                        0.09\n",
      "Copper_(mg)                         0\n",
      "Manganese_(mg)                      0\n",
      "Selenium_(µg)                       1\n",
      "Vit_C_(mg)                          0\n",
      "Thiamin_(mg)                    0.005\n",
      "Riboflavin_(mg)                 0.034\n",
      "Niacin_(mg)                     0.042\n",
      "Panto_Acid_mg)                   0.11\n",
      "Vit_B6_(mg)                     0.003\n",
      "Folate_Tot_(µg)                     3\n",
      "Folic_Acid_(µg)                     0\n",
      "Food_Folate_(µg)                    3\n",
      "Folate_DFE_(µg)                     3\n",
      "Choline_Tot_ (mg)                18.8\n",
      "Vit_B12_(µg)                     0.17\n",
      "Vit_A_IU                         2499\n",
      "Vit_A_RAE                         684\n",
      "Retinol_(µg)                      671\n",
      "Alpha_Carot_(µg)                    0\n",
      "Beta_Carot_(µg)                   158\n",
      "Beta_Crypt_(µg)                     0\n",
      "Lycopene_(µg)                       0\n",
      "Lut+Zea_ (µg)                       0\n",
      "Vit_E_(mg)                       2.32\n",
      "Vit_D_µg                            0\n",
      "Vit_D_IU                            0\n",
      "Vit_K_(µg)                          7\n",
      "FA_Sat_(g)                     51.368\n",
      "FA_Mono_(g)                    21.021\n",
      "FA_Poly_(g)                     3.043\n",
      "Cholestrl_(mg)                    215\n",
      "Name: 0, dtype: object\n"
     ]
    }
   ],
   "source": [
    "# series object returned by pandas - these are rows with labels\n",
    "print(file_data.loc[0])"
   ]
  },
  {
   "cell_type": "code",
   "execution_count": 10,
   "metadata": {},
   "outputs": [
    {
     "name": "stdout",
     "output_type": "stream",
     "text": [
      "    NDB_No             Shrt_Desc  Water_(g)  Energ_Kcal  Protein_(g)  \\\n",
      "2     1003  BUTTER OIL,ANHYDROUS       0.24         876         0.28   \n",
      "3     1004           CHEESE,BLUE      42.41         353        21.40   \n",
      "4     1005          CHEESE,BRICK      41.11         371        23.24   \n",
      "5     1006           CHEESE,BRIE      48.42         334        20.75   \n",
      "6     1007      CHEESE,CAMEMBERT      51.80         300        19.80   \n",
      "7     1008        CHEESE,CARAWAY      39.28         376        25.18   \n",
      "8     1009        CHEESE,CHEDDAR      37.02         404        22.87   \n",
      "9     1010       CHEESE,CHESHIRE      37.65         387        23.37   \n",
      "10    1011          CHEESE,COLBY      38.20         394        23.76   \n",
      "\n",
      "    Lipid_Tot_(g)  Ash_(g)  Carbohydrt_(g)  Fiber_TD_(g)  Sugar_Tot_(g)  \\\n",
      "2           99.48     0.00            0.00           0.0           0.00   \n",
      "3           28.74     5.11            2.34           0.0           0.50   \n",
      "4           29.68     3.18            2.79           0.0           0.51   \n",
      "5           27.68     2.70            0.45           0.0           0.45   \n",
      "6           24.26     3.68            0.46           0.0           0.46   \n",
      "7           29.20     3.28            3.06           0.0            NaN   \n",
      "8           33.31     3.71            3.09           0.0           0.48   \n",
      "9           30.60     3.60            4.78           0.0            NaN   \n",
      "10          32.11     3.36            2.57           0.0           0.52   \n",
      "\n",
      "         ...        Lycopene_(µg)  Lut+Zea_ (µg)  Vit_E_(mg)  Vit_D_µg  \\\n",
      "2        ...                  0.0            0.0        2.80       0.0   \n",
      "3        ...                  0.0            0.0        0.25       0.5   \n",
      "4        ...                  0.0            0.0        0.26       0.5   \n",
      "5        ...                  0.0            0.0        0.24       0.5   \n",
      "6        ...                  0.0            0.0        0.21       0.4   \n",
      "7        ...                  NaN            NaN         NaN       NaN   \n",
      "8        ...                  0.0            0.0        0.71       0.6   \n",
      "9        ...                  NaN            NaN         NaN       NaN   \n",
      "10       ...                  0.0            0.0        0.28       0.6   \n",
      "\n",
      "    Vit_D_IU  Vit_K_(µg)  FA_Sat_(g)  FA_Mono_(g)  FA_Poly_(g)  Cholestrl_(mg)  \n",
      "2        0.0         8.6      61.924       28.732        3.694           256.0  \n",
      "3       21.0         2.4      18.669        7.778        0.800            75.0  \n",
      "4       22.0         2.5      18.764        8.598        0.784            94.0  \n",
      "5       20.0         2.3      17.410        8.013        0.826           100.0  \n",
      "6       18.0         2.0      15.259        7.023        0.724            72.0  \n",
      "7        NaN         NaN      18.584        8.275        0.830            93.0  \n",
      "8       24.0         2.4      18.867        9.246        1.421            99.0  \n",
      "9        NaN         NaN      19.475        8.671        0.870           103.0  \n",
      "10      24.0         2.7      20.218        9.280        0.953            95.0  \n",
      "\n",
      "[9 rows x 48 columns]\n"
     ]
    }
   ],
   "source": [
    "# returns rows 2 to 10 - all included (unlike numpy)\n",
    "print(file_data.loc[2:10])"
   ]
  },
  {
   "cell_type": "code",
   "execution_count": 11,
   "metadata": {},
   "outputs": [
    {
     "name": "stdout",
     "output_type": "stream",
     "text": [
      "    NDB_No             Shrt_Desc  Water_(g)  Energ_Kcal  Protein_(g)  \\\n",
      "2     1003  BUTTER OIL,ANHYDROUS       0.24         876         0.28   \n",
      "5     1006           CHEESE,BRIE      48.42         334        20.75   \n",
      "10    1011          CHEESE,COLBY      38.20         394        23.76   \n",
      "\n",
      "    Lipid_Tot_(g)  Ash_(g)  Carbohydrt_(g)  Fiber_TD_(g)  Sugar_Tot_(g)  \\\n",
      "2           99.48     0.00            0.00           0.0           0.00   \n",
      "5           27.68     2.70            0.45           0.0           0.45   \n",
      "10          32.11     3.36            2.57           0.0           0.52   \n",
      "\n",
      "         ...        Lycopene_(µg)  Lut+Zea_ (µg)  Vit_E_(mg)  Vit_D_µg  \\\n",
      "2        ...                  0.0            0.0        2.80       0.0   \n",
      "5        ...                  0.0            0.0        0.24       0.5   \n",
      "10       ...                  0.0            0.0        0.28       0.6   \n",
      "\n",
      "    Vit_D_IU  Vit_K_(µg)  FA_Sat_(g)  FA_Mono_(g)  FA_Poly_(g)  Cholestrl_(mg)  \n",
      "2        0.0         8.6      61.924       28.732        3.694           256.0  \n",
      "5       20.0         2.3      17.410        8.013        0.826           100.0  \n",
      "10      24.0         2.7      20.218        9.280        0.953            95.0  \n",
      "\n",
      "[3 rows x 48 columns]\n"
     ]
    }
   ],
   "source": [
    "two_five_ten = [2,5,10]\n",
    "print(file_data.loc[two_five_ten])"
   ]
  },
  {
   "cell_type": "code",
   "execution_count": 12,
   "metadata": {},
   "outputs": [
    {
     "name": "stdout",
     "output_type": "stream",
     "text": [
      "      NDB_No                   Shrt_Desc  Water_(g)  Energ_Kcal  Protein_(g)  \\\n",
      "8785   83110             MACKEREL,SALTED      43.00         305        18.50   \n",
      "8786   90240  SCALLOP,(BAY&SEA),CKD,STMD      70.25         111        20.54   \n",
      "8787   90480                  SYRUP,CANE      26.00         269         0.00   \n",
      "8788   90560                   SNAIL,RAW      79.20          90        16.10   \n",
      "8789   93600            TURTLE,GREEN,RAW      78.50          89        19.80   \n",
      "\n",
      "      Lipid_Tot_(g)  Ash_(g)  Carbohydrt_(g)  Fiber_TD_(g)  Sugar_Tot_(g)  \\\n",
      "8785          25.10    13.40            0.00           0.0            0.0   \n",
      "8786           0.84     2.97            5.41           0.0            0.0   \n",
      "8787           0.00     0.86           73.14           0.0           73.2   \n",
      "8788           1.40     1.30            2.00           0.0            0.0   \n",
      "8789           0.50     1.20            0.00           0.0            0.0   \n",
      "\n",
      "           ...        Lycopene_(µg)  Lut+Zea_ (µg)  Vit_E_(mg)  Vit_D_µg  \\\n",
      "8785       ...                  0.0            0.0        2.38      25.2   \n",
      "8786       ...                  0.0            0.0        0.00       0.0   \n",
      "8787       ...                  0.0            0.0        0.00       0.0   \n",
      "8788       ...                  0.0            0.0        5.00       0.0   \n",
      "8789       ...                  0.0            0.0        0.50       0.0   \n",
      "\n",
      "      Vit_D_IU  Vit_K_(µg)  FA_Sat_(g)  FA_Mono_(g)  FA_Poly_(g)  \\\n",
      "8785    1006.0         7.8       7.148        8.320        6.210   \n",
      "8786       2.0         0.0       0.218        0.082        0.222   \n",
      "8787       0.0         0.0       0.000        0.000        0.000   \n",
      "8788       0.0         0.1       0.361        0.259        0.252   \n",
      "8789       0.0         0.1       0.127        0.088        0.170   \n",
      "\n",
      "      Cholestrl_(mg)  \n",
      "8785            95.0  \n",
      "8786            41.0  \n",
      "8787             0.0  \n",
      "8788            50.0  \n",
      "8789            50.0  \n",
      "\n",
      "[5 rows x 48 columns]\n"
     ]
    }
   ],
   "source": [
    "# print last 5 rows from the dataframe\n",
    "rows = file_data.shape[0]\n",
    "print(file_data.loc[rows-5: rows-1])"
   ]
  },
  {
   "cell_type": "code",
   "execution_count": 13,
   "metadata": {},
   "outputs": [
    {
     "name": "stdout",
     "output_type": "stream",
     "text": [
      "0    51.368\n",
      "1    45.390\n",
      "2    61.924\n",
      "3    18.669\n",
      "4    18.764\n",
      "Name: FA_Sat_(g), dtype: float64\n"
     ]
    }
   ],
   "source": [
    "# access columns data\n",
    "saturated_fat = file_data[\"FA_Sat_(g)\"]\n",
    "cholesterol = file_data[\"Cholestrl_(mg)\"]\n",
    "\n",
    "print(saturated_fat[0:5])"
   ]
  },
  {
   "cell_type": "code",
   "execution_count": 14,
   "metadata": {},
   "outputs": [
    {
     "name": "stdout",
     "output_type": "stream",
     "text": [
      "   Zinc_(mg)  Copper_(mg)\n",
      "0       0.09        0.000\n",
      "1       0.05        0.010\n",
      "2       0.01        0.001\n",
      "3       2.66        0.040\n",
      "4       2.60        0.024\n"
     ]
    }
   ],
   "source": [
    "# dataframe with multiple columns\n",
    "zinc_copper = file_data[[\"Zinc_(mg)\", \"Copper_(mg)\"]]\n",
    "\n",
    "columns = [\"Zinc_(mg)\", \"Copper_(mg)\"]\n",
    "zinc_copper = file_data[columns]\n",
    "print(zinc_copper[0:5])"
   ]
  },
  {
   "cell_type": "code",
   "execution_count": 15,
   "metadata": {},
   "outputs": [
    {
     "name": "stdout",
     "output_type": "stream",
     "text": [
      "   Selenium_(µg)  Thiamin_(mg)\n",
      "0            1.0         0.005\n",
      "1            0.0         0.007\n",
      "2            0.0         0.001\n",
      "3           14.5         0.029\n",
      "4           14.5         0.014\n"
     ]
    }
   ],
   "source": [
    "\n",
    "col = [\"Selenium_(µg)\" , \"Thiamin_(mg)\"]\n",
    "selenium_thiamin = file_data[col]\n",
    "print(selenium_thiamin[0:5])"
   ]
  },
  {
   "cell_type": "code",
   "execution_count": 16,
   "metadata": {},
   "outputs": [
    {
     "name": "stdout",
     "output_type": "stream",
     "text": [
      "['Water_(g)', 'Protein_(g)', 'Lipid_Tot_(g)', 'Ash_(g)', 'Carbohydrt_(g)', 'Fiber_TD_(g)', 'Sugar_Tot_(g)', 'FA_Sat_(g)', 'FA_Mono_(g)', 'FA_Poly_(g)']\n",
      "   Water_(g)  Protein_(g)  Lipid_Tot_(g)  Ash_(g)  Carbohydrt_(g)  \\\n",
      "0      15.87         0.85          81.11     2.11            0.06   \n",
      "1      16.72         0.49          78.30     1.62            2.87   \n",
      "2       0.24         0.28          99.48     0.00            0.00   \n",
      "3      42.41        21.40          28.74     5.11            2.34   \n",
      "4      41.11        23.24          29.68     3.18            2.79   \n",
      "\n",
      "   Fiber_TD_(g)  Sugar_Tot_(g)  FA_Sat_(g)  FA_Mono_(g)  FA_Poly_(g)  \n",
      "0           0.0           0.06      51.368       21.021        3.043  \n",
      "1           0.0           0.06      45.390       19.874        3.331  \n",
      "2           0.0           0.00      61.924       28.732        3.694  \n",
      "3           0.0           0.50      18.669        7.778        0.800  \n",
      "4           0.0           0.51      18.764        8.598        0.784  \n"
     ]
    }
   ],
   "source": [
    "#Select and display only the columns that use grams for measurement (that end with \"(g)\")\n",
    "col_name = file_data.columns.tolist()\n",
    "\n",
    "grams_cols = []\n",
    "\n",
    "for cols in col_name:\n",
    "    if cols.endswith(\"(g)\"):\n",
    "        grams_cols.append(cols)\n",
    "        \n",
    "print(grams_cols)\n",
    "gram_df = file_data[grams_cols]\n",
    "print(gram_df[0:5])"
   ]
  },
  {
   "cell_type": "code",
   "execution_count": 17,
   "metadata": {
    "collapsed": true
   },
   "outputs": [],
   "source": [
    "# which butter product has the highest protein?\n"
   ]
  },
  {
   "cell_type": "code",
   "execution_count": null,
   "metadata": {
    "collapsed": true
   },
   "outputs": [],
   "source": []
  }
 ],
 "metadata": {
  "kernelspec": {
   "display_name": "Python 3",
   "language": "python",
   "name": "python3"
  },
  "language_info": {
   "codemirror_mode": {
    "name": "ipython",
    "version": 3
   },
   "file_extension": ".py",
   "mimetype": "text/x-python",
   "name": "python",
   "nbconvert_exporter": "python",
   "pygments_lexer": "ipython3",
   "version": "3.6.3"
  }
 },
 "nbformat": 4,
 "nbformat_minor": 2
}
