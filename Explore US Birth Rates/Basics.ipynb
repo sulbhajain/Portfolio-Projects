{
 "cells": [
  {
   "cell_type": "code",
   "execution_count": 1,
   "metadata": {},
   "outputs": [
    {
     "name": "stdout",
     "output_type": "stream",
     "text": [
      "['year,month,date_of_month,day_of_week,births', '1994,1,1,6,8096', '1994,1,2,7,7772', '1994,1,3,1,10142', '1994,1,4,2,11248', '1994,1,5,3,11053', '1994,1,6,4,11406', '1994,1,7,5,11251', '1994,1,8,6,8653', '1994,1,9,7,7910']\n"
     ]
    }
   ],
   "source": [
    "handle=open(\"US_births_1994-2003_CDC_NCHS.csv\")\n",
    "file_str = handle.read()\n",
    "lst_str = file_str.split(\"\\n\")\n",
    "print(lst_str[0:10])"
   ]
  },
  {
   "cell_type": "code",
   "execution_count": 2,
   "metadata": {},
   "outputs": [
    {
     "name": "stdout",
     "output_type": "stream",
     "text": [
      "[[1994, 1, 1, 6, 8096], [1994, 1, 2, 7, 7772], [1994, 1, 3, 1, 10142], [1994, 1, 4, 2, 11248], [1994, 1, 5, 3, 11053], [1994, 1, 6, 4, 11406], [1994, 1, 7, 5, 11251], [1994, 1, 8, 6, 8653], [1994, 1, 9, 7, 7910], [1994, 1, 10, 1, 10498]]\n"
     ]
    }
   ],
   "source": [
    "def read_csv(fname):\n",
    "    handle = open(fname,'r')\n",
    "    file_r = handle.read()\n",
    "    file_data = file_r.split('\\n')\n",
    "    string_list = file_data[1:len(file_data)]\n",
    "    final_list = []\n",
    "    for item in string_list:\n",
    "        int_fields = []\n",
    "        string_fields = item.split(\",\")\n",
    "        for i in string_fields:\n",
    "            int_fields.append(int(i))\n",
    "        final_list.append(int_fields)\n",
    "    return final_list\n",
    "\n",
    "\n",
    "cdc_list = read_csv(\"US_births_1994-2003_CDC_NCHS.csv\")\n",
    "print(cdc_list[0:10])\n",
    "\n",
    "        \n",
    "        \n",
    "    "
   ]
  },
  {
   "cell_type": "code",
   "execution_count": 3,
   "metadata": {
    "collapsed": true
   },
   "outputs": [],
   "source": [
    "def month_births(lst):\n",
    "    births_per_month = {}\n",
    "    for item in lst:\n",
    "        if item[1] in births_per_month:\n",
    "            births_per_month[item[1]]= births_per_month[item[1]] + item[4]\n",
    "        else:\n",
    "            births_per_month[item[1]] = item[4]\n",
    "    return births_per_month\n",
    "cdc_month_births = month_births(cdc_list)"
   ]
  },
  {
   "cell_type": "code",
   "execution_count": 4,
   "metadata": {},
   "outputs": [
    {
     "name": "stdout",
     "output_type": "stream",
     "text": [
      "{1: 3232517, 2: 3018140, 3: 3322069, 4: 3185314, 5: 3350907, 6: 3296530, 7: 3498783, 8: 3525858, 9: 3439698, 10: 3378814, 11: 3171647, 12: 3301860}\n"
     ]
    }
   ],
   "source": [
    "print(cdc_month_births)"
   ]
  },
  {
   "cell_type": "code",
   "execution_count": 5,
   "metadata": {},
   "outputs": [
    {
     "name": "stdout",
     "output_type": "stream",
     "text": [
      "{6: 4562111, 7: 4079723, 1: 5789166, 2: 6446196, 3: 6322855, 4: 6288429, 5: 6233657}\n"
     ]
    }
   ],
   "source": [
    "def dow_births(lst):\n",
    "    births_per_day = {}\n",
    "    for item in lst:\n",
    "        if item[3] in births_per_day:\n",
    "            births_per_day[item[3]]= births_per_day[item[3]] + item[4]\n",
    "        else:\n",
    "            births_per_day[item[3]] = item[4]\n",
    "    return births_per_day\n",
    "\n",
    "cdc_day_births = dow_births(cdc_list)\n",
    "print(cdc_day_births)"
   ]
  },
  {
   "cell_type": "code",
   "execution_count": 6,
   "metadata": {
    "collapsed": true
   },
   "outputs": [],
   "source": [
    "def calc_counts(lst, idx):\n",
    "    births_per_day = {}\n",
    "    for item in lst:\n",
    "        if item[idx] in births_per_day:\n",
    "            births_per_day[item[idx]]= births_per_day[item[idx]] + item[4]\n",
    "        else:\n",
    "            births_per_day[item[idx]] = item[4]\n",
    "    return births_per_day\n",
    "\n",
    "cdc_year_births = calc_counts(cdc_list, 0)\n",
    "cdc_month_births = calc_counts(cdc_list, 1)\n",
    "cdc_dom_births = calc_counts(cdc_list, 2)\n",
    "cdc_dow_births = calc_counts(cdc_list, 3)\n"
   ]
  },
  {
   "cell_type": "code",
   "execution_count": 7,
   "metadata": {},
   "outputs": [
    {
     "name": "stdout",
     "output_type": "stream",
     "text": [
      "{1994: 3952767, 1995: 3899589, 1996: 3891494, 1997: 3880894, 1998: 3941553, 1999: 3959417, 2000: 4058814, 2001: 4025933, 2002: 4021726, 2003: 4089950}\n"
     ]
    }
   ],
   "source": [
    "print(cdc_year_births)"
   ]
  },
  {
   "cell_type": "code",
   "execution_count": 8,
   "metadata": {},
   "outputs": [
    {
     "name": "stdout",
     "output_type": "stream",
     "text": [
      "{1: 3232517, 2: 3018140, 3: 3322069, 4: 3185314, 5: 3350907, 6: 3296530, 7: 3498783, 8: 3525858, 9: 3439698, 10: 3378814, 11: 3171647, 12: 3301860}\n"
     ]
    }
   ],
   "source": [
    "print(cdc_month_births)"
   ]
  },
  {
   "cell_type": "code",
   "execution_count": 9,
   "metadata": {},
   "outputs": [
    {
     "name": "stdout",
     "output_type": "stream",
     "text": [
      "{1: 1276557, 2: 1288739, 3: 1304499, 4: 1288154, 5: 1299953, 6: 1304474, 7: 1310459, 8: 1312297, 9: 1303292, 10: 1320764, 11: 1314361, 12: 1318437, 13: 1277684, 14: 1320153, 15: 1319171, 16: 1315192, 17: 1324953, 18: 1326855, 19: 1318727, 20: 1324821, 21: 1322897, 22: 1317381, 23: 1293290, 24: 1288083, 25: 1272116, 26: 1284796, 27: 1294395, 28: 1307685, 29: 1223161, 30: 1202095, 31: 746696}\n"
     ]
    }
   ],
   "source": [
    "print(cdc_dom_births)"
   ]
  },
  {
   "cell_type": "code",
   "execution_count": 10,
   "metadata": {},
   "outputs": [
    {
     "name": "stdout",
     "output_type": "stream",
     "text": [
      "{6: 4562111, 7: 4079723, 1: 5789166, 2: 6446196, 3: 6322855, 4: 6288429, 5: 6233657}\n"
     ]
    }
   ],
   "source": [
    "print(cdc_dow_births)"
   ]
  },
  {
   "cell_type": "code",
   "execution_count": 11,
   "metadata": {},
   "outputs": [],
   "source": [
    "def min_val_func(dict_data):\n",
    "    min_val = 99999999\n",
    "    \n",
    "    for key in dict_data:\n",
    "        if dict_data[key] < min_val:\n",
    "            min_val = dict_data[key]\n",
    "           \n",
    "    return min_val\n",
    "\n",
    "def max_val_func(dict_data):\n",
    "    max_val = 0\n",
    "   \n",
    "    for key in dict_data:\n",
    "        if dict_data[key] > max_val:\n",
    "            max_val = dict_data[key]\n",
    "    return max_val"
   ]
  },
  {
   "cell_type": "code",
   "execution_count": 12,
   "metadata": {},
   "outputs": [
    {
     "name": "stdout",
     "output_type": "stream",
     "text": [
      "4079723\n",
      "6446196\n"
     ]
    }
   ],
   "source": [
    "\n",
    "min_v = min_val_func(cdc_dow_births)\n",
    "max_v = max_val_func(cdc_dow_births)\n",
    "\n",
    "print(min_v)\n",
    "print(max_v)"
   ]
  },
  {
   "cell_type": "code",
   "execution_count": 13,
   "metadata": {},
   "outputs": [
    {
     "ename": "SyntaxError",
     "evalue": "invalid syntax (<ipython-input-13-76a5e8f40d50>, line 1)",
     "output_type": "error",
     "traceback": [
      "\u001b[0;36m  File \u001b[0;32m\"<ipython-input-13-76a5e8f40d50>\"\u001b[0;36m, line \u001b[0;32m1\u001b[0m\n\u001b[0;31m    Write a function that extracts the same values across years and calculates the differences between consecutive values to show if number of births is increasing or decreasing.\u001b[0m\n\u001b[0m          ^\u001b[0m\n\u001b[0;31mSyntaxError\u001b[0m\u001b[0;31m:\u001b[0m invalid syntax\n"
     ]
    }
   ],
   "source": [
    "Write a function that extracts the same values across years and calculates the differences between consecutive values to show if number of births is increasing or decreasing.\n",
    "For example, how did the number of births on Saturday change each year between 1994 and 2003?"
   ]
  },
  {
   "cell_type": "code",
   "execution_count": null,
   "metadata": {
    "collapsed": true
   },
   "outputs": [],
   "source": [
    "Find a way to combine the CDC data with the SSA data, which you can find here. Specifically, brainstorm ways to deal with the overlapping time periods in the datasets."
   ]
  }
 ],
 "metadata": {
  "anaconda-cloud": {},
  "kernelspec": {
   "display_name": "Python 3",
   "language": "python",
   "name": "python3"
  },
  "language_info": {
   "codemirror_mode": {
    "name": "ipython",
    "version": 3
   },
   "file_extension": ".py",
   "mimetype": "text/x-python",
   "name": "python",
   "nbconvert_exporter": "python",
   "pygments_lexer": "ipython3",
   "version": "3.6.1"
  }
 },
 "nbformat": 4,
 "nbformat_minor": 1
}
