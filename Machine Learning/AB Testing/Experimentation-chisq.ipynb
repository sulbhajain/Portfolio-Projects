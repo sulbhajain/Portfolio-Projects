{
 "cells": [
  {
   "cell_type": "code",
   "execution_count": 3,
   "metadata": {},
   "outputs": [],
   "source": [
    "import pandas as pd\n",
    "import numpy as np\n",
    "\n",
    "from scipy import stats"
   ]
  },
  {
   "cell_type": "code",
   "execution_count": 4,
   "metadata": {},
   "outputs": [],
   "source": [
    "# script to download file from PBI\n",
    "# df.to_csv(r\"C:\\Users\\v-suljai\\Desktop\\Python Scripts\\t.csv\", index=False)"
   ]
  },
  {
   "cell_type": "code",
   "execution_count": 5,
   "metadata": {},
   "outputs": [
    {
     "data": {
      "text/html": [
       "<div>\n",
       "<style scoped>\n",
       "    .dataframe tbody tr th:only-of-type {\n",
       "        vertical-align: middle;\n",
       "    }\n",
       "\n",
       "    .dataframe tbody tr th {\n",
       "        vertical-align: top;\n",
       "    }\n",
       "\n",
       "    .dataframe thead th {\n",
       "        text-align: right;\n",
       "    }\n",
       "</style>\n",
       "<table border=\"1\" class=\"dataframe\">\n",
       "  <thead>\n",
       "    <tr style=\"text-align: right;\">\n",
       "      <th></th>\n",
       "      <th>Date Granularity.Level 1: Year</th>\n",
       "      <th>Date Granularity.Level 2: Month</th>\n",
       "      <th>Date Granularity.Level 3: Day</th>\n",
       "      <th>Control_ExpID</th>\n",
       "      <th>Cart_Adds</th>\n",
       "      <th>Cart_Removal</th>\n",
       "      <th>Checkouts</th>\n",
       "      <th>Order</th>\n",
       "      <th>Unique_Visitors</th>\n",
       "      <th>Market (v27)</th>\n",
       "      <th>Treatment_ExpID</th>\n",
       "    </tr>\n",
       "  </thead>\n",
       "  <tbody>\n",
       "    <tr>\n",
       "      <th>0</th>\n",
       "      <td>2019</td>\n",
       "      <td>1</td>\n",
       "      <td>27</td>\n",
       "      <td>EX:sfwaaa</td>\n",
       "      <td>18070</td>\n",
       "      <td>5513</td>\n",
       "      <td>16882</td>\n",
       "      <td>18339</td>\n",
       "      <td>591901</td>\n",
       "      <td>en-US</td>\n",
       "      <td>EX:sfwaaa</td>\n",
       "    </tr>\n",
       "    <tr>\n",
       "      <th>1</th>\n",
       "      <td>2019</td>\n",
       "      <td>1</td>\n",
       "      <td>27</td>\n",
       "      <td>EX:sfwaab</td>\n",
       "      <td>17872</td>\n",
       "      <td>5627</td>\n",
       "      <td>17105</td>\n",
       "      <td>18618</td>\n",
       "      <td>591782</td>\n",
       "      <td>en-US</td>\n",
       "      <td>EX:sfwaab</td>\n",
       "    </tr>\n",
       "    <tr>\n",
       "      <th>2</th>\n",
       "      <td>2019</td>\n",
       "      <td>1</td>\n",
       "      <td>27</td>\n",
       "      <td>EX:20199642t1</td>\n",
       "      <td>17488</td>\n",
       "      <td>5079</td>\n",
       "      <td>16327</td>\n",
       "      <td>17879</td>\n",
       "      <td>576690</td>\n",
       "      <td>en-US</td>\n",
       "      <td>EX:20199642t1</td>\n",
       "    </tr>\n",
       "    <tr>\n",
       "      <th>3</th>\n",
       "      <td>2019</td>\n",
       "      <td>1</td>\n",
       "      <td>27</td>\n",
       "      <td>EX:19844185c</td>\n",
       "      <td>17421</td>\n",
       "      <td>5263</td>\n",
       "      <td>16386</td>\n",
       "      <td>17993</td>\n",
       "      <td>577820</td>\n",
       "      <td>en-US</td>\n",
       "      <td>EX:19844185c</td>\n",
       "    </tr>\n",
       "    <tr>\n",
       "      <th>4</th>\n",
       "      <td>2019</td>\n",
       "      <td>1</td>\n",
       "      <td>27</td>\n",
       "      <td>EX:19975527t1</td>\n",
       "      <td>17355</td>\n",
       "      <td>5163</td>\n",
       "      <td>16185</td>\n",
       "      <td>17822</td>\n",
       "      <td>578066</td>\n",
       "      <td>en-US</td>\n",
       "      <td>EX:19975527t1</td>\n",
       "    </tr>\n",
       "  </tbody>\n",
       "</table>\n",
       "</div>"
      ],
      "text/plain": [
       "   Date Granularity.Level 1: Year  Date Granularity.Level 2: Month  \\\n",
       "0                            2019                                1   \n",
       "1                            2019                                1   \n",
       "2                            2019                                1   \n",
       "3                            2019                                1   \n",
       "4                            2019                                1   \n",
       "\n",
       "   Date Granularity.Level 3: Day  Control_ExpID  Cart_Adds  Cart_Removal  \\\n",
       "0                             27      EX:sfwaaa      18070          5513   \n",
       "1                             27      EX:sfwaab      17872          5627   \n",
       "2                             27  EX:20199642t1      17488          5079   \n",
       "3                             27   EX:19844185c      17421          5263   \n",
       "4                             27  EX:19975527t1      17355          5163   \n",
       "\n",
       "   Checkouts  Order  Unique_Visitors Market (v27) Treatment_ExpID  \n",
       "0      16882  18339           591901        en-US       EX:sfwaaa  \n",
       "1      17105  18618           591782        en-US       EX:sfwaab  \n",
       "2      16327  17879           576690        en-US   EX:20199642t1  \n",
       "3      16386  17993           577820        en-US    EX:19844185c  \n",
       "4      16185  17822           578066        en-US   EX:19975527t1  "
      ]
     },
     "execution_count": 5,
     "metadata": {},
     "output_type": "execute_result"
    }
   ],
   "source": [
    "data = pd.read_csv(\"AdobeData.csv\")\n",
    "data.head()"
   ]
  },
  {
   "cell_type": "code",
   "execution_count": 6,
   "metadata": {
    "scrolled": true
   },
   "outputs": [
    {
     "name": "stdout",
     "output_type": "stream",
     "text": [
      "     Date Granularity.Level 1: Year  Date Granularity.Level 2: Month  \\\n",
      "505                            2019                                2   \n",
      "519                            2019                                2   \n",
      "557                            2019                                2   \n",
      "564                            2019                                2   \n",
      "578                            2019                                2   \n",
      "\n",
      "     Date Granularity.Level 3: Day Control_ExpID  Cart_Adds  Cart_Removal  \\\n",
      "505                              1  EX:20199642c      18335          5322   \n",
      "519                              1  EX:20199642c        542            52   \n",
      "557                              1  EX:20199642c        404            91   \n",
      "564                              1  EX:20199642c        635            46   \n",
      "578                              1  EX:20199642c        714            41   \n",
      "\n",
      "     Checkouts  Order  Unique_Visitors Market (v27) Treatment_ExpID  \n",
      "505      16188  18542           707110        en-us    EX:20199642c  \n",
      "519        123    300            24050        pt-br    EX:20199642c  \n",
      "557        166    294            15979        es-mx    EX:20199642c  \n",
      "564         69     74            33902        zh-cn    EX:20199642c  \n",
      "578         77    163            22908        ru-ru    EX:20199642c  \n",
      "    Date Granularity.Level 1: Year  Date Granularity.Level 2: Month  \\\n",
      "2                             2019                                1   \n",
      "39                            2019                                1   \n",
      "57                            2019                                1   \n",
      "66                            2019                                1   \n",
      "72                            2019                                1   \n",
      "\n",
      "    Date Granularity.Level 3: Day  Control_ExpID  Cart_Adds  Cart_Removal  \\\n",
      "2                              27  EX:20199642t1      17488          5079   \n",
      "39                             27  EX:20199642t1        268            94   \n",
      "57                             27  EX:20199642t1        357            59   \n",
      "66                             27  EX:20199642t1        601            51   \n",
      "72                             27  EX:20199642t1        913            35   \n",
      "\n",
      "    Checkouts  Order  Unique_Visitors Market (v27) Treatment_ExpID  \n",
      "2       16327  17879           576690        en-US   EX:20199642t1  \n",
      "39        189    216             6957        fr-fr   EX:20199642t1  \n",
      "57        150    172            11782        es-mx   EX:20199642t1  \n",
      "66         71     76            36447        zh-cn   EX:20199642t1  \n",
      "72        109    139            24381        ru-ru   EX:20199642t1  \n"
     ]
    }
   ],
   "source": [
    "control = data[data['Control_ExpID']=='EX:20199642c']\n",
    "treatment = data[data['Treatment_ExpID']=='EX:20199642t1']\n",
    "#d = data.where(data['Control_ExpID']=='EX:20199642c' )\n",
    "#d.head()\n",
    "print (control.head())\n",
    "print (treatment.head())"
   ]
  },
  {
   "cell_type": "code",
   "execution_count": null,
   "metadata": {},
   "outputs": [],
   "source": []
  },
  {
   "cell_type": "code",
   "execution_count": 7,
   "metadata": {},
   "outputs": [],
   "source": [
    "uu_control = control['Unique_Visitors'].sum()\n",
    "ATC_control = control['Cart_Adds'].sum()\n",
    "\n",
    "uu_treatment = treatment['Unique_Visitors'].sum()\n",
    "ATC_treatment = treatment['Cart_Adds'].sum()"
   ]
  },
  {
   "cell_type": "code",
   "execution_count": 8,
   "metadata": {},
   "outputs": [
    {
     "name": "stdout",
     "output_type": "stream",
     "text": [
      "10252623 14312572\n",
      "273248 382405\n"
     ]
    }
   ],
   "source": [
    "print (uu_control, uu_treatment)\n",
    "print (ATC_control, ATC_treatment)"
   ]
  },
  {
   "cell_type": "markdown",
   "metadata": {},
   "source": [
    "http://hamelg.blogspot.com/2015/11/python-for-data-analysis-part-25-chi.html"
   ]
  },
  {
   "cell_type": "code",
   "execution_count": 44,
   "metadata": {},
   "outputs": [],
   "source": [
    "def run_chisqtest(uu_control, success_control, uu_treatment, success_treatment):\n",
    "    print (\"Control Data:\", uu_control, success_control)\n",
    "    print (\"Treatment Data:\", uu_treatment, success_treatment)\n",
    "    \n",
    "    # Calculate conversion rate\n",
    "    cvr_control =0\n",
    "    cvr_treatment =0\n",
    "    if uu_control != 0:\n",
    "        cvr_control = success_control/uu_control\n",
    "    if uu_treatment != 0:\n",
    "        cvr_treatment = success_treatment/uu_treatment\n",
    "        \n",
    "    #df = uu_control + uu_treatment -2\n",
    "    \n",
    "    data = [uu_treatment]\n",
    "    observed = pd.DataFrame(data=data, columns=['count'])\n",
    "    observed['count'] = success_treatment\n",
    "    \n",
    "    data =[uu_control]\n",
    "    expected = pd.DataFrame(data=data, columns=['count'])\n",
    "    expected['count'] = success_control\n",
    "    \n",
    "    #control_ratios = expected_table/len(expected_table)\n",
    "    \n",
    "    #observed = success_treatment\n",
    "    #expected = success_control\n",
    "    \n",
    "    \n",
    "    chi_squared_stat = (((observed-expected)**2)/expected)\n",
    "    print(\"chi-squared stat:\", (chi_squared_stat))\n",
    "\n",
    "    crit = stats.chi2.ppf(q = 0.95, # Find the critical value for 95% confidence*\n",
    "                      df = 1)   # Df = number of variable categories - 1\n",
    "\n",
    "    print(\"Critical value: %.2f\" % (crit))\n",
    "\n",
    "    p_value = 1 - stats.chi2.cdf(x=chi_squared_stat,  # Find the p-value\n",
    "                             df=1)\n",
    "    \n",
    "    print(\"P value\",p_value)"
   ]
  },
  {
   "cell_type": "code",
   "execution_count": 49,
   "metadata": {},
   "outputs": [
    {
     "data": {
      "text/plain": [
       "array([[10252623.],\n",
       "       [14312572.]])"
      ]
     },
     "execution_count": 49,
     "metadata": {},
     "output_type": "execute_result"
    }
   ],
   "source": [
    "expected = np.ones((2,1))\n",
    "expected[0,0] = uu_control\n",
    "expected[1,0] = uu_treatment\n",
    "expected"
   ]
  },
  {
   "cell_type": "code",
   "execution_count": 50,
   "metadata": {},
   "outputs": [
    {
     "data": {
      "text/plain": [
       "array([[273248.],\n",
       "       [382405.]])"
      ]
     },
     "execution_count": 50,
     "metadata": {},
     "output_type": "execute_result"
    }
   ],
   "source": [
    "observed = np.ones((2,1))\n",
    "observed[0,0] = ATC_control\n",
    "observed[1,0] = ATC_treatment\n",
    "observed"
   ]
  },
  {
   "cell_type": "code",
   "execution_count": 51,
   "metadata": {},
   "outputs": [
    {
     "data": {
      "text/plain": [
       "Power_divergenceResult(statistic=array([8.71904975e+08]), pvalue=array([0.]))"
      ]
     },
     "execution_count": 51,
     "metadata": {},
     "output_type": "execute_result"
    }
   ],
   "source": [
    "stats.chisquare(expected, observed)"
   ]
  },
  {
   "cell_type": "code",
   "execution_count": 52,
   "metadata": {},
   "outputs": [
    {
     "name": "stdout",
     "output_type": "stream",
     "text": [
      "Control Data: 10252623 273248\n",
      "Treatment Data: 14312572 382405\n",
      "chi-squared stat:           count\n",
      "0  43605.994002\n",
      "Critical value: 3.84\n",
      "P value [[0.]]\n"
     ]
    }
   ],
   "source": [
    "run_chisqtest(uu_control, ATC_control, uu_treatment, ATC_treatment)"
   ]
  },
  {
   "cell_type": "code",
   "execution_count": 96,
   "metadata": {},
   "outputs": [],
   "source": []
  },
  {
   "cell_type": "code",
   "execution_count": 133,
   "metadata": {},
   "outputs": [
    {
     "data": {
      "text/html": [
       "<div>\n",
       "<style scoped>\n",
       "    .dataframe tbody tr th:only-of-type {\n",
       "        vertical-align: middle;\n",
       "    }\n",
       "\n",
       "    .dataframe tbody tr th {\n",
       "        vertical-align: top;\n",
       "    }\n",
       "\n",
       "    .dataframe thead th {\n",
       "        text-align: right;\n",
       "    }\n",
       "</style>\n",
       "<table border=\"1\" class=\"dataframe\">\n",
       "  <thead>\n",
       "    <tr style=\"text-align: right;\">\n",
       "      <th></th>\n",
       "      <th>UU_control</th>\n",
       "      <th>UU_treatment</th>\n",
       "      <th>ATC_control</th>\n",
       "      <th>ATC_treatment</th>\n",
       "      <th>CVR Lift</th>\n",
       "      <th>p_val</th>\n",
       "    </tr>\n",
       "  </thead>\n",
       "  <tbody>\n",
       "    <tr>\n",
       "      <th>0</th>\n",
       "      <td>10252623</td>\n",
       "      <td>14312572</td>\n",
       "      <td>273248</td>\n",
       "      <td>382405</td>\n",
       "      <td>0.249883</td>\n",
       "      <td>0.312453</td>\n",
       "    </tr>\n",
       "  </tbody>\n",
       "</table>\n",
       "</div>"
      ],
      "text/plain": [
       "   UU_control  UU_treatment  ATC_control  ATC_treatment  CVR Lift     p_val\n",
       "0    10252623      14312572       273248         382405  0.249883  0.312453"
      ]
     },
     "execution_count": 133,
     "metadata": {},
     "output_type": "execute_result"
    }
   ],
   "source": [
    "#stats_exp_data = pd.DataFrame()\n",
    "data1 = [uu_control]\n",
    "cols = ['UU_control']\n",
    "stats_data = pd.DataFrame(data = data1, columns=cols)\n",
    "\n",
    "stats_data['UU_treatment'] = uu_treatment\n",
    "stats_data['ATC_control'] = ATC_control\n",
    "stats_data['ATC_treatment'] = ATC_treatment\n",
    "stats_data['CVR Lift'] = lift\n",
    "\n",
    "stats_data['p_val'] = p\n",
    "stats_data"
   ]
  },
  {
   "cell_type": "code",
   "execution_count": null,
   "metadata": {},
   "outputs": [],
   "source": []
  }
 ],
 "metadata": {
  "kernelspec": {
   "display_name": "Python 3",
   "language": "python",
   "name": "python3"
  },
  "language_info": {
   "codemirror_mode": {
    "name": "ipython",
    "version": 3
   },
   "file_extension": ".py",
   "mimetype": "text/x-python",
   "name": "python",
   "nbconvert_exporter": "python",
   "pygments_lexer": "ipython3",
   "version": "3.7.1"
  }
 },
 "nbformat": 4,
 "nbformat_minor": 2
}
