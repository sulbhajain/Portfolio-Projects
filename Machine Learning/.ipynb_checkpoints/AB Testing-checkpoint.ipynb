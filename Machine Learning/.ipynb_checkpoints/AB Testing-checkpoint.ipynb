{
 "cells": [
  {
   "cell_type": "code",
   "execution_count": 1,
   "metadata": {
    "collapsed": true
   },
   "outputs": [],
   "source": [
    "#ref: https://towardsdatascience.com/the-math-behind-a-b-testing-with-example-code-part-1-of-2-7be752e1d06f\n",
    "#ref: https://github.com/mnguyenngo/ab-framework/blob/master/notebooks/Walkthrough.ipynb"
   ]
  },
  {
   "cell_type": "code",
   "execution_count": 2,
   "metadata": {
    "collapsed": true
   },
   "outputs": [],
   "source": [
    "# code examples presented in Python\n",
    "bcr = 0.10  # baseline conversion rate\n",
    "d_hat = 0.02  # difference between the groups"
   ]
  },
  {
   "cell_type": "code",
   "execution_count": 3,
   "metadata": {
    "collapsed": true
   },
   "outputs": [],
   "source": [
    "# A is control; B is test\n",
    "N_A = 1000\n",
    "N_B = 1000"
   ]
  },
  {
   "cell_type": "code",
   "execution_count": 4,
   "metadata": {
    "collapsed": true
   },
   "outputs": [],
   "source": [
    "import numpy as np\n",
    "import scipy.stats as scs\n",
    "\n",
    "\n",
    "def pooled_prob(N_A, N_B, X_A, X_B):\n",
    "    \"\"\"Returns pooled probability for two samples\"\"\"\n",
    "    return (X_A + X_B) / (N_A + N_B)\n",
    "\n",
    "\n",
    "def pooled_SE(N_A, N_B, X_A, X_B):\n",
    "    \"\"\"Returns the pooled standard error for two samples\"\"\"\n",
    "    p_hat = pooled_prob(N_A, N_B, X_A, X_B)\n",
    "    SE = np.sqrt(p_hat * (1 - p_hat) * (1 / N_A + 1 / N_B))\n",
    "    return SE\n",
    "\n",
    "\n",
    "def confidence_interval(sample_mean=0, sample_std=1, sample_size=1,\n",
    "                        sig_level=0.05):\n",
    "    \"\"\"Returns the confidence interval as a tuple\"\"\"\n",
    "    z = z_val(sig_level)\n",
    "\n",
    "    left = sample_mean - z * sample_std / np.sqrt(sample_size)\n",
    "    right = sample_mean + z * sample_std / np.sqrt(sample_size)\n",
    "\n",
    "    return (left, right)\n",
    "\n",
    "\n",
    "def z_val(sig_level=0.05, two_tailed=True):\n",
    "    \"\"\"Returns the z value for a given significance level\"\"\"\n",
    "    z_dist = scs.norm()\n",
    "    if two_tailed:\n",
    "        sig_level = sig_level/2\n",
    "        area = 1 - sig_level\n",
    "    else:\n",
    "        area = 1 - sig_level\n",
    "\n",
    "    z = z_dist.ppf(area)\n",
    "\n",
    "    return z\n",
    "\n",
    "\n",
    "def ab_dist(stderr, d_hat=0, group_type='control'):\n",
    "    \"\"\"Returns a distribution object depending on group type\n",
    "    Examples:\n",
    "    Parameters:\n",
    "        stderr (float): pooled standard error of two independent samples\n",
    "        d_hat (float): the mean difference between two independent samples\n",
    "        group_type (string): 'control' and 'test' are supported\n",
    "    Returns:\n",
    "        dist (scipy.stats distribution object)\n",
    "    \"\"\"\n",
    "    if group_type == 'control':\n",
    "        sample_mean = 0\n",
    "\n",
    "    elif group_type == 'test':\n",
    "        sample_mean = d_hat\n",
    "\n",
    "    # create a normal distribution which is dependent on mean and std dev\n",
    "    dist = scs.norm(sample_mean, stderr)\n",
    "    return dist\n",
    "\n",
    "\n",
    "def min_sample_size(bcr, mde, power=0.8, sig_level=0.05):\n",
    "    \"\"\"Returns the minimum sample size to set up a split test\n",
    "    Arguments:\n",
    "        bcr (float): probability of success for control, sometimes\n",
    "        referred to as baseline conversion rate\n",
    "        mde (float): minimum change in measurement between control\n",
    "        group and test group if alternative hypothesis is true, sometimes\n",
    "        referred to as minimum detectable effect\n",
    "        power (float): probability of rejecting the null hypothesis when the\n",
    "        null hypothesis is false, typically 0.8\n",
    "        sig_level (float): significance level often denoted as alpha,\n",
    "        typically 0.05\n",
    "    Returns:\n",
    "        min_N: minimum sample size (float)\n",
    "    References:\n",
    "        Stanford lecture on sample sizes\n",
    "        http://statweb.stanford.edu/~susan/courses/s141/hopower.pdf\n",
    "    \"\"\"\n",
    "    # standard normal distribution to determine z-values\n",
    "    standard_norm = scs.norm(0, 1)\n",
    "\n",
    "    # find Z_beta from desired power\n",
    "    Z_beta = standard_norm.ppf(power)\n",
    "\n",
    "    # find Z_alpha\n",
    "    Z_alpha = standard_norm.ppf(1-sig_level/2)\n",
    "\n",
    "    # average of probabilities from both groups\n",
    "    pooled_prob = (bcr + bcr+mde) / 2\n",
    "\n",
    "    min_N = (2 * pooled_prob * (1 - pooled_prob) * (Z_beta + Z_alpha)**2\n",
    "             / mde**2)\n",
    "\n",
    "    return min_N\n",
    "\n",
    "\n",
    "def p_val(N_A, N_B, p_A, p_B):\n",
    "    \"\"\"Returns the p-value for an A/B test\"\"\"\n",
    "    return scs.binom(N_A, p_A).pmf(p_B * N_B)"
   ]
  },
  {
   "cell_type": "code",
   "execution_count": null,
   "metadata": {
    "collapsed": true
   },
   "outputs": [],
   "source": []
  }
 ],
 "metadata": {
  "kernelspec": {
   "display_name": "Python 3",
   "language": "python",
   "name": "python3"
  },
  "language_info": {
   "codemirror_mode": {
    "name": "ipython",
    "version": 3
   },
   "file_extension": ".py",
   "mimetype": "text/x-python",
   "name": "python",
   "nbconvert_exporter": "python",
   "pygments_lexer": "ipython3",
   "version": "3.6.6"
  }
 },
 "nbformat": 4,
 "nbformat_minor": 2
}
