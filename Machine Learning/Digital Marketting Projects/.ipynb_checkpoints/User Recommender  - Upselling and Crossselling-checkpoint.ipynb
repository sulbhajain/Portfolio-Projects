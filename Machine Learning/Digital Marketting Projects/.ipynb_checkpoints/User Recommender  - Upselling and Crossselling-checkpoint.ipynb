{
 "cells": [
  {
   "cell_type": "code",
   "execution_count": 1,
   "metadata": {
    "collapsed": true
   },
   "outputs": [],
   "source": [
    "# ref: https://towardsdatascience.com/use-algorithms-to-recommend-items-to-customers-in-python-347b769b21f3"
   ]
  },
  {
   "cell_type": "code",
   "execution_count": 2,
   "metadata": {
    "collapsed": true
   },
   "outputs": [],
   "source": [
    "path=\"https://raw.githubusercontent.com/RyanSydney/PredictiveCustomerAnalytics/master/ratings.csv\""
   ]
  },
  {
   "cell_type": "code",
   "execution_count": 4,
   "metadata": {},
   "outputs": [
    {
     "data": {
      "text/html": [
       "<div>\n",
       "<style scoped>\n",
       "    .dataframe tbody tr th:only-of-type {\n",
       "        vertical-align: middle;\n",
       "    }\n",
       "\n",
       "    .dataframe tbody tr th {\n",
       "        vertical-align: top;\n",
       "    }\n",
       "\n",
       "    .dataframe thead th {\n",
       "        text-align: right;\n",
       "    }\n",
       "</style>\n",
       "<table border=\"1\" class=\"dataframe\">\n",
       "  <thead>\n",
       "    <tr style=\"text-align: right;\">\n",
       "      <th></th>\n",
       "      <th>userId</th>\n",
       "      <th>ItemId</th>\n",
       "    </tr>\n",
       "  </thead>\n",
       "  <tbody>\n",
       "    <tr>\n",
       "      <th>0</th>\n",
       "      <td>1001</td>\n",
       "      <td>5001</td>\n",
       "    </tr>\n",
       "    <tr>\n",
       "      <th>1</th>\n",
       "      <td>1001</td>\n",
       "      <td>5002</td>\n",
       "    </tr>\n",
       "    <tr>\n",
       "      <th>2</th>\n",
       "      <td>1001</td>\n",
       "      <td>5005</td>\n",
       "    </tr>\n",
       "    <tr>\n",
       "      <th>3</th>\n",
       "      <td>1002</td>\n",
       "      <td>5003</td>\n",
       "    </tr>\n",
       "    <tr>\n",
       "      <th>4</th>\n",
       "      <td>1002</td>\n",
       "      <td>5004</td>\n",
       "    </tr>\n",
       "  </tbody>\n",
       "</table>\n",
       "</div>"
      ],
      "text/plain": [
       "   userId  ItemId\n",
       "0    1001    5001\n",
       "1    1001    5002\n",
       "2    1001    5005\n",
       "3    1002    5003\n",
       "4    1002    5004"
      ]
     },
     "execution_count": 4,
     "metadata": {},
     "output_type": "execute_result"
    }
   ],
   "source": [
    "import pandas as pd\n",
    "\n",
    "userItemData = pd.read_csv(path)\n",
    "userItemData.head()"
   ]
  },
  {
   "cell_type": "code",
   "execution_count": 5,
   "metadata": {},
   "outputs": [
    {
     "data": {
      "text/html": [
       "<div>\n",
       "<style scoped>\n",
       "    .dataframe tbody tr th:only-of-type {\n",
       "        vertical-align: middle;\n",
       "    }\n",
       "\n",
       "    .dataframe tbody tr th {\n",
       "        vertical-align: top;\n",
       "    }\n",
       "\n",
       "    .dataframe thead th {\n",
       "        text-align: right;\n",
       "    }\n",
       "</style>\n",
       "<table border=\"1\" class=\"dataframe\">\n",
       "  <thead>\n",
       "    <tr style=\"text-align: right;\">\n",
       "      <th></th>\n",
       "      <th>item1</th>\n",
       "      <th>item2</th>\n",
       "      <th>score</th>\n",
       "    </tr>\n",
       "  </thead>\n",
       "  <tbody>\n",
       "    <tr>\n",
       "      <th>0</th>\n",
       "      <td>5001.0</td>\n",
       "      <td>5002.0</td>\n",
       "      <td>0.4</td>\n",
       "    </tr>\n",
       "    <tr>\n",
       "      <th>1</th>\n",
       "      <td>5002.0</td>\n",
       "      <td>5001.0</td>\n",
       "      <td>0.4</td>\n",
       "    </tr>\n",
       "    <tr>\n",
       "      <th>2</th>\n",
       "      <td>5001.0</td>\n",
       "      <td>5003.0</td>\n",
       "      <td>0.0</td>\n",
       "    </tr>\n",
       "    <tr>\n",
       "      <th>3</th>\n",
       "      <td>5003.0</td>\n",
       "      <td>5001.0</td>\n",
       "      <td>0.0</td>\n",
       "    </tr>\n",
       "    <tr>\n",
       "      <th>4</th>\n",
       "      <td>5001.0</td>\n",
       "      <td>5004.0</td>\n",
       "      <td>0.2</td>\n",
       "    </tr>\n",
       "  </tbody>\n",
       "</table>\n",
       "</div>"
      ],
      "text/plain": [
       "    item1   item2  score\n",
       "0  5001.0  5002.0    0.4\n",
       "1  5002.0  5001.0    0.4\n",
       "2  5001.0  5003.0    0.0\n",
       "3  5003.0  5001.0    0.0\n",
       "4  5001.0  5004.0    0.2"
      ]
     },
     "execution_count": 5,
     "metadata": {},
     "output_type": "execute_result"
    }
   ],
   "source": [
    "#Get list of unique items\n",
    "itemList=list(set(userItemData[\"ItemId\"].tolist()))\n",
    "\n",
    "#Get count of users\n",
    "userCount=len(set(userItemData[\"ItemId\"].tolist()))\n",
    "\n",
    "#Create an empty data frame to store item affinity scores for items.\n",
    "itemAffinity= pd.DataFrame(columns=('item1', 'item2', 'score'))\n",
    "rowCount=0\n",
    "\n",
    "#For each item in the list, compare with other items.\n",
    "for ind1 in range(len(itemList)):\n",
    "    \n",
    "    #Get list of users who bought this item 1.\n",
    "    item1Users = userItemData[userItemData.ItemId==itemList[ind1]][\"userId\"].tolist()\n",
    "    #print(\"Item 1 \", item1Users)\n",
    "    \n",
    "    #Get item 2 - items that are not item 1 or those that are not analyzed already.\n",
    "    for ind2 in range(ind1, len(itemList)):\n",
    "        \n",
    "        if ( ind1 == ind2):\n",
    "            continue\n",
    "       \n",
    "        #Get list of users who bought item 2\n",
    "        item2Users=userItemData[userItemData.ItemId==itemList[ind2]][\"userId\"].tolist()\n",
    "        #print(\"Item 2\",item2Users)\n",
    "        \n",
    "        #Find score. Find the common list of users and divide it by the total users.\n",
    "        commonUsers= len(set(item1Users).intersection(set(item2Users)))\n",
    "        score=commonUsers / userCount\n",
    "\n",
    "        #Add a score for item 1, item 2\n",
    "        itemAffinity.loc[rowCount] = [itemList[ind1],itemList[ind2],score]\n",
    "        rowCount +=1\n",
    "        #Add a score for item2, item 1. The same score would apply irrespective of the sequence.\n",
    "        itemAffinity.loc[rowCount] = [itemList[ind2],itemList[ind1],score]\n",
    "        rowCount +=1\n",
    "        \n",
    "#Check final result\n",
    "itemAffinity.head()"
   ]
  },
  {
   "cell_type": "code",
   "execution_count": null,
   "metadata": {
    "collapsed": true
   },
   "outputs": [],
   "source": []
  }
 ],
 "metadata": {
  "kernelspec": {
   "display_name": "Python 3",
   "language": "python",
   "name": "python3"
  },
  "language_info": {
   "codemirror_mode": {
    "name": "ipython",
    "version": 3
   },
   "file_extension": ".py",
   "mimetype": "text/x-python",
   "name": "python",
   "nbconvert_exporter": "python",
   "pygments_lexer": "ipython3",
   "version": "3.6.6"
  }
 },
 "nbformat": 4,
 "nbformat_minor": 2
}
