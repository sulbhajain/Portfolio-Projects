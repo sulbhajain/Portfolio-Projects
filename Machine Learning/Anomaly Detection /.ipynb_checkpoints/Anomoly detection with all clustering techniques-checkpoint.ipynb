{
 "cells": [
  {
   "cell_type": "code",
   "execution_count": 2,
   "metadata": {
    "collapsed": true
   },
   "outputs": [],
   "source": [
    "#ref: https://www.kaggle.com/victorambonati/unsupervised-anomaly-detection\n",
    "# ref: https://towardsdatascience.com/the-5-clustering-algorithms-data-scientists-need-to-know-a36d136ef68"
   ]
  },
  {
   "cell_type": "markdown",
   "metadata": {},
   "source": [
    "### Algorithm implemented :\n",
    "## Cluster based anomaly detection (K-mean)\n",
    "## Repartition of data into categories then Gaussian/Elliptic Enveloppe on each categories separately\n",
    "## Markov Chain\n",
    "## Isolation Forest\n",
    "## One class SVM\n",
    "## RNN (comparison between prediction and reality)"
   ]
  },
  {
   "cell_type": "code",
   "execution_count": null,
   "metadata": {
    "collapsed": true
   },
   "outputs": [],
   "source": []
  }
 ],
 "metadata": {
  "kernelspec": {
   "display_name": "Python 3",
   "language": "python",
   "name": "python3"
  },
  "language_info": {
   "codemirror_mode": {
    "name": "ipython",
    "version": 3
   },
   "file_extension": ".py",
   "mimetype": "text/x-python",
   "name": "python",
   "nbconvert_exporter": "python",
   "pygments_lexer": "ipython3",
   "version": "3.6.6"
  }
 },
 "nbformat": 4,
 "nbformat_minor": 2
}
