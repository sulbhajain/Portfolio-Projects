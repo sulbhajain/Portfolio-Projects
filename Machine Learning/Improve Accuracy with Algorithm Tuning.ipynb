{
 "cells": [
  {
   "cell_type": "code",
   "execution_count": 1,
   "metadata": {
    "collapsed": true
   },
   "outputs": [],
   "source": [
    "# After finding one or two algorithm doing well, improve the performance of the models by tuning the parameters\n",
    "# to the given dataset.\n",
    "\n",
    "# 1. Tune the parameters of an Algorithm using grid search that you specify\n",
    "# 2. Tune the algoritm of an Algo using a random search\n"
   ]
  },
  {
   "cell_type": "code",
   "execution_count": 2,
   "metadata": {
    "collapsed": true
   },
   "outputs": [],
   "source": [
    "# Using grid search to tune parameters on Pima Indians onset of diabetes dataset"
   ]
  },
  {
   "cell_type": "code",
   "execution_count": 3,
   "metadata": {
    "collapsed": true
   },
   "outputs": [],
   "source": [
    "# Grid Search for Algorithm Tuning\n",
    "from pandas import read_csv\n",
    "import numpy\n",
    "from sklearn.linear_model import Ridge\n",
    "from sklearn.model_selection import GridSearchCV\n"
   ]
  },
  {
   "cell_type": "code",
   "execution_count": 4,
   "metadata": {
    "collapsed": true
   },
   "outputs": [],
   "source": [
    "url = \"https://goo.gl/bDdBiA\"\n",
    "names = ['preg', 'plas', 'pres', 'skin', 'test', 'mass', 'pedi', 'age', 'class']\n",
    "dataframe = read_csv(url, names=names)\n",
    "array = dataframe.values\n"
   ]
  },
  {
   "cell_type": "code",
   "execution_count": 5,
   "metadata": {
    "collapsed": true
   },
   "outputs": [],
   "source": [
    "X = array[:,0:8]\n",
    "Y = array[:,8]\n"
   ]
  },
  {
   "cell_type": "code",
   "execution_count": 6,
   "metadata": {
    "collapsed": true
   },
   "outputs": [],
   "source": [
    "alphas = numpy.array([1,0.1,0.01,0.001,0.0001,0])\n",
    "param_grid = dict(alpha=alphas)\n",
    "model = Ridge()\n"
   ]
  },
  {
   "cell_type": "code",
   "execution_count": 7,
   "metadata": {},
   "outputs": [
    {
     "data": {
      "text/plain": [
       "GridSearchCV(cv=None, error_score='raise',\n",
       "       estimator=Ridge(alpha=1.0, copy_X=True, fit_intercept=True, max_iter=None,\n",
       "   normalize=False, random_state=None, solver='auto', tol=0.001),\n",
       "       fit_params=None, iid=True, n_jobs=1,\n",
       "       param_grid={'alpha': array([1.e+00, 1.e-01, 1.e-02, 1.e-03, 1.e-04, 0.e+00])},\n",
       "       pre_dispatch='2*n_jobs', refit=True, return_train_score='warn',\n",
       "       scoring=None, verbose=0)"
      ]
     },
     "execution_count": 7,
     "metadata": {},
     "output_type": "execute_result"
    }
   ],
   "source": [
    "grid = GridSearchCV(estimator=model, param_grid=param_grid)\n",
    "grid.fit(X, Y)\n"
   ]
  },
  {
   "cell_type": "code",
   "execution_count": 8,
   "metadata": {},
   "outputs": [
    {
     "name": "stdout",
     "output_type": "stream",
     "text": [
      "0.27961755931297233\n",
      "1.0\n"
     ]
    }
   ],
   "source": [
    "print(grid.best_score_)\n",
    "print(grid.best_estimator_.alpha)\n"
   ]
  },
  {
   "cell_type": "code",
   "execution_count": 9,
   "metadata": {
    "collapsed": true
   },
   "outputs": [],
   "source": [
    "from sklearn.model_selection import train_test_split"
   ]
  },
  {
   "cell_type": "code",
   "execution_count": 22,
   "metadata": {},
   "outputs": [],
   "source": [
    "X_train, X_test, y_train, y_test = train_test_split(X, Y, test_size=0.33, random_state=42)"
   ]
  },
  {
   "cell_type": "code",
   "execution_count": 62,
   "metadata": {},
   "outputs": [],
   "source": [
    "ridge = Ridge(alpha = 1, normalize = False)"
   ]
  },
  {
   "cell_type": "code",
   "execution_count": 63,
   "metadata": {},
   "outputs": [
    {
     "data": {
      "text/plain": [
       "Ridge(alpha=1, copy_X=True, fit_intercept=True, max_iter=None,\n",
       "   normalize=False, random_state=None, solver='auto', tol=0.001)"
      ]
     },
     "execution_count": 63,
     "metadata": {},
     "output_type": "execute_result"
    }
   ],
   "source": [
    "ridge.fit(X_train, y_train)"
   ]
  },
  {
   "cell_type": "code",
   "execution_count": 64,
   "metadata": {},
   "outputs": [],
   "source": [
    "predict = ridge.predict(X_test)"
   ]
  },
  {
   "cell_type": "code",
   "execution_count": 65,
   "metadata": {},
   "outputs": [
    {
     "data": {
      "text/plain": [
       "array([ 0.33218935,  0.24800074,  0.16804986,  0.21462024,  0.50380282,\n",
       "        0.46592021, -0.19444381,  0.55118294,  0.54218666,  0.72593522,\n",
       "        0.30938832,  0.87371701,  0.43302308,  0.33196181,  0.06160683,\n",
       "        0.39024164,  0.17280163,  0.06855925,  0.79307086,  0.54191049,\n",
       "        0.2908241 ,  0.08689456,  0.48089888,  0.12077457,  0.52609854,\n",
       "        0.83572262,  0.16109458, -0.05100682,  0.32286942,  0.15978134,\n",
       "        0.85117876,  0.81976788,  0.73651039,  0.72769644,  0.56755087,\n",
       "        0.61537971,  1.01594432,  0.28977064,  0.50244353,  0.63073348,\n",
       "        0.05680184,  0.55784478,  0.53137569,  0.36211576, -0.0668838 ,\n",
       "        0.51396988,  0.55470198,  0.26366896,  0.39021712,  1.01588096,\n",
       "        0.00105442,  0.61265284,  0.75690289,  0.31684661,  0.16841416,\n",
       "       -0.03523053,  0.72811786, -0.36822841,  0.41002809,  0.705001  ,\n",
       "        0.65921161,  0.38294652,  0.32870824,  0.2721425 ,  0.09478673,\n",
       "        0.56389279, -0.00279404,  0.68541811, -0.02910944,  0.70942063,\n",
       "        0.63496861,  0.06718107,  0.251926  ,  0.16135385,  0.12241856,\n",
       "        0.50700296,  0.23628012,  0.1645329 ,  0.1981556 ,  0.31841173,\n",
       "        0.61090862,  0.18746634,  0.0346924 ,  0.43068746,  0.31446578,\n",
       "        0.80141296,  0.84075863,  0.35973021,  0.16513757,  0.10205535,\n",
       "        0.04949125,  0.30347489, -0.41704016,  0.49521405,  0.49328723,\n",
       "        0.57717987,  0.3910996 ,  0.1524877 ,  0.61307216,  0.08765429,\n",
       "        0.66917152,  0.04040725,  0.68987066,  0.52107456,  0.59322209,\n",
       "        0.30004536,  0.31711018,  0.66823996,  0.13299465,  0.46927104,\n",
       "        0.10812197,  0.41117634, -0.1644904 ,  0.70940213,  0.24827994,\n",
       "        0.35939515,  0.66358294,  0.28180381,  0.04448648,  0.509871  ,\n",
       "        0.04871912,  0.31157377,  0.2928861 ,  0.0497901 ,  0.35045725,\n",
       "        0.44629051, -0.04397199,  0.7847044 ,  1.00662724,  0.67733758,\n",
       "        0.64330886,  0.77983253,  0.10882003,  0.45616149,  0.74395346,\n",
       "        0.17039658,  0.22962455,  0.8118661 ,  0.72678343, -0.22055987,\n",
       "        0.12070796, -0.02145396,  0.29859333,  0.45830529,  0.17257428,\n",
       "        0.3129394 ,  0.14756721, -0.14402787,  0.43137773,  0.70325381,\n",
       "        0.10729784,  0.4741421 ,  0.34466877,  0.22062933, -0.35179758,\n",
       "        0.43182337,  0.36197216,  0.62264771,  0.68490298,  0.20979908,\n",
       "        0.49019641,  0.61229259,  0.24740371, -0.17240392,  0.1596595 ,\n",
       "        0.80033401,  0.00625355,  0.36659347,  0.73066627,  0.50218564,\n",
       "        0.58537244,  0.22547253,  0.38861302,  0.64657299,  0.59645183,\n",
       "        0.10881736,  0.35995241,  0.32383307,  0.28658485,  0.36317407,\n",
       "        0.52935712,  0.55411956,  0.41517346,  0.68135617,  0.56417491,\n",
       "        0.11105306, -0.01508397,  0.16153502,  0.80402067,  0.40534936,\n",
       "        0.04914289,  0.11192351,  0.8111735 ,  0.32004426,  0.08699663,\n",
       "        0.02218845, -0.3757333 ,  0.0621565 ,  0.29036733,  0.63534174,\n",
       "        0.18222623,  0.15817413,  0.39210195,  0.31578971,  0.61142155,\n",
       "        0.11099216,  0.12708071,  0.31722557,  0.86741875,  0.58379724,\n",
       "        0.33497821,  0.26857593,  0.19807399,  0.16020356,  0.66789428,\n",
       "        0.11559414,  0.72095762,  0.33225707,  0.39142857,  0.81915429,\n",
       "        0.57374828,  0.13811254,  0.08317078,  0.22770519,  0.06317597,\n",
       "        0.65715966,  0.36579379,  0.31657037,  0.34408701,  0.2614919 ,\n",
       "        0.14042011, -0.01875374,  0.25880433,  0.48055093,  0.37068573,\n",
       "        0.44934774,  0.10241153,  0.33416271,  0.37583346,  0.59629467,\n",
       "        0.14807187,  0.01576134,  0.50884831,  0.14251108,  0.2387727 ,\n",
       "        0.37137841,  0.73859164,  0.11348501,  0.4013951 ,  0.27702574,\n",
       "        0.23497465, -0.53882948,  0.61353195,  0.03420942])"
      ]
     },
     "execution_count": 65,
     "metadata": {},
     "output_type": "execute_result"
    }
   ],
   "source": [
    "predict"
   ]
  },
  {
   "cell_type": "code",
   "execution_count": 66,
   "metadata": {
    "collapsed": true
   },
   "outputs": [],
   "source": [
    "import numpy as np"
   ]
  },
  {
   "cell_type": "code",
   "execution_count": 67,
   "metadata": {},
   "outputs": [
    {
     "data": {
      "text/plain": [
       "array([0., 0., 0., 0., 1., 0., 0., 1., 1., 1., 0., 1., 0., 0., 0., 0., 0.,\n",
       "       0., 1., 1., 0., 0., 0., 0., 1., 1., 0., 0., 0., 0., 1., 1., 1., 1.,\n",
       "       1., 1., 1., 0., 1., 1., 0., 1., 1., 0., 0., 1., 1., 0., 0., 1., 0.,\n",
       "       1., 1., 0., 0., 0., 1., 0., 0., 1., 1., 0., 0., 0., 0., 1., 0., 1.,\n",
       "       0., 1., 1., 0., 0., 0., 0., 1., 0., 0., 0., 0., 1., 0., 0., 0., 0.,\n",
       "       1., 1., 0., 0., 0., 0., 0., 0., 0., 0., 1., 0., 0., 1., 0., 1., 0.,\n",
       "       1., 1., 1., 0., 0., 1., 0., 0., 0., 0., 0., 1., 0., 0., 1., 0., 0.,\n",
       "       1., 0., 0., 0., 0., 0., 0., 0., 1., 1., 1., 1., 1., 0., 0., 1., 0.,\n",
       "       0., 1., 1., 0., 0., 0., 0., 0., 0., 0., 0., 0., 0., 1., 0., 0., 0.,\n",
       "       0., 0., 0., 0., 1., 1., 0., 0., 1., 0., 0., 0., 1., 0., 0., 1., 1.,\n",
       "       1., 0., 0., 1., 1., 0., 0., 0., 0., 0., 1., 1., 0., 1., 1., 0., 0.,\n",
       "       0., 1., 0., 0., 0., 1., 0., 0., 0., 0., 0., 0., 1., 0., 0., 0., 0.,\n",
       "       1., 0., 0., 0., 1., 1., 0., 0., 0., 0., 1., 0., 1., 0., 0., 1., 1.,\n",
       "       0., 0., 0., 0., 1., 0., 0., 0., 0., 0., 0., 0., 0., 0., 0., 0., 0.,\n",
       "       0., 1., 0., 0., 1., 0., 0., 0., 1., 0., 0., 0., 0., 1., 1., 0.])"
      ]
     },
     "execution_count": 67,
     "metadata": {},
     "output_type": "execute_result"
    }
   ],
   "source": [
    "predict1 = np.abs(np.round(predict))\n",
    "predict1"
   ]
  },
  {
   "cell_type": "code",
   "execution_count": 68,
   "metadata": {
    "collapsed": true
   },
   "outputs": [],
   "source": [
    "from sklearn.metrics import confusion_matrix, classification_report"
   ]
  },
  {
   "cell_type": "code",
   "execution_count": 69,
   "metadata": {},
   "outputs": [
    {
     "name": "stdout",
     "output_type": "stream",
     "text": [
      "[[135  33]\n",
      " [ 35  51]]\n"
     ]
    }
   ],
   "source": [
    "print (confusion_matrix(y_test, predict1))"
   ]
  },
  {
   "cell_type": "code",
   "execution_count": 70,
   "metadata": {},
   "outputs": [
    {
     "name": "stdout",
     "output_type": "stream",
     "text": [
      "             precision    recall  f1-score   support\n",
      "\n",
      "        0.0       0.79      0.80      0.80       168\n",
      "        1.0       0.61      0.59      0.60        86\n",
      "\n",
      "avg / total       0.73      0.73      0.73       254\n",
      "\n"
     ]
    }
   ],
   "source": [
    "print (classification_report(y_test, predict1))"
   ]
  },
  {
   "cell_type": "code",
   "execution_count": null,
   "metadata": {
    "collapsed": true
   },
   "outputs": [],
   "source": [
    "# Summary: With grid search we arrived at aplha = 1 for Ridge Algorithm providing good model preformance. So we\n",
    "# achieved goof parameters tuning. "
   ]
  }
 ],
 "metadata": {
  "kernelspec": {
   "display_name": "Python 3",
   "language": "python",
   "name": "python3"
  },
  "language_info": {
   "codemirror_mode": {
    "name": "ipython",
    "version": 3
   },
   "file_extension": ".py",
   "mimetype": "text/x-python",
   "name": "python",
   "nbconvert_exporter": "python",
   "pygments_lexer": "ipython3",
   "version": "3.6.3"
  }
 },
 "nbformat": 4,
 "nbformat_minor": 2
}
