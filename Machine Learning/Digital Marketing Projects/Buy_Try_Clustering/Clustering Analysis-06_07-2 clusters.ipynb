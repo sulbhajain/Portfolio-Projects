{
 "cells": [
  {
   "cell_type": "markdown",
   "metadata": {},
   "source": [
    "## no SD for binomial variable\n",
    "## cross validation`"
   ]
  },
  {
   "cell_type": "code",
   "execution_count": 1,
   "metadata": {},
   "outputs": [
    {
     "ename": "ModuleNotFoundError",
     "evalue": "No module named 'pandas_profilling'",
     "output_type": "error",
     "traceback": [
      "\u001b[0;31m---------------------------------------------------------------------------\u001b[0m",
      "\u001b[0;31mModuleNotFoundError\u001b[0m                       Traceback (most recent call last)",
      "\u001b[0;32m<ipython-input-1-e7e3c6721fa5>\u001b[0m in \u001b[0;36m<module>\u001b[0;34m\u001b[0m\n\u001b[1;32m      9\u001b[0m \u001b[0;32mfrom\u001b[0m \u001b[0msklearn\u001b[0m\u001b[0;34m.\u001b[0m\u001b[0mdecomposition\u001b[0m \u001b[0;32mimport\u001b[0m \u001b[0mPCA\u001b[0m\u001b[0;34m\u001b[0m\u001b[0;34m\u001b[0m\u001b[0m\n\u001b[1;32m     10\u001b[0m \u001b[0;32mfrom\u001b[0m \u001b[0msklearn\u001b[0m\u001b[0;34m.\u001b[0m\u001b[0mmetrics\u001b[0m \u001b[0;32mimport\u001b[0m \u001b[0;34m*\u001b[0m\u001b[0;34m\u001b[0m\u001b[0;34m\u001b[0m\u001b[0m\n\u001b[0;32m---> 11\u001b[0;31m \u001b[0;32mimport\u001b[0m \u001b[0mpandas_profilling\u001b[0m \u001b[0;32mas\u001b[0m \u001b[0mpp\u001b[0m\u001b[0;34m\u001b[0m\u001b[0;34m\u001b[0m\u001b[0m\n\u001b[0m\u001b[1;32m     12\u001b[0m \u001b[0;34m\u001b[0m\u001b[0m\n\u001b[1;32m     13\u001b[0m \u001b[0mget_ipython\u001b[0m\u001b[0;34m(\u001b[0m\u001b[0;34m)\u001b[0m\u001b[0;34m.\u001b[0m\u001b[0mrun_line_magic\u001b[0m\u001b[0;34m(\u001b[0m\u001b[0;34m'matplotlib'\u001b[0m\u001b[0;34m,\u001b[0m \u001b[0;34m'inline'\u001b[0m\u001b[0;34m)\u001b[0m\u001b[0;34m\u001b[0m\u001b[0;34m\u001b[0m\u001b[0m\n",
      "\u001b[0;31mModuleNotFoundError\u001b[0m: No module named 'pandas_profilling'"
     ]
    }
   ],
   "source": [
    "# import libraries\n",
    "\n",
    "import pandas as pd\n",
    "import matplotlib.pyplot as plt\n",
    "import seaborn as sns\n",
    "import numpy as np\n",
    "from sklearn.preprocessing import StandardScaler\n",
    "from sklearn.cluster import KMeans, AgglomerativeClustering, AffinityPropagation #For clustering\n",
    "from sklearn.decomposition import PCA\n",
    "from sklearn.metrics import *\n",
    "import pandas_profilling as pp\n",
    "\n",
    "%matplotlib inline"
   ]
  },
  {
   "cell_type": "code",
   "execution_count": 13,
   "metadata": {},
   "outputs": [],
   "source": [
    "# define path to the data file\n",
    "\n",
    "filepath='O365 Home Data/Buy_Try_Data.csv'"
   ]
  },
  {
   "cell_type": "code",
   "execution_count": 16,
   "metadata": {},
   "outputs": [
    {
     "data": {
      "text/html": [
       "<div>\n",
       "<style scoped>\n",
       "    .dataframe tbody tr th:only-of-type {\n",
       "        vertical-align: middle;\n",
       "    }\n",
       "\n",
       "    .dataframe tbody tr th {\n",
       "        vertical-align: top;\n",
       "    }\n",
       "\n",
       "    .dataframe thead th {\n",
       "        text-align: right;\n",
       "    }\n",
       "</style>\n",
       "<table border=\"1\" class=\"dataframe\">\n",
       "  <thead>\n",
       "    <tr style=\"text-align: right;\">\n",
       "      <th></th>\n",
       "      <th>MC1ID</th>\n",
       "      <th>Paid Orders Exists</th>\n",
       "      <th>Free Orders Exists</th>\n",
       "      <th>Visits</th>\n",
       "      <th>New Visitors Exists</th>\n",
       "      <th>Return Visitors Exists</th>\n",
       "      <th>Enter from Office.com</th>\n",
       "      <th>Enter from Store</th>\n",
       "      <th>Enter from O365 Web</th>\n",
       "      <th>Traffic Channel O&amp;O</th>\n",
       "      <th>...</th>\n",
       "      <th>Time Spent per Visit (seconds)</th>\n",
       "      <th>Average Time Spent on Page (seconds)</th>\n",
       "      <th>Link Clicks</th>\n",
       "      <th>Link Clicks on tab-OverviewTab</th>\n",
       "      <th>Link Clicks on tab-TechSpecsTab</th>\n",
       "      <th>Link Clicks on tab-ReviewsTab</th>\n",
       "      <th>Link Clicks on tab-FAQTab</th>\n",
       "      <th>Link Clicks on AddToCartButton</th>\n",
       "      <th>Link Clicks on Try Link</th>\n",
       "      <th>RPV</th>\n",
       "    </tr>\n",
       "  </thead>\n",
       "  <tbody>\n",
       "    <tr>\n",
       "      <th>0</th>\n",
       "      <td>77d20fbd617eba42a48d01822684da62</td>\n",
       "      <td>1.0</td>\n",
       "      <td>0.0</td>\n",
       "      <td>2.0</td>\n",
       "      <td>0.0</td>\n",
       "      <td>1.0</td>\n",
       "      <td>0.0</td>\n",
       "      <td>0.0</td>\n",
       "      <td>0.0</td>\n",
       "      <td>0.0</td>\n",
       "      <td>...</td>\n",
       "      <td>333.0</td>\n",
       "      <td>7.5</td>\n",
       "      <td>86.0</td>\n",
       "      <td>0</td>\n",
       "      <td>0</td>\n",
       "      <td>0</td>\n",
       "      <td>0</td>\n",
       "      <td>0</td>\n",
       "      <td>0</td>\n",
       "      <td>99.99</td>\n",
       "    </tr>\n",
       "    <tr>\n",
       "      <th>1</th>\n",
       "      <td>dd23dfffa72e41de888cb7df3990b1d2</td>\n",
       "      <td>1.0</td>\n",
       "      <td>0.0</td>\n",
       "      <td>1.0</td>\n",
       "      <td>1.0</td>\n",
       "      <td>0.0</td>\n",
       "      <td>1.0</td>\n",
       "      <td>0.0</td>\n",
       "      <td>0.0</td>\n",
       "      <td>1.0</td>\n",
       "      <td>...</td>\n",
       "      <td>370.0</td>\n",
       "      <td>NaN</td>\n",
       "      <td>31.0</td>\n",
       "      <td>0</td>\n",
       "      <td>0</td>\n",
       "      <td>0</td>\n",
       "      <td>0</td>\n",
       "      <td>0</td>\n",
       "      <td>0</td>\n",
       "      <td>9.99</td>\n",
       "    </tr>\n",
       "    <tr>\n",
       "      <th>2</th>\n",
       "      <td>23676d54473c4bf5b8844b02cc5971a5</td>\n",
       "      <td>1.0</td>\n",
       "      <td>0.0</td>\n",
       "      <td>1.0</td>\n",
       "      <td>1.0</td>\n",
       "      <td>0.0</td>\n",
       "      <td>1.0</td>\n",
       "      <td>0.0</td>\n",
       "      <td>0.0</td>\n",
       "      <td>0.0</td>\n",
       "      <td>...</td>\n",
       "      <td>1440.0</td>\n",
       "      <td>72.0</td>\n",
       "      <td>56.0</td>\n",
       "      <td>0</td>\n",
       "      <td>0</td>\n",
       "      <td>0</td>\n",
       "      <td>0</td>\n",
       "      <td>0</td>\n",
       "      <td>0</td>\n",
       "      <td>55.00</td>\n",
       "    </tr>\n",
       "    <tr>\n",
       "      <th>3</th>\n",
       "      <td>efe1dd5a57f94ec585bca628a00dc1e5</td>\n",
       "      <td>1.0</td>\n",
       "      <td>0.0</td>\n",
       "      <td>1.0</td>\n",
       "      <td>1.0</td>\n",
       "      <td>0.0</td>\n",
       "      <td>1.0</td>\n",
       "      <td>0.0</td>\n",
       "      <td>0.0</td>\n",
       "      <td>0.0</td>\n",
       "      <td>...</td>\n",
       "      <td>242.0</td>\n",
       "      <td>NaN</td>\n",
       "      <td>42.0</td>\n",
       "      <td>0</td>\n",
       "      <td>0</td>\n",
       "      <td>0</td>\n",
       "      <td>0</td>\n",
       "      <td>0</td>\n",
       "      <td>0</td>\n",
       "      <td>149.99</td>\n",
       "    </tr>\n",
       "    <tr>\n",
       "      <th>4</th>\n",
       "      <td>6f018a3ff7e7486abb340d09d37385a9</td>\n",
       "      <td>1.0</td>\n",
       "      <td>0.0</td>\n",
       "      <td>1.0</td>\n",
       "      <td>1.0</td>\n",
       "      <td>0.0</td>\n",
       "      <td>1.0</td>\n",
       "      <td>0.0</td>\n",
       "      <td>0.0</td>\n",
       "      <td>0.0</td>\n",
       "      <td>...</td>\n",
       "      <td>NaN</td>\n",
       "      <td>NaN</td>\n",
       "      <td>1.0</td>\n",
       "      <td>0</td>\n",
       "      <td>0</td>\n",
       "      <td>0</td>\n",
       "      <td>0</td>\n",
       "      <td>0</td>\n",
       "      <td>0</td>\n",
       "      <td>6.99</td>\n",
       "    </tr>\n",
       "  </tbody>\n",
       "</table>\n",
       "<p>5 rows × 23 columns</p>\n",
       "</div>"
      ],
      "text/plain": [
       "                              MC1ID  Paid Orders Exists  Free Orders Exists  \\\n",
       "0  77d20fbd617eba42a48d01822684da62                 1.0                 0.0   \n",
       "1  dd23dfffa72e41de888cb7df3990b1d2                 1.0                 0.0   \n",
       "2  23676d54473c4bf5b8844b02cc5971a5                 1.0                 0.0   \n",
       "3  efe1dd5a57f94ec585bca628a00dc1e5                 1.0                 0.0   \n",
       "4  6f018a3ff7e7486abb340d09d37385a9                 1.0                 0.0   \n",
       "\n",
       "   Visits  New Visitors Exists  Return Visitors Exists  Enter from Office.com  \\\n",
       "0     2.0                  0.0                     1.0                    0.0   \n",
       "1     1.0                  1.0                     0.0                    1.0   \n",
       "2     1.0                  1.0                     0.0                    1.0   \n",
       "3     1.0                  1.0                     0.0                    1.0   \n",
       "4     1.0                  1.0                     0.0                    1.0   \n",
       "\n",
       "   Enter from Store  Enter from O365 Web  Traffic Channel O&O  ...  \\\n",
       "0               0.0                  0.0                  0.0  ...   \n",
       "1               0.0                  0.0                  1.0  ...   \n",
       "2               0.0                  0.0                  0.0  ...   \n",
       "3               0.0                  0.0                  0.0  ...   \n",
       "4               0.0                  0.0                  0.0  ...   \n",
       "\n",
       "   Time Spent per Visit (seconds)  Average Time Spent on Page (seconds)  \\\n",
       "0                           333.0                                   7.5   \n",
       "1                           370.0                                   NaN   \n",
       "2                          1440.0                                  72.0   \n",
       "3                           242.0                                   NaN   \n",
       "4                             NaN                                   NaN   \n",
       "\n",
       "   Link Clicks  Link Clicks on tab-OverviewTab  \\\n",
       "0         86.0                               0   \n",
       "1         31.0                               0   \n",
       "2         56.0                               0   \n",
       "3         42.0                               0   \n",
       "4          1.0                               0   \n",
       "\n",
       "   Link Clicks on tab-TechSpecsTab  Link Clicks on tab-ReviewsTab  \\\n",
       "0                                0                              0   \n",
       "1                                0                              0   \n",
       "2                                0                              0   \n",
       "3                                0                              0   \n",
       "4                                0                              0   \n",
       "\n",
       "   Link Clicks on tab-FAQTab  Link Clicks on AddToCartButton  \\\n",
       "0                          0                               0   \n",
       "1                          0                               0   \n",
       "2                          0                               0   \n",
       "3                          0                               0   \n",
       "4                          0                               0   \n",
       "\n",
       "   Link Clicks on Try Link     RPV  \n",
       "0                        0   99.99  \n",
       "1                        0    9.99  \n",
       "2                        0   55.00  \n",
       "3                        0  149.99  \n",
       "4                        0    6.99  \n",
       "\n",
       "[5 rows x 23 columns]"
      ]
     },
     "execution_count": 16,
     "metadata": {},
     "output_type": "execute_result"
    }
   ],
   "source": [
    "# Data ingestion\n",
    "\n",
    "df = pd.read_csv(filepath)\n",
    "df.head()"
   ]
  },
  {
   "cell_type": "markdown",
   "metadata": {},
   "source": [
    "## Exploratory Data Analysis (EDA)\n"
   ]
  },
  {
   "cell_type": "code",
   "execution_count": 17,
   "metadata": {},
   "outputs": [
    {
     "data": {
      "text/plain": [
       "(518, 23)"
      ]
     },
     "execution_count": 17,
     "metadata": {},
     "output_type": "execute_result"
    }
   ],
   "source": [
    "df.shape"
   ]
  },
  {
   "cell_type": "code",
   "execution_count": 18,
   "metadata": {},
   "outputs": [
    {
     "name": "stdout",
     "output_type": "stream",
     "text": [
      "<class 'pandas.core.frame.DataFrame'>\n",
      "RangeIndex: 518 entries, 0 to 517\n",
      "Data columns (total 23 columns):\n",
      "MC1ID                                   516 non-null object\n",
      "Paid Orders Exists                      516 non-null float64\n",
      "Free Orders Exists                      516 non-null float64\n",
      "Visits                                  516 non-null float64\n",
      "New Visitors Exists                     516 non-null float64\n",
      "Return Visitors Exists                  516 non-null float64\n",
      "Enter from Office.com                   516 non-null float64\n",
      "Enter from Store                        516 non-null float64\n",
      "Enter from O365 Web                     516 non-null float64\n",
      "Traffic Channel O&O                     516 non-null float64\n",
      "Traffic Channel Direct                  516 non-null float64\n",
      "Traffic Channel Organic Search          516 non-null float64\n",
      "Traffic Channel Paid Search             516 non-null float64\n",
      "Time Spent per Visit (seconds)          500 non-null float64\n",
      "Average Time Spent on Page (seconds)    169 non-null float64\n",
      "Link Clicks                             516 non-null float64\n",
      "Link Clicks on tab-OverviewTab          518 non-null int64\n",
      "Link Clicks on tab-TechSpecsTab         518 non-null int64\n",
      "Link Clicks on tab-ReviewsTab           518 non-null int64\n",
      "Link Clicks on tab-FAQTab               518 non-null int64\n",
      "Link Clicks on AddToCartButton          518 non-null int64\n",
      "Link Clicks on Try Link                 518 non-null int64\n",
      "RPV                                     518 non-null float64\n",
      "dtypes: float64(16), int64(6), object(1)\n",
      "memory usage: 93.2+ KB\n"
     ]
    }
   ],
   "source": [
    "df.info()"
   ]
  },
  {
   "cell_type": "code",
   "execution_count": 19,
   "metadata": {},
   "outputs": [
    {
     "data": {
      "text/html": [
       "<div>\n",
       "<style scoped>\n",
       "    .dataframe tbody tr th:only-of-type {\n",
       "        vertical-align: middle;\n",
       "    }\n",
       "\n",
       "    .dataframe tbody tr th {\n",
       "        vertical-align: top;\n",
       "    }\n",
       "\n",
       "    .dataframe thead th {\n",
       "        text-align: right;\n",
       "    }\n",
       "</style>\n",
       "<table border=\"1\" class=\"dataframe\">\n",
       "  <thead>\n",
       "    <tr style=\"text-align: right;\">\n",
       "      <th></th>\n",
       "      <th>Paid Orders Exists</th>\n",
       "      <th>Free Orders Exists</th>\n",
       "      <th>Visits</th>\n",
       "      <th>New Visitors Exists</th>\n",
       "      <th>Return Visitors Exists</th>\n",
       "      <th>Enter from Office.com</th>\n",
       "      <th>Enter from Store</th>\n",
       "      <th>Enter from O365 Web</th>\n",
       "      <th>Traffic Channel O&amp;O</th>\n",
       "      <th>Traffic Channel Direct</th>\n",
       "      <th>...</th>\n",
       "      <th>Time Spent per Visit (seconds)</th>\n",
       "      <th>Average Time Spent on Page (seconds)</th>\n",
       "      <th>Link Clicks</th>\n",
       "      <th>Link Clicks on tab-OverviewTab</th>\n",
       "      <th>Link Clicks on tab-TechSpecsTab</th>\n",
       "      <th>Link Clicks on tab-ReviewsTab</th>\n",
       "      <th>Link Clicks on tab-FAQTab</th>\n",
       "      <th>Link Clicks on AddToCartButton</th>\n",
       "      <th>Link Clicks on Try Link</th>\n",
       "      <th>RPV</th>\n",
       "    </tr>\n",
       "  </thead>\n",
       "  <tbody>\n",
       "    <tr>\n",
       "      <th>count</th>\n",
       "      <td>516.000000</td>\n",
       "      <td>516.000000</td>\n",
       "      <td>516.000000</td>\n",
       "      <td>516.000000</td>\n",
       "      <td>516.000000</td>\n",
       "      <td>516.000000</td>\n",
       "      <td>516.000000</td>\n",
       "      <td>516.000000</td>\n",
       "      <td>516.000000</td>\n",
       "      <td>516.000000</td>\n",
       "      <td>...</td>\n",
       "      <td>500.000000</td>\n",
       "      <td>169.000000</td>\n",
       "      <td>516.000000</td>\n",
       "      <td>518.0</td>\n",
       "      <td>518.000000</td>\n",
       "      <td>518.000000</td>\n",
       "      <td>518.000000</td>\n",
       "      <td>518.000000</td>\n",
       "      <td>518.000000</td>\n",
       "      <td>518.000000</td>\n",
       "    </tr>\n",
       "    <tr>\n",
       "      <th>mean</th>\n",
       "      <td>0.784884</td>\n",
       "      <td>0.215116</td>\n",
       "      <td>1.023256</td>\n",
       "      <td>0.608527</td>\n",
       "      <td>0.391473</td>\n",
       "      <td>0.046512</td>\n",
       "      <td>0.362403</td>\n",
       "      <td>0.317829</td>\n",
       "      <td>0.354651</td>\n",
       "      <td>0.310078</td>\n",
       "      <td>...</td>\n",
       "      <td>605.123000</td>\n",
       "      <td>123.158553</td>\n",
       "      <td>33.335271</td>\n",
       "      <td>0.0</td>\n",
       "      <td>0.013514</td>\n",
       "      <td>0.009653</td>\n",
       "      <td>0.009653</td>\n",
       "      <td>0.256757</td>\n",
       "      <td>0.119691</td>\n",
       "      <td>45.696660</td>\n",
       "    </tr>\n",
       "    <tr>\n",
       "      <th>std</th>\n",
       "      <td>0.411302</td>\n",
       "      <td>0.411302</td>\n",
       "      <td>0.223481</td>\n",
       "      <td>0.488553</td>\n",
       "      <td>0.488553</td>\n",
       "      <td>0.210795</td>\n",
       "      <td>0.493119</td>\n",
       "      <td>0.470232</td>\n",
       "      <td>0.494825</td>\n",
       "      <td>0.471287</td>\n",
       "      <td>...</td>\n",
       "      <td>797.578225</td>\n",
       "      <td>320.616281</td>\n",
       "      <td>29.173169</td>\n",
       "      <td>0.0</td>\n",
       "      <td>0.115571</td>\n",
       "      <td>0.145545</td>\n",
       "      <td>0.097866</td>\n",
       "      <td>0.795115</td>\n",
       "      <td>0.906221</td>\n",
       "      <td>56.257701</td>\n",
       "    </tr>\n",
       "    <tr>\n",
       "      <th>min</th>\n",
       "      <td>0.000000</td>\n",
       "      <td>0.000000</td>\n",
       "      <td>1.000000</td>\n",
       "      <td>0.000000</td>\n",
       "      <td>0.000000</td>\n",
       "      <td>0.000000</td>\n",
       "      <td>0.000000</td>\n",
       "      <td>0.000000</td>\n",
       "      <td>0.000000</td>\n",
       "      <td>0.000000</td>\n",
       "      <td>...</td>\n",
       "      <td>1.000000</td>\n",
       "      <td>1.000000</td>\n",
       "      <td>0.000000</td>\n",
       "      <td>0.0</td>\n",
       "      <td>0.000000</td>\n",
       "      <td>0.000000</td>\n",
       "      <td>0.000000</td>\n",
       "      <td>0.000000</td>\n",
       "      <td>0.000000</td>\n",
       "      <td>0.000000</td>\n",
       "    </tr>\n",
       "    <tr>\n",
       "      <th>25%</th>\n",
       "      <td>1.000000</td>\n",
       "      <td>0.000000</td>\n",
       "      <td>1.000000</td>\n",
       "      <td>0.000000</td>\n",
       "      <td>0.000000</td>\n",
       "      <td>0.000000</td>\n",
       "      <td>0.000000</td>\n",
       "      <td>0.000000</td>\n",
       "      <td>0.000000</td>\n",
       "      <td>0.000000</td>\n",
       "      <td>...</td>\n",
       "      <td>99.000000</td>\n",
       "      <td>12.000000</td>\n",
       "      <td>13.750000</td>\n",
       "      <td>0.0</td>\n",
       "      <td>0.000000</td>\n",
       "      <td>0.000000</td>\n",
       "      <td>0.000000</td>\n",
       "      <td>0.000000</td>\n",
       "      <td>0.000000</td>\n",
       "      <td>6.990000</td>\n",
       "    </tr>\n",
       "    <tr>\n",
       "      <th>50%</th>\n",
       "      <td>1.000000</td>\n",
       "      <td>0.000000</td>\n",
       "      <td>1.000000</td>\n",
       "      <td>1.000000</td>\n",
       "      <td>0.000000</td>\n",
       "      <td>0.000000</td>\n",
       "      <td>0.000000</td>\n",
       "      <td>0.000000</td>\n",
       "      <td>0.000000</td>\n",
       "      <td>0.000000</td>\n",
       "      <td>...</td>\n",
       "      <td>291.500000</td>\n",
       "      <td>25.000000</td>\n",
       "      <td>25.000000</td>\n",
       "      <td>0.0</td>\n",
       "      <td>0.000000</td>\n",
       "      <td>0.000000</td>\n",
       "      <td>0.000000</td>\n",
       "      <td>0.000000</td>\n",
       "      <td>0.000000</td>\n",
       "      <td>9.990000</td>\n",
       "    </tr>\n",
       "    <tr>\n",
       "      <th>75%</th>\n",
       "      <td>1.000000</td>\n",
       "      <td>0.000000</td>\n",
       "      <td>1.000000</td>\n",
       "      <td>1.000000</td>\n",
       "      <td>1.000000</td>\n",
       "      <td>0.000000</td>\n",
       "      <td>1.000000</td>\n",
       "      <td>1.000000</td>\n",
       "      <td>1.000000</td>\n",
       "      <td>1.000000</td>\n",
       "      <td>...</td>\n",
       "      <td>825.500000</td>\n",
       "      <td>60.000000</td>\n",
       "      <td>44.250000</td>\n",
       "      <td>0.0</td>\n",
       "      <td>0.000000</td>\n",
       "      <td>0.000000</td>\n",
       "      <td>0.000000</td>\n",
       "      <td>0.000000</td>\n",
       "      <td>0.000000</td>\n",
       "      <td>99.990000</td>\n",
       "    </tr>\n",
       "    <tr>\n",
       "      <th>max</th>\n",
       "      <td>1.000000</td>\n",
       "      <td>1.000000</td>\n",
       "      <td>5.000000</td>\n",
       "      <td>1.000000</td>\n",
       "      <td>1.000000</td>\n",
       "      <td>1.000000</td>\n",
       "      <td>3.000000</td>\n",
       "      <td>2.000000</td>\n",
       "      <td>3.000000</td>\n",
       "      <td>2.000000</td>\n",
       "      <td>...</td>\n",
       "      <td>6263.000000</td>\n",
       "      <td>2615.000000</td>\n",
       "      <td>254.000000</td>\n",
       "      <td>0.0</td>\n",
       "      <td>1.000000</td>\n",
       "      <td>3.000000</td>\n",
       "      <td>1.000000</td>\n",
       "      <td>11.000000</td>\n",
       "      <td>17.000000</td>\n",
       "      <td>449.970000</td>\n",
       "    </tr>\n",
       "  </tbody>\n",
       "</table>\n",
       "<p>8 rows × 22 columns</p>\n",
       "</div>"
      ],
      "text/plain": [
       "       Paid Orders Exists  Free Orders Exists      Visits  \\\n",
       "count          516.000000          516.000000  516.000000   \n",
       "mean             0.784884            0.215116    1.023256   \n",
       "std              0.411302            0.411302    0.223481   \n",
       "min              0.000000            0.000000    1.000000   \n",
       "25%              1.000000            0.000000    1.000000   \n",
       "50%              1.000000            0.000000    1.000000   \n",
       "75%              1.000000            0.000000    1.000000   \n",
       "max              1.000000            1.000000    5.000000   \n",
       "\n",
       "       New Visitors Exists  Return Visitors Exists  Enter from Office.com  \\\n",
       "count           516.000000              516.000000             516.000000   \n",
       "mean              0.608527                0.391473               0.046512   \n",
       "std               0.488553                0.488553               0.210795   \n",
       "min               0.000000                0.000000               0.000000   \n",
       "25%               0.000000                0.000000               0.000000   \n",
       "50%               1.000000                0.000000               0.000000   \n",
       "75%               1.000000                1.000000               0.000000   \n",
       "max               1.000000                1.000000               1.000000   \n",
       "\n",
       "       Enter from Store  Enter from O365 Web  Traffic Channel O&O  \\\n",
       "count        516.000000           516.000000           516.000000   \n",
       "mean           0.362403             0.317829             0.354651   \n",
       "std            0.493119             0.470232             0.494825   \n",
       "min            0.000000             0.000000             0.000000   \n",
       "25%            0.000000             0.000000             0.000000   \n",
       "50%            0.000000             0.000000             0.000000   \n",
       "75%            1.000000             1.000000             1.000000   \n",
       "max            3.000000             2.000000             3.000000   \n",
       "\n",
       "       Traffic Channel Direct  ...  Time Spent per Visit (seconds)  \\\n",
       "count              516.000000  ...                      500.000000   \n",
       "mean                 0.310078  ...                      605.123000   \n",
       "std                  0.471287  ...                      797.578225   \n",
       "min                  0.000000  ...                        1.000000   \n",
       "25%                  0.000000  ...                       99.000000   \n",
       "50%                  0.000000  ...                      291.500000   \n",
       "75%                  1.000000  ...                      825.500000   \n",
       "max                  2.000000  ...                     6263.000000   \n",
       "\n",
       "       Average Time Spent on Page (seconds)  Link Clicks  \\\n",
       "count                            169.000000   516.000000   \n",
       "mean                             123.158553    33.335271   \n",
       "std                              320.616281    29.173169   \n",
       "min                                1.000000     0.000000   \n",
       "25%                               12.000000    13.750000   \n",
       "50%                               25.000000    25.000000   \n",
       "75%                               60.000000    44.250000   \n",
       "max                             2615.000000   254.000000   \n",
       "\n",
       "       Link Clicks on tab-OverviewTab  Link Clicks on tab-TechSpecsTab  \\\n",
       "count                           518.0                       518.000000   \n",
       "mean                              0.0                         0.013514   \n",
       "std                               0.0                         0.115571   \n",
       "min                               0.0                         0.000000   \n",
       "25%                               0.0                         0.000000   \n",
       "50%                               0.0                         0.000000   \n",
       "75%                               0.0                         0.000000   \n",
       "max                               0.0                         1.000000   \n",
       "\n",
       "       Link Clicks on tab-ReviewsTab  Link Clicks on tab-FAQTab  \\\n",
       "count                     518.000000                 518.000000   \n",
       "mean                        0.009653                   0.009653   \n",
       "std                         0.145545                   0.097866   \n",
       "min                         0.000000                   0.000000   \n",
       "25%                         0.000000                   0.000000   \n",
       "50%                         0.000000                   0.000000   \n",
       "75%                         0.000000                   0.000000   \n",
       "max                         3.000000                   1.000000   \n",
       "\n",
       "       Link Clicks on AddToCartButton  Link Clicks on Try Link         RPV  \n",
       "count                      518.000000               518.000000  518.000000  \n",
       "mean                         0.256757                 0.119691   45.696660  \n",
       "std                          0.795115                 0.906221   56.257701  \n",
       "min                          0.000000                 0.000000    0.000000  \n",
       "25%                          0.000000                 0.000000    6.990000  \n",
       "50%                          0.000000                 0.000000    9.990000  \n",
       "75%                          0.000000                 0.000000   99.990000  \n",
       "max                         11.000000                17.000000  449.970000  \n",
       "\n",
       "[8 rows x 22 columns]"
      ]
     },
     "execution_count": 19,
     "metadata": {},
     "output_type": "execute_result"
    }
   ],
   "source": [
    "df.describe()"
   ]
  },
  {
   "cell_type": "code",
   "execution_count": 20,
   "metadata": {},
   "outputs": [
    {
     "ename": "NameError",
     "evalue": "name 'pp' is not defined",
     "output_type": "error",
     "traceback": [
      "\u001b[0;31m---------------------------------------------------------------------------\u001b[0m",
      "\u001b[0;31mNameError\u001b[0m                                 Traceback (most recent call last)",
      "\u001b[0;32m<ipython-input-20-8c43c9c05b79>\u001b[0m in \u001b[0;36m<module>\u001b[0;34m\u001b[0m\n\u001b[0;32m----> 1\u001b[0;31m \u001b[0mpp\u001b[0m\u001b[0;34m.\u001b[0m\u001b[0mProfileReport\u001b[0m\u001b[0;34m(\u001b[0m\u001b[0mdf\u001b[0m\u001b[0;34m)\u001b[0m\u001b[0;34m\u001b[0m\u001b[0;34m\u001b[0m\u001b[0m\n\u001b[0m",
      "\u001b[0;31mNameError\u001b[0m: name 'pp' is not defined"
     ]
    }
   ],
   "source": [
    "pp.ProfileReport(df)"
   ]
  },
  {
   "cell_type": "code",
   "execution_count": 21,
   "metadata": {},
   "outputs": [
    {
     "data": {
      "text/plain": [
       "1.0    405\n",
       "0.0    111\n",
       "Name: Paid Orders Exists, dtype: int64"
      ]
     },
     "execution_count": 21,
     "metadata": {},
     "output_type": "execute_result"
    }
   ],
   "source": [
    "df['Paid Orders Exists'].value_counts()"
   ]
  },
  {
   "cell_type": "code",
   "execution_count": 22,
   "metadata": {},
   "outputs": [
    {
     "data": {
      "text/plain": [
       "0.0    405\n",
       "1.0    111\n",
       "Name: Free Orders Exists, dtype: int64"
      ]
     },
     "execution_count": 22,
     "metadata": {},
     "output_type": "execute_result"
    }
   ],
   "source": [
    "df['Free Orders Exists'].value_counts()"
   ]
  },
  {
   "cell_type": "markdown",
   "metadata": {},
   "source": [
    "## Remove outliers and fill missing data"
   ]
  },
  {
   "cell_type": "markdown",
   "metadata": {},
   "source": [
    "## Link Clicks"
   ]
  },
  {
   "cell_type": "code",
   "execution_count": 23,
   "metadata": {},
   "outputs": [
    {
     "data": {
      "text/plain": [
       "[<matplotlib.lines.Line2D at 0x1a25881b38>]"
      ]
     },
     "execution_count": 23,
     "metadata": {},
     "output_type": "execute_result"
    },
    {
     "data": {
      "image/png": "[encoded data removed]",
      "text/plain": [
       "<Figure size 432x288 with 1 Axes>"
      ]
     },
     "metadata": {
      "needs_background": "light"
     },
     "output_type": "display_data"
    }
   ],
   "source": [
    "plt.plot(df['Link Clicks'])"
   ]
  },
  {
   "cell_type": "code",
   "execution_count": 24,
   "metadata": {},
   "outputs": [],
   "source": [
    "idx =df.index[df['Link Clicks']>145]"
   ]
  },
  {
   "cell_type": "code",
   "execution_count": 25,
   "metadata": {},
   "outputs": [
    {
     "data": {
      "text/plain": [
       "[25, 409, 410]"
      ]
     },
     "execution_count": 25,
     "metadata": {},
     "output_type": "execute_result"
    }
   ],
   "source": [
    "idx.tolist()"
   ]
  },
  {
   "cell_type": "code",
   "execution_count": 26,
   "metadata": {},
   "outputs": [],
   "source": [
    "df.drop(idx.tolist(), inplace= True)"
   ]
  },
  {
   "cell_type": "markdown",
   "metadata": {},
   "source": [
    "### Time Spent per Visit (seconds)"
   ]
  },
  {
   "cell_type": "code",
   "execution_count": 27,
   "metadata": {},
   "outputs": [
    {
     "data": {
      "text/plain": [
       "[<matplotlib.lines.Line2D at 0x1a258c8da0>]"
      ]
     },
     "execution_count": 27,
     "metadata": {},
     "output_type": "execute_result"
    },
    {
     "data": {
      "image/png": "[encoded data removed]",
      "text/plain": [
       "<Figure size 432x288 with 1 Axes>"
      ]
     },
     "metadata": {
      "needs_background": "light"
     },
     "output_type": "display_data"
    }
   ],
   "source": [
    "plt.plot(df['Time Spent per Visit (seconds)'])"
   ]
  },
  {
   "cell_type": "code",
   "execution_count": 28,
   "metadata": {},
   "outputs": [
    {
     "data": {
      "text/plain": [
       "[216, 510]"
      ]
     },
     "execution_count": 28,
     "metadata": {},
     "output_type": "execute_result"
    }
   ],
   "source": [
    "idx =df.index[df['Time Spent per Visit (seconds)']>4500]\n",
    "idx.tolist()"
   ]
  },
  {
   "cell_type": "code",
   "execution_count": 29,
   "metadata": {},
   "outputs": [],
   "source": [
    "df.drop(idx.tolist(), inplace= True)"
   ]
  },
  {
   "cell_type": "markdown",
   "metadata": {},
   "source": [
    "### Average Time Spent on Page (seconds)"
   ]
  },
  {
   "cell_type": "code",
   "execution_count": 30,
   "metadata": {},
   "outputs": [
    {
     "data": {
      "text/plain": [
       "[<matplotlib.lines.Line2D at 0x1a25434ba8>]"
      ]
     },
     "execution_count": 30,
     "metadata": {},
     "output_type": "execute_result"
    },
    {
     "data": {
      "image/png": "[encoded data removed]",
      "text/plain": [
       "<Figure size 432x288 with 1 Axes>"
      ]
     },
     "metadata": {
      "needs_background": "light"
     },
     "output_type": "display_data"
    }
   ],
   "source": [
    "plt.plot(df['Link Clicks on tab-TechSpecsTab'])"
   ]
  },
  {
   "cell_type": "markdown",
   "metadata": {},
   "source": [
    "### Link Clicks on ReviewTab"
   ]
  },
  {
   "cell_type": "code",
   "execution_count": 31,
   "metadata": {},
   "outputs": [
    {
     "data": {
      "text/plain": [
       "[<matplotlib.lines.Line2D at 0x1a259801d0>]"
      ]
     },
     "execution_count": 31,
     "metadata": {},
     "output_type": "execute_result"
    },
    {
     "data": {
      "image/png": "[encoded data removed]",
      "text/plain": [
       "<Figure size 432x288 with 1 Axes>"
      ]
     },
     "metadata": {
      "needs_background": "light"
     },
     "output_type": "display_data"
    }
   ],
   "source": [
    "plt.plot(df['Link Clicks on tab-ReviewsTab'])"
   ]
  },
  {
   "cell_type": "markdown",
   "metadata": {},
   "source": [
    "### Link Clicks on FAQTab"
   ]
  },
  {
   "cell_type": "code",
   "execution_count": 32,
   "metadata": {},
   "outputs": [
    {
     "data": {
      "text/plain": [
       "[<matplotlib.lines.Line2D at 0x1a262d3128>]"
      ]
     },
     "execution_count": 32,
     "metadata": {},
     "output_type": "execute_result"
    },
    {
     "data": {
      "image/png": "[encoded data removed]",
      "text/plain": [
       "<Figure size 432x288 with 1 Axes>"
      ]
     },
     "metadata": {
      "needs_background": "light"
     },
     "output_type": "display_data"
    }
   ],
   "source": [
    "plt.plot(df['Link Clicks on tab-FAQTab'])"
   ]
  },
  {
   "cell_type": "markdown",
   "metadata": {},
   "source": [
    "### Link Clicks on AddtoCartButton"
   ]
  },
  {
   "cell_type": "code",
   "execution_count": 33,
   "metadata": {},
   "outputs": [
    {
     "data": {
      "text/plain": [
       "Index(['MC1ID', 'Paid Orders Exists', 'Free Orders Exists', 'Visits',\n",
       "       'New Visitors Exists', 'Return Visitors Exists',\n",
       "       'Enter from Office.com', 'Enter from Store', 'Enter from O365 Web',\n",
       "       'Traffic Channel O&O', 'Traffic Channel Direct',\n",
       "       'Traffic Channel Organic Search', 'Traffic Channel Paid Search',\n",
       "       'Time Spent per Visit (seconds)',\n",
       "       'Average Time Spent on Page (seconds)', 'Link Clicks',\n",
       "       'Link Clicks on tab-OverviewTab', 'Link Clicks on tab-TechSpecsTab',\n",
       "       'Link Clicks on tab-ReviewsTab', 'Link Clicks on tab-FAQTab',\n",
       "       'Link Clicks on AddToCartButton', 'Link Clicks on Try Link', 'RPV'],\n",
       "      dtype='object')"
      ]
     },
     "execution_count": 33,
     "metadata": {},
     "output_type": "execute_result"
    }
   ],
   "source": [
    "df.columns"
   ]
  },
  {
   "cell_type": "code",
   "execution_count": 34,
   "metadata": {},
   "outputs": [
    {
     "data": {
      "text/plain": [
       "[<matplotlib.lines.Line2D at 0x1a2614a438>]"
      ]
     },
     "execution_count": 34,
     "metadata": {},
     "output_type": "execute_result"
    },
    {
     "data": {
      "image/png": "[encoded data removed]",
      "text/plain": [
       "<Figure size 432x288 with 1 Axes>"
      ]
     },
     "metadata": {
      "needs_background": "light"
     },
     "output_type": "display_data"
    }
   ],
   "source": [
    "plt.plot(df['Link Clicks on AddToCartButton'])"
   ]
  },
  {
   "cell_type": "code",
   "execution_count": 35,
   "metadata": {},
   "outputs": [],
   "source": [
    "idx = df.index[df['Link Clicks on AddToCartButton']>3]"
   ]
  },
  {
   "cell_type": "code",
   "execution_count": 36,
   "metadata": {},
   "outputs": [],
   "source": [
    "idx.tolist()\n",
    "df.drop(idx.tolist(), inplace=True)"
   ]
  },
  {
   "cell_type": "markdown",
   "metadata": {},
   "source": [
    "### Link Clicks on Try Link"
   ]
  },
  {
   "cell_type": "code",
   "execution_count": 37,
   "metadata": {},
   "outputs": [
    {
     "data": {
      "text/plain": [
       "[<matplotlib.lines.Line2D at 0x1a2426f1d0>]"
      ]
     },
     "execution_count": 37,
     "metadata": {},
     "output_type": "execute_result"
    },
    {
     "data": {
      "image/png": "[encoded data removed]",
      "text/plain": [
       "<Figure size 432x288 with 1 Axes>"
      ]
     },
     "metadata": {
      "needs_background": "light"
     },
     "output_type": "display_data"
    }
   ],
   "source": [
    "plt.plot(df['Link Clicks on Try Link'])"
   ]
  },
  {
   "cell_type": "code",
   "execution_count": 38,
   "metadata": {},
   "outputs": [
    {
     "data": {
      "text/plain": [
       "Int64Index([155, 412, 424, 475, 483, 486], dtype='int64')"
      ]
     },
     "execution_count": 38,
     "metadata": {},
     "output_type": "execute_result"
    }
   ],
   "source": [
    "idx = df.index[df['Link Clicks on Try Link']>2]\n",
    "idx"
   ]
  },
  {
   "cell_type": "code",
   "execution_count": 39,
   "metadata": {},
   "outputs": [
    {
     "data": {
      "text/plain": [
       "(505, 23)"
      ]
     },
     "execution_count": 39,
     "metadata": {},
     "output_type": "execute_result"
    }
   ],
   "source": [
    "df.drop(idx.tolist(), inplace=True)\n",
    "df.shape"
   ]
  },
  {
   "cell_type": "markdown",
   "metadata": {},
   "source": [
    "### Enter from O365 Web"
   ]
  },
  {
   "cell_type": "code",
   "execution_count": 40,
   "metadata": {},
   "outputs": [
    {
     "data": {
      "text/plain": [
       "[<matplotlib.lines.Line2D at 0x1a258c8828>]"
      ]
     },
     "execution_count": 40,
     "metadata": {},
     "output_type": "execute_result"
    },
    {
     "data": {
      "image/png": "[encoded data removed]",
      "text/plain": [
       "<Figure size 432x288 with 1 Axes>"
      ]
     },
     "metadata": {
      "needs_background": "light"
     },
     "output_type": "display_data"
    }
   ],
   "source": [
    "plt.plot(df['Enter from O365 Web'])"
   ]
  },
  {
   "cell_type": "code",
   "execution_count": 41,
   "metadata": {},
   "outputs": [
    {
     "data": {
      "text/plain": [
       "Int64Index([], dtype='int64')"
      ]
     },
     "execution_count": 41,
     "metadata": {},
     "output_type": "execute_result"
    }
   ],
   "source": [
    "idx = df.index[df['Enter from O365 Web']>1]\n",
    "idx"
   ]
  },
  {
   "cell_type": "code",
   "execution_count": 42,
   "metadata": {},
   "outputs": [
    {
     "data": {
      "text/plain": [
       "(505, 23)"
      ]
     },
     "execution_count": 42,
     "metadata": {},
     "output_type": "execute_result"
    }
   ],
   "source": [
    "df.drop(idx.tolist(), inplace=True)\n",
    "df.shape"
   ]
  },
  {
   "cell_type": "markdown",
   "metadata": {},
   "source": [
    "### nter from Office.com"
   ]
  },
  {
   "cell_type": "code",
   "execution_count": 43,
   "metadata": {},
   "outputs": [
    {
     "data": {
      "text/plain": [
       "[<matplotlib.lines.Line2D at 0x1a25664128>]"
      ]
     },
     "execution_count": 43,
     "metadata": {},
     "output_type": "execute_result"
    },
    {
     "data": {
      "image/png": "[encoded data removed]",
      "text/plain": [
       "<Figure size 432x288 with 1 Axes>"
      ]
     },
     "metadata": {
      "needs_background": "light"
     },
     "output_type": "display_data"
    }
   ],
   "source": [
    "plt.plot(df['Enter from Office.com'])"
   ]
  },
  {
   "cell_type": "markdown",
   "metadata": {},
   "source": [
    "## Enter from Store"
   ]
  },
  {
   "cell_type": "code",
   "execution_count": 44,
   "metadata": {},
   "outputs": [
    {
     "data": {
      "text/plain": [
       "[<matplotlib.lines.Line2D at 0x1a265fe6d8>]"
      ]
     },
     "execution_count": 44,
     "metadata": {},
     "output_type": "execute_result"
    },
    {
     "data": {
      "image/png": "[encoded data removed]",
      "text/plain": [
       "<Figure size 432x288 with 1 Axes>"
      ]
     },
     "metadata": {
      "needs_background": "light"
     },
     "output_type": "display_data"
    }
   ],
   "source": [
    "plt.plot(df['Enter from Store'])"
   ]
  },
  {
   "cell_type": "code",
   "execution_count": 45,
   "metadata": {},
   "outputs": [
    {
     "data": {
      "text/plain": [
       "Int64Index([408], dtype='int64')"
      ]
     },
     "execution_count": 45,
     "metadata": {},
     "output_type": "execute_result"
    }
   ],
   "source": [
    "idx = df.index[df['Enter from Store']>1]\n",
    "idx"
   ]
  },
  {
   "cell_type": "code",
   "execution_count": 46,
   "metadata": {},
   "outputs": [
    {
     "data": {
      "text/plain": [
       "(504, 23)"
      ]
     },
     "execution_count": 46,
     "metadata": {},
     "output_type": "execute_result"
    }
   ],
   "source": [
    "df.drop(idx.tolist(), inplace=True)\n",
    "df.shape"
   ]
  },
  {
   "cell_type": "markdown",
   "metadata": {},
   "source": [
    "### Traffic Channel"
   ]
  },
  {
   "cell_type": "code",
   "execution_count": 47,
   "metadata": {},
   "outputs": [
    {
     "data": {
      "text/plain": [
       "(501, 23)"
      ]
     },
     "execution_count": 47,
     "metadata": {},
     "output_type": "execute_result"
    }
   ],
   "source": [
    "idx = df.index[df['Traffic Channel Direct']>1]\n",
    "df.drop(idx.tolist(), inplace=True)\n",
    "df.shape\n",
    "\n",
    "idx = df.index[df['Traffic Channel O&O']>1]\n",
    "df.drop(idx.tolist(), inplace=True)\n",
    "df.shape\n",
    "\n",
    "idx = df.index[df['Traffic Channel Organic Search']>1]\n",
    "df.drop(idx.tolist(), inplace=True)\n",
    "df.shape\n",
    "\n",
    "idx = df.index[df['Traffic Channel Paid Search']>1]\n",
    "df.drop(idx.tolist(), inplace=True)\n",
    "df.shape"
   ]
  },
  {
   "cell_type": "markdown",
   "metadata": {},
   "source": [
    "### Visits"
   ]
  },
  {
   "cell_type": "code",
   "execution_count": 48,
   "metadata": {},
   "outputs": [
    {
     "data": {
      "text/plain": [
       "(500, 23)"
      ]
     },
     "execution_count": 48,
     "metadata": {},
     "output_type": "execute_result"
    }
   ],
   "source": [
    "idx = df.index[df['Visits']>1]\n",
    "df.drop(idx.tolist(), inplace=True)\n",
    "df.shape"
   ]
  },
  {
   "cell_type": "markdown",
   "metadata": {},
   "source": [
    "### Count Plot"
   ]
  },
  {
   "cell_type": "code",
   "execution_count": 49,
   "metadata": {},
   "outputs": [
    {
     "data": {
      "text/plain": [
       "(500, 23)"
      ]
     },
     "execution_count": 49,
     "metadata": {},
     "output_type": "execute_result"
    }
   ],
   "source": [
    "df.shape"
   ]
  },
  {
   "cell_type": "code",
   "execution_count": 50,
   "metadata": {},
   "outputs": [
    {
     "data": {
      "image/png": "[encoded data removed]",
      "text/plain": [
       "<Figure size 432x288 with 1 Axes>"
      ]
     },
     "metadata": {
      "needs_background": "light"
     },
     "output_type": "display_data"
    },
    {
     "data": {
      "image/png": "[encoded data removed]",
      "text/plain": [
       "<Figure size 432x288 with 1 Axes>"
      ]
     },
     "metadata": {
      "needs_background": "light"
     },
     "output_type": "display_data"
    },
    {
     "data": {
      "image/png": "[encoded data removed]",
      "text/plain": [
       "<Figure size 432x288 with 1 Axes>"
      ]
     },
     "metadata": {
      "needs_background": "light"
     },
     "output_type": "display_data"
    },
    {
     "data": {
      "image/png": "[encoded data removed]",
      "text/plain": [
       "<Figure size 432x288 with 1 Axes>"
      ]
     },
     "metadata": {
      "needs_background": "light"
     },
     "output_type": "display_data"
    },
    {
     "data": {
      "image/png": "[encoded data removed]",
      "text/plain": [
       "<Figure size 432x288 with 1 Axes>"
      ]
     },
     "metadata": {
      "needs_background": "light"
     },
     "output_type": "display_data"
    },
    {
     "data": {
      "image/png": "[encoded data removed]",
      "text/plain": [
       "<Figure size 432x288 with 1 Axes>"
      ]
     },
     "metadata": {
      "needs_background": "light"
     },
     "output_type": "display_data"
    },
    {
     "data": {
      "image/png": "[encoded data removed]",
      "text/plain": [
       "<Figure size 432x288 with 1 Axes>"
      ]
     },
     "metadata": {
      "needs_background": "light"
     },
     "output_type": "display_data"
    },
    {
     "data": {
      "image/png": "[encoded data removed]",
      "text/plain": [
       "<Figure size 432x288 with 1 Axes>"
      ]
     },
     "metadata": {
      "needs_background": "light"
     },
     "output_type": "display_data"
    },
    {
     "data": {
      "image/png": "[encoded data removed]",
      "text/plain": [
       "<Figure size 432x288 with 1 Axes>"
      ]
     },
     "metadata": {
      "needs_background": "light"
     },
     "output_type": "display_data"
    },
    {
     "data": {
      "image/png": "[encoded data removed]",
      "text/plain": [
       "<Figure size 432x288 with 1 Axes>"
      ]
     },
     "metadata": {
      "needs_background": "light"
     },
     "output_type": "display_data"
    },
    {
     "data": {
      "image/png": "[encoded data removed]",
      "text/plain": [
       "<Figure size 432x288 with 1 Axes>"
      ]
     },
     "metadata": {
      "needs_background": "light"
     },
     "output_type": "display_data"
    },
    {
     "data": {
      "image/png": "[encoded data removed]",
      "text/plain": [
       "<Figure size 432x288 with 1 Axes>"
      ]
     },
     "metadata": {
      "needs_background": "light"
     },
     "output_type": "display_data"
    },
    {
     "data": {
      "image/png": "[encoded data removed]",
      "text/plain": [
       "<Figure size 432x288 with 1 Axes>"
      ]
     },
     "metadata": {
      "needs_background": "light"
     },
     "output_type": "display_data"
    },
    {
     "data": {
      "image/png": "[encoded data removed]",
      "text/plain": [
       "<Figure size 432x288 with 1 Axes>"
      ]
     },
     "metadata": {
      "needs_background": "light"
     },
     "output_type": "display_data"
    },
    {
     "data": {
      "image/png": "[encoded data removed]",
      "text/plain": [
       "<Figure size 432x288 with 1 Axes>"
      ]
     },
     "metadata": {
      "needs_background": "light"
     },
     "output_type": "display_data"
    },
    {
     "data": {
      "image/png": "[encoded data removed]",
      "text/plain": [
       "<Figure size 432x288 with 1 Axes>"
      ]
     },
     "metadata": {
      "needs_background": "light"
     },
     "output_type": "display_data"
    },
    {
     "data": {
      "image/png": "[encoded data removed]",
      "text/plain": [
       "<Figure size 432x288 with 1 Axes>"
      ]
     },
     "metadata": {
      "needs_background": "light"
     },
     "output_type": "display_data"
    },
    {
     "data": {
      "image/png": "[encoded data removed]",
      "text/plain": [
       "<Figure size 432x288 with 1 Axes>"
      ]
     },
     "metadata": {
      "needs_background": "light"
     },
     "output_type": "display_data"
    },
    {
     "data": {
      "image/png": "[encoded data removed]",
      "text/plain": [
       "<Figure size 432x288 with 1 Axes>"
      ]
     },
     "metadata": {
      "needs_background": "light"
     },
     "output_type": "display_data"
    },
    {
     "data": {
      "image/png": "[encoded data removed]",
      "text/plain": [
       "<Figure size 432x288 with 1 Axes>"
      ]
     },
     "metadata": {
      "needs_background": "light"
     },
     "output_type": "display_data"
    },
    {
     "data": {
      "image/png": "[encoded data removed]",
      "text/plain": [
       "<Figure size 432x288 with 1 Axes>"
      ]
     },
     "metadata": {
      "needs_background": "light"
     },
     "output_type": "display_data"
    },
    {
     "data": {
      "image/png": "[encoded data removed]",
      "text/plain": [
       "<Figure size 432x288 with 1 Axes>"
      ]
     },
     "metadata": {
      "needs_background": "light"
     },
     "output_type": "display_data"
    }
   ],
   "source": [
    "for c in range(1,23):\n",
    "    sns.countplot(df.iloc[:,c])\n",
    "    plt.show()"
   ]
  },
  {
   "cell_type": "code",
   "execution_count": 51,
   "metadata": {},
   "outputs": [
    {
     "data": {
      "text/plain": [
       "1.0    401\n",
       "0.0     97\n",
       "Name: Paid Orders Exists, dtype: int64"
      ]
     },
     "execution_count": 51,
     "metadata": {},
     "output_type": "execute_result"
    }
   ],
   "source": [
    "df['Paid Orders Exists'].value_counts()"
   ]
  },
  {
   "cell_type": "code",
   "execution_count": 52,
   "metadata": {},
   "outputs": [
    {
     "data": {
      "text/plain": [
       "0.0    401\n",
       "1.0     97\n",
       "Name: Free Orders Exists, dtype: int64"
      ]
     },
     "execution_count": 52,
     "metadata": {},
     "output_type": "execute_result"
    }
   ],
   "source": [
    "df['Free Orders Exists'].value_counts()"
   ]
  },
  {
   "cell_type": "code",
   "execution_count": 53,
   "metadata": {},
   "outputs": [
    {
     "data": {
      "text/plain": [
       "Index(['MC1ID', 'Paid Orders Exists', 'Free Orders Exists', 'Visits',\n",
       "       'New Visitors Exists', 'Return Visitors Exists',\n",
       "       'Enter from Office.com', 'Enter from Store', 'Enter from O365 Web',\n",
       "       'Traffic Channel O&O', 'Traffic Channel Direct',\n",
       "       'Traffic Channel Organic Search', 'Traffic Channel Paid Search',\n",
       "       'Time Spent per Visit (seconds)',\n",
       "       'Average Time Spent on Page (seconds)', 'Link Clicks',\n",
       "       'Link Clicks on tab-OverviewTab', 'Link Clicks on tab-TechSpecsTab',\n",
       "       'Link Clicks on tab-ReviewsTab', 'Link Clicks on tab-FAQTab',\n",
       "       'Link Clicks on AddToCartButton', 'Link Clicks on Try Link', 'RPV'],\n",
       "      dtype='object')"
      ]
     },
     "execution_count": 53,
     "metadata": {},
     "output_type": "execute_result"
    }
   ],
   "source": [
    "df.columns"
   ]
  },
  {
   "cell_type": "markdown",
   "metadata": {},
   "source": [
    "## Correlation among the features"
   ]
  },
  {
   "cell_type": "code",
   "execution_count": 54,
   "metadata": {},
   "outputs": [
    {
     "data": {
      "text/plain": [
       "<matplotlib.axes._subplots.AxesSubplot at 0x1a27955a20>"
      ]
     },
     "execution_count": 54,
     "metadata": {},
     "output_type": "execute_result"
    },
    {
     "data": {
      "image/png": "[encoded data removed]",
      "text/plain": [
       "<Figure size 432x288 with 2 Axes>"
      ]
     },
     "metadata": {
      "needs_background": "light"
     },
     "output_type": "display_data"
    }
   ],
   "source": [
    "sns.heatmap(df.corr())"
   ]
  },
  {
   "cell_type": "code",
   "execution_count": 55,
   "metadata": {},
   "outputs": [
    {
     "data": {
      "text/html": [
       "<div>\n",
       "<style scoped>\n",
       "    .dataframe tbody tr th:only-of-type {\n",
       "        vertical-align: middle;\n",
       "    }\n",
       "\n",
       "    .dataframe tbody tr th {\n",
       "        vertical-align: top;\n",
       "    }\n",
       "\n",
       "    .dataframe thead th {\n",
       "        text-align: right;\n",
       "    }\n",
       "</style>\n",
       "<table border=\"1\" class=\"dataframe\">\n",
       "  <thead>\n",
       "    <tr style=\"text-align: right;\">\n",
       "      <th></th>\n",
       "      <th>Paid Orders Exists</th>\n",
       "      <th>Free Orders Exists</th>\n",
       "      <th>Visits</th>\n",
       "      <th>New Visitors Exists</th>\n",
       "      <th>Return Visitors Exists</th>\n",
       "      <th>Enter from Office.com</th>\n",
       "      <th>Enter from Store</th>\n",
       "      <th>Enter from O365 Web</th>\n",
       "      <th>Traffic Channel O&amp;O</th>\n",
       "      <th>Traffic Channel Direct</th>\n",
       "      <th>...</th>\n",
       "      <th>Time Spent per Visit (seconds)</th>\n",
       "      <th>Average Time Spent on Page (seconds)</th>\n",
       "      <th>Link Clicks</th>\n",
       "      <th>Link Clicks on tab-OverviewTab</th>\n",
       "      <th>Link Clicks on tab-TechSpecsTab</th>\n",
       "      <th>Link Clicks on tab-ReviewsTab</th>\n",
       "      <th>Link Clicks on tab-FAQTab</th>\n",
       "      <th>Link Clicks on AddToCartButton</th>\n",
       "      <th>Link Clicks on Try Link</th>\n",
       "      <th>RPV</th>\n",
       "    </tr>\n",
       "  </thead>\n",
       "  <tbody>\n",
       "    <tr>\n",
       "      <th>Paid Orders Exists</th>\n",
       "      <td>1.000000</td>\n",
       "      <td>-1.000000</td>\n",
       "      <td>NaN</td>\n",
       "      <td>-0.006165</td>\n",
       "      <td>0.006165</td>\n",
       "      <td>0.039647</td>\n",
       "      <td>0.005041</td>\n",
       "      <td>-0.072309</td>\n",
       "      <td>0.062655</td>\n",
       "      <td>0.046604</td>\n",
       "      <td>...</td>\n",
       "      <td>0.090298</td>\n",
       "      <td>-0.052610</td>\n",
       "      <td>0.104822</td>\n",
       "      <td>NaN</td>\n",
       "      <td>0.054313</td>\n",
       "      <td>-0.048940</td>\n",
       "      <td>0.044257</td>\n",
       "      <td>0.135899</td>\n",
       "      <td>-0.125461</td>\n",
       "      <td>0.409723</td>\n",
       "    </tr>\n",
       "    <tr>\n",
       "      <th>Free Orders Exists</th>\n",
       "      <td>-1.000000</td>\n",
       "      <td>1.000000</td>\n",
       "      <td>NaN</td>\n",
       "      <td>0.006165</td>\n",
       "      <td>-0.006165</td>\n",
       "      <td>-0.039647</td>\n",
       "      <td>-0.005041</td>\n",
       "      <td>0.072309</td>\n",
       "      <td>-0.062655</td>\n",
       "      <td>-0.046604</td>\n",
       "      <td>...</td>\n",
       "      <td>-0.090298</td>\n",
       "      <td>0.052610</td>\n",
       "      <td>-0.104822</td>\n",
       "      <td>NaN</td>\n",
       "      <td>-0.054313</td>\n",
       "      <td>0.048940</td>\n",
       "      <td>-0.044257</td>\n",
       "      <td>-0.135899</td>\n",
       "      <td>0.125461</td>\n",
       "      <td>-0.409723</td>\n",
       "    </tr>\n",
       "    <tr>\n",
       "      <th>Visits</th>\n",
       "      <td>NaN</td>\n",
       "      <td>NaN</td>\n",
       "      <td>NaN</td>\n",
       "      <td>NaN</td>\n",
       "      <td>NaN</td>\n",
       "      <td>NaN</td>\n",
       "      <td>NaN</td>\n",
       "      <td>NaN</td>\n",
       "      <td>NaN</td>\n",
       "      <td>NaN</td>\n",
       "      <td>...</td>\n",
       "      <td>NaN</td>\n",
       "      <td>NaN</td>\n",
       "      <td>NaN</td>\n",
       "      <td>NaN</td>\n",
       "      <td>NaN</td>\n",
       "      <td>NaN</td>\n",
       "      <td>NaN</td>\n",
       "      <td>NaN</td>\n",
       "      <td>NaN</td>\n",
       "      <td>NaN</td>\n",
       "    </tr>\n",
       "    <tr>\n",
       "      <th>New Visitors Exists</th>\n",
       "      <td>-0.006165</td>\n",
       "      <td>0.006165</td>\n",
       "      <td>NaN</td>\n",
       "      <td>1.000000</td>\n",
       "      <td>-1.000000</td>\n",
       "      <td>0.102019</td>\n",
       "      <td>0.048191</td>\n",
       "      <td>0.039614</td>\n",
       "      <td>-0.039474</td>\n",
       "      <td>-0.106616</td>\n",
       "      <td>...</td>\n",
       "      <td>-0.035556</td>\n",
       "      <td>-0.119334</td>\n",
       "      <td>0.002662</td>\n",
       "      <td>NaN</td>\n",
       "      <td>-0.025489</td>\n",
       "      <td>-0.014657</td>\n",
       "      <td>-0.020769</td>\n",
       "      <td>0.024036</td>\n",
       "      <td>0.038265</td>\n",
       "      <td>0.036172</td>\n",
       "    </tr>\n",
       "    <tr>\n",
       "      <th>Return Visitors Exists</th>\n",
       "      <td>0.006165</td>\n",
       "      <td>-0.006165</td>\n",
       "      <td>NaN</td>\n",
       "      <td>-1.000000</td>\n",
       "      <td>1.000000</td>\n",
       "      <td>-0.102019</td>\n",
       "      <td>-0.048191</td>\n",
       "      <td>-0.039614</td>\n",
       "      <td>0.039474</td>\n",
       "      <td>0.106616</td>\n",
       "      <td>...</td>\n",
       "      <td>0.035556</td>\n",
       "      <td>0.119334</td>\n",
       "      <td>-0.002662</td>\n",
       "      <td>NaN</td>\n",
       "      <td>0.025489</td>\n",
       "      <td>0.014657</td>\n",
       "      <td>0.020769</td>\n",
       "      <td>-0.024036</td>\n",
       "      <td>-0.038265</td>\n",
       "      <td>-0.036172</td>\n",
       "    </tr>\n",
       "  </tbody>\n",
       "</table>\n",
       "<p>5 rows × 22 columns</p>\n",
       "</div>"
      ],
      "text/plain": [
       "                        Paid Orders Exists  Free Orders Exists  Visits  \\\n",
       "Paid Orders Exists                1.000000           -1.000000     NaN   \n",
       "Free Orders Exists               -1.000000            1.000000     NaN   \n",
       "Visits                                 NaN                 NaN     NaN   \n",
       "New Visitors Exists              -0.006165            0.006165     NaN   \n",
       "Return Visitors Exists            0.006165           -0.006165     NaN   \n",
       "\n",
       "                        New Visitors Exists  Return Visitors Exists  \\\n",
       "Paid Orders Exists                -0.006165                0.006165   \n",
       "Free Orders Exists                 0.006165               -0.006165   \n",
       "Visits                                  NaN                     NaN   \n",
       "New Visitors Exists                1.000000               -1.000000   \n",
       "Return Visitors Exists            -1.000000                1.000000   \n",
       "\n",
       "                        Enter from Office.com  Enter from Store  \\\n",
       "Paid Orders Exists                   0.039647          0.005041   \n",
       "Free Orders Exists                  -0.039647         -0.005041   \n",
       "Visits                                    NaN               NaN   \n",
       "New Visitors Exists                  0.102019          0.048191   \n",
       "Return Visitors Exists              -0.102019         -0.048191   \n",
       "\n",
       "                        Enter from O365 Web  Traffic Channel O&O  \\\n",
       "Paid Orders Exists                -0.072309             0.062655   \n",
       "Free Orders Exists                 0.072309            -0.062655   \n",
       "Visits                                  NaN                  NaN   \n",
       "New Visitors Exists                0.039614            -0.039474   \n",
       "Return Visitors Exists            -0.039614             0.039474   \n",
       "\n",
       "                        Traffic Channel Direct  ...  \\\n",
       "Paid Orders Exists                    0.046604  ...   \n",
       "Free Orders Exists                   -0.046604  ...   \n",
       "Visits                                     NaN  ...   \n",
       "New Visitors Exists                  -0.106616  ...   \n",
       "Return Visitors Exists                0.106616  ...   \n",
       "\n",
       "                        Time Spent per Visit (seconds)  \\\n",
       "Paid Orders Exists                            0.090298   \n",
       "Free Orders Exists                           -0.090298   \n",
       "Visits                                             NaN   \n",
       "New Visitors Exists                          -0.035556   \n",
       "Return Visitors Exists                        0.035556   \n",
       "\n",
       "                        Average Time Spent on Page (seconds)  Link Clicks  \\\n",
       "Paid Orders Exists                                 -0.052610     0.104822   \n",
       "Free Orders Exists                                  0.052610    -0.104822   \n",
       "Visits                                                   NaN          NaN   \n",
       "New Visitors Exists                                -0.119334     0.002662   \n",
       "Return Visitors Exists                              0.119334    -0.002662   \n",
       "\n",
       "                        Link Clicks on tab-OverviewTab  \\\n",
       "Paid Orders Exists                                 NaN   \n",
       "Free Orders Exists                                 NaN   \n",
       "Visits                                             NaN   \n",
       "New Visitors Exists                                NaN   \n",
       "Return Visitors Exists                             NaN   \n",
       "\n",
       "                        Link Clicks on tab-TechSpecsTab  \\\n",
       "Paid Orders Exists                             0.054313   \n",
       "Free Orders Exists                            -0.054313   \n",
       "Visits                                              NaN   \n",
       "New Visitors Exists                           -0.025489   \n",
       "Return Visitors Exists                         0.025489   \n",
       "\n",
       "                        Link Clicks on tab-ReviewsTab  \\\n",
       "Paid Orders Exists                          -0.048940   \n",
       "Free Orders Exists                           0.048940   \n",
       "Visits                                            NaN   \n",
       "New Visitors Exists                         -0.014657   \n",
       "Return Visitors Exists                       0.014657   \n",
       "\n",
       "                        Link Clicks on tab-FAQTab  \\\n",
       "Paid Orders Exists                       0.044257   \n",
       "Free Orders Exists                      -0.044257   \n",
       "Visits                                        NaN   \n",
       "New Visitors Exists                     -0.020769   \n",
       "Return Visitors Exists                   0.020769   \n",
       "\n",
       "                        Link Clicks on AddToCartButton  \\\n",
       "Paid Orders Exists                            0.135899   \n",
       "Free Orders Exists                           -0.135899   \n",
       "Visits                                             NaN   \n",
       "New Visitors Exists                           0.024036   \n",
       "Return Visitors Exists                       -0.024036   \n",
       "\n",
       "                        Link Clicks on Try Link       RPV  \n",
       "Paid Orders Exists                    -0.125461  0.409723  \n",
       "Free Orders Exists                     0.125461 -0.409723  \n",
       "Visits                                      NaN       NaN  \n",
       "New Visitors Exists                    0.038265  0.036172  \n",
       "Return Visitors Exists                -0.038265 -0.036172  \n",
       "\n",
       "[5 rows x 22 columns]"
      ]
     },
     "execution_count": 55,
     "metadata": {},
     "output_type": "execute_result"
    }
   ],
   "source": [
    "df_corr = df.corr()\n",
    "df_corr.head()"
   ]
  },
  {
   "cell_type": "code",
   "execution_count": 56,
   "metadata": {},
   "outputs": [
    {
     "data": {
      "text/plain": [
       "Paid Orders Exists                      1.000000\n",
       "Free Orders Exists                     -1.000000\n",
       "Enter from O365 Web                    -0.072309\n",
       "Traffic Channel O&O                     0.062655\n",
       "Traffic Channel Organic Search         -0.070216\n",
       "Time Spent per Visit (seconds)          0.090298\n",
       "Average Time Spent on Page (seconds)   -0.052610\n",
       "Link Clicks                             0.104822\n",
       "Link Clicks on tab-TechSpecsTab         0.054313\n",
       "Link Clicks on AddToCartButton          0.135899\n",
       "Link Clicks on Try Link                -0.125461\n",
       "RPV                                     0.409723\n",
       "Name: Paid Orders Exists, dtype: float64"
      ]
     },
     "execution_count": 56,
     "metadata": {},
     "output_type": "execute_result"
    }
   ],
   "source": [
    "df_corr.loc[(df_corr['Paid Orders Exists']>0.05) | (df_corr['Paid Orders Exists']<-0.05),'Paid Orders Exists']"
   ]
  },
  {
   "cell_type": "code",
   "execution_count": 57,
   "metadata": {},
   "outputs": [
    {
     "data": {
      "text/html": [
       "<div>\n",
       "<style scoped>\n",
       "    .dataframe tbody tr th:only-of-type {\n",
       "        vertical-align: middle;\n",
       "    }\n",
       "\n",
       "    .dataframe tbody tr th {\n",
       "        vertical-align: top;\n",
       "    }\n",
       "\n",
       "    .dataframe thead th {\n",
       "        text-align: right;\n",
       "    }\n",
       "</style>\n",
       "<table border=\"1\" class=\"dataframe\">\n",
       "  <thead>\n",
       "    <tr style=\"text-align: right;\">\n",
       "      <th></th>\n",
       "      <th>Paid Orders Exists</th>\n",
       "      <th>Free Orders Exists</th>\n",
       "      <th>Visits</th>\n",
       "      <th>New Visitors Exists</th>\n",
       "      <th>Return Visitors Exists</th>\n",
       "      <th>Enter from Office.com</th>\n",
       "      <th>Enter from Store</th>\n",
       "      <th>Enter from O365 Web</th>\n",
       "      <th>Traffic Channel O&amp;O</th>\n",
       "      <th>Traffic Channel Direct</th>\n",
       "      <th>...</th>\n",
       "      <th>Time Spent per Visit (seconds)</th>\n",
       "      <th>Average Time Spent on Page (seconds)</th>\n",
       "      <th>Link Clicks</th>\n",
       "      <th>Link Clicks on tab-OverviewTab</th>\n",
       "      <th>Link Clicks on tab-TechSpecsTab</th>\n",
       "      <th>Link Clicks on tab-ReviewsTab</th>\n",
       "      <th>Link Clicks on tab-FAQTab</th>\n",
       "      <th>Link Clicks on AddToCartButton</th>\n",
       "      <th>Link Clicks on Try Link</th>\n",
       "      <th>RPV</th>\n",
       "    </tr>\n",
       "  </thead>\n",
       "  <tbody>\n",
       "    <tr>\n",
       "      <th>Paid Orders Exists</th>\n",
       "      <td>1.000000</td>\n",
       "      <td>-1.000000</td>\n",
       "      <td>NaN</td>\n",
       "      <td>NaN</td>\n",
       "      <td>NaN</td>\n",
       "      <td>NaN</td>\n",
       "      <td>NaN</td>\n",
       "      <td>-0.072309</td>\n",
       "      <td>0.062655</td>\n",
       "      <td>NaN</td>\n",
       "      <td>...</td>\n",
       "      <td>0.090298</td>\n",
       "      <td>-0.052610</td>\n",
       "      <td>0.104822</td>\n",
       "      <td>NaN</td>\n",
       "      <td>0.054313</td>\n",
       "      <td>NaN</td>\n",
       "      <td>NaN</td>\n",
       "      <td>0.135899</td>\n",
       "      <td>-0.125461</td>\n",
       "      <td>0.409723</td>\n",
       "    </tr>\n",
       "    <tr>\n",
       "      <th>Free Orders Exists</th>\n",
       "      <td>-1.000000</td>\n",
       "      <td>1.000000</td>\n",
       "      <td>NaN</td>\n",
       "      <td>NaN</td>\n",
       "      <td>NaN</td>\n",
       "      <td>NaN</td>\n",
       "      <td>NaN</td>\n",
       "      <td>0.072309</td>\n",
       "      <td>-0.062655</td>\n",
       "      <td>NaN</td>\n",
       "      <td>...</td>\n",
       "      <td>-0.090298</td>\n",
       "      <td>0.052610</td>\n",
       "      <td>-0.104822</td>\n",
       "      <td>NaN</td>\n",
       "      <td>-0.054313</td>\n",
       "      <td>NaN</td>\n",
       "      <td>NaN</td>\n",
       "      <td>-0.135899</td>\n",
       "      <td>0.125461</td>\n",
       "      <td>-0.409723</td>\n",
       "    </tr>\n",
       "    <tr>\n",
       "      <th>Visits</th>\n",
       "      <td>NaN</td>\n",
       "      <td>NaN</td>\n",
       "      <td>NaN</td>\n",
       "      <td>NaN</td>\n",
       "      <td>NaN</td>\n",
       "      <td>NaN</td>\n",
       "      <td>NaN</td>\n",
       "      <td>NaN</td>\n",
       "      <td>NaN</td>\n",
       "      <td>NaN</td>\n",
       "      <td>...</td>\n",
       "      <td>NaN</td>\n",
       "      <td>NaN</td>\n",
       "      <td>NaN</td>\n",
       "      <td>NaN</td>\n",
       "      <td>NaN</td>\n",
       "      <td>NaN</td>\n",
       "      <td>NaN</td>\n",
       "      <td>NaN</td>\n",
       "      <td>NaN</td>\n",
       "      <td>NaN</td>\n",
       "    </tr>\n",
       "    <tr>\n",
       "      <th>New Visitors Exists</th>\n",
       "      <td>NaN</td>\n",
       "      <td>NaN</td>\n",
       "      <td>NaN</td>\n",
       "      <td>1.000000</td>\n",
       "      <td>-1.000000</td>\n",
       "      <td>0.102019</td>\n",
       "      <td>NaN</td>\n",
       "      <td>NaN</td>\n",
       "      <td>NaN</td>\n",
       "      <td>-0.106616</td>\n",
       "      <td>...</td>\n",
       "      <td>NaN</td>\n",
       "      <td>-0.119334</td>\n",
       "      <td>NaN</td>\n",
       "      <td>NaN</td>\n",
       "      <td>NaN</td>\n",
       "      <td>NaN</td>\n",
       "      <td>NaN</td>\n",
       "      <td>NaN</td>\n",
       "      <td>NaN</td>\n",
       "      <td>NaN</td>\n",
       "    </tr>\n",
       "    <tr>\n",
       "      <th>Return Visitors Exists</th>\n",
       "      <td>NaN</td>\n",
       "      <td>NaN</td>\n",
       "      <td>NaN</td>\n",
       "      <td>-1.000000</td>\n",
       "      <td>1.000000</td>\n",
       "      <td>-0.102019</td>\n",
       "      <td>NaN</td>\n",
       "      <td>NaN</td>\n",
       "      <td>NaN</td>\n",
       "      <td>0.106616</td>\n",
       "      <td>...</td>\n",
       "      <td>NaN</td>\n",
       "      <td>0.119334</td>\n",
       "      <td>NaN</td>\n",
       "      <td>NaN</td>\n",
       "      <td>NaN</td>\n",
       "      <td>NaN</td>\n",
       "      <td>NaN</td>\n",
       "      <td>NaN</td>\n",
       "      <td>NaN</td>\n",
       "      <td>NaN</td>\n",
       "    </tr>\n",
       "    <tr>\n",
       "      <th>Enter from Office.com</th>\n",
       "      <td>NaN</td>\n",
       "      <td>NaN</td>\n",
       "      <td>NaN</td>\n",
       "      <td>0.102019</td>\n",
       "      <td>-0.102019</td>\n",
       "      <td>1.000000</td>\n",
       "      <td>-0.167090</td>\n",
       "      <td>-0.151973</td>\n",
       "      <td>-0.145235</td>\n",
       "      <td>-0.065987</td>\n",
       "      <td>...</td>\n",
       "      <td>0.064273</td>\n",
       "      <td>0.300324</td>\n",
       "      <td>NaN</td>\n",
       "      <td>NaN</td>\n",
       "      <td>0.061087</td>\n",
       "      <td>NaN</td>\n",
       "      <td>0.084789</td>\n",
       "      <td>NaN</td>\n",
       "      <td>NaN</td>\n",
       "      <td>NaN</td>\n",
       "    </tr>\n",
       "    <tr>\n",
       "      <th>Enter from Store</th>\n",
       "      <td>NaN</td>\n",
       "      <td>NaN</td>\n",
       "      <td>NaN</td>\n",
       "      <td>NaN</td>\n",
       "      <td>NaN</td>\n",
       "      <td>-0.167090</td>\n",
       "      <td>1.000000</td>\n",
       "      <td>-0.501514</td>\n",
       "      <td>-0.069015</td>\n",
       "      <td>-0.204041</td>\n",
       "      <td>...</td>\n",
       "      <td>-0.117452</td>\n",
       "      <td>NaN</td>\n",
       "      <td>-0.089397</td>\n",
       "      <td>NaN</td>\n",
       "      <td>NaN</td>\n",
       "      <td>NaN</td>\n",
       "      <td>-0.066819</td>\n",
       "      <td>NaN</td>\n",
       "      <td>NaN</td>\n",
       "      <td>NaN</td>\n",
       "    </tr>\n",
       "    <tr>\n",
       "      <th>Enter from O365 Web</th>\n",
       "      <td>-0.072309</td>\n",
       "      <td>0.072309</td>\n",
       "      <td>NaN</td>\n",
       "      <td>NaN</td>\n",
       "      <td>NaN</td>\n",
       "      <td>-0.151973</td>\n",
       "      <td>-0.501514</td>\n",
       "      <td>1.000000</td>\n",
       "      <td>0.058968</td>\n",
       "      <td>-0.094253</td>\n",
       "      <td>...</td>\n",
       "      <td>0.068177</td>\n",
       "      <td>-0.071412</td>\n",
       "      <td>0.076280</td>\n",
       "      <td>NaN</td>\n",
       "      <td>NaN</td>\n",
       "      <td>NaN</td>\n",
       "      <td>NaN</td>\n",
       "      <td>NaN</td>\n",
       "      <td>0.051838</td>\n",
       "      <td>NaN</td>\n",
       "    </tr>\n",
       "    <tr>\n",
       "      <th>Traffic Channel O&amp;O</th>\n",
       "      <td>0.062655</td>\n",
       "      <td>-0.062655</td>\n",
       "      <td>NaN</td>\n",
       "      <td>NaN</td>\n",
       "      <td>NaN</td>\n",
       "      <td>-0.145235</td>\n",
       "      <td>-0.069015</td>\n",
       "      <td>0.058968</td>\n",
       "      <td>1.000000</td>\n",
       "      <td>-0.481125</td>\n",
       "      <td>...</td>\n",
       "      <td>0.080585</td>\n",
       "      <td>NaN</td>\n",
       "      <td>0.050434</td>\n",
       "      <td>NaN</td>\n",
       "      <td>NaN</td>\n",
       "      <td>NaN</td>\n",
       "      <td>NaN</td>\n",
       "      <td>0.184604</td>\n",
       "      <td>NaN</td>\n",
       "      <td>0.125369</td>\n",
       "    </tr>\n",
       "    <tr>\n",
       "      <th>Traffic Channel Direct</th>\n",
       "      <td>NaN</td>\n",
       "      <td>NaN</td>\n",
       "      <td>NaN</td>\n",
       "      <td>-0.106616</td>\n",
       "      <td>0.106616</td>\n",
       "      <td>-0.065987</td>\n",
       "      <td>-0.204041</td>\n",
       "      <td>-0.094253</td>\n",
       "      <td>-0.481125</td>\n",
       "      <td>1.000000</td>\n",
       "      <td>...</td>\n",
       "      <td>NaN</td>\n",
       "      <td>-0.129376</td>\n",
       "      <td>NaN</td>\n",
       "      <td>NaN</td>\n",
       "      <td>NaN</td>\n",
       "      <td>NaN</td>\n",
       "      <td>NaN</td>\n",
       "      <td>-0.061794</td>\n",
       "      <td>-0.081200</td>\n",
       "      <td>-0.076778</td>\n",
       "    </tr>\n",
       "    <tr>\n",
       "      <th>Traffic Channel Organic Search</th>\n",
       "      <td>-0.070216</td>\n",
       "      <td>0.070216</td>\n",
       "      <td>NaN</td>\n",
       "      <td>0.052257</td>\n",
       "      <td>-0.052257</td>\n",
       "      <td>0.429317</td>\n",
       "      <td>-0.087587</td>\n",
       "      <td>0.097071</td>\n",
       "      <td>-0.291422</td>\n",
       "      <td>-0.261082</td>\n",
       "      <td>...</td>\n",
       "      <td>NaN</td>\n",
       "      <td>0.182026</td>\n",
       "      <td>-0.054042</td>\n",
       "      <td>NaN</td>\n",
       "      <td>NaN</td>\n",
       "      <td>NaN</td>\n",
       "      <td>NaN</td>\n",
       "      <td>-0.083179</td>\n",
       "      <td>NaN</td>\n",
       "      <td>NaN</td>\n",
       "    </tr>\n",
       "    <tr>\n",
       "      <th>Traffic Channel Paid Search</th>\n",
       "      <td>NaN</td>\n",
       "      <td>NaN</td>\n",
       "      <td>NaN</td>\n",
       "      <td>0.134457</td>\n",
       "      <td>-0.134457</td>\n",
       "      <td>-0.109251</td>\n",
       "      <td>0.376227</td>\n",
       "      <td>-0.063458</td>\n",
       "      <td>-0.355804</td>\n",
       "      <td>-0.318761</td>\n",
       "      <td>...</td>\n",
       "      <td>-0.051087</td>\n",
       "      <td>-0.094360</td>\n",
       "      <td>NaN</td>\n",
       "      <td>NaN</td>\n",
       "      <td>-0.053617</td>\n",
       "      <td>NaN</td>\n",
       "      <td>NaN</td>\n",
       "      <td>-0.083007</td>\n",
       "      <td>0.127991</td>\n",
       "      <td>NaN</td>\n",
       "    </tr>\n",
       "    <tr>\n",
       "      <th>Time Spent per Visit (seconds)</th>\n",
       "      <td>0.090298</td>\n",
       "      <td>-0.090298</td>\n",
       "      <td>NaN</td>\n",
       "      <td>NaN</td>\n",
       "      <td>NaN</td>\n",
       "      <td>0.064273</td>\n",
       "      <td>-0.117452</td>\n",
       "      <td>0.068177</td>\n",
       "      <td>0.080585</td>\n",
       "      <td>NaN</td>\n",
       "      <td>...</td>\n",
       "      <td>1.000000</td>\n",
       "      <td>0.328375</td>\n",
       "      <td>0.540220</td>\n",
       "      <td>NaN</td>\n",
       "      <td>0.054187</td>\n",
       "      <td>NaN</td>\n",
       "      <td>0.157203</td>\n",
       "      <td>0.321802</td>\n",
       "      <td>0.141882</td>\n",
       "      <td>NaN</td>\n",
       "    </tr>\n",
       "    <tr>\n",
       "      <th>Average Time Spent on Page (seconds)</th>\n",
       "      <td>-0.052610</td>\n",
       "      <td>0.052610</td>\n",
       "      <td>NaN</td>\n",
       "      <td>-0.119334</td>\n",
       "      <td>0.119334</td>\n",
       "      <td>0.300324</td>\n",
       "      <td>NaN</td>\n",
       "      <td>-0.071412</td>\n",
       "      <td>NaN</td>\n",
       "      <td>-0.129376</td>\n",
       "      <td>...</td>\n",
       "      <td>0.328375</td>\n",
       "      <td>1.000000</td>\n",
       "      <td>-0.057277</td>\n",
       "      <td>NaN</td>\n",
       "      <td>0.361428</td>\n",
       "      <td>NaN</td>\n",
       "      <td>0.347418</td>\n",
       "      <td>-0.148958</td>\n",
       "      <td>-0.062217</td>\n",
       "      <td>NaN</td>\n",
       "    </tr>\n",
       "    <tr>\n",
       "      <th>Link Clicks</th>\n",
       "      <td>0.104822</td>\n",
       "      <td>-0.104822</td>\n",
       "      <td>NaN</td>\n",
       "      <td>NaN</td>\n",
       "      <td>NaN</td>\n",
       "      <td>NaN</td>\n",
       "      <td>-0.089397</td>\n",
       "      <td>0.076280</td>\n",
       "      <td>0.050434</td>\n",
       "      <td>NaN</td>\n",
       "      <td>...</td>\n",
       "      <td>0.540220</td>\n",
       "      <td>-0.057277</td>\n",
       "      <td>1.000000</td>\n",
       "      <td>NaN</td>\n",
       "      <td>NaN</td>\n",
       "      <td>0.061723</td>\n",
       "      <td>NaN</td>\n",
       "      <td>0.407719</td>\n",
       "      <td>0.163289</td>\n",
       "      <td>0.052736</td>\n",
       "    </tr>\n",
       "    <tr>\n",
       "      <th>Link Clicks on tab-OverviewTab</th>\n",
       "      <td>NaN</td>\n",
       "      <td>NaN</td>\n",
       "      <td>NaN</td>\n",
       "      <td>NaN</td>\n",
       "      <td>NaN</td>\n",
       "      <td>NaN</td>\n",
       "      <td>NaN</td>\n",
       "      <td>NaN</td>\n",
       "      <td>NaN</td>\n",
       "      <td>NaN</td>\n",
       "      <td>...</td>\n",
       "      <td>NaN</td>\n",
       "      <td>NaN</td>\n",
       "      <td>NaN</td>\n",
       "      <td>NaN</td>\n",
       "      <td>NaN</td>\n",
       "      <td>NaN</td>\n",
       "      <td>NaN</td>\n",
       "      <td>NaN</td>\n",
       "      <td>NaN</td>\n",
       "      <td>NaN</td>\n",
       "    </tr>\n",
       "    <tr>\n",
       "      <th>Link Clicks on tab-TechSpecsTab</th>\n",
       "      <td>0.054313</td>\n",
       "      <td>-0.054313</td>\n",
       "      <td>NaN</td>\n",
       "      <td>NaN</td>\n",
       "      <td>NaN</td>\n",
       "      <td>0.061087</td>\n",
       "      <td>NaN</td>\n",
       "      <td>NaN</td>\n",
       "      <td>NaN</td>\n",
       "      <td>NaN</td>\n",
       "      <td>...</td>\n",
       "      <td>0.054187</td>\n",
       "      <td>0.361428</td>\n",
       "      <td>NaN</td>\n",
       "      <td>NaN</td>\n",
       "      <td>1.000000</td>\n",
       "      <td>0.284021</td>\n",
       "      <td>0.402476</td>\n",
       "      <td>0.078786</td>\n",
       "      <td>NaN</td>\n",
       "      <td>-0.052793</td>\n",
       "    </tr>\n",
       "    <tr>\n",
       "      <th>Link Clicks on tab-ReviewsTab</th>\n",
       "      <td>NaN</td>\n",
       "      <td>NaN</td>\n",
       "      <td>NaN</td>\n",
       "      <td>NaN</td>\n",
       "      <td>NaN</td>\n",
       "      <td>NaN</td>\n",
       "      <td>NaN</td>\n",
       "      <td>NaN</td>\n",
       "      <td>NaN</td>\n",
       "      <td>NaN</td>\n",
       "      <td>...</td>\n",
       "      <td>NaN</td>\n",
       "      <td>NaN</td>\n",
       "      <td>0.061723</td>\n",
       "      <td>NaN</td>\n",
       "      <td>0.284021</td>\n",
       "      <td>1.000000</td>\n",
       "      <td>0.349997</td>\n",
       "      <td>0.131762</td>\n",
       "      <td>NaN</td>\n",
       "      <td>NaN</td>\n",
       "    </tr>\n",
       "    <tr>\n",
       "      <th>Link Clicks on tab-FAQTab</th>\n",
       "      <td>NaN</td>\n",
       "      <td>NaN</td>\n",
       "      <td>NaN</td>\n",
       "      <td>NaN</td>\n",
       "      <td>NaN</td>\n",
       "      <td>0.084789</td>\n",
       "      <td>-0.066819</td>\n",
       "      <td>NaN</td>\n",
       "      <td>NaN</td>\n",
       "      <td>NaN</td>\n",
       "      <td>...</td>\n",
       "      <td>0.157203</td>\n",
       "      <td>0.347418</td>\n",
       "      <td>NaN</td>\n",
       "      <td>NaN</td>\n",
       "      <td>0.402476</td>\n",
       "      <td>0.349997</td>\n",
       "      <td>1.000000</td>\n",
       "      <td>NaN</td>\n",
       "      <td>NaN</td>\n",
       "      <td>NaN</td>\n",
       "    </tr>\n",
       "    <tr>\n",
       "      <th>Link Clicks on AddToCartButton</th>\n",
       "      <td>0.135899</td>\n",
       "      <td>-0.135899</td>\n",
       "      <td>NaN</td>\n",
       "      <td>NaN</td>\n",
       "      <td>NaN</td>\n",
       "      <td>NaN</td>\n",
       "      <td>NaN</td>\n",
       "      <td>NaN</td>\n",
       "      <td>0.184604</td>\n",
       "      <td>-0.061794</td>\n",
       "      <td>...</td>\n",
       "      <td>0.321802</td>\n",
       "      <td>-0.148958</td>\n",
       "      <td>0.407719</td>\n",
       "      <td>NaN</td>\n",
       "      <td>0.078786</td>\n",
       "      <td>0.131762</td>\n",
       "      <td>NaN</td>\n",
       "      <td>1.000000</td>\n",
       "      <td>NaN</td>\n",
       "      <td>0.095640</td>\n",
       "    </tr>\n",
       "    <tr>\n",
       "      <th>Link Clicks on Try Link</th>\n",
       "      <td>-0.125461</td>\n",
       "      <td>0.125461</td>\n",
       "      <td>NaN</td>\n",
       "      <td>NaN</td>\n",
       "      <td>NaN</td>\n",
       "      <td>NaN</td>\n",
       "      <td>NaN</td>\n",
       "      <td>0.051838</td>\n",
       "      <td>NaN</td>\n",
       "      <td>-0.081200</td>\n",
       "      <td>...</td>\n",
       "      <td>0.141882</td>\n",
       "      <td>-0.062217</td>\n",
       "      <td>0.163289</td>\n",
       "      <td>NaN</td>\n",
       "      <td>NaN</td>\n",
       "      <td>NaN</td>\n",
       "      <td>NaN</td>\n",
       "      <td>NaN</td>\n",
       "      <td>1.000000</td>\n",
       "      <td>-0.112469</td>\n",
       "    </tr>\n",
       "    <tr>\n",
       "      <th>RPV</th>\n",
       "      <td>0.409723</td>\n",
       "      <td>-0.409723</td>\n",
       "      <td>NaN</td>\n",
       "      <td>NaN</td>\n",
       "      <td>NaN</td>\n",
       "      <td>NaN</td>\n",
       "      <td>NaN</td>\n",
       "      <td>NaN</td>\n",
       "      <td>0.125369</td>\n",
       "      <td>-0.076778</td>\n",
       "      <td>...</td>\n",
       "      <td>NaN</td>\n",
       "      <td>NaN</td>\n",
       "      <td>0.052736</td>\n",
       "      <td>NaN</td>\n",
       "      <td>-0.052793</td>\n",
       "      <td>NaN</td>\n",
       "      <td>NaN</td>\n",
       "      <td>0.095640</td>\n",
       "      <td>-0.112469</td>\n",
       "      <td>1.000000</td>\n",
       "    </tr>\n",
       "  </tbody>\n",
       "</table>\n",
       "<p>22 rows × 22 columns</p>\n",
       "</div>"
      ],
      "text/plain": [
       "                                      Paid Orders Exists  Free Orders Exists  \\\n",
       "Paid Orders Exists                              1.000000           -1.000000   \n",
       "Free Orders Exists                             -1.000000            1.000000   \n",
       "Visits                                               NaN                 NaN   \n",
       "New Visitors Exists                                  NaN                 NaN   \n",
       "Return Visitors Exists                               NaN                 NaN   \n",
       "Enter from Office.com                                NaN                 NaN   \n",
       "Enter from Store                                     NaN                 NaN   \n",
       "Enter from O365 Web                            -0.072309            0.072309   \n",
       "Traffic Channel O&O                             0.062655           -0.062655   \n",
       "Traffic Channel Direct                               NaN                 NaN   \n",
       "Traffic Channel Organic Search                 -0.070216            0.070216   \n",
       "Traffic Channel Paid Search                          NaN                 NaN   \n",
       "Time Spent per Visit (seconds)                  0.090298           -0.090298   \n",
       "Average Time Spent on Page (seconds)           -0.052610            0.052610   \n",
       "Link Clicks                                     0.104822           -0.104822   \n",
       "Link Clicks on tab-OverviewTab                       NaN                 NaN   \n",
       "Link Clicks on tab-TechSpecsTab                 0.054313           -0.054313   \n",
       "Link Clicks on tab-ReviewsTab                        NaN                 NaN   \n",
       "Link Clicks on tab-FAQTab                            NaN                 NaN   \n",
       "Link Clicks on AddToCartButton                  0.135899           -0.135899   \n",
       "Link Clicks on Try Link                        -0.125461            0.125461   \n",
       "RPV                                             0.409723           -0.409723   \n",
       "\n",
       "                                      Visits  New Visitors Exists  \\\n",
       "Paid Orders Exists                       NaN                  NaN   \n",
       "Free Orders Exists                       NaN                  NaN   \n",
       "Visits                                   NaN                  NaN   \n",
       "New Visitors Exists                      NaN             1.000000   \n",
       "Return Visitors Exists                   NaN            -1.000000   \n",
       "Enter from Office.com                    NaN             0.102019   \n",
       "Enter from Store                         NaN                  NaN   \n",
       "Enter from O365 Web                      NaN                  NaN   \n",
       "Traffic Channel O&O                      NaN                  NaN   \n",
       "Traffic Channel Direct                   NaN            -0.106616   \n",
       "Traffic Channel Organic Search           NaN             0.052257   \n",
       "Traffic Channel Paid Search              NaN             0.134457   \n",
       "Time Spent per Visit (seconds)           NaN                  NaN   \n",
       "Average Time Spent on Page (seconds)     NaN            -0.119334   \n",
       "Link Clicks                              NaN                  NaN   \n",
       "Link Clicks on tab-OverviewTab           NaN                  NaN   \n",
       "Link Clicks on tab-TechSpecsTab          NaN                  NaN   \n",
       "Link Clicks on tab-ReviewsTab            NaN                  NaN   \n",
       "Link Clicks on tab-FAQTab                NaN                  NaN   \n",
       "Link Clicks on AddToCartButton           NaN                  NaN   \n",
       "Link Clicks on Try Link                  NaN                  NaN   \n",
       "RPV                                      NaN                  NaN   \n",
       "\n",
       "                                      Return Visitors Exists  \\\n",
       "Paid Orders Exists                                       NaN   \n",
       "Free Orders Exists                                       NaN   \n",
       "Visits                                                   NaN   \n",
       "New Visitors Exists                                -1.000000   \n",
       "Return Visitors Exists                              1.000000   \n",
       "Enter from Office.com                              -0.102019   \n",
       "Enter from Store                                         NaN   \n",
       "Enter from O365 Web                                      NaN   \n",
       "Traffic Channel O&O                                      NaN   \n",
       "Traffic Channel Direct                              0.106616   \n",
       "Traffic Channel Organic Search                     -0.052257   \n",
       "Traffic Channel Paid Search                        -0.134457   \n",
       "Time Spent per Visit (seconds)                           NaN   \n",
       "Average Time Spent on Page (seconds)                0.119334   \n",
       "Link Clicks                                              NaN   \n",
       "Link Clicks on tab-OverviewTab                           NaN   \n",
       "Link Clicks on tab-TechSpecsTab                          NaN   \n",
       "Link Clicks on tab-ReviewsTab                            NaN   \n",
       "Link Clicks on tab-FAQTab                                NaN   \n",
       "Link Clicks on AddToCartButton                           NaN   \n",
       "Link Clicks on Try Link                                  NaN   \n",
       "RPV                                                      NaN   \n",
       "\n",
       "                                      Enter from Office.com  Enter from Store  \\\n",
       "Paid Orders Exists                                      NaN               NaN   \n",
       "Free Orders Exists                                      NaN               NaN   \n",
       "Visits                                                  NaN               NaN   \n",
       "New Visitors Exists                                0.102019               NaN   \n",
       "Return Visitors Exists                            -0.102019               NaN   \n",
       "Enter from Office.com                              1.000000         -0.167090   \n",
       "Enter from Store                                  -0.167090          1.000000   \n",
       "Enter from O365 Web                               -0.151973         -0.501514   \n",
       "Traffic Channel O&O                               -0.145235         -0.069015   \n",
       "Traffic Channel Direct                            -0.065987         -0.204041   \n",
       "Traffic Channel Organic Search                     0.429317         -0.087587   \n",
       "Traffic Channel Paid Search                       -0.109251          0.376227   \n",
       "Time Spent per Visit (seconds)                     0.064273         -0.117452   \n",
       "Average Time Spent on Page (seconds)               0.300324               NaN   \n",
       "Link Clicks                                             NaN         -0.089397   \n",
       "Link Clicks on tab-OverviewTab                          NaN               NaN   \n",
       "Link Clicks on tab-TechSpecsTab                    0.061087               NaN   \n",
       "Link Clicks on tab-ReviewsTab                           NaN               NaN   \n",
       "Link Clicks on tab-FAQTab                          0.084789         -0.066819   \n",
       "Link Clicks on AddToCartButton                          NaN               NaN   \n",
       "Link Clicks on Try Link                                 NaN               NaN   \n",
       "RPV                                                     NaN               NaN   \n",
       "\n",
       "                                      Enter from O365 Web  \\\n",
       "Paid Orders Exists                              -0.072309   \n",
       "Free Orders Exists                               0.072309   \n",
       "Visits                                                NaN   \n",
       "New Visitors Exists                                   NaN   \n",
       "Return Visitors Exists                                NaN   \n",
       "Enter from Office.com                           -0.151973   \n",
       "Enter from Store                                -0.501514   \n",
       "Enter from O365 Web                              1.000000   \n",
       "Traffic Channel O&O                              0.058968   \n",
       "Traffic Channel Direct                          -0.094253   \n",
       "Traffic Channel Organic Search                   0.097071   \n",
       "Traffic Channel Paid Search                     -0.063458   \n",
       "Time Spent per Visit (seconds)                   0.068177   \n",
       "Average Time Spent on Page (seconds)            -0.071412   \n",
       "Link Clicks                                      0.076280   \n",
       "Link Clicks on tab-OverviewTab                        NaN   \n",
       "Link Clicks on tab-TechSpecsTab                       NaN   \n",
       "Link Clicks on tab-ReviewsTab                         NaN   \n",
       "Link Clicks on tab-FAQTab                             NaN   \n",
       "Link Clicks on AddToCartButton                        NaN   \n",
       "Link Clicks on Try Link                          0.051838   \n",
       "RPV                                                   NaN   \n",
       "\n",
       "                                      Traffic Channel O&O  \\\n",
       "Paid Orders Exists                               0.062655   \n",
       "Free Orders Exists                              -0.062655   \n",
       "Visits                                                NaN   \n",
       "New Visitors Exists                                   NaN   \n",
       "Return Visitors Exists                                NaN   \n",
       "Enter from Office.com                           -0.145235   \n",
       "Enter from Store                                -0.069015   \n",
       "Enter from O365 Web                              0.058968   \n",
       "Traffic Channel O&O                              1.000000   \n",
       "Traffic Channel Direct                          -0.481125   \n",
       "Traffic Channel Organic Search                  -0.291422   \n",
       "Traffic Channel Paid Search                     -0.355804   \n",
       "Time Spent per Visit (seconds)                   0.080585   \n",
       "Average Time Spent on Page (seconds)                  NaN   \n",
       "Link Clicks                                      0.050434   \n",
       "Link Clicks on tab-OverviewTab                        NaN   \n",
       "Link Clicks on tab-TechSpecsTab                       NaN   \n",
       "Link Clicks on tab-ReviewsTab                         NaN   \n",
       "Link Clicks on tab-FAQTab                             NaN   \n",
       "Link Clicks on AddToCartButton                   0.184604   \n",
       "Link Clicks on Try Link                               NaN   \n",
       "RPV                                              0.125369   \n",
       "\n",
       "                                      Traffic Channel Direct  ...  \\\n",
       "Paid Orders Exists                                       NaN  ...   \n",
       "Free Orders Exists                                       NaN  ...   \n",
       "Visits                                                   NaN  ...   \n",
       "New Visitors Exists                                -0.106616  ...   \n",
       "Return Visitors Exists                              0.106616  ...   \n",
       "Enter from Office.com                              -0.065987  ...   \n",
       "Enter from Store                                   -0.204041  ...   \n",
       "Enter from O365 Web                                -0.094253  ...   \n",
       "Traffic Channel O&O                                -0.481125  ...   \n",
       "Traffic Channel Direct                              1.000000  ...   \n",
       "Traffic Channel Organic Search                     -0.261082  ...   \n",
       "Traffic Channel Paid Search                        -0.318761  ...   \n",
       "Time Spent per Visit (seconds)                           NaN  ...   \n",
       "Average Time Spent on Page (seconds)               -0.129376  ...   \n",
       "Link Clicks                                              NaN  ...   \n",
       "Link Clicks on tab-OverviewTab                           NaN  ...   \n",
       "Link Clicks on tab-TechSpecsTab                          NaN  ...   \n",
       "Link Clicks on tab-ReviewsTab                            NaN  ...   \n",
       "Link Clicks on tab-FAQTab                                NaN  ...   \n",
       "Link Clicks on AddToCartButton                     -0.061794  ...   \n",
       "Link Clicks on Try Link                            -0.081200  ...   \n",
       "RPV                                                -0.076778  ...   \n",
       "\n",
       "                                      Time Spent per Visit (seconds)  \\\n",
       "Paid Orders Exists                                          0.090298   \n",
       "Free Orders Exists                                         -0.090298   \n",
       "Visits                                                           NaN   \n",
       "New Visitors Exists                                              NaN   \n",
       "Return Visitors Exists                                           NaN   \n",
       "Enter from Office.com                                       0.064273   \n",
       "Enter from Store                                           -0.117452   \n",
       "Enter from O365 Web                                         0.068177   \n",
       "Traffic Channel O&O                                         0.080585   \n",
       "Traffic Channel Direct                                           NaN   \n",
       "Traffic Channel Organic Search                                   NaN   \n",
       "Traffic Channel Paid Search                                -0.051087   \n",
       "Time Spent per Visit (seconds)                              1.000000   \n",
       "Average Time Spent on Page (seconds)                        0.328375   \n",
       "Link Clicks                                                 0.540220   \n",
       "Link Clicks on tab-OverviewTab                                   NaN   \n",
       "Link Clicks on tab-TechSpecsTab                             0.054187   \n",
       "Link Clicks on tab-ReviewsTab                                    NaN   \n",
       "Link Clicks on tab-FAQTab                                   0.157203   \n",
       "Link Clicks on AddToCartButton                              0.321802   \n",
       "Link Clicks on Try Link                                     0.141882   \n",
       "RPV                                                              NaN   \n",
       "\n",
       "                                      Average Time Spent on Page (seconds)  \\\n",
       "Paid Orders Exists                                               -0.052610   \n",
       "Free Orders Exists                                                0.052610   \n",
       "Visits                                                                 NaN   \n",
       "New Visitors Exists                                              -0.119334   \n",
       "Return Visitors Exists                                            0.119334   \n",
       "Enter from Office.com                                             0.300324   \n",
       "Enter from Store                                                       NaN   \n",
       "Enter from O365 Web                                              -0.071412   \n",
       "Traffic Channel O&O                                                    NaN   \n",
       "Traffic Channel Direct                                           -0.129376   \n",
       "Traffic Channel Organic Search                                    0.182026   \n",
       "Traffic Channel Paid Search                                      -0.094360   \n",
       "Time Spent per Visit (seconds)                                    0.328375   \n",
       "Average Time Spent on Page (seconds)                              1.000000   \n",
       "Link Clicks                                                      -0.057277   \n",
       "Link Clicks on tab-OverviewTab                                         NaN   \n",
       "Link Clicks on tab-TechSpecsTab                                   0.361428   \n",
       "Link Clicks on tab-ReviewsTab                                          NaN   \n",
       "Link Clicks on tab-FAQTab                                         0.347418   \n",
       "Link Clicks on AddToCartButton                                   -0.148958   \n",
       "Link Clicks on Try Link                                          -0.062217   \n",
       "RPV                                                                    NaN   \n",
       "\n",
       "                                      Link Clicks  \\\n",
       "Paid Orders Exists                       0.104822   \n",
       "Free Orders Exists                      -0.104822   \n",
       "Visits                                        NaN   \n",
       "New Visitors Exists                           NaN   \n",
       "Return Visitors Exists                        NaN   \n",
       "Enter from Office.com                         NaN   \n",
       "Enter from Store                        -0.089397   \n",
       "Enter from O365 Web                      0.076280   \n",
       "Traffic Channel O&O                      0.050434   \n",
       "Traffic Channel Direct                        NaN   \n",
       "Traffic Channel Organic Search          -0.054042   \n",
       "Traffic Channel Paid Search                   NaN   \n",
       "Time Spent per Visit (seconds)           0.540220   \n",
       "Average Time Spent on Page (seconds)    -0.057277   \n",
       "Link Clicks                              1.000000   \n",
       "Link Clicks on tab-OverviewTab                NaN   \n",
       "Link Clicks on tab-TechSpecsTab               NaN   \n",
       "Link Clicks on tab-ReviewsTab            0.061723   \n",
       "Link Clicks on tab-FAQTab                     NaN   \n",
       "Link Clicks on AddToCartButton           0.407719   \n",
       "Link Clicks on Try Link                  0.163289   \n",
       "RPV                                      0.052736   \n",
       "\n",
       "                                      Link Clicks on tab-OverviewTab  \\\n",
       "Paid Orders Exists                                               NaN   \n",
       "Free Orders Exists                                               NaN   \n",
       "Visits                                                           NaN   \n",
       "New Visitors Exists                                              NaN   \n",
       "Return Visitors Exists                                           NaN   \n",
       "Enter from Office.com                                            NaN   \n",
       "Enter from Store                                                 NaN   \n",
       "Enter from O365 Web                                              NaN   \n",
       "Traffic Channel O&O                                              NaN   \n",
       "Traffic Channel Direct                                           NaN   \n",
       "Traffic Channel Organic Search                                   NaN   \n",
       "Traffic Channel Paid Search                                      NaN   \n",
       "Time Spent per Visit (seconds)                                   NaN   \n",
       "Average Time Spent on Page (seconds)                             NaN   \n",
       "Link Clicks                                                      NaN   \n",
       "Link Clicks on tab-OverviewTab                                   NaN   \n",
       "Link Clicks on tab-TechSpecsTab                                  NaN   \n",
       "Link Clicks on tab-ReviewsTab                                    NaN   \n",
       "Link Clicks on tab-FAQTab                                        NaN   \n",
       "Link Clicks on AddToCartButton                                   NaN   \n",
       "Link Clicks on Try Link                                          NaN   \n",
       "RPV                                                              NaN   \n",
       "\n",
       "                                      Link Clicks on tab-TechSpecsTab  \\\n",
       "Paid Orders Exists                                           0.054313   \n",
       "Free Orders Exists                                          -0.054313   \n",
       "Visits                                                            NaN   \n",
       "New Visitors Exists                                               NaN   \n",
       "Return Visitors Exists                                            NaN   \n",
       "Enter from Office.com                                        0.061087   \n",
       "Enter from Store                                                  NaN   \n",
       "Enter from O365 Web                                               NaN   \n",
       "Traffic Channel O&O                                               NaN   \n",
       "Traffic Channel Direct                                            NaN   \n",
       "Traffic Channel Organic Search                                    NaN   \n",
       "Traffic Channel Paid Search                                 -0.053617   \n",
       "Time Spent per Visit (seconds)                               0.054187   \n",
       "Average Time Spent on Page (seconds)                         0.361428   \n",
       "Link Clicks                                                       NaN   \n",
       "Link Clicks on tab-OverviewTab                                    NaN   \n",
       "Link Clicks on tab-TechSpecsTab                              1.000000   \n",
       "Link Clicks on tab-ReviewsTab                                0.284021   \n",
       "Link Clicks on tab-FAQTab                                    0.402476   \n",
       "Link Clicks on AddToCartButton                               0.078786   \n",
       "Link Clicks on Try Link                                           NaN   \n",
       "RPV                                                         -0.052793   \n",
       "\n",
       "                                      Link Clicks on tab-ReviewsTab  \\\n",
       "Paid Orders Exists                                              NaN   \n",
       "Free Orders Exists                                              NaN   \n",
       "Visits                                                          NaN   \n",
       "New Visitors Exists                                             NaN   \n",
       "Return Visitors Exists                                          NaN   \n",
       "Enter from Office.com                                           NaN   \n",
       "Enter from Store                                                NaN   \n",
       "Enter from O365 Web                                             NaN   \n",
       "Traffic Channel O&O                                             NaN   \n",
       "Traffic Channel Direct                                          NaN   \n",
       "Traffic Channel Organic Search                                  NaN   \n",
       "Traffic Channel Paid Search                                     NaN   \n",
       "Time Spent per Visit (seconds)                                  NaN   \n",
       "Average Time Spent on Page (seconds)                            NaN   \n",
       "Link Clicks                                                0.061723   \n",
       "Link Clicks on tab-OverviewTab                                  NaN   \n",
       "Link Clicks on tab-TechSpecsTab                            0.284021   \n",
       "Link Clicks on tab-ReviewsTab                              1.000000   \n",
       "Link Clicks on tab-FAQTab                                  0.349997   \n",
       "Link Clicks on AddToCartButton                             0.131762   \n",
       "Link Clicks on Try Link                                         NaN   \n",
       "RPV                                                             NaN   \n",
       "\n",
       "                                      Link Clicks on tab-FAQTab  \\\n",
       "Paid Orders Exists                                          NaN   \n",
       "Free Orders Exists                                          NaN   \n",
       "Visits                                                      NaN   \n",
       "New Visitors Exists                                         NaN   \n",
       "Return Visitors Exists                                      NaN   \n",
       "Enter from Office.com                                  0.084789   \n",
       "Enter from Store                                      -0.066819   \n",
       "Enter from O365 Web                                         NaN   \n",
       "Traffic Channel O&O                                         NaN   \n",
       "Traffic Channel Direct                                      NaN   \n",
       "Traffic Channel Organic Search                              NaN   \n",
       "Traffic Channel Paid Search                                 NaN   \n",
       "Time Spent per Visit (seconds)                         0.157203   \n",
       "Average Time Spent on Page (seconds)                   0.347418   \n",
       "Link Clicks                                                 NaN   \n",
       "Link Clicks on tab-OverviewTab                              NaN   \n",
       "Link Clicks on tab-TechSpecsTab                        0.402476   \n",
       "Link Clicks on tab-ReviewsTab                          0.349997   \n",
       "Link Clicks on tab-FAQTab                              1.000000   \n",
       "Link Clicks on AddToCartButton                              NaN   \n",
       "Link Clicks on Try Link                                     NaN   \n",
       "RPV                                                         NaN   \n",
       "\n",
       "                                      Link Clicks on AddToCartButton  \\\n",
       "Paid Orders Exists                                          0.135899   \n",
       "Free Orders Exists                                         -0.135899   \n",
       "Visits                                                           NaN   \n",
       "New Visitors Exists                                              NaN   \n",
       "Return Visitors Exists                                           NaN   \n",
       "Enter from Office.com                                            NaN   \n",
       "Enter from Store                                                 NaN   \n",
       "Enter from O365 Web                                              NaN   \n",
       "Traffic Channel O&O                                         0.184604   \n",
       "Traffic Channel Direct                                     -0.061794   \n",
       "Traffic Channel Organic Search                             -0.083179   \n",
       "Traffic Channel Paid Search                                -0.083007   \n",
       "Time Spent per Visit (seconds)                              0.321802   \n",
       "Average Time Spent on Page (seconds)                       -0.148958   \n",
       "Link Clicks                                                 0.407719   \n",
       "Link Clicks on tab-OverviewTab                                   NaN   \n",
       "Link Clicks on tab-TechSpecsTab                             0.078786   \n",
       "Link Clicks on tab-ReviewsTab                               0.131762   \n",
       "Link Clicks on tab-FAQTab                                        NaN   \n",
       "Link Clicks on AddToCartButton                              1.000000   \n",
       "Link Clicks on Try Link                                          NaN   \n",
       "RPV                                                         0.095640   \n",
       "\n",
       "                                      Link Clicks on Try Link       RPV  \n",
       "Paid Orders Exists                                  -0.125461  0.409723  \n",
       "Free Orders Exists                                   0.125461 -0.409723  \n",
       "Visits                                                    NaN       NaN  \n",
       "New Visitors Exists                                       NaN       NaN  \n",
       "Return Visitors Exists                                    NaN       NaN  \n",
       "Enter from Office.com                                     NaN       NaN  \n",
       "Enter from Store                                          NaN       NaN  \n",
       "Enter from O365 Web                                  0.051838       NaN  \n",
       "Traffic Channel O&O                                       NaN  0.125369  \n",
       "Traffic Channel Direct                              -0.081200 -0.076778  \n",
       "Traffic Channel Organic Search                            NaN       NaN  \n",
       "Traffic Channel Paid Search                          0.127991       NaN  \n",
       "Time Spent per Visit (seconds)                       0.141882       NaN  \n",
       "Average Time Spent on Page (seconds)                -0.062217       NaN  \n",
       "Link Clicks                                          0.163289  0.052736  \n",
       "Link Clicks on tab-OverviewTab                            NaN       NaN  \n",
       "Link Clicks on tab-TechSpecsTab                           NaN -0.052793  \n",
       "Link Clicks on tab-ReviewsTab                             NaN       NaN  \n",
       "Link Clicks on tab-FAQTab                                 NaN       NaN  \n",
       "Link Clicks on AddToCartButton                            NaN  0.095640  \n",
       "Link Clicks on Try Link                              1.000000 -0.112469  \n",
       "RPV                                                 -0.112469  1.000000  \n",
       "\n",
       "[22 rows x 22 columns]"
      ]
     },
     "execution_count": 57,
     "metadata": {},
     "output_type": "execute_result"
    }
   ],
   "source": [
    "( df_corr[(df_corr>0.05) | (df_corr<-0.05)])"
   ]
  },
  {
   "cell_type": "markdown",
   "metadata": {},
   "source": [
    "## Date Preparation from Buy+Try Rows"
   ]
  },
  {
   "cell_type": "markdown",
   "metadata": {},
   "source": [
    "### Remove correlated columns before feature engineering"
   ]
  },
  {
   "cell_type": "code",
   "execution_count": 58,
   "metadata": {},
   "outputs": [
    {
     "data": {
      "text/plain": [
       "(500, 23)"
      ]
     },
     "execution_count": 58,
     "metadata": {},
     "output_type": "execute_result"
    }
   ],
   "source": [
    "df_buy_try_temp = df\n",
    "df_buy_try_temp.shape"
   ]
  },
  {
   "cell_type": "code",
   "execution_count": 59,
   "metadata": {},
   "outputs": [
    {
     "data": {
      "text/html": [
       "<div>\n",
       "<style scoped>\n",
       "    .dataframe tbody tr th:only-of-type {\n",
       "        vertical-align: middle;\n",
       "    }\n",
       "\n",
       "    .dataframe tbody tr th {\n",
       "        vertical-align: top;\n",
       "    }\n",
       "\n",
       "    .dataframe thead th {\n",
       "        text-align: right;\n",
       "    }\n",
       "</style>\n",
       "<table border=\"1\" class=\"dataframe\">\n",
       "  <thead>\n",
       "    <tr style=\"text-align: right;\">\n",
       "      <th></th>\n",
       "      <th>MC1ID</th>\n",
       "      <th>Paid Orders Exists</th>\n",
       "      <th>Free Orders Exists</th>\n",
       "      <th>Visits</th>\n",
       "      <th>New Visitors Exists</th>\n",
       "      <th>Return Visitors Exists</th>\n",
       "      <th>Enter from Office.com</th>\n",
       "      <th>Enter from Store</th>\n",
       "      <th>Enter from O365 Web</th>\n",
       "      <th>Traffic Channel O&amp;O</th>\n",
       "      <th>...</th>\n",
       "      <th>Time Spent per Visit (seconds)</th>\n",
       "      <th>Average Time Spent on Page (seconds)</th>\n",
       "      <th>Link Clicks</th>\n",
       "      <th>Link Clicks on tab-OverviewTab</th>\n",
       "      <th>Link Clicks on tab-TechSpecsTab</th>\n",
       "      <th>Link Clicks on tab-ReviewsTab</th>\n",
       "      <th>Link Clicks on tab-FAQTab</th>\n",
       "      <th>Link Clicks on AddToCartButton</th>\n",
       "      <th>Link Clicks on Try Link</th>\n",
       "      <th>RPV</th>\n",
       "    </tr>\n",
       "  </thead>\n",
       "  <tbody>\n",
       "    <tr>\n",
       "      <th>1</th>\n",
       "      <td>dd23dfffa72e41de888cb7df3990b1d2</td>\n",
       "      <td>1.0</td>\n",
       "      <td>0.0</td>\n",
       "      <td>1.0</td>\n",
       "      <td>1.0</td>\n",
       "      <td>0.0</td>\n",
       "      <td>1.0</td>\n",
       "      <td>0.0</td>\n",
       "      <td>0.0</td>\n",
       "      <td>1.0</td>\n",
       "      <td>...</td>\n",
       "      <td>370.0</td>\n",
       "      <td>NaN</td>\n",
       "      <td>31.0</td>\n",
       "      <td>0</td>\n",
       "      <td>0</td>\n",
       "      <td>0</td>\n",
       "      <td>0</td>\n",
       "      <td>0</td>\n",
       "      <td>0</td>\n",
       "      <td>9.99</td>\n",
       "    </tr>\n",
       "    <tr>\n",
       "      <th>2</th>\n",
       "      <td>23676d54473c4bf5b8844b02cc5971a5</td>\n",
       "      <td>1.0</td>\n",
       "      <td>0.0</td>\n",
       "      <td>1.0</td>\n",
       "      <td>1.0</td>\n",
       "      <td>0.0</td>\n",
       "      <td>1.0</td>\n",
       "      <td>0.0</td>\n",
       "      <td>0.0</td>\n",
       "      <td>0.0</td>\n",
       "      <td>...</td>\n",
       "      <td>1440.0</td>\n",
       "      <td>72.0</td>\n",
       "      <td>56.0</td>\n",
       "      <td>0</td>\n",
       "      <td>0</td>\n",
       "      <td>0</td>\n",
       "      <td>0</td>\n",
       "      <td>0</td>\n",
       "      <td>0</td>\n",
       "      <td>55.00</td>\n",
       "    </tr>\n",
       "    <tr>\n",
       "      <th>3</th>\n",
       "      <td>efe1dd5a57f94ec585bca628a00dc1e5</td>\n",
       "      <td>1.0</td>\n",
       "      <td>0.0</td>\n",
       "      <td>1.0</td>\n",
       "      <td>1.0</td>\n",
       "      <td>0.0</td>\n",
       "      <td>1.0</td>\n",
       "      <td>0.0</td>\n",
       "      <td>0.0</td>\n",
       "      <td>0.0</td>\n",
       "      <td>...</td>\n",
       "      <td>242.0</td>\n",
       "      <td>NaN</td>\n",
       "      <td>42.0</td>\n",
       "      <td>0</td>\n",
       "      <td>0</td>\n",
       "      <td>0</td>\n",
       "      <td>0</td>\n",
       "      <td>0</td>\n",
       "      <td>0</td>\n",
       "      <td>149.99</td>\n",
       "    </tr>\n",
       "    <tr>\n",
       "      <th>4</th>\n",
       "      <td>6f018a3ff7e7486abb340d09d37385a9</td>\n",
       "      <td>1.0</td>\n",
       "      <td>0.0</td>\n",
       "      <td>1.0</td>\n",
       "      <td>1.0</td>\n",
       "      <td>0.0</td>\n",
       "      <td>1.0</td>\n",
       "      <td>0.0</td>\n",
       "      <td>0.0</td>\n",
       "      <td>0.0</td>\n",
       "      <td>...</td>\n",
       "      <td>NaN</td>\n",
       "      <td>NaN</td>\n",
       "      <td>1.0</td>\n",
       "      <td>0</td>\n",
       "      <td>0</td>\n",
       "      <td>0</td>\n",
       "      <td>0</td>\n",
       "      <td>0</td>\n",
       "      <td>0</td>\n",
       "      <td>6.99</td>\n",
       "    </tr>\n",
       "    <tr>\n",
       "      <th>5</th>\n",
       "      <td>1820d4fa82034ce7ba215ab9bc03b972</td>\n",
       "      <td>1.0</td>\n",
       "      <td>0.0</td>\n",
       "      <td>1.0</td>\n",
       "      <td>1.0</td>\n",
       "      <td>0.0</td>\n",
       "      <td>1.0</td>\n",
       "      <td>0.0</td>\n",
       "      <td>0.0</td>\n",
       "      <td>0.0</td>\n",
       "      <td>...</td>\n",
       "      <td>3630.0</td>\n",
       "      <td>15.0</td>\n",
       "      <td>50.0</td>\n",
       "      <td>0</td>\n",
       "      <td>0</td>\n",
       "      <td>0</td>\n",
       "      <td>0</td>\n",
       "      <td>1</td>\n",
       "      <td>0</td>\n",
       "      <td>9.99</td>\n",
       "    </tr>\n",
       "  </tbody>\n",
       "</table>\n",
       "<p>5 rows × 23 columns</p>\n",
       "</div>"
      ],
      "text/plain": [
       "                              MC1ID  Paid Orders Exists  Free Orders Exists  \\\n",
       "1  dd23dfffa72e41de888cb7df3990b1d2                 1.0                 0.0   \n",
       "2  23676d54473c4bf5b8844b02cc5971a5                 1.0                 0.0   \n",
       "3  efe1dd5a57f94ec585bca628a00dc1e5                 1.0                 0.0   \n",
       "4  6f018a3ff7e7486abb340d09d37385a9                 1.0                 0.0   \n",
       "5  1820d4fa82034ce7ba215ab9bc03b972                 1.0                 0.0   \n",
       "\n",
       "   Visits  New Visitors Exists  Return Visitors Exists  Enter from Office.com  \\\n",
       "1     1.0                  1.0                     0.0                    1.0   \n",
       "2     1.0                  1.0                     0.0                    1.0   \n",
       "3     1.0                  1.0                     0.0                    1.0   \n",
       "4     1.0                  1.0                     0.0                    1.0   \n",
       "5     1.0                  1.0                     0.0                    1.0   \n",
       "\n",
       "   Enter from Store  Enter from O365 Web  Traffic Channel O&O  ...  \\\n",
       "1               0.0                  0.0                  1.0  ...   \n",
       "2               0.0                  0.0                  0.0  ...   \n",
       "3               0.0                  0.0                  0.0  ...   \n",
       "4               0.0                  0.0                  0.0  ...   \n",
       "5               0.0                  0.0                  0.0  ...   \n",
       "\n",
       "   Time Spent per Visit (seconds)  Average Time Spent on Page (seconds)  \\\n",
       "1                           370.0                                   NaN   \n",
       "2                          1440.0                                  72.0   \n",
       "3                           242.0                                   NaN   \n",
       "4                             NaN                                   NaN   \n",
       "5                          3630.0                                  15.0   \n",
       "\n",
       "   Link Clicks  Link Clicks on tab-OverviewTab  \\\n",
       "1         31.0                               0   \n",
       "2         56.0                               0   \n",
       "3         42.0                               0   \n",
       "4          1.0                               0   \n",
       "5         50.0                               0   \n",
       "\n",
       "   Link Clicks on tab-TechSpecsTab  Link Clicks on tab-ReviewsTab  \\\n",
       "1                                0                              0   \n",
       "2                                0                              0   \n",
       "3                                0                              0   \n",
       "4                                0                              0   \n",
       "5                                0                              0   \n",
       "\n",
       "   Link Clicks on tab-FAQTab  Link Clicks on AddToCartButton  \\\n",
       "1                          0                               0   \n",
       "2                          0                               0   \n",
       "3                          0                               0   \n",
       "4                          0                               0   \n",
       "5                          0                               1   \n",
       "\n",
       "   Link Clicks on Try Link     RPV  \n",
       "1                        0    9.99  \n",
       "2                        0   55.00  \n",
       "3                        0  149.99  \n",
       "4                        0    6.99  \n",
       "5                        0    9.99  \n",
       "\n",
       "[5 rows x 23 columns]"
      ]
     },
     "execution_count": 59,
     "metadata": {},
     "output_type": "execute_result"
    }
   ],
   "source": [
    "df_buy_try_temp.head()"
   ]
  },
  {
   "cell_type": "code",
   "execution_count": 60,
   "metadata": {},
   "outputs": [
    {
     "data": {
      "text/html": [
       "<div>\n",
       "<style scoped>\n",
       "    .dataframe tbody tr th:only-of-type {\n",
       "        vertical-align: middle;\n",
       "    }\n",
       "\n",
       "    .dataframe tbody tr th {\n",
       "        vertical-align: top;\n",
       "    }\n",
       "\n",
       "    .dataframe thead th {\n",
       "        text-align: right;\n",
       "    }\n",
       "</style>\n",
       "<table border=\"1\" class=\"dataframe\">\n",
       "  <thead>\n",
       "    <tr style=\"text-align: right;\">\n",
       "      <th></th>\n",
       "      <th>Paid Orders Exists</th>\n",
       "      <th>New Visitors Exists</th>\n",
       "      <th>Enter from Office.com</th>\n",
       "      <th>Enter from Store</th>\n",
       "      <th>Enter from O365 Web</th>\n",
       "      <th>Traffic Channel O&amp;O</th>\n",
       "      <th>Traffic Channel Direct</th>\n",
       "      <th>Traffic Channel Organic Search</th>\n",
       "      <th>Traffic Channel Paid Search</th>\n",
       "      <th>Time Spent per Visit (seconds)</th>\n",
       "      <th>Average Time Spent on Page (seconds)</th>\n",
       "      <th>Link Clicks</th>\n",
       "      <th>Link Clicks on tab-TechSpecsTab</th>\n",
       "      <th>Link Clicks on tab-ReviewsTab</th>\n",
       "      <th>Link Clicks on tab-FAQTab</th>\n",
       "      <th>Link Clicks on AddToCartButton</th>\n",
       "      <th>Link Clicks on Try Link</th>\n",
       "    </tr>\n",
       "  </thead>\n",
       "  <tbody>\n",
       "    <tr>\n",
       "      <th>1</th>\n",
       "      <td>1.0</td>\n",
       "      <td>1.0</td>\n",
       "      <td>1.0</td>\n",
       "      <td>0.0</td>\n",
       "      <td>0.0</td>\n",
       "      <td>1.0</td>\n",
       "      <td>0.0</td>\n",
       "      <td>0.0</td>\n",
       "      <td>0.0</td>\n",
       "      <td>370.0</td>\n",
       "      <td>NaN</td>\n",
       "      <td>31.0</td>\n",
       "      <td>0</td>\n",
       "      <td>0</td>\n",
       "      <td>0</td>\n",
       "      <td>0</td>\n",
       "      <td>0</td>\n",
       "    </tr>\n",
       "    <tr>\n",
       "      <th>2</th>\n",
       "      <td>1.0</td>\n",
       "      <td>1.0</td>\n",
       "      <td>1.0</td>\n",
       "      <td>0.0</td>\n",
       "      <td>0.0</td>\n",
       "      <td>0.0</td>\n",
       "      <td>1.0</td>\n",
       "      <td>0.0</td>\n",
       "      <td>0.0</td>\n",
       "      <td>1440.0</td>\n",
       "      <td>72.0</td>\n",
       "      <td>56.0</td>\n",
       "      <td>0</td>\n",
       "      <td>0</td>\n",
       "      <td>0</td>\n",
       "      <td>0</td>\n",
       "      <td>0</td>\n",
       "    </tr>\n",
       "    <tr>\n",
       "      <th>3</th>\n",
       "      <td>1.0</td>\n",
       "      <td>1.0</td>\n",
       "      <td>1.0</td>\n",
       "      <td>0.0</td>\n",
       "      <td>0.0</td>\n",
       "      <td>0.0</td>\n",
       "      <td>1.0</td>\n",
       "      <td>0.0</td>\n",
       "      <td>0.0</td>\n",
       "      <td>242.0</td>\n",
       "      <td>NaN</td>\n",
       "      <td>42.0</td>\n",
       "      <td>0</td>\n",
       "      <td>0</td>\n",
       "      <td>0</td>\n",
       "      <td>0</td>\n",
       "      <td>0</td>\n",
       "    </tr>\n",
       "    <tr>\n",
       "      <th>4</th>\n",
       "      <td>1.0</td>\n",
       "      <td>1.0</td>\n",
       "      <td>1.0</td>\n",
       "      <td>0.0</td>\n",
       "      <td>0.0</td>\n",
       "      <td>0.0</td>\n",
       "      <td>1.0</td>\n",
       "      <td>0.0</td>\n",
       "      <td>0.0</td>\n",
       "      <td>NaN</td>\n",
       "      <td>NaN</td>\n",
       "      <td>1.0</td>\n",
       "      <td>0</td>\n",
       "      <td>0</td>\n",
       "      <td>0</td>\n",
       "      <td>0</td>\n",
       "      <td>0</td>\n",
       "    </tr>\n",
       "    <tr>\n",
       "      <th>5</th>\n",
       "      <td>1.0</td>\n",
       "      <td>1.0</td>\n",
       "      <td>1.0</td>\n",
       "      <td>0.0</td>\n",
       "      <td>0.0</td>\n",
       "      <td>0.0</td>\n",
       "      <td>0.0</td>\n",
       "      <td>1.0</td>\n",
       "      <td>0.0</td>\n",
       "      <td>3630.0</td>\n",
       "      <td>15.0</td>\n",
       "      <td>50.0</td>\n",
       "      <td>0</td>\n",
       "      <td>0</td>\n",
       "      <td>0</td>\n",
       "      <td>1</td>\n",
       "      <td>0</td>\n",
       "    </tr>\n",
       "  </tbody>\n",
       "</table>\n",
       "</div>"
      ],
      "text/plain": [
       "   Paid Orders Exists  New Visitors Exists  Enter from Office.com  \\\n",
       "1                 1.0                  1.0                    1.0   \n",
       "2                 1.0                  1.0                    1.0   \n",
       "3                 1.0                  1.0                    1.0   \n",
       "4                 1.0                  1.0                    1.0   \n",
       "5                 1.0                  1.0                    1.0   \n",
       "\n",
       "   Enter from Store  Enter from O365 Web  Traffic Channel O&O  \\\n",
       "1               0.0                  0.0                  1.0   \n",
       "2               0.0                  0.0                  0.0   \n",
       "3               0.0                  0.0                  0.0   \n",
       "4               0.0                  0.0                  0.0   \n",
       "5               0.0                  0.0                  0.0   \n",
       "\n",
       "   Traffic Channel Direct  Traffic Channel Organic Search  \\\n",
       "1                     0.0                             0.0   \n",
       "2                     1.0                             0.0   \n",
       "3                     1.0                             0.0   \n",
       "4                     1.0                             0.0   \n",
       "5                     0.0                             1.0   \n",
       "\n",
       "   Traffic Channel Paid Search  Time Spent per Visit (seconds)  \\\n",
       "1                          0.0                           370.0   \n",
       "2                          0.0                          1440.0   \n",
       "3                          0.0                           242.0   \n",
       "4                          0.0                             NaN   \n",
       "5                          0.0                          3630.0   \n",
       "\n",
       "   Average Time Spent on Page (seconds)  Link Clicks  \\\n",
       "1                                   NaN         31.0   \n",
       "2                                  72.0         56.0   \n",
       "3                                   NaN         42.0   \n",
       "4                                   NaN          1.0   \n",
       "5                                  15.0         50.0   \n",
       "\n",
       "   Link Clicks on tab-TechSpecsTab  Link Clicks on tab-ReviewsTab  \\\n",
       "1                                0                              0   \n",
       "2                                0                              0   \n",
       "3                                0                              0   \n",
       "4                                0                              0   \n",
       "5                                0                              0   \n",
       "\n",
       "   Link Clicks on tab-FAQTab  Link Clicks on AddToCartButton  \\\n",
       "1                          0                               0   \n",
       "2                          0                               0   \n",
       "3                          0                               0   \n",
       "4                          0                               0   \n",
       "5                          0                               1   \n",
       "\n",
       "   Link Clicks on Try Link  \n",
       "1                        0  \n",
       "2                        0  \n",
       "3                        0  \n",
       "4                        0  \n",
       "5                        0  "
      ]
     },
     "execution_count": 60,
     "metadata": {},
     "output_type": "execute_result"
    }
   ],
   "source": [
    "## drop correlated cols\n",
    "cols_to_drop=['MC1ID','Free Orders Exists', 'Visits','Return Visitors Exists','Link Clicks on tab-OverviewTab', 'RPV']\n",
    "\n",
    "df_buy_try_prep = df_buy_try_temp.drop(cols_to_drop, axis=1)\n",
    "df_buy_try_prep.head()"
   ]
  },
  {
   "cell_type": "code",
   "execution_count": 61,
   "metadata": {},
   "outputs": [
    {
     "data": {
      "text/html": [
       "<div>\n",
       "<style scoped>\n",
       "    .dataframe tbody tr th:only-of-type {\n",
       "        vertical-align: middle;\n",
       "    }\n",
       "\n",
       "    .dataframe tbody tr th {\n",
       "        vertical-align: top;\n",
       "    }\n",
       "\n",
       "    .dataframe thead th {\n",
       "        text-align: right;\n",
       "    }\n",
       "</style>\n",
       "<table border=\"1\" class=\"dataframe\">\n",
       "  <thead>\n",
       "    <tr style=\"text-align: right;\">\n",
       "      <th></th>\n",
       "      <th>Time Spent per Visit (seconds)</th>\n",
       "      <th>Average Time Spent on Page (seconds)</th>\n",
       "      <th>Link Clicks</th>\n",
       "    </tr>\n",
       "  </thead>\n",
       "  <tbody>\n",
       "    <tr>\n",
       "      <th>1</th>\n",
       "      <td>370.0</td>\n",
       "      <td>NaN</td>\n",
       "      <td>31.0</td>\n",
       "    </tr>\n",
       "    <tr>\n",
       "      <th>2</th>\n",
       "      <td>1440.0</td>\n",
       "      <td>72.0</td>\n",
       "      <td>56.0</td>\n",
       "    </tr>\n",
       "    <tr>\n",
       "      <th>3</th>\n",
       "      <td>242.0</td>\n",
       "      <td>NaN</td>\n",
       "      <td>42.0</td>\n",
       "    </tr>\n",
       "    <tr>\n",
       "      <th>4</th>\n",
       "      <td>NaN</td>\n",
       "      <td>NaN</td>\n",
       "      <td>1.0</td>\n",
       "    </tr>\n",
       "    <tr>\n",
       "      <th>5</th>\n",
       "      <td>3630.0</td>\n",
       "      <td>15.0</td>\n",
       "      <td>50.0</td>\n",
       "    </tr>\n",
       "  </tbody>\n",
       "</table>\n",
       "</div>"
      ],
      "text/plain": [
       "   Time Spent per Visit (seconds)  Average Time Spent on Page (seconds)  \\\n",
       "1                           370.0                                   NaN   \n",
       "2                          1440.0                                  72.0   \n",
       "3                           242.0                                   NaN   \n",
       "4                             NaN                                   NaN   \n",
       "5                          3630.0                                  15.0   \n",
       "\n",
       "   Link Clicks  \n",
       "1         31.0  \n",
       "2         56.0  \n",
       "3         42.0  \n",
       "4          1.0  \n",
       "5         50.0  "
      ]
     },
     "execution_count": 61,
     "metadata": {},
     "output_type": "execute_result"
    }
   ],
   "source": [
    "# table continuous variables for Standard Scale\n",
    "cols_to_ss=['Time Spent per Visit (seconds)','Average Time Spent on Page (seconds)', 'Link Clicks']\n",
    "\n",
    "df_buy_try_no_cat = df_buy_try_prep[cols_to_ss]\n",
    "df_buy_try_no_cat.head()"
   ]
  },
  {
   "cell_type": "markdown",
   "metadata": {},
   "source": [
    "### Fill missing values with Mean"
   ]
  },
  {
   "cell_type": "code",
   "execution_count": 62,
   "metadata": {},
   "outputs": [
    {
     "name": "stderr",
     "output_type": "stream",
     "text": [
      "/Users/sulbha/anaconda3/lib/python3.7/site-packages/pandas/core/generic.py:6130: SettingWithCopyWarning: \n",
      "A value is trying to be set on a copy of a slice from a DataFrame\n",
      "\n",
      "See the caveats in the documentation: http://pandas.pydata.org/pandas-docs/stable/indexing.html#indexing-view-versus-copy\n",
      "  self._update_inplace(new_data)\n"
     ]
    },
    {
     "data": {
      "text/html": [
       "<div>\n",
       "<style scoped>\n",
       "    .dataframe tbody tr th:only-of-type {\n",
       "        vertical-align: middle;\n",
       "    }\n",
       "\n",
       "    .dataframe tbody tr th {\n",
       "        vertical-align: top;\n",
       "    }\n",
       "\n",
       "    .dataframe thead th {\n",
       "        text-align: right;\n",
       "    }\n",
       "</style>\n",
       "<table border=\"1\" class=\"dataframe\">\n",
       "  <thead>\n",
       "    <tr style=\"text-align: right;\">\n",
       "      <th></th>\n",
       "      <th>Time Spent per Visit (seconds)</th>\n",
       "      <th>Average Time Spent on Page (seconds)</th>\n",
       "      <th>Link Clicks</th>\n",
       "    </tr>\n",
       "  </thead>\n",
       "  <tbody>\n",
       "    <tr>\n",
       "      <th>1</th>\n",
       "      <td>370.000000</td>\n",
       "      <td>119.095161</td>\n",
       "      <td>31.0</td>\n",
       "    </tr>\n",
       "    <tr>\n",
       "      <th>2</th>\n",
       "      <td>1440.000000</td>\n",
       "      <td>72.000000</td>\n",
       "      <td>56.0</td>\n",
       "    </tr>\n",
       "    <tr>\n",
       "      <th>3</th>\n",
       "      <td>242.000000</td>\n",
       "      <td>119.095161</td>\n",
       "      <td>42.0</td>\n",
       "    </tr>\n",
       "    <tr>\n",
       "      <th>4</th>\n",
       "      <td>571.829876</td>\n",
       "      <td>119.095161</td>\n",
       "      <td>1.0</td>\n",
       "    </tr>\n",
       "    <tr>\n",
       "      <th>5</th>\n",
       "      <td>3630.000000</td>\n",
       "      <td>15.000000</td>\n",
       "      <td>50.0</td>\n",
       "    </tr>\n",
       "  </tbody>\n",
       "</table>\n",
       "</div>"
      ],
      "text/plain": [
       "   Time Spent per Visit (seconds)  Average Time Spent on Page (seconds)  \\\n",
       "1                      370.000000                            119.095161   \n",
       "2                     1440.000000                             72.000000   \n",
       "3                      242.000000                            119.095161   \n",
       "4                      571.829876                            119.095161   \n",
       "5                     3630.000000                             15.000000   \n",
       "\n",
       "   Link Clicks  \n",
       "1         31.0  \n",
       "2         56.0  \n",
       "3         42.0  \n",
       "4          1.0  \n",
       "5         50.0  "
      ]
     },
     "execution_count": 62,
     "metadata": {},
     "output_type": "execute_result"
    }
   ],
   "source": [
    "df_buy_try_no_cat.fillna(df_buy_try_no_cat.mean(), inplace=True)\n",
    "df_buy_try_no_cat.head()"
   ]
  },
  {
   "cell_type": "code",
   "execution_count": 63,
   "metadata": {},
   "outputs": [
    {
     "data": {
      "text/plain": [
       "(500, 3)"
      ]
     },
     "execution_count": 63,
     "metadata": {},
     "output_type": "execute_result"
    }
   ],
   "source": [
    "df_buy_try_no_cat.shape"
   ]
  },
  {
   "cell_type": "markdown",
   "metadata": {},
   "source": [
    "## Standard Scaler "
   ]
  },
  {
   "cell_type": "code",
   "execution_count": 64,
   "metadata": {},
   "outputs": [
    {
     "data": {
      "text/html": [
       "<div>\n",
       "<style scoped>\n",
       "    .dataframe tbody tr th:only-of-type {\n",
       "        vertical-align: middle;\n",
       "    }\n",
       "\n",
       "    .dataframe tbody tr th {\n",
       "        vertical-align: top;\n",
       "    }\n",
       "\n",
       "    .dataframe thead th {\n",
       "        text-align: right;\n",
       "    }\n",
       "</style>\n",
       "<table border=\"1\" class=\"dataframe\">\n",
       "  <thead>\n",
       "    <tr style=\"text-align: right;\">\n",
       "      <th></th>\n",
       "      <th>Time Spent per Visit (seconds)</th>\n",
       "      <th>Average Time Spent on Page (seconds)</th>\n",
       "      <th>Link Clicks</th>\n",
       "    </tr>\n",
       "  </thead>\n",
       "  <tbody>\n",
       "    <tr>\n",
       "      <th>0</th>\n",
       "      <td>-0.287570</td>\n",
       "      <td>-1.607611e-16</td>\n",
       "      <td>-0.014009</td>\n",
       "    </tr>\n",
       "    <tr>\n",
       "      <th>1</th>\n",
       "      <td>1.236983</td>\n",
       "      <td>-2.663834e-01</td>\n",
       "      <td>0.994120</td>\n",
       "    </tr>\n",
       "    <tr>\n",
       "      <th>2</th>\n",
       "      <td>-0.469947</td>\n",
       "      <td>-1.607611e-16</td>\n",
       "      <td>0.429568</td>\n",
       "    </tr>\n",
       "    <tr>\n",
       "      <th>3</th>\n",
       "      <td>0.000000</td>\n",
       "      <td>-1.607611e-16</td>\n",
       "      <td>-1.223763</td>\n",
       "    </tr>\n",
       "    <tr>\n",
       "      <th>4</th>\n",
       "      <td>4.357330</td>\n",
       "      <td>-5.887913e-01</td>\n",
       "      <td>0.752169</td>\n",
       "    </tr>\n",
       "  </tbody>\n",
       "</table>\n",
       "</div>"
      ],
      "text/plain": [
       "   Time Spent per Visit (seconds)  Average Time Spent on Page (seconds)  \\\n",
       "0                       -0.287570                         -1.607611e-16   \n",
       "1                        1.236983                         -2.663834e-01   \n",
       "2                       -0.469947                         -1.607611e-16   \n",
       "3                        0.000000                         -1.607611e-16   \n",
       "4                        4.357330                         -5.887913e-01   \n",
       "\n",
       "   Link Clicks  \n",
       "0    -0.014009  \n",
       "1     0.994120  \n",
       "2     0.429568  \n",
       "3    -1.223763  \n",
       "4     0.752169  "
      ]
     },
     "execution_count": 64,
     "metadata": {},
     "output_type": "execute_result"
    }
   ],
   "source": [
    "ss = StandardScaler()\n",
    "\n",
    "np_buy_try_tranform = ss.fit_transform(df_buy_try_no_cat)\n",
    "\n",
    "data = np_buy_try_tranform.tolist()\n",
    "cols_transform = df_buy_try_no_cat.columns\n",
    "df_buy_try_standard = pd.DataFrame(data,columns=cols_transform ) \n",
    "df_buy_try_standard.head()"
   ]
  },
  {
   "cell_type": "code",
   "execution_count": 65,
   "metadata": {},
   "outputs": [
    {
     "data": {
      "text/plain": [
       "(500, 3)"
      ]
     },
     "execution_count": 65,
     "metadata": {},
     "output_type": "execute_result"
    }
   ],
   "source": [
    "df_buy_try_standard.shape"
   ]
  },
  {
   "cell_type": "markdown",
   "metadata": {},
   "source": [
    "## append categorical back to scaler"
   ]
  },
  {
   "cell_type": "code",
   "execution_count": 66,
   "metadata": {},
   "outputs": [
    {
     "data": {
      "text/html": [
       "<div>\n",
       "<style scoped>\n",
       "    .dataframe tbody tr th:only-of-type {\n",
       "        vertical-align: middle;\n",
       "    }\n",
       "\n",
       "    .dataframe tbody tr th {\n",
       "        vertical-align: top;\n",
       "    }\n",
       "\n",
       "    .dataframe thead th {\n",
       "        text-align: right;\n",
       "    }\n",
       "</style>\n",
       "<table border=\"1\" class=\"dataframe\">\n",
       "  <thead>\n",
       "    <tr style=\"text-align: right;\">\n",
       "      <th></th>\n",
       "      <th>Time Spent per Visit (seconds)</th>\n",
       "      <th>Average Time Spent on Page (seconds)</th>\n",
       "      <th>Link Clicks</th>\n",
       "      <th>New Visitors Exists</th>\n",
       "      <th>Enter from Office.com</th>\n",
       "      <th>Enter from Store</th>\n",
       "      <th>Enter from O365 Web</th>\n",
       "      <th>Traffic Channel O&amp;O</th>\n",
       "      <th>Traffic Channel Direct</th>\n",
       "      <th>Traffic Channel Organic Search</th>\n",
       "      <th>Traffic Channel Paid Search</th>\n",
       "      <th>Link Clicks on tab-TechSpecsTab</th>\n",
       "      <th>Link Clicks on tab-ReviewsTab</th>\n",
       "      <th>Link Clicks on tab-FAQTab</th>\n",
       "      <th>Link Clicks on AddToCartButton</th>\n",
       "      <th>Link Clicks on Try Link</th>\n",
       "    </tr>\n",
       "  </thead>\n",
       "  <tbody>\n",
       "    <tr>\n",
       "      <th>0</th>\n",
       "      <td>-0.287570</td>\n",
       "      <td>-1.607611e-16</td>\n",
       "      <td>-0.014009</td>\n",
       "      <td>NaN</td>\n",
       "      <td>NaN</td>\n",
       "      <td>NaN</td>\n",
       "      <td>NaN</td>\n",
       "      <td>NaN</td>\n",
       "      <td>NaN</td>\n",
       "      <td>NaN</td>\n",
       "      <td>NaN</td>\n",
       "      <td>NaN</td>\n",
       "      <td>NaN</td>\n",
       "      <td>NaN</td>\n",
       "      <td>NaN</td>\n",
       "      <td>NaN</td>\n",
       "    </tr>\n",
       "    <tr>\n",
       "      <th>1</th>\n",
       "      <td>1.236983</td>\n",
       "      <td>-2.663834e-01</td>\n",
       "      <td>0.994120</td>\n",
       "      <td>1.0</td>\n",
       "      <td>1.0</td>\n",
       "      <td>0.0</td>\n",
       "      <td>0.0</td>\n",
       "      <td>1.0</td>\n",
       "      <td>0.0</td>\n",
       "      <td>0.0</td>\n",
       "      <td>0.0</td>\n",
       "      <td>0.0</td>\n",
       "      <td>0.0</td>\n",
       "      <td>0.0</td>\n",
       "      <td>0.0</td>\n",
       "      <td>0.0</td>\n",
       "    </tr>\n",
       "    <tr>\n",
       "      <th>2</th>\n",
       "      <td>-0.469947</td>\n",
       "      <td>-1.607611e-16</td>\n",
       "      <td>0.429568</td>\n",
       "      <td>1.0</td>\n",
       "      <td>1.0</td>\n",
       "      <td>0.0</td>\n",
       "      <td>0.0</td>\n",
       "      <td>0.0</td>\n",
       "      <td>1.0</td>\n",
       "      <td>0.0</td>\n",
       "      <td>0.0</td>\n",
       "      <td>0.0</td>\n",
       "      <td>0.0</td>\n",
       "      <td>0.0</td>\n",
       "      <td>0.0</td>\n",
       "      <td>0.0</td>\n",
       "    </tr>\n",
       "    <tr>\n",
       "      <th>3</th>\n",
       "      <td>0.000000</td>\n",
       "      <td>-1.607611e-16</td>\n",
       "      <td>-1.223763</td>\n",
       "      <td>1.0</td>\n",
       "      <td>1.0</td>\n",
       "      <td>0.0</td>\n",
       "      <td>0.0</td>\n",
       "      <td>0.0</td>\n",
       "      <td>1.0</td>\n",
       "      <td>0.0</td>\n",
       "      <td>0.0</td>\n",
       "      <td>0.0</td>\n",
       "      <td>0.0</td>\n",
       "      <td>0.0</td>\n",
       "      <td>0.0</td>\n",
       "      <td>0.0</td>\n",
       "    </tr>\n",
       "    <tr>\n",
       "      <th>4</th>\n",
       "      <td>4.357330</td>\n",
       "      <td>-5.887913e-01</td>\n",
       "      <td>0.752169</td>\n",
       "      <td>1.0</td>\n",
       "      <td>1.0</td>\n",
       "      <td>0.0</td>\n",
       "      <td>0.0</td>\n",
       "      <td>0.0</td>\n",
       "      <td>1.0</td>\n",
       "      <td>0.0</td>\n",
       "      <td>0.0</td>\n",
       "      <td>0.0</td>\n",
       "      <td>0.0</td>\n",
       "      <td>0.0</td>\n",
       "      <td>0.0</td>\n",
       "      <td>0.0</td>\n",
       "    </tr>\n",
       "  </tbody>\n",
       "</table>\n",
       "</div>"
      ],
      "text/plain": [
       "   Time Spent per Visit (seconds)  Average Time Spent on Page (seconds)  \\\n",
       "0                       -0.287570                         -1.607611e-16   \n",
       "1                        1.236983                         -2.663834e-01   \n",
       "2                       -0.469947                         -1.607611e-16   \n",
       "3                        0.000000                         -1.607611e-16   \n",
       "4                        4.357330                         -5.887913e-01   \n",
       "\n",
       "   Link Clicks  New Visitors Exists  Enter from Office.com  Enter from Store  \\\n",
       "0    -0.014009                  NaN                    NaN               NaN   \n",
       "1     0.994120                  1.0                    1.0               0.0   \n",
       "2     0.429568                  1.0                    1.0               0.0   \n",
       "3    -1.223763                  1.0                    1.0               0.0   \n",
       "4     0.752169                  1.0                    1.0               0.0   \n",
       "\n",
       "   Enter from O365 Web  Traffic Channel O&O  Traffic Channel Direct  \\\n",
       "0                  NaN                  NaN                     NaN   \n",
       "1                  0.0                  1.0                     0.0   \n",
       "2                  0.0                  0.0                     1.0   \n",
       "3                  0.0                  0.0                     1.0   \n",
       "4                  0.0                  0.0                     1.0   \n",
       "\n",
       "   Traffic Channel Organic Search  Traffic Channel Paid Search  \\\n",
       "0                             NaN                          NaN   \n",
       "1                             0.0                          0.0   \n",
       "2                             0.0                          0.0   \n",
       "3                             0.0                          0.0   \n",
       "4                             0.0                          0.0   \n",
       "\n",
       "   Link Clicks on tab-TechSpecsTab  Link Clicks on tab-ReviewsTab  \\\n",
       "0                              NaN                            NaN   \n",
       "1                              0.0                            0.0   \n",
       "2                              0.0                            0.0   \n",
       "3                              0.0                            0.0   \n",
       "4                              0.0                            0.0   \n",
       "\n",
       "   Link Clicks on tab-FAQTab  Link Clicks on AddToCartButton  \\\n",
       "0                        NaN                             NaN   \n",
       "1                        0.0                             0.0   \n",
       "2                        0.0                             0.0   \n",
       "3                        0.0                             0.0   \n",
       "4                        0.0                             0.0   \n",
       "\n",
       "   Link Clicks on Try Link  \n",
       "0                      NaN  \n",
       "1                      0.0  \n",
       "2                      0.0  \n",
       "3                      0.0  \n",
       "4                      0.0  "
      ]
     },
     "execution_count": 66,
     "metadata": {},
     "output_type": "execute_result"
    }
   ],
   "source": [
    "# drop categorical variables\n",
    "cols_to_ss=['Time Spent per Visit (seconds)','Average Time Spent on Page (seconds)', 'Link Clicks']\n",
    "\n",
    "for c in df_buy_try_prep.columns:\n",
    "    if c not in cols_to_ss and c!='Paid Orders Exists':\n",
    "        df_buy_try_standard[c] = df_buy_try_prep[c]\n",
    "df_buy_try_standard.head()"
   ]
  },
  {
   "cell_type": "code",
   "execution_count": 67,
   "metadata": {},
   "outputs": [
    {
     "data": {
      "text/html": [
       "<div>\n",
       "<style scoped>\n",
       "    .dataframe tbody tr th:only-of-type {\n",
       "        vertical-align: middle;\n",
       "    }\n",
       "\n",
       "    .dataframe tbody tr th {\n",
       "        vertical-align: top;\n",
       "    }\n",
       "\n",
       "    .dataframe thead th {\n",
       "        text-align: right;\n",
       "    }\n",
       "</style>\n",
       "<table border=\"1\" class=\"dataframe\">\n",
       "  <thead>\n",
       "    <tr style=\"text-align: right;\">\n",
       "      <th></th>\n",
       "      <th>Time Spent per Visit (seconds)</th>\n",
       "      <th>Average Time Spent on Page (seconds)</th>\n",
       "      <th>Link Clicks</th>\n",
       "      <th>New Visitors Exists</th>\n",
       "      <th>Enter from Office.com</th>\n",
       "      <th>Enter from Store</th>\n",
       "      <th>Enter from O365 Web</th>\n",
       "      <th>Traffic Channel O&amp;O</th>\n",
       "      <th>Traffic Channel Direct</th>\n",
       "      <th>Traffic Channel Organic Search</th>\n",
       "      <th>Traffic Channel Paid Search</th>\n",
       "      <th>Link Clicks on tab-TechSpecsTab</th>\n",
       "      <th>Link Clicks on tab-ReviewsTab</th>\n",
       "      <th>Link Clicks on tab-FAQTab</th>\n",
       "      <th>Link Clicks on AddToCartButton</th>\n",
       "      <th>Link Clicks on Try Link</th>\n",
       "    </tr>\n",
       "  </thead>\n",
       "  <tbody>\n",
       "    <tr>\n",
       "      <th>0</th>\n",
       "      <td>-0.287570</td>\n",
       "      <td>-1.607611e-16</td>\n",
       "      <td>-0.014009</td>\n",
       "      <td>0.0</td>\n",
       "      <td>0.0</td>\n",
       "      <td>0.0</td>\n",
       "      <td>0.0</td>\n",
       "      <td>0.0</td>\n",
       "      <td>0.0</td>\n",
       "      <td>0.0</td>\n",
       "      <td>0.0</td>\n",
       "      <td>0.0</td>\n",
       "      <td>0.0</td>\n",
       "      <td>0.0</td>\n",
       "      <td>0.0</td>\n",
       "      <td>0.0</td>\n",
       "    </tr>\n",
       "    <tr>\n",
       "      <th>1</th>\n",
       "      <td>1.236983</td>\n",
       "      <td>-2.663834e-01</td>\n",
       "      <td>0.994120</td>\n",
       "      <td>1.0</td>\n",
       "      <td>1.0</td>\n",
       "      <td>0.0</td>\n",
       "      <td>0.0</td>\n",
       "      <td>1.0</td>\n",
       "      <td>0.0</td>\n",
       "      <td>0.0</td>\n",
       "      <td>0.0</td>\n",
       "      <td>0.0</td>\n",
       "      <td>0.0</td>\n",
       "      <td>0.0</td>\n",
       "      <td>0.0</td>\n",
       "      <td>0.0</td>\n",
       "    </tr>\n",
       "    <tr>\n",
       "      <th>2</th>\n",
       "      <td>-0.469947</td>\n",
       "      <td>-1.607611e-16</td>\n",
       "      <td>0.429568</td>\n",
       "      <td>1.0</td>\n",
       "      <td>1.0</td>\n",
       "      <td>0.0</td>\n",
       "      <td>0.0</td>\n",
       "      <td>0.0</td>\n",
       "      <td>1.0</td>\n",
       "      <td>0.0</td>\n",
       "      <td>0.0</td>\n",
       "      <td>0.0</td>\n",
       "      <td>0.0</td>\n",
       "      <td>0.0</td>\n",
       "      <td>0.0</td>\n",
       "      <td>0.0</td>\n",
       "    </tr>\n",
       "    <tr>\n",
       "      <th>3</th>\n",
       "      <td>0.000000</td>\n",
       "      <td>-1.607611e-16</td>\n",
       "      <td>-1.223763</td>\n",
       "      <td>1.0</td>\n",
       "      <td>1.0</td>\n",
       "      <td>0.0</td>\n",
       "      <td>0.0</td>\n",
       "      <td>0.0</td>\n",
       "      <td>1.0</td>\n",
       "      <td>0.0</td>\n",
       "      <td>0.0</td>\n",
       "      <td>0.0</td>\n",
       "      <td>0.0</td>\n",
       "      <td>0.0</td>\n",
       "      <td>0.0</td>\n",
       "      <td>0.0</td>\n",
       "    </tr>\n",
       "    <tr>\n",
       "      <th>4</th>\n",
       "      <td>4.357330</td>\n",
       "      <td>-5.887913e-01</td>\n",
       "      <td>0.752169</td>\n",
       "      <td>1.0</td>\n",
       "      <td>1.0</td>\n",
       "      <td>0.0</td>\n",
       "      <td>0.0</td>\n",
       "      <td>0.0</td>\n",
       "      <td>1.0</td>\n",
       "      <td>0.0</td>\n",
       "      <td>0.0</td>\n",
       "      <td>0.0</td>\n",
       "      <td>0.0</td>\n",
       "      <td>0.0</td>\n",
       "      <td>0.0</td>\n",
       "      <td>0.0</td>\n",
       "    </tr>\n",
       "  </tbody>\n",
       "</table>\n",
       "</div>"
      ],
      "text/plain": [
       "   Time Spent per Visit (seconds)  Average Time Spent on Page (seconds)  \\\n",
       "0                       -0.287570                         -1.607611e-16   \n",
       "1                        1.236983                         -2.663834e-01   \n",
       "2                       -0.469947                         -1.607611e-16   \n",
       "3                        0.000000                         -1.607611e-16   \n",
       "4                        4.357330                         -5.887913e-01   \n",
       "\n",
       "   Link Clicks  New Visitors Exists  Enter from Office.com  Enter from Store  \\\n",
       "0    -0.014009                  0.0                    0.0               0.0   \n",
       "1     0.994120                  1.0                    1.0               0.0   \n",
       "2     0.429568                  1.0                    1.0               0.0   \n",
       "3    -1.223763                  1.0                    1.0               0.0   \n",
       "4     0.752169                  1.0                    1.0               0.0   \n",
       "\n",
       "   Enter from O365 Web  Traffic Channel O&O  Traffic Channel Direct  \\\n",
       "0                  0.0                  0.0                     0.0   \n",
       "1                  0.0                  1.0                     0.0   \n",
       "2                  0.0                  0.0                     1.0   \n",
       "3                  0.0                  0.0                     1.0   \n",
       "4                  0.0                  0.0                     1.0   \n",
       "\n",
       "   Traffic Channel Organic Search  Traffic Channel Paid Search  \\\n",
       "0                             0.0                          0.0   \n",
       "1                             0.0                          0.0   \n",
       "2                             0.0                          0.0   \n",
       "3                             0.0                          0.0   \n",
       "4                             0.0                          0.0   \n",
       "\n",
       "   Link Clicks on tab-TechSpecsTab  Link Clicks on tab-ReviewsTab  \\\n",
       "0                              0.0                            0.0   \n",
       "1                              0.0                            0.0   \n",
       "2                              0.0                            0.0   \n",
       "3                              0.0                            0.0   \n",
       "4                              0.0                            0.0   \n",
       "\n",
       "   Link Clicks on tab-FAQTab  Link Clicks on AddToCartButton  \\\n",
       "0                        0.0                             0.0   \n",
       "1                        0.0                             0.0   \n",
       "2                        0.0                             0.0   \n",
       "3                        0.0                             0.0   \n",
       "4                        0.0                             0.0   \n",
       "\n",
       "   Link Clicks on Try Link  \n",
       "0                      0.0  \n",
       "1                      0.0  \n",
       "2                      0.0  \n",
       "3                      0.0  \n",
       "4                      0.0  "
      ]
     },
     "execution_count": 67,
     "metadata": {},
     "output_type": "execute_result"
    }
   ],
   "source": [
    "df_buy_try_standard.fillna(0, inplace=True)\n",
    "df_buy_try_standard.head()"
   ]
  },
  {
   "cell_type": "code",
   "execution_count": 68,
   "metadata": {},
   "outputs": [
    {
     "data": {
      "text/plain": [
       "(500, 16)"
      ]
     },
     "execution_count": 68,
     "metadata": {},
     "output_type": "execute_result"
    }
   ],
   "source": [
    "df_buy_try_standard.shape"
   ]
  },
  {
   "cell_type": "markdown",
   "metadata": {},
   "source": [
    "## switch column orders"
   ]
  },
  {
   "cell_type": "code",
   "execution_count": 69,
   "metadata": {},
   "outputs": [
    {
     "data": {
      "text/html": [
       "<div>\n",
       "<style scoped>\n",
       "    .dataframe tbody tr th:only-of-type {\n",
       "        vertical-align: middle;\n",
       "    }\n",
       "\n",
       "    .dataframe tbody tr th {\n",
       "        vertical-align: top;\n",
       "    }\n",
       "\n",
       "    .dataframe thead th {\n",
       "        text-align: right;\n",
       "    }\n",
       "</style>\n",
       "<table border=\"1\" class=\"dataframe\">\n",
       "  <thead>\n",
       "    <tr style=\"text-align: right;\">\n",
       "      <th></th>\n",
       "      <th>New Visitors Exists</th>\n",
       "      <th>Enter from Office.com</th>\n",
       "      <th>Enter from Store</th>\n",
       "      <th>Enter from O365 Web</th>\n",
       "      <th>Traffic Channel O&amp;O</th>\n",
       "      <th>Traffic Channel Direct</th>\n",
       "      <th>Traffic Channel Organic Search</th>\n",
       "      <th>Traffic Channel Paid Search</th>\n",
       "      <th>Link Clicks on tab-TechSpecsTab</th>\n",
       "      <th>Link Clicks on tab-ReviewsTab</th>\n",
       "      <th>Link Clicks on tab-FAQTab</th>\n",
       "      <th>Link Clicks on AddToCartButton</th>\n",
       "      <th>Link Clicks on Try Link</th>\n",
       "      <th>Time Spent per Visit (seconds)</th>\n",
       "      <th>Average Time Spent on Page (seconds)</th>\n",
       "      <th>Link Clicks</th>\n",
       "    </tr>\n",
       "  </thead>\n",
       "  <tbody>\n",
       "    <tr>\n",
       "      <th>0</th>\n",
       "      <td>0.0</td>\n",
       "      <td>0.0</td>\n",
       "      <td>0.0</td>\n",
       "      <td>0.0</td>\n",
       "      <td>0.0</td>\n",
       "      <td>0.0</td>\n",
       "      <td>0.0</td>\n",
       "      <td>0.0</td>\n",
       "      <td>0.0</td>\n",
       "      <td>0.0</td>\n",
       "      <td>0.0</td>\n",
       "      <td>0.0</td>\n",
       "      <td>0.0</td>\n",
       "      <td>-0.287570</td>\n",
       "      <td>-1.607611e-16</td>\n",
       "      <td>-0.014009</td>\n",
       "    </tr>\n",
       "    <tr>\n",
       "      <th>1</th>\n",
       "      <td>1.0</td>\n",
       "      <td>1.0</td>\n",
       "      <td>0.0</td>\n",
       "      <td>0.0</td>\n",
       "      <td>1.0</td>\n",
       "      <td>0.0</td>\n",
       "      <td>0.0</td>\n",
       "      <td>0.0</td>\n",
       "      <td>0.0</td>\n",
       "      <td>0.0</td>\n",
       "      <td>0.0</td>\n",
       "      <td>0.0</td>\n",
       "      <td>0.0</td>\n",
       "      <td>1.236983</td>\n",
       "      <td>-2.663834e-01</td>\n",
       "      <td>0.994120</td>\n",
       "    </tr>\n",
       "    <tr>\n",
       "      <th>2</th>\n",
       "      <td>1.0</td>\n",
       "      <td>1.0</td>\n",
       "      <td>0.0</td>\n",
       "      <td>0.0</td>\n",
       "      <td>0.0</td>\n",
       "      <td>1.0</td>\n",
       "      <td>0.0</td>\n",
       "      <td>0.0</td>\n",
       "      <td>0.0</td>\n",
       "      <td>0.0</td>\n",
       "      <td>0.0</td>\n",
       "      <td>0.0</td>\n",
       "      <td>0.0</td>\n",
       "      <td>-0.469947</td>\n",
       "      <td>-1.607611e-16</td>\n",
       "      <td>0.429568</td>\n",
       "    </tr>\n",
       "    <tr>\n",
       "      <th>3</th>\n",
       "      <td>1.0</td>\n",
       "      <td>1.0</td>\n",
       "      <td>0.0</td>\n",
       "      <td>0.0</td>\n",
       "      <td>0.0</td>\n",
       "      <td>1.0</td>\n",
       "      <td>0.0</td>\n",
       "      <td>0.0</td>\n",
       "      <td>0.0</td>\n",
       "      <td>0.0</td>\n",
       "      <td>0.0</td>\n",
       "      <td>0.0</td>\n",
       "      <td>0.0</td>\n",
       "      <td>0.000000</td>\n",
       "      <td>-1.607611e-16</td>\n",
       "      <td>-1.223763</td>\n",
       "    </tr>\n",
       "    <tr>\n",
       "      <th>4</th>\n",
       "      <td>1.0</td>\n",
       "      <td>1.0</td>\n",
       "      <td>0.0</td>\n",
       "      <td>0.0</td>\n",
       "      <td>0.0</td>\n",
       "      <td>1.0</td>\n",
       "      <td>0.0</td>\n",
       "      <td>0.0</td>\n",
       "      <td>0.0</td>\n",
       "      <td>0.0</td>\n",
       "      <td>0.0</td>\n",
       "      <td>0.0</td>\n",
       "      <td>0.0</td>\n",
       "      <td>4.357330</td>\n",
       "      <td>-5.887913e-01</td>\n",
       "      <td>0.752169</td>\n",
       "    </tr>\n",
       "  </tbody>\n",
       "</table>\n",
       "</div>"
      ],
      "text/plain": [
       "   New Visitors Exists  Enter from Office.com  Enter from Store  \\\n",
       "0                  0.0                    0.0               0.0   \n",
       "1                  1.0                    1.0               0.0   \n",
       "2                  1.0                    1.0               0.0   \n",
       "3                  1.0                    1.0               0.0   \n",
       "4                  1.0                    1.0               0.0   \n",
       "\n",
       "   Enter from O365 Web  Traffic Channel O&O  Traffic Channel Direct  \\\n",
       "0                  0.0                  0.0                     0.0   \n",
       "1                  0.0                  1.0                     0.0   \n",
       "2                  0.0                  0.0                     1.0   \n",
       "3                  0.0                  0.0                     1.0   \n",
       "4                  0.0                  0.0                     1.0   \n",
       "\n",
       "   Traffic Channel Organic Search  Traffic Channel Paid Search  \\\n",
       "0                             0.0                          0.0   \n",
       "1                             0.0                          0.0   \n",
       "2                             0.0                          0.0   \n",
       "3                             0.0                          0.0   \n",
       "4                             0.0                          0.0   \n",
       "\n",
       "   Link Clicks on tab-TechSpecsTab  Link Clicks on tab-ReviewsTab  \\\n",
       "0                              0.0                            0.0   \n",
       "1                              0.0                            0.0   \n",
       "2                              0.0                            0.0   \n",
       "3                              0.0                            0.0   \n",
       "4                              0.0                            0.0   \n",
       "\n",
       "   Link Clicks on tab-FAQTab  Link Clicks on AddToCartButton  \\\n",
       "0                        0.0                             0.0   \n",
       "1                        0.0                             0.0   \n",
       "2                        0.0                             0.0   \n",
       "3                        0.0                             0.0   \n",
       "4                        0.0                             0.0   \n",
       "\n",
       "   Link Clicks on Try Link  Time Spent per Visit (seconds)  \\\n",
       "0                      0.0                       -0.287570   \n",
       "1                      0.0                        1.236983   \n",
       "2                      0.0                       -0.469947   \n",
       "3                      0.0                        0.000000   \n",
       "4                      0.0                        4.357330   \n",
       "\n",
       "   Average Time Spent on Page (seconds)  Link Clicks  \n",
       "0                         -1.607611e-16    -0.014009  \n",
       "1                         -2.663834e-01     0.994120  \n",
       "2                         -1.607611e-16     0.429568  \n",
       "3                         -1.607611e-16    -1.223763  \n",
       "4                         -5.887913e-01     0.752169  "
      ]
     },
     "execution_count": 69,
     "metadata": {},
     "output_type": "execute_result"
    }
   ],
   "source": [
    "cols = df_buy_try_standard.columns\n",
    "#cols = cols[-1] + cols[-1]\n",
    "c1 = cols[3:] \n",
    "c2 = cols[:3]\n",
    "#print (c1, c2)\n",
    "\n",
    "c1 = c1.append(c2)\n",
    "c1\n",
    "df_buy_try_standard = df_buy_try_standard[c1]\n",
    "df_buy_try_standard.head()\n",
    "#print (df[cols[-2:]]) \n",
    "#print (df[cols[:-2]])\n",
    "#df_buy_try_no_cat.fillna(df_buy_try_no_cat.mean(), inplace=True)\n",
    "#df_buy_try_no_cat.head()"
   ]
  },
  {
   "cell_type": "code",
   "execution_count": 70,
   "metadata": {},
   "outputs": [
    {
     "data": {
      "text/html": [
       "<div>\n",
       "<style scoped>\n",
       "    .dataframe tbody tr th:only-of-type {\n",
       "        vertical-align: middle;\n",
       "    }\n",
       "\n",
       "    .dataframe tbody tr th {\n",
       "        vertical-align: top;\n",
       "    }\n",
       "\n",
       "    .dataframe thead th {\n",
       "        text-align: right;\n",
       "    }\n",
       "</style>\n",
       "<table border=\"1\" class=\"dataframe\">\n",
       "  <thead>\n",
       "    <tr style=\"text-align: right;\">\n",
       "      <th></th>\n",
       "      <th>New Visitors Exists</th>\n",
       "      <th>Enter from Office.com</th>\n",
       "      <th>Enter from Store</th>\n",
       "      <th>Enter from O365 Web</th>\n",
       "      <th>Traffic Channel O&amp;O</th>\n",
       "      <th>Traffic Channel Direct</th>\n",
       "      <th>Traffic Channel Organic Search</th>\n",
       "      <th>Traffic Channel Paid Search</th>\n",
       "      <th>Link Clicks on tab-TechSpecsTab</th>\n",
       "      <th>Link Clicks on tab-ReviewsTab</th>\n",
       "      <th>Link Clicks on tab-FAQTab</th>\n",
       "      <th>Link Clicks on AddToCartButton</th>\n",
       "      <th>Link Clicks on Try Link</th>\n",
       "      <th>Time Spent per Visit (seconds)</th>\n",
       "      <th>Average Time Spent on Page (seconds)</th>\n",
       "      <th>Link Clicks</th>\n",
       "    </tr>\n",
       "  </thead>\n",
       "  <tbody>\n",
       "    <tr>\n",
       "      <th>0</th>\n",
       "      <td>0.0</td>\n",
       "      <td>0.0</td>\n",
       "      <td>0.0</td>\n",
       "      <td>0.0</td>\n",
       "      <td>0.0</td>\n",
       "      <td>0.0</td>\n",
       "      <td>0.0</td>\n",
       "      <td>0.0</td>\n",
       "      <td>0.0</td>\n",
       "      <td>0.0</td>\n",
       "      <td>0.0</td>\n",
       "      <td>0.0</td>\n",
       "      <td>0.0</td>\n",
       "      <td>-0.287570</td>\n",
       "      <td>-1.607611e-16</td>\n",
       "      <td>-0.014009</td>\n",
       "    </tr>\n",
       "    <tr>\n",
       "      <th>1</th>\n",
       "      <td>1.0</td>\n",
       "      <td>1.0</td>\n",
       "      <td>0.0</td>\n",
       "      <td>0.0</td>\n",
       "      <td>1.0</td>\n",
       "      <td>0.0</td>\n",
       "      <td>0.0</td>\n",
       "      <td>0.0</td>\n",
       "      <td>0.0</td>\n",
       "      <td>0.0</td>\n",
       "      <td>0.0</td>\n",
       "      <td>0.0</td>\n",
       "      <td>0.0</td>\n",
       "      <td>1.236983</td>\n",
       "      <td>-2.663834e-01</td>\n",
       "      <td>0.994120</td>\n",
       "    </tr>\n",
       "    <tr>\n",
       "      <th>2</th>\n",
       "      <td>1.0</td>\n",
       "      <td>1.0</td>\n",
       "      <td>0.0</td>\n",
       "      <td>0.0</td>\n",
       "      <td>0.0</td>\n",
       "      <td>1.0</td>\n",
       "      <td>0.0</td>\n",
       "      <td>0.0</td>\n",
       "      <td>0.0</td>\n",
       "      <td>0.0</td>\n",
       "      <td>0.0</td>\n",
       "      <td>0.0</td>\n",
       "      <td>0.0</td>\n",
       "      <td>-0.469947</td>\n",
       "      <td>-1.607611e-16</td>\n",
       "      <td>0.429568</td>\n",
       "    </tr>\n",
       "    <tr>\n",
       "      <th>3</th>\n",
       "      <td>1.0</td>\n",
       "      <td>1.0</td>\n",
       "      <td>0.0</td>\n",
       "      <td>0.0</td>\n",
       "      <td>0.0</td>\n",
       "      <td>1.0</td>\n",
       "      <td>0.0</td>\n",
       "      <td>0.0</td>\n",
       "      <td>0.0</td>\n",
       "      <td>0.0</td>\n",
       "      <td>0.0</td>\n",
       "      <td>0.0</td>\n",
       "      <td>0.0</td>\n",
       "      <td>0.000000</td>\n",
       "      <td>-1.607611e-16</td>\n",
       "      <td>-1.223763</td>\n",
       "    </tr>\n",
       "    <tr>\n",
       "      <th>4</th>\n",
       "      <td>1.0</td>\n",
       "      <td>1.0</td>\n",
       "      <td>0.0</td>\n",
       "      <td>0.0</td>\n",
       "      <td>0.0</td>\n",
       "      <td>1.0</td>\n",
       "      <td>0.0</td>\n",
       "      <td>0.0</td>\n",
       "      <td>0.0</td>\n",
       "      <td>0.0</td>\n",
       "      <td>0.0</td>\n",
       "      <td>0.0</td>\n",
       "      <td>0.0</td>\n",
       "      <td>4.357330</td>\n",
       "      <td>-5.887913e-01</td>\n",
       "      <td>0.752169</td>\n",
       "    </tr>\n",
       "  </tbody>\n",
       "</table>\n",
       "</div>"
      ],
      "text/plain": [
       "   New Visitors Exists  Enter from Office.com  Enter from Store  \\\n",
       "0                  0.0                    0.0               0.0   \n",
       "1                  1.0                    1.0               0.0   \n",
       "2                  1.0                    1.0               0.0   \n",
       "3                  1.0                    1.0               0.0   \n",
       "4                  1.0                    1.0               0.0   \n",
       "\n",
       "   Enter from O365 Web  Traffic Channel O&O  Traffic Channel Direct  \\\n",
       "0                  0.0                  0.0                     0.0   \n",
       "1                  0.0                  1.0                     0.0   \n",
       "2                  0.0                  0.0                     1.0   \n",
       "3                  0.0                  0.0                     1.0   \n",
       "4                  0.0                  0.0                     1.0   \n",
       "\n",
       "   Traffic Channel Organic Search  Traffic Channel Paid Search  \\\n",
       "0                             0.0                          0.0   \n",
       "1                             0.0                          0.0   \n",
       "2                             0.0                          0.0   \n",
       "3                             0.0                          0.0   \n",
       "4                             0.0                          0.0   \n",
       "\n",
       "   Link Clicks on tab-TechSpecsTab  Link Clicks on tab-ReviewsTab  \\\n",
       "0                              0.0                            0.0   \n",
       "1                              0.0                            0.0   \n",
       "2                              0.0                            0.0   \n",
       "3                              0.0                            0.0   \n",
       "4                              0.0                            0.0   \n",
       "\n",
       "   Link Clicks on tab-FAQTab  Link Clicks on AddToCartButton  \\\n",
       "0                        0.0                             0.0   \n",
       "1                        0.0                             0.0   \n",
       "2                        0.0                             0.0   \n",
       "3                        0.0                             0.0   \n",
       "4                        0.0                             0.0   \n",
       "\n",
       "   Link Clicks on Try Link  Time Spent per Visit (seconds)  \\\n",
       "0                      0.0                       -0.287570   \n",
       "1                      0.0                        1.236983   \n",
       "2                      0.0                       -0.469947   \n",
       "3                      0.0                        0.000000   \n",
       "4                      0.0                        4.357330   \n",
       "\n",
       "   Average Time Spent on Page (seconds)  Link Clicks  \n",
       "0                         -1.607611e-16    -0.014009  \n",
       "1                         -2.663834e-01     0.994120  \n",
       "2                         -1.607611e-16     0.429568  \n",
       "3                         -1.607611e-16    -1.223763  \n",
       "4                         -5.887913e-01     0.752169  "
      ]
     },
     "execution_count": 70,
     "metadata": {},
     "output_type": "execute_result"
    }
   ],
   "source": [
    "df_buy_try_standard.head()"
   ]
  },
  {
   "cell_type": "code",
   "execution_count": 71,
   "metadata": {},
   "outputs": [],
   "source": [
    "#df_buy_try_standard['Paid Orders Exists'].value_counts()"
   ]
  },
  {
   "cell_type": "markdown",
   "metadata": {},
   "source": [
    "## Buy + Try PCA"
   ]
  },
  {
   "cell_type": "code",
   "execution_count": 72,
   "metadata": {},
   "outputs": [
    {
     "data": {
      "text/plain": [
       "Text(0, 0.5, 'cumulative explained variance')"
      ]
     },
     "execution_count": 72,
     "metadata": {},
     "output_type": "execute_result"
    },
    {
     "data": {
      "image/png": "[encoded data removed]",
      "text/plain": [
       "<Figure size 432x288 with 1 Axes>"
      ]
     },
     "metadata": {
      "needs_background": "light"
     },
     "output_type": "display_data"
    }
   ],
   "source": [
    "pca = PCA().fit(df_buy_try_standard)\n",
    "plt.plot(np.cumsum(pca.explained_variance_ratio_), 'bx-')\n",
    "plt.xlabel('number of components')\n",
    "plt.ylabel('cumulative explained variance')"
   ]
  },
  {
   "cell_type": "code",
   "execution_count": 73,
   "metadata": {},
   "outputs": [
    {
     "data": {
      "image/png": "[encoded data removed]",
      "text/plain": [
       "<Figure size 432x288 with 1 Axes>"
      ]
     },
     "metadata": {
      "needs_background": "light"
     },
     "output_type": "display_data"
    }
   ],
   "source": [
    "# https://python-for-multivariate-analysis.readthedocs.io/a_little_book_of_python_for_multivariate_analysis.html#deciding-how-many-principal-components-to-retain\n",
    "\n",
    "def screeplot(pca, standardised_values):\n",
    "    y = np.std(pca.transform(standardised_values), axis=0)**2\n",
    "    x = np.arange(len(y)) + 1\n",
    "    plt.plot(x, y, \"o-\")\n",
    "    plt.xticks(x, [\"Comp.\"+str(i) for i in x], rotation=60)\n",
    "    plt.ylabel(\"Variance\")\n",
    "    plt.show()\n",
    "\n",
    "screeplot(pca, df_buy_try_standard)\n"
   ]
  },
  {
   "cell_type": "code",
   "execution_count": 74,
   "metadata": {},
   "outputs": [],
   "source": [
    "## as per Kaiser's rule take comp where variance >1 so 5 components"
   ]
  },
  {
   "cell_type": "code",
   "execution_count": 75,
   "metadata": {},
   "outputs": [
    {
     "data": {
      "text/plain": [
       "array([-2.53831666e-03,  2.30287336e-02, -3.36819243e-02,  5.51421376e-02,\n",
       "        2.17830928e-02, -4.51443624e-02,  2.99952332e-02, -1.14279756e-02,\n",
       "        1.21181484e-03,  8.21541188e-05,  3.89769752e-03,  2.30226422e-02,\n",
       "        2.94491633e-03,  7.10572874e-01,  2.37694725e-01,  6.55574027e-01])"
      ]
     },
     "execution_count": 75,
     "metadata": {},
     "output_type": "execute_result"
    }
   ],
   "source": [
    "pca.components_[0]"
   ]
  },
  {
   "cell_type": "code",
   "execution_count": 76,
   "metadata": {},
   "outputs": [
    {
     "data": {
      "text/plain": [
       "array([[-2.19622269e-01,  9.64454250e-03],\n",
       "       [ 1.50354228e+00, -5.99477539e-01],\n",
       "       [-8.30706769e-02, -1.73746762e-01],\n",
       "       [-8.33019989e-01,  4.72274150e-01],\n",
       "       [ 3.41859732e+00, -5.92363521e-01],\n",
       "       [ 2.69641837e+00, -1.55452144e+00],\n",
       "       [ 5.48769677e-01, -8.10749494e-01],\n",
       "       [ 3.63068803e-01, -1.78384595e-02],\n",
       "       [ 1.00061144e-01, -7.05114184e-02],\n",
       "       [-3.79725914e-01,  1.85426464e-01],\n",
       "       [-4.11111416e-01,  1.83209741e-01],\n",
       "       [ 2.33930923e-01, -2.48589978e-01],\n",
       "       [ 4.83259487e-01, -1.09783247e+00],\n",
       "       [-2.76335321e-01, -7.46112015e-01],\n",
       "       [-9.56142822e-01,  3.49296929e-01],\n",
       "       [-1.28293662e+00,  4.45555434e-01],\n",
       "       [ 3.52031222e-02,  6.12958278e-02],\n",
       "       [ 4.29999299e+00, -4.38766921e-01],\n",
       "       [ 9.76133470e-01,  2.28862249e-02],\n",
       "       [ 1.09544437e+00, -7.79401984e-01],\n",
       "       [ 1.46751089e+00,  5.43735101e+00],\n",
       "       [ 1.50947820e+00, -5.00835918e-01],\n",
       "       [ 1.96595884e-01,  7.05225045e-02],\n",
       "       [ 1.31902752e+00, -4.97238723e-01],\n",
       "       [-1.51979835e-01,  4.63060644e-02],\n",
       "       [ 1.04305031e-01,  5.91625390e-01],\n",
       "       [-1.96189640e-01, -4.04840566e-01],\n",
       "       [-1.94427125e-01, -7.64345943e-02],\n",
       "       [-4.50837102e-01, -2.26996570e-01],\n",
       "       [-3.98525148e-01,  6.33929409e-02],\n",
       "       [-5.01119518e-01,  1.07292352e-01],\n",
       "       [-6.58610992e-01,  1.81411466e-01],\n",
       "       [ 3.01780196e-01, -4.56830437e-01],\n",
       "       [-4.57920468e-01,  8.05238054e-03],\n",
       "       [-8.56114205e-01,  1.15510358e-01],\n",
       "       [-1.06066340e+00,  3.23500076e-01],\n",
       "       [-8.68083257e-01, -4.14076396e-01],\n",
       "       [-1.22524192e+00,  3.97118639e-01],\n",
       "       [-7.84303584e-01,  8.68883089e-02],\n",
       "       [ 2.28857315e-01, -4.54896635e-01],\n",
       "       [-1.26776422e+00,  3.94115338e-01],\n",
       "       [-1.42001992e+00, -2.29367288e-01],\n",
       "       [-1.26562655e+00,  3.77217806e-01],\n",
       "       [-1.21984137e+00,  3.46354539e-01],\n",
       "       [-6.64186488e-01,  3.85599818e-01],\n",
       "       [-8.22803191e-01,  4.76687970e-01],\n",
       "       [ 2.13697048e+00, -1.23830928e+00],\n",
       "       [ 4.19932436e-01, -6.58218749e-01],\n",
       "       [ 6.87023346e-01,  2.38742185e+00],\n",
       "       [ 1.44454013e+00, -1.43932169e+00],\n",
       "       [ 4.66108997e-01, -2.93365033e-01],\n",
       "       [-3.18085484e-01,  4.33639675e-02],\n",
       "       [-6.25680906e-01, -5.72819463e-01],\n",
       "       [-7.19481527e-02, -1.09736749e-01],\n",
       "       [-7.89698056e-01,  1.80136550e-01],\n",
       "       [-5.07523726e-01,  4.70326696e-02],\n",
       "       [-7.70534083e-01,  1.47796127e-01],\n",
       "       [-1.20746047e+00,  3.55615675e-01],\n",
       "       [-1.34369080e+00,  4.31236440e-01],\n",
       "       [ 2.73387919e-01, -6.09806437e-01],\n",
       "       [-2.10880109e-01,  6.79842746e-02],\n",
       "       [-3.69031661e-01, -3.40222175e-01],\n",
       "       [-9.50751092e-01, -2.17149357e-01],\n",
       "       [-7.77329464e-01,  2.20165544e-01],\n",
       "       [-1.03591391e+00,  3.72790205e-01],\n",
       "       [-1.24740285e+00,  4.94241075e-01],\n",
       "       [-1.24324031e+00,  4.77486558e-01],\n",
       "       [-1.39251951e+00,  5.35137184e-01],\n",
       "       [ 4.47108574e+00, -6.70331606e-01],\n",
       "       [ 1.46052928e+00,  4.29771596e-01],\n",
       "       [ 2.96671120e-01,  4.46305739e-01],\n",
       "       [ 1.02277980e+00, -6.01222041e-01],\n",
       "       [ 1.19998501e+00, -4.44400260e-01],\n",
       "       [ 1.47735727e+00, -6.80940520e-01],\n",
       "       [-6.52345466e-02,  1.82276206e-01],\n",
       "       [-3.45794687e-01,  3.32945678e-01],\n",
       "       [ 1.58134110e-01, -5.37028370e-01],\n",
       "       [ 8.74639015e-01, -9.03753581e-01],\n",
       "       [-3.42094913e-01, -3.78628259e-01],\n",
       "       [-5.66841317e-01,  2.15042332e-01],\n",
       "       [-4.35673166e-01,  1.39064031e-01],\n",
       "       [ 7.82019080e-01, -1.26909618e+00],\n",
       "       [-1.00174283e+00,  4.23004894e-01],\n",
       "       [-6.33662063e-01,  2.10322858e-01],\n",
       "       [-6.34865612e-01, -4.62297942e-01],\n",
       "       [-1.15229045e+00,  1.45843052e-01],\n",
       "       [-6.00118494e-01,  1.95432866e-01],\n",
       "       [-6.32250446e-01, -5.21646002e-01],\n",
       "       [-7.75741419e-01,  2.51433488e-01],\n",
       "       [-5.95750776e-01,  1.44806441e-01],\n",
       "       [-1.13144738e+00,  4.30892520e-01],\n",
       "       [-6.84058255e-01,  1.72666407e-01],\n",
       "       [-9.03646677e-01,  2.93545219e-01],\n",
       "       [-9.10560130e-01, -4.04914606e-01],\n",
       "       [-1.03166473e+00,  3.52697496e-01],\n",
       "       [-9.00496577e-01,  2.76719196e-01],\n",
       "       [-1.09263645e+00,  3.82488156e-01],\n",
       "       [-1.19939335e+00,  4.43142084e-01],\n",
       "       [-1.19016864e+00,  4.26745103e-01],\n",
       "       [-4.77405910e-01,  1.67769108e-02],\n",
       "       [-1.06709997e+00,  3.50194745e-01],\n",
       "       [-1.30502503e+00,  4.86826973e-01],\n",
       "       [-1.17891905e+00,  4.10491136e-01],\n",
       "       [-1.26025228e+00,  4.55892198e-01],\n",
       "       [-1.06394987e+00,  3.33368721e-01],\n",
       "       [-1.43927613e+00, -1.57519668e-01],\n",
       "       [-3.80164151e-01,  2.96421178e-01],\n",
       "       [-8.29578142e-01,  5.54504276e-01],\n",
       "       [ 4.43649632e+00,  4.92447868e+00],\n",
       "       [ 1.08235711e-01, -1.63490535e-01],\n",
       "       [ 2.16673198e+00,  6.44527529e-02],\n",
       "       [ 2.18657352e+00, -3.90109660e-01],\n",
       "       [ 1.16113745e+00,  1.46752931e-02],\n",
       "       [ 7.99077624e-01, -7.45089458e-01],\n",
       "       [ 1.30210441e+00, -3.82326327e-01],\n",
       "       [ 1.31407071e+00, -1.14872694e+00],\n",
       "       [ 5.19612919e-02,  1.09026876e-01],\n",
       "       [ 7.21978841e-01, -4.23299944e-01],\n",
       "       [-4.47846193e-01,  1.76017107e-01],\n",
       "       [-1.00707259e-01, -6.45303400e-01],\n",
       "       [-5.04481780e-01, -5.08906025e-01],\n",
       "       [-1.85660475e-01, -6.15957605e-02],\n",
       "       [ 1.17199127e+00, -1.47321615e+00],\n",
       "       [ 1.30524014e+00, -1.37429738e+00],\n",
       "       [ 1.09593174e+00, -7.55117445e-01],\n",
       "       [ 6.97508851e-02, -1.00511862e+00],\n",
       "       [ 4.87206585e-01, -4.56930156e-01],\n",
       "       [ 2.10302173e-01, -1.01593538e+00],\n",
       "       [-5.05552319e-01,  1.85047807e-02],\n",
       "       [-3.30511062e-01, -1.05520348e-01],\n",
       "       [ 1.70377128e-01, -9.73244961e-01],\n",
       "       [-2.03392654e-01, -1.81784677e-01],\n",
       "       [-4.21219580e-01, -1.29378571e-01],\n",
       "       [-7.58502318e-01,  4.78314175e-02],\n",
       "       [-3.72171502e-01, -1.94108408e-01],\n",
       "       [-8.90167736e-01,  1.27727922e-01],\n",
       "       [-9.96924641e-01,  1.88381849e-01],\n",
       "       [-1.07105802e+00,  2.17242916e-01],\n",
       "       [-1.30988272e+00,  3.36763092e-01],\n",
       "       [ 4.63944314e+00, -1.80191127e+00],\n",
       "       [ 1.34900218e+00, -5.89726948e-01],\n",
       "       [ 1.20401674e+00, -7.35519852e-01],\n",
       "       [ 1.80936838e+00, -9.28288664e-01],\n",
       "       [ 2.12496532e+00, -8.10631816e-01],\n",
       "       [ 1.34705285e+00, -1.26560855e+00],\n",
       "       [ 9.41775342e-01, -9.86956563e-01],\n",
       "       [ 6.05163491e-01, -7.61041723e-01],\n",
       "       [ 1.55860317e+00, -8.33181755e-01],\n",
       "       [ 1.82912640e-01, -4.38226096e-02],\n",
       "       [ 1.31921393e+00, -9.53589832e-01],\n",
       "       [-2.00690341e-01,  6.54720387e-02],\n",
       "       [ 6.40203231e-01, -4.20688976e-01],\n",
       "       [ 7.75146900e-02, -7.66560848e-01],\n",
       "       [-8.34703282e-01,  2.08226049e-01],\n",
       "       [-7.50972297e-01,  4.28486134e-02],\n",
       "       [-7.50479577e-01,  1.76732831e-01],\n",
       "       [-3.57615152e-01, -9.90479915e-02],\n",
       "       [-8.70025734e-01,  1.88682752e-01],\n",
       "       [-1.26347937e+00, -3.05273021e-01],\n",
       "       [-1.16847134e+00,  2.86943458e-01],\n",
       "       [-1.23248036e+00,  3.16519597e-01],\n",
       "       [-1.32596281e+00,  3.61062572e-01],\n",
       "       [-7.74470467e-01,  4.17062368e-01],\n",
       "       [ 1.87923912e+00, -1.03581914e+00],\n",
       "       [ 1.18656875e+00,  3.39152067e+00],\n",
       "       [-3.18251057e-01,  3.81090584e-01],\n",
       "       [ 7.74836274e-04, -1.87405966e-02],\n",
       "       [-3.25300322e-01, -1.85689837e-01],\n",
       "       [-7.37629217e-02, -6.66321821e-01],\n",
       "       [-5.57525048e-01,  1.81715690e-01],\n",
       "       [-1.19795098e+00,  3.75162294e-01],\n",
       "       [ 5.29338451e+00, -1.29035646e+00],\n",
       "       [ 2.21082563e+00, -4.41087388e-01],\n",
       "       [ 1.31243137e+00,  1.64256326e+00],\n",
       "       [ 1.07120535e+00, -3.21567044e-01],\n",
       "       [-1.58692073e-01,  2.74331479e-01],\n",
       "       [ 1.68585186e-01, -6.57910559e-01],\n",
       "       [ 1.17924315e+00, -6.70727818e-01],\n",
       "       [ 1.53409551e-01, -9.53378377e-02],\n",
       "       [-4.71155791e-01,  1.50374517e-01],\n",
       "       [-2.02689982e-01, -7.26858788e-01],\n",
       "       [-6.41470550e-01,  1.72442401e-01],\n",
       "       [-9.92450008e-01,  2.49944189e-01],\n",
       "       [-3.73795039e-02, -4.06190064e-02],\n",
       "       [ 3.98946513e+00,  4.99457373e+00],\n",
       "       [ 3.28904875e+00, -6.58102717e-01],\n",
       "       [ 3.63578609e+00, -1.10931391e+00],\n",
       "       [ 2.02605927e+00, -4.50556326e-01],\n",
       "       [ 1.11191465e+00, -4.56696236e-01],\n",
       "       [ 1.63560421e+00, -9.62896091e-01],\n",
       "       [ 6.19463743e-01,  3.53478188e-02],\n",
       "       [ 1.21121009e+00, -9.73502902e-01],\n",
       "       [ 2.89972210e-02, -5.71168087e-02],\n",
       "       [-3.37946849e-01, -5.46862907e-01],\n",
       "       [ 2.61473946e-02, -2.44430473e-01],\n",
       "       [-6.61827919e-01,  2.01788521e-01],\n",
       "       [-2.09407016e-01, -4.24902106e-01],\n",
       "       [-4.45543870e-01,  7.15309438e-02],\n",
       "       [-4.00278468e-01,  1.56793218e-02],\n",
       "       [-9.17002168e-01,  2.34508316e-01],\n",
       "       [ 7.27599197e-02, -2.91880747e-01],\n",
       "       [-8.12793609e-01,  2.08174496e-01],\n",
       "       [-5.37041935e-01, -6.27331750e-01],\n",
       "       [-7.93071649e-01,  7.23731992e-02],\n",
       "       [-6.05241621e-01,  6.93970526e-02],\n",
       "       [-2.16949931e-01, -2.44551651e-01],\n",
       "       [-3.99488919e-01, -1.03604497e-01],\n",
       "       [-9.85920089e-01,  1.95946768e-01],\n",
       "       [-1.04891668e+00,  2.25594413e-01],\n",
       "       [-9.80745118e-01,  1.79263758e-01],\n",
       "       [-1.11393814e+00,  2.55099045e-01],\n",
       "       [-1.24830203e+00, -3.72207051e-01],\n",
       "       [-1.22980696e+00,  3.15109408e-01],\n",
       "       [ 3.30216078e+00, -9.78131259e-01],\n",
       "       [ 1.73162769e+00, -1.06200902e+00],\n",
       "       [ 2.73380053e+00, -1.38257284e+00],\n",
       "       [-1.67880663e-01,  3.03123697e-01],\n",
       "       [ 4.52765015e-01, -1.20266632e-01],\n",
       "       [-3.94710007e-01, -3.43576115e-01],\n",
       "       [-2.97793508e-01,  1.84741014e-01],\n",
       "       [-3.33341545e-01,  1.99278808e-01],\n",
       "       [ 6.46158625e-02, -3.33603647e-01],\n",
       "       [-7.99553560e-01,  2.85287291e-01],\n",
       "       [-2.22193820e-01, -6.56471438e-02],\n",
       "       [-3.97909135e-01,  7.18484078e-03],\n",
       "       [-7.73976596e-01,  2.02254274e-01],\n",
       "       [-9.93832031e-02, -6.63924136e-01],\n",
       "       [-4.17032618e-01, -1.12143412e-02],\n",
       "       [-4.79916415e-01,  1.39275885e-03],\n",
       "       [-5.15464452e-01,  1.59305529e-02],\n",
       "       [-8.48489232e-01, -4.04324186e-01],\n",
       "       [-9.80964620e-01,  2.55828990e-01],\n",
       "       [-9.30117257e-01,  2.25323259e-01],\n",
       "       [-8.36522015e-01,  1.63739738e-01],\n",
       "       [-3.55743643e-01, -9.22206755e-01],\n",
       "       [-1.04576050e+00,  2.51252531e-01],\n",
       "       [-1.12608128e+00,  2.96725100e-01],\n",
       "       [-1.23070052e+00,  3.40481496e-01],\n",
       "       [-1.25916151e+00,  3.55519840e-01],\n",
       "       [-1.31709592e+00,  3.85525022e-01],\n",
       "       [-7.76740371e-01,  4.40738239e-01],\n",
       "       [-1.11219475e+00, -3.73042838e-01],\n",
       "       [-5.81159970e-01, -5.75795957e-03],\n",
       "       [ 2.85624743e+00, -1.01502018e+00],\n",
       "       [ 6.64273521e-01, -9.13195651e-01],\n",
       "       [ 5.81596934e+00,  1.30458698e+01],\n",
       "       [ 4.59126725e+00,  8.57727453e+00],\n",
       "       [-4.49799135e-01, -6.26026767e-01],\n",
       "       [-1.11171396e+00,  3.50599460e-01],\n",
       "       [ 2.72347683e+00, -4.01317661e-01],\n",
       "       [ 2.61074880e+00, -4.18546854e-01],\n",
       "       [ 1.02917729e+00, -3.50635721e-01],\n",
       "       [ 2.52044682e+00, -1.16853790e+00],\n",
       "       [ 6.78169500e-01,  2.28374074e-02],\n",
       "       [ 1.82903307e+00, -1.24402855e+00],\n",
       "       [ 7.68660531e-01, -3.79532528e-01],\n",
       "       [ 5.04171149e-02, -7.44071423e-01],\n",
       "       [ 1.36454238e+00,  2.02401972e+00],\n",
       "       [ 1.35608638e-01, -7.49612734e-01],\n",
       "       [ 7.07719638e-01, -1.15357643e+00],\n",
       "       [-5.57195647e-01,  5.41183985e-02],\n",
       "       [ 4.17692902e-02, -6.99878798e-01],\n",
       "       [-1.55024471e-01, -8.67526104e-02],\n",
       "       [-8.46714425e-01,  1.36364155e-01],\n",
       "       [-9.51480971e-01,  2.66158849e-01],\n",
       "       [-1.17198663e+00, -2.37155621e-01],\n",
       "       [-8.09075565e-01, -5.52038271e-01],\n",
       "       [-9.49117722e-01,  2.15180227e-01],\n",
       "       [-9.20431148e-01,  1.66060792e-01],\n",
       "       [ 1.53254955e+00, -8.88180799e-01],\n",
       "       [-6.91497764e-01,  3.35263635e-01],\n",
       "       [ 2.79803525e+00, -4.57830729e-01],\n",
       "       [ 2.15469290e+00, -7.41948443e-01],\n",
       "       [ 2.21654021e+00, -1.17968134e+00],\n",
       "       [ 3.78308880e-01, -3.21860067e-01],\n",
       "       [-8.34255249e-01,  1.97582498e-01],\n",
       "       [-1.04045642e+00,  2.85309812e-01],\n",
       "       [-1.11699084e+00,  2.62452690e-01],\n",
       "       [-1.22640889e+00,  3.74467271e-01],\n",
       "       [-1.06880462e+00,  2.83307611e-01],\n",
       "       [-8.14567802e-01,  1.30778952e-01],\n",
       "       [-1.26893118e+00,  3.71463969e-01],\n",
       "       [ 3.91877069e-01, -1.68783413e-01],\n",
       "       [-5.06226130e-01,  2.20750825e-01],\n",
       "       [-1.28524294e+00,  3.87360399e-01],\n",
       "       [ 5.14828029e+00, -8.83799683e-01],\n",
       "       [ 1.59954510e+00, -9.21149437e-01],\n",
       "       [-8.44050147e-01,  3.72434204e-01],\n",
       "       [ 4.48282288e-01, -3.71666894e-01],\n",
       "       [-1.09066209e+00,  4.53963039e-01],\n",
       "       [-4.27959176e-01, -2.00907963e-01],\n",
       "       [ 4.03547097e-02, -2.50386065e-01],\n",
       "       [-3.15464040e-01, -5.38864877e-02],\n",
       "       [-1.11360973e+00,  4.01196737e-01],\n",
       "       [-1.18448022e+00,  3.96191235e-01],\n",
       "       [-1.25253899e+00,  4.25481344e-01],\n",
       "       [-1.26063847e+00,  4.24909287e-01],\n",
       "       [-1.23521479e+00,  4.09656421e-01],\n",
       "       [-6.80171824e-01,  2.61324850e-01],\n",
       "       [ 1.72430876e+00, -4.31111229e-01],\n",
       "       [ 8.50520639e-01,  2.33047842e-01],\n",
       "       [ 8.07239621e-01, -4.54506206e-01],\n",
       "       [ 1.52140538e+00,  1.06529769e+00],\n",
       "       [ 7.82306628e-01, -4.14737461e-01],\n",
       "       [ 8.26403254e-01, -6.83851054e-01],\n",
       "       [ 1.29714620e+00, -1.29329367e+00],\n",
       "       [ 7.54071885e-01,  3.22979728e-01],\n",
       "       [-1.94597327e-01, -2.49885476e-02],\n",
       "       [ 2.68805666e-01, -2.98729059e-01],\n",
       "       [-3.06974974e-01, -1.86362262e-01],\n",
       "       [-2.32092533e-01, -2.83767541e-01],\n",
       "       [-8.66819444e-01,  1.83663910e-01],\n",
       "       [-5.27199663e-01, -1.39797817e-02],\n",
       "       [-1.08404462e+00,  2.53564100e-01],\n",
       "       [-9.75326837e-01,  1.20901294e-01],\n",
       "       [-5.92556803e-01, -8.67899307e-02],\n",
       "       [ 1.82717767e+00, -6.83069843e-01],\n",
       "       [ 1.11759575e+00, -1.73679244e-01],\n",
       "       [ 2.21008343e-01, -6.52506065e-01],\n",
       "       [ 3.85273873e-01, -8.99931936e-01],\n",
       "       [ 5.26158176e-01, -3.74859996e-01],\n",
       "       [ 3.49690251e-01, -9.99143298e-01],\n",
       "       [-8.83612845e-01,  1.38318777e-01],\n",
       "       [-1.09787425e+00,  2.43925504e-01],\n",
       "       [-8.24804385e-01,  4.33697241e-01],\n",
       "       [ 2.68856090e+00, -1.29953420e-01],\n",
       "       [ 2.01642478e+00, -1.12218788e+00],\n",
       "       [ 8.14178835e-01, -3.20017326e-01],\n",
       "       [ 1.37111549e+00,  9.33840702e-01],\n",
       "       [-7.03140700e-01,  2.08669433e-01],\n",
       "       [-9.78638663e-01,  3.59696441e-01],\n",
       "       [-9.50064882e-01,  3.27617551e-01],\n",
       "       [-7.41666820e-01, -3.68144531e-01],\n",
       "       [-1.11959279e+00,  3.83838034e-01],\n",
       "       [-1.21172443e+00,  3.77330880e-01],\n",
       "       [ 2.53510213e+00, -1.19399182e+00],\n",
       "       [ 1.10619982e+00,  1.25393927e-02],\n",
       "       [-4.01432206e-01,  7.65421574e-02],\n",
       "       [-5.23262851e-01,  1.19082932e-01],\n",
       "       [-8.46559801e-01,  9.20983779e-02],\n",
       "       [-9.12853796e-01,  2.24610345e-01],\n",
       "       [-1.15359057e+00,  3.26946960e-01],\n",
       "       [ 1.62960556e+00, -9.02254566e-02],\n",
       "       [ 3.83516676e-01, -4.28132442e-01],\n",
       "       [ 4.08743873e+00, -1.62610046e+00],\n",
       "       [ 1.51309448e+00, -3.31708467e-01],\n",
       "       [ 2.17083354e+00, -1.17204807e+00],\n",
       "       [ 3.89012222e-02,  2.93892277e-01],\n",
       "       [ 9.27994557e-01, -2.79480634e-01],\n",
       "       [ 7.04584261e-01, -5.92311575e-01],\n",
       "       [ 1.64815453e+00, -7.44807258e-01],\n",
       "       [ 3.82624774e-01, -6.22718093e-02],\n",
       "       [ 2.59671600e-01, -1.56198413e-01],\n",
       "       [-8.27792931e-01, -3.78196313e-01],\n",
       "       [-7.29749410e-01,  1.65632597e-01],\n",
       "       [-1.03970438e+00,  4.33547353e-01],\n",
       "       [-6.14241548e-01, -2.32297203e-01],\n",
       "       [-1.31936264e-01, -8.22570058e-01],\n",
       "       [-7.64357314e-01,  1.46542839e-01],\n",
       "       [-9.06436670e-01,  1.87653469e-01],\n",
       "       [ 1.45102598e+00, -1.31740191e+00],\n",
       "       [-1.34148877e+00,  3.09959766e-01],\n",
       "       [-6.80838482e-01,  3.57023823e-01],\n",
       "       [ 3.33825973e+00, -9.28618554e-01],\n",
       "       [ 4.63273140e-01,  4.54879652e-01],\n",
       "       [ 5.70021242e-01,  3.20459807e-01],\n",
       "       [ 1.18627572e+00, -1.24850431e-01],\n",
       "       [ 2.76451509e-01, -2.26556942e-01],\n",
       "       [ 2.01516148e-01, -2.31879293e-01],\n",
       "       [ 1.06771162e+00,  9.92034995e-02],\n",
       "       [ 3.96548486e-01, -6.30294695e-01],\n",
       "       [ 3.24022388e-01, -4.09756304e-02],\n",
       "       [ 4.65540480e-01, -1.50319950e-01],\n",
       "       [-3.40927584e-01,  1.84835892e-01],\n",
       "       [-2.67864085e-01, -7.40860397e-01],\n",
       "       [-6.00190010e-01,  1.20256043e-01],\n",
       "       [-1.14098266e+00,  4.69299141e-01],\n",
       "       [-7.20569137e-01, -4.36145214e-01],\n",
       "       [-2.18171895e-02, -2.36290081e-01],\n",
       "       [-2.17433863e-01, -5.71916609e-01],\n",
       "       [-3.37676537e-01, -6.63316604e-01],\n",
       "       [-2.82426508e-01, -8.38084337e-02],\n",
       "       [-6.72420702e-01, -5.17987104e-01],\n",
       "       [-6.33070287e-01,  9.60081336e-02],\n",
       "       [-5.98841923e-01, -5.87767229e-01],\n",
       "       [-8.44446432e-01,  2.00418458e-01],\n",
       "       [-6.24745217e-01,  6.24991001e-02],\n",
       "       [-9.48053237e-01,  2.44246361e-01],\n",
       "       [-9.64628374e-01,  1.91527072e-01],\n",
       "       [-9.78426303e-01,  2.42101146e-01],\n",
       "       [-8.57382508e-01,  1.65407773e-01],\n",
       "       [-1.06572135e+00,  2.70032619e-01],\n",
       "       [-1.07078352e+00,  2.69675083e-01],\n",
       "       [-1.12669307e+00,  2.99823279e-01],\n",
       "       [-7.12827110e-01,  5.62779751e-02],\n",
       "       [-1.06155881e+00,  2.53278102e-01],\n",
       "       [-9.63913827e-01,  1.91980610e-01],\n",
       "       [-1.13063001e+00,  2.82496705e-01],\n",
       "       [-1.12140530e+00,  2.66099724e-01],\n",
       "       [-1.23119951e+00,  3.26539130e-01],\n",
       "       [-1.60705956e-01, -2.62745079e-01],\n",
       "       [-5.12432592e-02,  1.18398636e-02],\n",
       "       [-5.12432592e-02,  1.18398636e-02],\n",
       "       [-8.53510406e-01,  4.72554470e-01],\n",
       "       [-5.15182813e-01,  1.09392783e-01],\n",
       "       [-1.27650029e+00,  3.78259747e-01],\n",
       "       [-1.02766403e+00,  2.76495188e-01],\n",
       "       [-1.30293641e+00,  3.93441105e-01],\n",
       "       [-7.51379220e-01,  1.59620778e-01],\n",
       "       [-1.04779995e+00,  2.58024499e-01],\n",
       "       [-7.55493809e-01,  4.49154872e-01],\n",
       "       [-5.69589292e-01,  8.72178369e-02],\n",
       "       [-7.55493809e-01,  4.49154872e-01],\n",
       "       [ 2.07383860e+00, -1.90905896e+00],\n",
       "       [-5.76470569e-01,  1.49423709e-01],\n",
       "       [ 7.85939284e-01, -5.50572486e-01],\n",
       "       [-4.41258897e-01,  1.46983435e-01],\n",
       "       [-1.16337056e+00,  3.84440032e-01],\n",
       "       [-9.92496391e-01, -3.42708144e-01],\n",
       "       [-4.02566107e-01, -4.78453634e-02],\n",
       "       [-8.27456060e-01,  1.77872816e-01],\n",
       "       [-7.97869843e-01,  1.45865433e-01],\n",
       "       [-1.13535818e+00,  3.99863592e-01],\n",
       "       [-1.21871628e+00,  4.45121640e-01],\n",
       "       [-1.22362806e+00,  3.47897029e-01],\n",
       "       [-7.97252193e-01,  5.73414686e-01],\n",
       "       [-9.37623714e-01,  5.29824626e-01],\n",
       "       [ 1.09230424e+00, -5.11617152e-01],\n",
       "       [ 2.23540153e-01, -3.84204388e-01],\n",
       "       [-5.50870633e-01,  4.03703954e-01],\n",
       "       [-1.77614893e-01,  1.74338908e-01],\n",
       "       [-5.32979772e-01,  1.49239887e-01],\n",
       "       [-8.76423710e-01,  3.12516459e-01],\n",
       "       [-1.83796900e-01, -1.15922422e-01],\n",
       "       [-1.32516094e+00,  4.68356284e-01],\n",
       "       [ 4.61333642e-02,  1.90141996e-01],\n",
       "       [-5.24880288e-01,  1.49811944e-01],\n",
       "       [ 8.49668815e-01,  2.98040337e-01],\n",
       "       [ 6.86634471e-01, -2.06173700e-01],\n",
       "       [ 7.73640824e-02, -5.10843264e-01],\n",
       "       [ 2.20479464e-01, -1.00701530e-01],\n",
       "       [ 5.89126897e-01, -5.52022711e-01],\n",
       "       [ 2.30496426e-01, -3.89818746e-01],\n",
       "       [-2.98113124e-01, -1.03232118e-01],\n",
       "       [-3.43559931e-01, -1.23490486e-01],\n",
       "       [-6.59705339e-01, -5.47640203e-01],\n",
       "       [-8.57657006e-01,  1.12975606e-01],\n",
       "       [ 1.55363759e+00,  7.00386634e-02],\n",
       "       [ 1.03271310e-01, -2.54029730e-01],\n",
       "       [-7.91510453e-01,  1.82238076e-01],\n",
       "       [-7.95560196e-01,  1.81952047e-01],\n",
       "       [ 2.32185482e-01, -3.76254373e-01],\n",
       "       [-9.17503633e-01,  2.41533367e-01],\n",
       "       [ 1.25102323e+00,  2.58305885e-01],\n",
       "       [ 3.31662458e-01,  5.65631250e-02],\n",
       "       [-7.08856354e-01, -3.09161736e-01],\n",
       "       [-7.68111643e-01,  1.66842196e-01],\n",
       "       [ 2.71706632e+00,  1.00915381e+00],\n",
       "       [ 4.45457507e-01,  4.57137363e-01],\n",
       "       [-4.61950792e-01,  2.59010544e-01],\n",
       "       [ 2.54286544e-01, -8.36091118e-01],\n",
       "       [-2.62814254e-01, -1.07686745e-01],\n",
       "       [-5.46411701e-01,  4.27682056e-02],\n",
       "       [-1.19847279e+00,  3.22696137e-01],\n",
       "       [-2.66688304e-01,  3.04882769e-02],\n",
       "       [-8.98289367e-01,  2.70330075e-01],\n",
       "       [-1.14959897e+00,  2.86677384e-01],\n",
       "       [-1.26066899e+00,  2.78429563e-01],\n",
       "       [-3.58655818e-01,  1.57057089e-03],\n",
       "       [-1.01932438e+00,  2.36071172e-01],\n",
       "       [-1.26017395e+00,  3.55448333e-01],\n",
       "       [-8.94569219e-01,  2.10785465e-01],\n",
       "       [-8.74094923e-01,  1.78134517e-01],\n",
       "       [-1.23981244e+00,  3.39837931e-01],\n",
       "       [-3.47120107e-01, -6.30966840e-01],\n",
       "       [-8.46999333e-01,  2.21061285e-01],\n",
       "       [ 1.52383369e+00, -6.93737629e-01],\n",
       "       [ 1.10841896e+00,  4.36566455e+00],\n",
       "       [-3.31958407e-02,  3.73500006e-01],\n",
       "       [-2.85625272e-01,  9.99435205e-02],\n",
       "       [-1.24384588e+00,  4.07332739e-01],\n",
       "       [-7.82057072e-01,  1.16026637e-01],\n",
       "       [-8.65534179e-01,  2.51577228e-01],\n",
       "       [ 6.36232250e-01, -4.41362773e-01],\n",
       "       [-1.27208750e+00,  4.61541991e-01],\n",
       "       [-1.28119942e+00,  4.60898426e-01],\n",
       "       [-1.09763488e+00,  2.88601738e-01],\n",
       "       [ 3.46634905e+00,  3.78639074e+00],\n",
       "       [ 8.75221345e-01,  2.86531307e+00],\n",
       "       [ 1.50548847e+00, -1.03886789e+00],\n",
       "       [ 1.19673990e+00, -4.90573060e-01],\n",
       "       [-9.12966402e-01,  2.46943377e-01],\n",
       "       [-1.13657847e+00,  2.32805181e-01],\n",
       "       [ 2.92464866e+00, -1.57327840e+00],\n",
       "       [ 9.25623517e-01, -7.66624843e-01],\n",
       "       [ 3.09465308e+00, -1.65055722e+00],\n",
       "       [-8.13608831e-01,  1.02179556e-01],\n",
       "       [-1.13972857e+00,  2.49631205e-01],\n",
       "       [-1.16301459e+00,  2.47986540e-01],\n",
       "       [-1.20967293e+00,  3.04012713e-01]])"
      ]
     },
     "execution_count": 76,
     "metadata": {},
     "output_type": "execute_result"
    }
   ],
   "source": [
    "pca2= PCA(n_components=2)\n",
    "pca2.fit(df_buy_try_standard)\n",
    "df_pca2 = pca2.transform(df_buy_try_standard)\n",
    "df_pca2"
   ]
  },
  {
   "cell_type": "code",
   "execution_count": 77,
   "metadata": {},
   "outputs": [
    {
     "data": {
      "text/plain": [
       "500"
      ]
     },
     "execution_count": 77,
     "metadata": {},
     "output_type": "execute_result"
    }
   ],
   "source": [
    "len(df_pca2)"
   ]
  },
  {
   "cell_type": "markdown",
   "metadata": {},
   "source": [
    "## Buy + Try Elbow 1"
   ]
  },
  {
   "cell_type": "code",
   "execution_count": 78,
   "metadata": {},
   "outputs": [
    {
     "data": {
      "image/png": "[encoded data removed]",
      "text/plain": [
       "<Figure size 432x288 with 1 Axes>"
      ]
     },
     "metadata": {
      "needs_background": "light"
     },
     "output_type": "display_data"
    }
   ],
   "source": [
    "from sklearn import metrics\n",
    "from scipy.spatial.distance import cdist\n",
    "\n",
    "K = range(1,17)\n",
    "distortions= []\n",
    "for k in K:\n",
    "    kmeansModel = KMeans(k)\n",
    "    kmeansModel.fit(df_pca2)\n",
    "    distortions.append(sum(np.min(cdist(df_pca2, kmeansModel.cluster_centers_, 'euclidean'), axis=1)) / df_pca2.shape[0])\n",
    "\n",
    "    # Plot the elbow\n",
    "plt.plot(K, distortions, 'bx-')\n",
    "plt.xlabel('k')\n",
    "plt.ylabel('Distortion')\n",
    "plt.title('The Elbow Method showing the optimal k')\n",
    "plt.show()"
   ]
  },
  {
   "cell_type": "code",
   "execution_count": 79,
   "metadata": {},
   "outputs": [],
   "source": [
    "### K =4"
   ]
  },
  {
   "cell_type": "code",
   "execution_count": 80,
   "metadata": {},
   "outputs": [
    {
     "data": {
      "image/png": "[encoded data removed]",
      "text/plain": [
       "<Figure size 432x288 with 1 Axes>"
      ]
     },
     "metadata": {
      "needs_background": "light"
     },
     "output_type": "display_data"
    }
   ],
   "source": [
    "wcss = []\n",
    "for i in range(1,18):\n",
    "    km=KMeans(n_clusters=i,init='k-means++', max_iter=300, n_init=10, random_state=0)\n",
    "    km.fit(df_pca2)\n",
    "    wcss.append(km.inertia_)\n",
    "plt.plot(range(1,18),wcss, 'bx-')\n",
    "plt.title('Elbow Method')\n",
    "plt.xlabel('Number of clusters')\n",
    "plt.ylabel('wcss')\n",
    "plt.show()"
   ]
  },
  {
   "cell_type": "markdown",
   "metadata": {},
   "source": [
    "## KMeans clustering"
   ]
  },
  {
   "cell_type": "code",
   "execution_count": 81,
   "metadata": {},
   "outputs": [
    {
     "name": "stdout",
     "output_type": "stream",
     "text": [
      "769.1642354554695 <bound method KMeans.score of KMeans(algorithm='auto', copy_x=True, init='k-means++', max_iter=300,\n",
      "       n_clusters=2, n_init=10, n_jobs=None, precompute_distances='auto',\n",
      "       random_state=0, tol=0.0001, verbose=0)>\n",
      "416.91192806034303 <bound method KMeans.score of KMeans(algorithm='auto', copy_x=True, init='k-means++', max_iter=300,\n",
      "       n_clusters=3, n_init=10, n_jobs=None, precompute_distances='auto',\n",
      "       random_state=0, tol=0.0001, verbose=0)>\n",
      "300.92985047948133 <bound method KMeans.score of KMeans(algorithm='auto', copy_x=True, init='k-means++', max_iter=300,\n",
      "       n_clusters=4, n_init=10, n_jobs=None, precompute_distances='auto',\n",
      "       random_state=0, tol=0.0001, verbose=0)>\n",
      "221.46326938676495 <bound method KMeans.score of KMeans(algorithm='auto', copy_x=True, init='k-means++', max_iter=300,\n",
      "       n_clusters=5, n_init=10, n_jobs=None, precompute_distances='auto',\n",
      "       random_state=0, tol=0.0001, verbose=0)>\n",
      "167.75910402599874 <bound method KMeans.score of KMeans(algorithm='auto', copy_x=True, init='k-means++', max_iter=300,\n",
      "       n_clusters=6, n_init=10, n_jobs=None, precompute_distances='auto',\n",
      "       random_state=0, tol=0.0001, verbose=0)>\n"
     ]
    }
   ],
   "source": [
    "#K means Clustering \n",
    "def doKmeans(X, nclust=2):\n",
    "    model = KMeans(n_clusters=nclust,init='k-means++', max_iter=300, n_init=10, random_state=0)\n",
    "    model.fit(X)\n",
    "    clust_labels = model.predict(X)\n",
    "    cent = model.cluster_centers_\n",
    "    print (model.inertia_, model.score)\n",
    "    return (clust_labels, cent)\n",
    "\n",
    "#k=7\n",
    "clust_labels2, cent2 = doKmeans(df_pca2, 2)\n",
    "clust_labels3, cent3 = doKmeans(df_pca2, 3)\n",
    "clust_labels4, cent4 = doKmeans(df_pca2, 4)\n",
    "clust_labels5, cent5 = doKmeans(df_pca2, 5)\n",
    "clust_labels6, cent6 = doKmeans(df_pca2, 6)\n",
    "#clust_labels7, cent7 = doKmeans(df_pca, 7)\n",
    "#clust_labels8, cent8 = doKmeans(df_pca, 8)\n",
    "\n",
    "kmeans2 = pd.DataFrame(clust_labels2)\n",
    "kmeans3 = pd.DataFrame(clust_labels3)\n",
    "kmeans4 = pd.DataFrame(clust_labels4)\n",
    "kmeans5 = pd.DataFrame(clust_labels5)\n",
    "kmeans6 = pd.DataFrame(clust_labels6)\n",
    "\n"
   ]
  },
  {
   "cell_type": "code",
   "execution_count": 82,
   "metadata": {
    "scrolled": true
   },
   "outputs": [
    {
     "data": {
      "text/html": [
       "<div>\n",
       "<style scoped>\n",
       "    .dataframe tbody tr th:only-of-type {\n",
       "        vertical-align: middle;\n",
       "    }\n",
       "\n",
       "    .dataframe tbody tr th {\n",
       "        vertical-align: top;\n",
       "    }\n",
       "\n",
       "    .dataframe thead th {\n",
       "        text-align: right;\n",
       "    }\n",
       "</style>\n",
       "<table border=\"1\" class=\"dataframe\">\n",
       "  <thead>\n",
       "    <tr style=\"text-align: right;\">\n",
       "      <th></th>\n",
       "      <th>New Visitors Exists</th>\n",
       "      <th>Enter from Office.com</th>\n",
       "      <th>cluster2</th>\n",
       "      <th>cluster3</th>\n",
       "      <th>cluster4</th>\n",
       "      <th>cluster5</th>\n",
       "      <th>cluster6</th>\n",
       "    </tr>\n",
       "  </thead>\n",
       "  <tbody>\n",
       "    <tr>\n",
       "      <th>0</th>\n",
       "      <td>-0.219622</td>\n",
       "      <td>0.009645</td>\n",
       "      <td>1</td>\n",
       "      <td>0</td>\n",
       "      <td>1</td>\n",
       "      <td>0</td>\n",
       "      <td>5</td>\n",
       "    </tr>\n",
       "    <tr>\n",
       "      <th>1</th>\n",
       "      <td>1.503542</td>\n",
       "      <td>-0.599478</td>\n",
       "      <td>0</td>\n",
       "      <td>1</td>\n",
       "      <td>0</td>\n",
       "      <td>2</td>\n",
       "      <td>1</td>\n",
       "    </tr>\n",
       "    <tr>\n",
       "      <th>2</th>\n",
       "      <td>-0.083071</td>\n",
       "      <td>-0.173747</td>\n",
       "      <td>1</td>\n",
       "      <td>0</td>\n",
       "      <td>1</td>\n",
       "      <td>0</td>\n",
       "      <td>5</td>\n",
       "    </tr>\n",
       "    <tr>\n",
       "      <th>3</th>\n",
       "      <td>-0.833020</td>\n",
       "      <td>0.472274</td>\n",
       "      <td>1</td>\n",
       "      <td>0</td>\n",
       "      <td>1</td>\n",
       "      <td>0</td>\n",
       "      <td>0</td>\n",
       "    </tr>\n",
       "    <tr>\n",
       "      <th>4</th>\n",
       "      <td>3.418597</td>\n",
       "      <td>-0.592364</td>\n",
       "      <td>0</td>\n",
       "      <td>1</td>\n",
       "      <td>3</td>\n",
       "      <td>1</td>\n",
       "      <td>4</td>\n",
       "    </tr>\n",
       "  </tbody>\n",
       "</table>\n",
       "</div>"
      ],
      "text/plain": [
       "   New Visitors Exists  Enter from Office.com  cluster2  cluster3  cluster4  \\\n",
       "0            -0.219622               0.009645         1         0         1   \n",
       "1             1.503542              -0.599478         0         1         0   \n",
       "2            -0.083071              -0.173747         1         0         1   \n",
       "3            -0.833020               0.472274         1         0         1   \n",
       "4             3.418597              -0.592364         0         1         3   \n",
       "\n",
       "   cluster5  cluster6  \n",
       "0         0         5  \n",
       "1         2         1  \n",
       "2         0         5  \n",
       "3         0         0  \n",
       "4         1         4  "
      ]
     },
     "execution_count": 82,
     "metadata": {},
     "output_type": "execute_result"
    }
   ],
   "source": [
    "df_kmeans_result= pd.DataFrame(df_pca2, columns=df_buy_try_standard.columns[:2])\n",
    "df_kmeans_result['cluster2'] = kmeans2\n",
    "df_kmeans_result['cluster3'] = kmeans3\n",
    "df_kmeans_result['cluster4'] = kmeans4\n",
    "df_kmeans_result['cluster5'] = kmeans5\n",
    "df_kmeans_result['cluster6'] = kmeans6\n",
    "\n",
    "df_kmeans_result.head()"
   ]
  },
  {
   "cell_type": "code",
   "execution_count": 83,
   "metadata": {},
   "outputs": [
    {
     "data": {
      "text/plain": [
       "(500, 7)"
      ]
     },
     "execution_count": 83,
     "metadata": {},
     "output_type": "execute_result"
    }
   ],
   "source": [
    "df_kmeans_result.shape"
   ]
  },
  {
   "cell_type": "code",
   "execution_count": 84,
   "metadata": {},
   "outputs": [
    {
     "data": {
      "text/plain": [
       "array([[ 0.71567097, -0.41957263],\n",
       "       [-0.75134999,  0.14349243],\n",
       "       [ 3.25775571,  6.06539046],\n",
       "       [ 2.83034834, -0.90408084]])"
      ]
     },
     "execution_count": 84,
     "metadata": {},
     "output_type": "execute_result"
    }
   ],
   "source": [
    "cent4"
   ]
  },
  {
   "cell_type": "code",
   "execution_count": 85,
   "metadata": {},
   "outputs": [
    {
     "ename": "ValueError",
     "evalue": "Shape of passed values is (2, 2), indices imply (2, 7)",
     "output_type": "error",
     "traceback": [
      "\u001b[0;31m---------------------------------------------------------------------------\u001b[0m",
      "\u001b[0;31mValueError\u001b[0m                                Traceback (most recent call last)",
      "\u001b[0;32m~/anaconda3/lib/python3.7/site-packages/pandas/core/internals/managers.py\u001b[0m in \u001b[0;36mcreate_block_manager_from_blocks\u001b[0;34m(blocks, axes)\u001b[0m\n\u001b[1;32m   1650\u001b[0m                 blocks = [make_block(values=blocks[0],\n\u001b[0;32m-> 1651\u001b[0;31m                                      placement=slice(0, len(axes[0])))]\n\u001b[0m\u001b[1;32m   1652\u001b[0m \u001b[0;34m\u001b[0m\u001b[0m\n",
      "\u001b[0;32m~/anaconda3/lib/python3.7/site-packages/pandas/core/internals/blocks.py\u001b[0m in \u001b[0;36mmake_block\u001b[0;34m(values, placement, klass, ndim, dtype, fastpath)\u001b[0m\n\u001b[1;32m   3094\u001b[0m \u001b[0;34m\u001b[0m\u001b[0m\n\u001b[0;32m-> 3095\u001b[0;31m     \u001b[0;32mreturn\u001b[0m \u001b[0mklass\u001b[0m\u001b[0;34m(\u001b[0m\u001b[0mvalues\u001b[0m\u001b[0;34m,\u001b[0m \u001b[0mndim\u001b[0m\u001b[0;34m=\u001b[0m\u001b[0mndim\u001b[0m\u001b[0;34m,\u001b[0m \u001b[0mplacement\u001b[0m\u001b[0;34m=\u001b[0m\u001b[0mplacement\u001b[0m\u001b[0;34m)\u001b[0m\u001b[0;34m\u001b[0m\u001b[0;34m\u001b[0m\u001b[0m\n\u001b[0m\u001b[1;32m   3096\u001b[0m \u001b[0;34m\u001b[0m\u001b[0m\n",
      "\u001b[0;32m~/anaconda3/lib/python3.7/site-packages/pandas/core/internals/blocks.py\u001b[0m in \u001b[0;36m__init__\u001b[0;34m(self, values, placement, ndim)\u001b[0m\n\u001b[1;32m     86\u001b[0m                 \u001b[0;34m'Wrong number of items passed {val}, placement implies '\u001b[0m\u001b[0;34m\u001b[0m\u001b[0;34m\u001b[0m\u001b[0m\n\u001b[0;32m---> 87\u001b[0;31m                 '{mgr}'.format(val=len(self.values), mgr=len(self.mgr_locs)))\n\u001b[0m\u001b[1;32m     88\u001b[0m \u001b[0;34m\u001b[0m\u001b[0m\n",
      "\u001b[0;31mValueError\u001b[0m: Wrong number of items passed 2, placement implies 7",
      "\nDuring handling of the above exception, another exception occurred:\n",
      "\u001b[0;31mValueError\u001b[0m                                Traceback (most recent call last)",
      "\u001b[0;32m<ipython-input-85-d1edfab8c9fe>\u001b[0m in \u001b[0;36m<module>\u001b[0;34m\u001b[0m\n\u001b[0;32m----> 1\u001b[0;31m \u001b[0mdf_centroid2\u001b[0m \u001b[0;34m=\u001b[0m \u001b[0mpd\u001b[0m\u001b[0;34m.\u001b[0m\u001b[0mDataFrame\u001b[0m\u001b[0;34m(\u001b[0m\u001b[0mcent2\u001b[0m\u001b[0;34m,\u001b[0m \u001b[0mcolumns\u001b[0m\u001b[0;34m=\u001b[0m\u001b[0mdf_buy_try_standard\u001b[0m\u001b[0;34m.\u001b[0m\u001b[0mcolumns\u001b[0m\u001b[0;34m[\u001b[0m\u001b[0;34m:\u001b[0m\u001b[0;36m7\u001b[0m\u001b[0;34m]\u001b[0m\u001b[0;34m)\u001b[0m\u001b[0;34m\u001b[0m\u001b[0;34m\u001b[0m\u001b[0m\n\u001b[0m\u001b[1;32m      2\u001b[0m \u001b[0mdf_centroid2\u001b[0m\u001b[0;34m.\u001b[0m\u001b[0mhead\u001b[0m\u001b[0;34m(\u001b[0m\u001b[0;34m)\u001b[0m\u001b[0;34m\u001b[0m\u001b[0;34m\u001b[0m\u001b[0m\n",
      "\u001b[0;32m~/anaconda3/lib/python3.7/site-packages/pandas/core/frame.py\u001b[0m in \u001b[0;36m__init__\u001b[0;34m(self, data, index, columns, dtype, copy)\u001b[0m\n\u001b[1;32m    422\u001b[0m             \u001b[0;32melse\u001b[0m\u001b[0;34m:\u001b[0m\u001b[0;34m\u001b[0m\u001b[0;34m\u001b[0m\u001b[0m\n\u001b[1;32m    423\u001b[0m                 mgr = init_ndarray(data, index, columns, dtype=dtype,\n\u001b[0;32m--> 424\u001b[0;31m                                    copy=copy)\n\u001b[0m\u001b[1;32m    425\u001b[0m \u001b[0;34m\u001b[0m\u001b[0m\n\u001b[1;32m    426\u001b[0m         \u001b[0;31m# For data is list-like, or Iterable (will consume into list)\u001b[0m\u001b[0;34m\u001b[0m\u001b[0;34m\u001b[0m\u001b[0;34m\u001b[0m\u001b[0m\n",
      "\u001b[0;32m~/anaconda3/lib/python3.7/site-packages/pandas/core/internals/construction.py\u001b[0m in \u001b[0;36minit_ndarray\u001b[0;34m(values, index, columns, dtype, copy)\u001b[0m\n\u001b[1;32m    165\u001b[0m         \u001b[0mvalues\u001b[0m \u001b[0;34m=\u001b[0m \u001b[0mmaybe_infer_to_datetimelike\u001b[0m\u001b[0;34m(\u001b[0m\u001b[0mvalues\u001b[0m\u001b[0;34m)\u001b[0m\u001b[0;34m\u001b[0m\u001b[0;34m\u001b[0m\u001b[0m\n\u001b[1;32m    166\u001b[0m \u001b[0;34m\u001b[0m\u001b[0m\n\u001b[0;32m--> 167\u001b[0;31m     \u001b[0;32mreturn\u001b[0m \u001b[0mcreate_block_manager_from_blocks\u001b[0m\u001b[0;34m(\u001b[0m\u001b[0;34m[\u001b[0m\u001b[0mvalues\u001b[0m\u001b[0;34m]\u001b[0m\u001b[0;34m,\u001b[0m \u001b[0;34m[\u001b[0m\u001b[0mcolumns\u001b[0m\u001b[0;34m,\u001b[0m \u001b[0mindex\u001b[0m\u001b[0;34m]\u001b[0m\u001b[0;34m)\u001b[0m\u001b[0;34m\u001b[0m\u001b[0;34m\u001b[0m\u001b[0m\n\u001b[0m\u001b[1;32m    168\u001b[0m \u001b[0;34m\u001b[0m\u001b[0m\n\u001b[1;32m    169\u001b[0m \u001b[0;34m\u001b[0m\u001b[0m\n",
      "\u001b[0;32m~/anaconda3/lib/python3.7/site-packages/pandas/core/internals/managers.py\u001b[0m in \u001b[0;36mcreate_block_manager_from_blocks\u001b[0;34m(blocks, axes)\u001b[0m\n\u001b[1;32m   1658\u001b[0m         \u001b[0mblocks\u001b[0m \u001b[0;34m=\u001b[0m \u001b[0;34m[\u001b[0m\u001b[0mgetattr\u001b[0m\u001b[0;34m(\u001b[0m\u001b[0mb\u001b[0m\u001b[0;34m,\u001b[0m \u001b[0;34m'values'\u001b[0m\u001b[0;34m,\u001b[0m \u001b[0mb\u001b[0m\u001b[0;34m)\u001b[0m \u001b[0;32mfor\u001b[0m \u001b[0mb\u001b[0m \u001b[0;32min\u001b[0m \u001b[0mblocks\u001b[0m\u001b[0;34m]\u001b[0m\u001b[0;34m\u001b[0m\u001b[0;34m\u001b[0m\u001b[0m\n\u001b[1;32m   1659\u001b[0m         \u001b[0mtot_items\u001b[0m \u001b[0;34m=\u001b[0m \u001b[0msum\u001b[0m\u001b[0;34m(\u001b[0m\u001b[0mb\u001b[0m\u001b[0;34m.\u001b[0m\u001b[0mshape\u001b[0m\u001b[0;34m[\u001b[0m\u001b[0;36m0\u001b[0m\u001b[0;34m]\u001b[0m \u001b[0;32mfor\u001b[0m \u001b[0mb\u001b[0m \u001b[0;32min\u001b[0m \u001b[0mblocks\u001b[0m\u001b[0;34m)\u001b[0m\u001b[0;34m\u001b[0m\u001b[0;34m\u001b[0m\u001b[0m\n\u001b[0;32m-> 1660\u001b[0;31m         \u001b[0mconstruction_error\u001b[0m\u001b[0;34m(\u001b[0m\u001b[0mtot_items\u001b[0m\u001b[0;34m,\u001b[0m \u001b[0mblocks\u001b[0m\u001b[0;34m[\u001b[0m\u001b[0;36m0\u001b[0m\u001b[0;34m]\u001b[0m\u001b[0;34m.\u001b[0m\u001b[0mshape\u001b[0m\u001b[0;34m[\u001b[0m\u001b[0;36m1\u001b[0m\u001b[0;34m:\u001b[0m\u001b[0;34m]\u001b[0m\u001b[0;34m,\u001b[0m \u001b[0maxes\u001b[0m\u001b[0;34m,\u001b[0m \u001b[0me\u001b[0m\u001b[0;34m)\u001b[0m\u001b[0;34m\u001b[0m\u001b[0;34m\u001b[0m\u001b[0m\n\u001b[0m\u001b[1;32m   1661\u001b[0m \u001b[0;34m\u001b[0m\u001b[0m\n\u001b[1;32m   1662\u001b[0m \u001b[0;34m\u001b[0m\u001b[0m\n",
      "\u001b[0;32m~/anaconda3/lib/python3.7/site-packages/pandas/core/internals/managers.py\u001b[0m in \u001b[0;36mconstruction_error\u001b[0;34m(tot_items, block_shape, axes, e)\u001b[0m\n\u001b[1;32m   1689\u001b[0m         \u001b[0;32mraise\u001b[0m \u001b[0mValueError\u001b[0m\u001b[0;34m(\u001b[0m\u001b[0;34m\"Empty data passed with indices specified.\"\u001b[0m\u001b[0;34m)\u001b[0m\u001b[0;34m\u001b[0m\u001b[0;34m\u001b[0m\u001b[0m\n\u001b[1;32m   1690\u001b[0m     raise ValueError(\"Shape of passed values is {0}, indices imply {1}\".format(\n\u001b[0;32m-> 1691\u001b[0;31m         passed, implied))\n\u001b[0m\u001b[1;32m   1692\u001b[0m \u001b[0;34m\u001b[0m\u001b[0m\n\u001b[1;32m   1693\u001b[0m \u001b[0;34m\u001b[0m\u001b[0m\n",
      "\u001b[0;31mValueError\u001b[0m: Shape of passed values is (2, 2), indices imply (2, 7)"
     ]
    }
   ],
   "source": [
    "df_centroid2 = pd.DataFrame(cent2, columns=df_buy_try_standard.columns[:7]) \n",
    "df_centroid2.head()"
   ]
  },
  {
   "cell_type": "code",
   "execution_count": 86,
   "metadata": {},
   "outputs": [
    {
     "ename": "NameError",
     "evalue": "name 'df_centroid2' is not defined",
     "output_type": "error",
     "traceback": [
      "\u001b[0;31m---------------------------------------------------------------------------\u001b[0m",
      "\u001b[0;31mNameError\u001b[0m                                 Traceback (most recent call last)",
      "\u001b[0;32m<ipython-input-86-4f15c93b292d>\u001b[0m in \u001b[0;36m<module>\u001b[0;34m\u001b[0m\n\u001b[0;32m----> 1\u001b[0;31m \u001b[0mdf_centroid2\u001b[0m\u001b[0;34m.\u001b[0m\u001b[0mto_csv\u001b[0m\u001b[0;34m(\u001b[0m\u001b[0;34m\"df_centroid2.csv\"\u001b[0m\u001b[0;34m)\u001b[0m\u001b[0;34m\u001b[0m\u001b[0;34m\u001b[0m\u001b[0m\n\u001b[0m",
      "\u001b[0;31mNameError\u001b[0m: name 'df_centroid2' is not defined"
     ]
    }
   ],
   "source": [
    "df_centroid2.to_csv(\"df_centroid2.csv\")"
   ]
  },
  {
   "cell_type": "code",
   "execution_count": 87,
   "metadata": {},
   "outputs": [
    {
     "data": {
      "text/plain": [
       "array([1, 0])"
      ]
     },
     "execution_count": 87,
     "metadata": {},
     "output_type": "execute_result"
    }
   ],
   "source": [
    "df_kmeans_result['cluster2'].unique()"
   ]
  },
  {
   "cell_type": "code",
   "execution_count": 88,
   "metadata": {},
   "outputs": [
    {
     "data": {
      "image/png": "[encoded data removed]",
      "text/plain": [
       "<Figure size 432x288 with 2 Axes>"
      ]
     },
     "metadata": {
      "needs_background": "light"
     },
     "output_type": "display_data"
    },
    {
     "data": {
      "image/png": "[encoded data removed]",
      "text/plain": [
       "<Figure size 432x288 with 2 Axes>"
      ]
     },
     "metadata": {
      "needs_background": "light"
     },
     "output_type": "display_data"
    }
   ],
   "source": [
    "cols = df_kmeans_result.columns\n",
    "\n",
    "#group = (\"Paid Order\", \"Trial Order\")\n",
    "\n",
    "# plot from PCA\n",
    "for cc in range(0,2):\n",
    "    for r in range(0,2):\n",
    "        if cc == r:\n",
    "            continue\n",
    "        fig = plt.figure()\n",
    "        ax = fig.add_subplot(111)\n",
    "        scatter = ax.scatter(df_kmeans_result.iloc[:,cc],df_kmeans_result.iloc[:,r],\n",
    "                     c=df_kmeans_result['cluster2'],s=50)\n",
    "        #plt.ylim(-2, 20)\n",
    "        ax.set_title('K-Means Clustering')\n",
    "        ax.set_xlabel(cols[cc])\n",
    "        ax.set_ylabel(cols[r])\n",
    "        plt.colorbar(scatter)\n",
    "        plt.scatter(cent2[:, cc], cent2[:,r], marker='*', s=200, c='#050505')\n",
    "        plt.ylim(-3,8)\n",
    "        #plt.legend(df_kmeans_result['cluster2'].unique())\n",
    "        "
   ]
  },
  {
   "cell_type": "code",
   "execution_count": 89,
   "metadata": {},
   "outputs": [
    {
     "data": {
      "text/plain": [
       "1    379\n",
       "0    121\n",
       "Name: cluster2, dtype: int64"
      ]
     },
     "execution_count": 89,
     "metadata": {},
     "output_type": "execute_result"
    }
   ],
   "source": [
    "df_kmeans_result['cluster2'].value_counts()"
   ]
  },
  {
   "cell_type": "code",
   "execution_count": 90,
   "metadata": {},
   "outputs": [
    {
     "data": {
      "text/html": [
       "<div>\n",
       "<style scoped>\n",
       "    .dataframe tbody tr th:only-of-type {\n",
       "        vertical-align: middle;\n",
       "    }\n",
       "\n",
       "    .dataframe tbody tr th {\n",
       "        vertical-align: top;\n",
       "    }\n",
       "\n",
       "    .dataframe thead th {\n",
       "        text-align: right;\n",
       "    }\n",
       "</style>\n",
       "<table border=\"1\" class=\"dataframe\">\n",
       "  <thead>\n",
       "    <tr style=\"text-align: right;\">\n",
       "      <th></th>\n",
       "      <th>New Visitors Exists</th>\n",
       "      <th>Enter from Office.com</th>\n",
       "      <th>cluster2</th>\n",
       "      <th>cluster3</th>\n",
       "      <th>cluster4</th>\n",
       "      <th>cluster5</th>\n",
       "      <th>cluster6</th>\n",
       "      <th>cluster2_corrected</th>\n",
       "    </tr>\n",
       "  </thead>\n",
       "  <tbody>\n",
       "    <tr>\n",
       "      <th>0</th>\n",
       "      <td>-0.219622</td>\n",
       "      <td>0.009645</td>\n",
       "      <td>1</td>\n",
       "      <td>0</td>\n",
       "      <td>1</td>\n",
       "      <td>0</td>\n",
       "      <td>5</td>\n",
       "      <td>0</td>\n",
       "    </tr>\n",
       "    <tr>\n",
       "      <th>1</th>\n",
       "      <td>1.503542</td>\n",
       "      <td>-0.599478</td>\n",
       "      <td>0</td>\n",
       "      <td>1</td>\n",
       "      <td>0</td>\n",
       "      <td>2</td>\n",
       "      <td>1</td>\n",
       "      <td>1</td>\n",
       "    </tr>\n",
       "    <tr>\n",
       "      <th>2</th>\n",
       "      <td>-0.083071</td>\n",
       "      <td>-0.173747</td>\n",
       "      <td>1</td>\n",
       "      <td>0</td>\n",
       "      <td>1</td>\n",
       "      <td>0</td>\n",
       "      <td>5</td>\n",
       "      <td>0</td>\n",
       "    </tr>\n",
       "    <tr>\n",
       "      <th>3</th>\n",
       "      <td>-0.833020</td>\n",
       "      <td>0.472274</td>\n",
       "      <td>1</td>\n",
       "      <td>0</td>\n",
       "      <td>1</td>\n",
       "      <td>0</td>\n",
       "      <td>0</td>\n",
       "      <td>0</td>\n",
       "    </tr>\n",
       "    <tr>\n",
       "      <th>4</th>\n",
       "      <td>3.418597</td>\n",
       "      <td>-0.592364</td>\n",
       "      <td>0</td>\n",
       "      <td>1</td>\n",
       "      <td>3</td>\n",
       "      <td>1</td>\n",
       "      <td>4</td>\n",
       "      <td>1</td>\n",
       "    </tr>\n",
       "  </tbody>\n",
       "</table>\n",
       "</div>"
      ],
      "text/plain": [
       "   New Visitors Exists  Enter from Office.com  cluster2  cluster3  cluster4  \\\n",
       "0            -0.219622               0.009645         1         0         1   \n",
       "1             1.503542              -0.599478         0         1         0   \n",
       "2            -0.083071              -0.173747         1         0         1   \n",
       "3            -0.833020               0.472274         1         0         1   \n",
       "4             3.418597              -0.592364         0         1         3   \n",
       "\n",
       "   cluster5  cluster6  cluster2_corrected  \n",
       "0         0         5                   0  \n",
       "1         2         1                   1  \n",
       "2         0         5                   0  \n",
       "3         0         0                   0  \n",
       "4         1         4                   1  "
      ]
     },
     "execution_count": 90,
     "metadata": {},
     "output_type": "execute_result"
    }
   ],
   "source": [
    "df_kmeans_result['cluster2_corrected'] = df_kmeans_result['cluster2'].apply(lambda x: 1 if x==0 else 0)\n",
    "df_kmeans_result.head()"
   ]
  },
  {
   "cell_type": "code",
   "execution_count": 91,
   "metadata": {},
   "outputs": [
    {
     "data": {
      "text/plain": [
       "500"
      ]
     },
     "execution_count": 91,
     "metadata": {},
     "output_type": "execute_result"
    }
   ],
   "source": [
    "y_hat = df['Paid Orders Exists']\n",
    "len(y_hat)"
   ]
  },
  {
   "cell_type": "markdown",
   "metadata": {},
   "source": [
    "## Measure accuracy"
   ]
  },
  {
   "cell_type": "code",
   "execution_count": 92,
   "metadata": {},
   "outputs": [
    {
     "data": {
      "text/plain": [
       "pandas.core.series.Series"
      ]
     },
     "execution_count": 92,
     "metadata": {},
     "output_type": "execute_result"
    }
   ],
   "source": [
    "type(y_hat)"
   ]
  },
  {
   "cell_type": "code",
   "execution_count": 93,
   "metadata": {},
   "outputs": [
    {
     "data": {
      "text/plain": [
       "pandas.core.series.Series"
      ]
     },
     "execution_count": 93,
     "metadata": {},
     "output_type": "execute_result"
    }
   ],
   "source": [
    "y_pred = df_kmeans_result['cluster2']\n",
    "type(y_pred)"
   ]
  },
  {
   "cell_type": "code",
   "execution_count": 94,
   "metadata": {},
   "outputs": [
    {
     "name": "stderr",
     "output_type": "stream",
     "text": [
      "/Users/sulbha/anaconda3/lib/python3.7/site-packages/ipykernel_launcher.py:1: SettingWithCopyWarning: \n",
      "A value is trying to be set on a copy of a slice from a DataFrame\n",
      "\n",
      "See the caveats in the documentation: http://pandas.pydata.org/pandas-docs/stable/indexing.html#indexing-view-versus-copy\n",
      "  \"\"\"Entry point for launching an IPython kernel.\n"
     ]
    }
   ],
   "source": [
    "y_hat[y_hat.isna()]=0"
   ]
  },
  {
   "cell_type": "code",
   "execution_count": 95,
   "metadata": {},
   "outputs": [],
   "source": [
    "y_hat= (y_hat.astype(int))\n",
    "#print (y_pred)"
   ]
  },
  {
   "cell_type": "code",
   "execution_count": 96,
   "metadata": {},
   "outputs": [
    {
     "data": {
      "text/plain": [
       "1    401\n",
       "0     99\n",
       "Name: Paid Orders Exists, dtype: int64"
      ]
     },
     "execution_count": 96,
     "metadata": {},
     "output_type": "execute_result"
    }
   ],
   "source": [
    "y_hat.value_counts()"
   ]
  },
  {
   "cell_type": "code",
   "execution_count": 97,
   "metadata": {},
   "outputs": [
    {
     "data": {
      "text/plain": [
       "1    379\n",
       "0    121\n",
       "Name: cluster2, dtype: int64"
      ]
     },
     "execution_count": 97,
     "metadata": {},
     "output_type": "execute_result"
    }
   ],
   "source": [
    "y_pred.value_counts()"
   ]
  },
  {
   "cell_type": "code",
   "execution_count": 99,
   "metadata": {},
   "outputs": [
    {
     "name": "stdout",
     "output_type": "stream",
     "text": [
      "[[ 18  81]\n",
      " [103 298]]\n",
      "              precision    recall  f1-score   support\n",
      "\n",
      "           0       0.15      0.18      0.16        99\n",
      "           1       0.79      0.74      0.76       401\n",
      "\n",
      "    accuracy                           0.63       500\n",
      "   macro avg       0.47      0.46      0.46       500\n",
      "weighted avg       0.66      0.63      0.65       500\n",
      "\n"
     ]
    }
   ],
   "source": [
    "print (metrics.confusion_matrix(y_hat, y_pred))\n",
    "print (metrics.classification_report(y_hat, y_pred))"
   ]
  },
  {
   "cell_type": "code",
   "execution_count": 100,
   "metadata": {},
   "outputs": [
    {
     "name": "stdout",
     "output_type": "stream",
     "text": [
      "0.005143679219032404\n",
      "0.004625411017305751\n",
      "-0.03145742215245174\n",
      "0.0025595837825072715\n"
     ]
    }
   ],
   "source": [
    "print (metrics.homogeneity_score(y_hat, y_pred))\n",
    "print (metrics.completeness_score(y_hat, y_pred))\n",
    "print (metrics.adjusted_rand_score(y_hat, y_pred))\n",
    "print (metrics.mutual_info_score(y_hat, y_pred))\n",
    "#print (metrics.silhouette_score(y_hat, y_pred))\n"
   ]
  },
  {
   "cell_type": "code",
   "execution_count": 101,
   "metadata": {},
   "outputs": [
    {
     "ename": "NameError",
     "evalue": "name 'df_buy_try' is not defined",
     "output_type": "error",
     "traceback": [
      "\u001b[0;31m---------------------------------------------------------------------------\u001b[0m",
      "\u001b[0;31mNameError\u001b[0m                                 Traceback (most recent call last)",
      "\u001b[0;32m<ipython-input-101-c963c6dc95b8>\u001b[0m in \u001b[0;36m<module>\u001b[0;34m\u001b[0m\n\u001b[0;32m----> 1\u001b[0;31m \u001b[0mdf_buy_mean\u001b[0m \u001b[0;34m=\u001b[0m \u001b[0mpd\u001b[0m\u001b[0;34m.\u001b[0m\u001b[0mDataFrame\u001b[0m\u001b[0;34m(\u001b[0m\u001b[0mdf_buy_try\u001b[0m\u001b[0;34m[\u001b[0m\u001b[0mdf_buy_try\u001b[0m\u001b[0;34m[\u001b[0m\u001b[0;34m'cluster2'\u001b[0m\u001b[0;34m]\u001b[0m\u001b[0;34m==\u001b[0m\u001b[0;36m0\u001b[0m\u001b[0;34m]\u001b[0m\u001b[0;34m.\u001b[0m\u001b[0mmean\u001b[0m\u001b[0;34m(\u001b[0m\u001b[0;34m)\u001b[0m\u001b[0;34m)\u001b[0m\u001b[0;34m\u001b[0m\u001b[0;34m\u001b[0m\u001b[0m\n\u001b[0m\u001b[1;32m      2\u001b[0m \u001b[0mdf_buy_mean\u001b[0m\u001b[0;34m\u001b[0m\u001b[0;34m\u001b[0m\u001b[0m\n",
      "\u001b[0;31mNameError\u001b[0m: name 'df_buy_try' is not defined"
     ]
    }
   ],
   "source": [
    "df_buy_mean = pd.DataFrame(df_buy_try[df_buy_try['cluster2']==0].mean())\n",
    "df_buy_mean"
   ]
  },
  {
   "cell_type": "code",
   "execution_count": 118,
   "metadata": {},
   "outputs": [],
   "source": [
    "df_buy_mean.to_csv(\"df_buy_mean.csv\")"
   ]
  },
  {
   "cell_type": "code",
   "execution_count": 119,
   "metadata": {},
   "outputs": [],
   "source": [
    "df_try_mean = pd.DataFrame(df_buy_try[df_buy_try['cluster2']==1].mean())\n",
    "df_try_mean\n",
    "df_try_mean.to_csv(\"df_try_mean.csv\")"
   ]
  },
  {
   "cell_type": "code",
   "execution_count": 111,
   "metadata": {},
   "outputs": [
    {
     "data": {
      "text/plain": [
       "Device Orders_Office                      0.000000\n",
       "Total Visits                              1.000000\n",
       "New Visitors                              1.000000\n",
       "Enter PDP from Office.com                 0.000000\n",
       "Enter PDP from Store                      0.000000\n",
       "Enter PDP from O365 Web                   0.000000\n",
       "Time Spent per Visit (seconds)          561.410606\n",
       "Average Time Spent on Page (seconds)     86.627104\n",
       "Link Clicks (e4)                         31.000000\n",
       "Link Clicks on TechSpecsTab               0.000000\n",
       "Link Clicks on ReviewTab                  0.000000\n",
       "Link Clicks on FAQTab                     0.000000\n",
       "Link Clicks on AddtoCartButton            0.000000\n",
       "Link Clicks on Trial link                 0.000000\n",
       "cluster2                                  0.000000\n",
       "cluster2_corrected                        1.000000\n",
       "dtype: float64"
      ]
     },
     "execution_count": 111,
     "metadata": {},
     "output_type": "execute_result"
    }
   ],
   "source": [
    "df_buy_try[df_buy_try['cluster2_corrected']==1].agg( lambda x:x.value_counts().index[0])"
   ]
  },
  {
   "cell_type": "code",
   "execution_count": null,
   "metadata": {},
   "outputs": [],
   "source": [
    "len(df_buy_try['cluster2_corrected'])"
   ]
  },
  {
   "cell_type": "code",
   "execution_count": null,
   "metadata": {},
   "outputs": [],
   "source": [
    "print (metrics.classification_report(y_hat, df_buy_try['cluster2_corrected']))"
   ]
  },
  {
   "cell_type": "code",
   "execution_count": null,
   "metadata": {},
   "outputs": [],
   "source": [
    "print (metrics.confusion_matrix(y_hat, df_buy_try['cluster2_corrected']))"
   ]
  },
  {
   "cell_type": "code",
   "execution_count": 330,
   "metadata": {},
   "outputs": [
    {
     "data": {
      "text/plain": [
       "Paid Orders Exists                        1.000000\n",
       "Free Orders Exists                        0.000000\n",
       "Visits                                    1.000000\n",
       "New Visitors Exists                       0.610973\n",
       "Return Visitors Exists                    0.389027\n",
       "Enter from Office.com                     0.052369\n",
       "Enter from Store                          0.356608\n",
       "Enter from O365 Web                       0.296758\n",
       "Traffic Channel O&O                       0.364090\n",
       "Traffic Channel Direct                    0.311721\n",
       "Traffic Channel Organic Search            0.124688\n",
       "Traffic Channel Paid Search               0.184539\n",
       "Time Spent per Visit (seconds)          603.390746\n",
       "Average Time Spent on Page (seconds)    112.851103\n",
       "Link Clicks                              32.628429\n",
       "Link Clicks on tab-OverviewTab            0.000000\n",
       "Link Clicks on tab-TechSpecsTab           0.014963\n",
       "Link Clicks on tab-ReviewsTab             0.002494\n",
       "Link Clicks on tab-FAQTab                 0.009975\n",
       "Link Clicks on AddToCartButton            0.271820\n",
       "Link Clicks on Try Link                   0.022444\n",
       "RPV                                      58.431172\n",
       "dtype: float64"
      ]
     },
     "execution_count": 330,
     "metadata": {},
     "output_type": "execute_result"
    }
   ],
   "source": [
    "df[df['Paid Orders Exists']==1\n",
    "  ].mean()"
   ]
  },
  {
   "cell_type": "code",
   "execution_count": null,
   "metadata": {},
   "outputs": [],
   "source": []
  },
  {
   "cell_type": "code",
   "execution_count": null,
   "metadata": {},
   "outputs": [],
   "source": []
  },
  {
   "cell_type": "markdown",
   "metadata": {},
   "source": [
    "##  Agglomertive"
   ]
  },
  {
   "cell_type": "code",
   "execution_count": null,
   "metadata": {},
   "outputs": [],
   "source": []
  },
  {
   "cell_type": "code",
   "execution_count": 102,
   "metadata": {},
   "outputs": [
    {
     "ename": "NameError",
     "evalue": "name 'df_standard_transform' is not defined",
     "output_type": "error",
     "traceback": [
      "\u001b[0;31m---------------------------------------------------------------------------\u001b[0m",
      "\u001b[0;31mNameError\u001b[0m                                 Traceback (most recent call last)",
      "\u001b[0;32m<ipython-input-102-bfa48dfcf657>\u001b[0m in \u001b[0;36m<module>\u001b[0;34m\u001b[0m\n\u001b[0;32m----> 1\u001b[0;31m \u001b[0mdf_standard_transform\u001b[0m\u001b[0;34m.\u001b[0m\u001b[0mdrop\u001b[0m\u001b[0;34m(\u001b[0m\u001b[0;34m[\u001b[0m\u001b[0;34m'agglomerative'\u001b[0m\u001b[0;34m]\u001b[0m\u001b[0;34m,\u001b[0m \u001b[0maxis\u001b[0m\u001b[0;34m=\u001b[0m \u001b[0;36m1\u001b[0m\u001b[0;34m,\u001b[0m \u001b[0minplace\u001b[0m\u001b[0;34m=\u001b[0m\u001b[0;32mTrue\u001b[0m\u001b[0;34m)\u001b[0m\u001b[0;34m\u001b[0m\u001b[0;34m\u001b[0m\u001b[0m\n\u001b[0m",
      "\u001b[0;31mNameError\u001b[0m: name 'df_standard_transform' is not defined"
     ]
    }
   ],
   "source": [
    "df_standard_transform.drop(['agglomerative'], axis= 1, inplace=True)"
   ]
  },
  {
   "cell_type": "code",
   "execution_count": 103,
   "metadata": {},
   "outputs": [
    {
     "ename": "NameError",
     "evalue": "name 'df_pca7' is not defined",
     "output_type": "error",
     "traceback": [
      "\u001b[0;31m---------------------------------------------------------------------------\u001b[0m",
      "\u001b[0;31mNameError\u001b[0m                                 Traceback (most recent call last)",
      "\u001b[0;32m<ipython-input-103-b5bc86800265>\u001b[0m in \u001b[0;36m<module>\u001b[0;34m\u001b[0m\n\u001b[1;32m      5\u001b[0m     \u001b[0;32mreturn\u001b[0m \u001b[0;34m(\u001b[0m\u001b[0mclust_labels1\u001b[0m\u001b[0;34m)\u001b[0m\u001b[0;34m\u001b[0m\u001b[0;34m\u001b[0m\u001b[0m\n\u001b[1;32m      6\u001b[0m \u001b[0;34m\u001b[0m\u001b[0m\n\u001b[0;32m----> 7\u001b[0;31m \u001b[0mclust_labels2\u001b[0m \u001b[0;34m=\u001b[0m \u001b[0mdoAgglomerative\u001b[0m\u001b[0;34m(\u001b[0m\u001b[0mdf_pca7\u001b[0m\u001b[0;34m,\u001b[0m \u001b[0;36m2\u001b[0m\u001b[0;34m)\u001b[0m\u001b[0;34m\u001b[0m\u001b[0;34m\u001b[0m\u001b[0m\n\u001b[0m\u001b[1;32m      8\u001b[0m \u001b[0mclust_labels3\u001b[0m \u001b[0;34m=\u001b[0m \u001b[0mdoAgglomerative\u001b[0m\u001b[0;34m(\u001b[0m\u001b[0mdf_pca7\u001b[0m\u001b[0;34m,\u001b[0m \u001b[0;36m3\u001b[0m\u001b[0;34m)\u001b[0m\u001b[0;34m\u001b[0m\u001b[0;34m\u001b[0m\u001b[0m\n\u001b[1;32m      9\u001b[0m \u001b[0mclust_labels4\u001b[0m \u001b[0;34m=\u001b[0m \u001b[0mdoAgglomerative\u001b[0m\u001b[0;34m(\u001b[0m\u001b[0mdf_pca7\u001b[0m\u001b[0;34m,\u001b[0m \u001b[0;36m4\u001b[0m\u001b[0;34m)\u001b[0m\u001b[0;34m\u001b[0m\u001b[0;34m\u001b[0m\u001b[0m\n",
      "\u001b[0;31mNameError\u001b[0m: name 'df_pca7' is not defined"
     ]
    }
   ],
   "source": [
    "def doAgglomerative(X, nclust=2):\n",
    "    model = AgglomerativeClustering(n_clusters=nclust, affinity = 'euclidean', linkage = 'ward')\n",
    "    clust_labels1 = model.fit_predict(X)\n",
    "    print (model.affinity, model.connectivity)\n",
    "    return (clust_labels1)\n",
    "\n",
    "clust_labels2 = doAgglomerative(df_pca7, 2)\n",
    "clust_labels3 = doAgglomerative(df_pca7, 3)\n",
    "clust_labels4 = doAgglomerative(df_pca7, 4)"
   ]
  },
  {
   "cell_type": "code",
   "execution_count": null,
   "metadata": {},
   "outputs": [],
   "source": [
    "from scipy.cluster.hierarchy import dendrogram, linkage\n",
    "\n",
    "linkage_matrix = linkage(df_pca6, 'ward')\n",
    "figure = plt.figure(figsize=(7.5, 5))\n",
    "dendrogram(\n",
    "    linkage_matrix,\n",
    "    color_threshold=0,\n",
    ")\n",
    "plt.title('Hierarchical Clustering Dendrogram (Ward)')\n",
    "plt.xlabel('sample index')\n",
    "plt.ylabel('distance')\n",
    "plt.tight_layout()\n",
    "plt.show()"
   ]
  },
  {
   "cell_type": "code",
   "execution_count": null,
   "metadata": {},
   "outputs": [],
   "source": [
    "figure = plt.figure(figsize=(7.5, 5))\n",
    "dendrogram(\n",
    "    linkage_matrix,\n",
    "    truncate_mode='lastp',  # show only the last p merged clusters\n",
    "    p=24,  # show only the last p merged clusters\n",
    "    leaf_rotation=90.,\n",
    "    leaf_font_size=12.,\n",
    "    show_contracted=True,  # to get a distribution impression in truncated branches\n",
    ")\n",
    "plt.title('Hierarchical Clustering Dendrogram (Ward, aggrogated)')\n",
    "plt.xlabel('sample index or (cluster size)')\n",
    "plt.ylabel('distance')\n",
    "plt.show()"
   ]
  },
  {
   "cell_type": "code",
   "execution_count": null,
   "metadata": {},
   "outputs": [],
   "source": [
    "agglomerative = pd.DataFrame(clust_labels2)\n",
    "df_buy_try.insert((df_buy_try.shape[1]),'agglomerative2',agglomerative)\n",
    "df_buy_try.head()\n",
    "\n",
    "df_buy_try['agglomerative2'].value_counts()"
   ]
  },
  {
   "cell_type": "code",
   "execution_count": null,
   "metadata": {},
   "outputs": [],
   "source": [
    "df_buy_try['agglomerative2_corrected'] = df_buy_try['agglomerative2'].apply(lambda x: 1 if x ==0 else 0)\n",
    "print (metrics.confusion_matrix(y_hat, df_buy_try['agglomerative2_corrected']))"
   ]
  },
  {
   "cell_type": "code",
   "execution_count": null,
   "metadata": {},
   "outputs": [],
   "source": [
    "print (metrics.confusion_matrix(y_hat, df_buy_try['agglomerative2_corrected']))\n",
    "print (metrics.classification_report(y_hat, df_buy_try['agglomerative2_corrected']))"
   ]
  },
  {
   "cell_type": "code",
   "execution_count": null,
   "metadata": {},
   "outputs": [],
   "source": [
    "df_agglomerative_result= pd.DataFrame(df_pca7, columns=df_buy_try_standard.columns[:7])\n",
    "df_agglomerative_result['cluster2'] = clust_labels2\n",
    "df_agglomerative_result['cluster3'] = clust_labels3\n",
    "df_agglomerative_result['cluster4'] = clust_labels4\n",
    "\n",
    "df_agglomerative_result.head()"
   ]
  },
  {
   "cell_type": "code",
   "execution_count": null,
   "metadata": {},
   "outputs": [],
   "source": [
    "cols = df_agglomerative_result.columns\n",
    "\n",
    "# plot from PCA\n",
    "for cc in range(0,7):\n",
    "  for r in range(0,7):\n",
    "        if cc == r:\n",
    "            continue\n",
    "        fig = plt.figure()\n",
    "        ax = fig.add_subplot(111)\n",
    "        scatter = ax.scatter(df_agglomerative_result.iloc[:,cc],df_agglomerative_result.iloc[:,r],\n",
    "                     c=df_agglomerative_result['cluster2'],s=50)\n",
    "        plt.ylim(-2, 20)\n",
    "        ax.set_title('Agglomerative Clustering')\n",
    "        ax.set_xlabel(cols[cc])\n",
    "        ax.set_ylabel(cols[r])\n",
    "        plt.colorbar(scatter)\n",
    "        plt.ylim(-3,8)"
   ]
  },
  {
   "cell_type": "code",
   "execution_count": null,
   "metadata": {},
   "outputs": [],
   "source": [
    "df_buy_try.head()"
   ]
  },
  {
   "cell_type": "code",
   "execution_count": null,
   "metadata": {},
   "outputs": [],
   "source": []
  }
 ],
 "metadata": {
  "kernelspec": {
   "display_name": "Python 3",
   "language": "python",
   "name": "python3"
  },
  "language_info": {
   "codemirror_mode": {
    "name": "ipython",
    "version": 3
   },
   "file_extension": ".py",
   "mimetype": "text/x-python",
   "name": "python",
   "nbconvert_exporter": "python",
   "pygments_lexer": "ipython3",
   "version": "3.7.3"
  }
 },
 "nbformat": 4,
 "nbformat_minor": 2
}
