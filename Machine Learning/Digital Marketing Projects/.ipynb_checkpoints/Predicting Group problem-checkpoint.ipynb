{
 "cells": [
  {
   "cell_type": "code",
   "execution_count": 1,
   "metadata": {
    "collapsed": true
   },
   "outputs": [],
   "source": [
    "#ref:https://towardsdatascience.com/predictive-customer-analytics-part-iv-ab15843c8c63"
   ]
  },
  {
   "cell_type": "code",
   "execution_count": 1,
   "metadata": {
    "collapsed": true
   },
   "outputs": [],
   "source": [
    "path=\"https://raw.githubusercontent.com/RyanSydney/PredictiveCustomerAnalytics/master/issues.csv\""
   ]
  },
  {
   "cell_type": "code",
   "execution_count": 2,
   "metadata": {},
   "outputs": [
    {
     "data": {
      "text/plain": [
       "PROBLEM_TYPE             object\n",
       "COUNT                     int64\n",
       "AVG_CALLS_TO_RESOLVE    float64\n",
       "AVG_RESOLUTION_TIME       int64\n",
       "REOCCUR_RATE            float64\n",
       "REPLACEMENT_RATE        float64\n",
       "dtype: object"
      ]
     },
     "execution_count": 2,
     "metadata": {},
     "output_type": "execute_result"
    }
   ],
   "source": [
    "%matplotlib inline\n",
    " \n",
    "from pandas import Series, DataFrame\n",
    "import pandas as pd\n",
    "import numpy as np\n",
    "import os\n",
    "import matplotlib.pylab as plt\n",
    "from sklearn.model_selection  import train_test_split\n",
    "from sklearn.cluster import KMeans\n",
    "import sklearn.metrics\n",
    " \n",
    "raw_data = pd.read_csv(path)\n",
    "raw_data.dtypes"
   ]
  },
  {
   "cell_type": "code",
   "execution_count": 3,
   "metadata": {},
   "outputs": [
    {
     "data": {
      "text/plain": [
       "Text(0.5, 1.0, 'Selecting k with the Elbow Method')"
      ]
     },
     "execution_count": 3,
     "metadata": {},
     "output_type": "execute_result"
    },
    {
     "data": {
      "image/png": "[encoded data removed]",
      "text/plain": [
       "<Figure size 432x288 with 1 Axes>"
      ]
     },
     "metadata": {},
     "output_type": "display_data"
    }
   ],
   "source": [
    "clust_data = raw_data.drop(\"PROBLEM_TYPE\",axis=1)\n",
    " \n",
    "#Finding optimal no. of clusters\n",
    "from scipy.spatial.distance import cdist\n",
    "clusters=range(1,10)\n",
    "meanDistortions=[]\n",
    " \n",
    "for k in clusters:\n",
    "    model=KMeans(n_clusters=k)\n",
    "    model.fit(clust_data)\n",
    "    prediction=model.predict(clust_data)\n",
    "    meanDistortions.append(sum(np.min(cdist(clust_data, model.cluster_centers_, 'euclidean'), axis=1)) / clust_data.shape[0])\n",
    " \n",
    "#plt.cla()\n",
    "plt.plot(clusters, meanDistortions, 'bx-')\n",
    "plt.xlabel('k')\n",
    "plt.ylabel('Average distortion')\n",
    "plt.title('Selecting k with the Elbow Method')"
   ]
  },
  {
   "cell_type": "code",
   "execution_count": 4,
   "metadata": {},
   "outputs": [
    {
     "name": "stdout",
     "output_type": "stream",
     "text": [
      "Groups Assigned : \n",
      "\n"
     ]
    },
    {
     "data": {
      "text/html": [
       "<div>\n",
       "<style scoped>\n",
       "    .dataframe tbody tr th:only-of-type {\n",
       "        vertical-align: middle;\n",
       "    }\n",
       "\n",
       "    .dataframe tbody tr th {\n",
       "        vertical-align: top;\n",
       "    }\n",
       "\n",
       "    .dataframe thead th {\n",
       "        text-align: right;\n",
       "    }\n",
       "</style>\n",
       "<table border=\"1\" class=\"dataframe\">\n",
       "  <thead>\n",
       "    <tr style=\"text-align: right;\">\n",
       "      <th></th>\n",
       "      <th>GROUP</th>\n",
       "      <th>PROBLEM_TYPE</th>\n",
       "    </tr>\n",
       "  </thead>\n",
       "  <tbody>\n",
       "    <tr>\n",
       "      <th>0</th>\n",
       "      <td>0</td>\n",
       "      <td>Admin Password Lost</td>\n",
       "    </tr>\n",
       "    <tr>\n",
       "      <th>1</th>\n",
       "      <td>0</td>\n",
       "      <td>Windows Reboots automatically</td>\n",
       "    </tr>\n",
       "    <tr>\n",
       "      <th>2</th>\n",
       "      <td>0</td>\n",
       "      <td>System not coming up after reboot</td>\n",
       "    </tr>\n",
       "    <tr>\n",
       "      <th>3</th>\n",
       "      <td>2</td>\n",
       "      <td>Slow system</td>\n",
       "    </tr>\n",
       "    <tr>\n",
       "      <th>4</th>\n",
       "      <td>1</td>\n",
       "      <td>Internet Connectivity loss</td>\n",
       "    </tr>\n",
       "    <tr>\n",
       "      <th>5</th>\n",
       "      <td>0</td>\n",
       "      <td>New Installation hangs</td>\n",
       "    </tr>\n",
       "    <tr>\n",
       "      <th>6</th>\n",
       "      <td>0</td>\n",
       "      <td>Intermittent Blank Screen</td>\n",
       "    </tr>\n",
       "    <tr>\n",
       "      <th>7</th>\n",
       "      <td>2</td>\n",
       "      <td>Too many popups in Browser</td>\n",
       "    </tr>\n",
       "    <tr>\n",
       "      <th>8</th>\n",
       "      <td>2</td>\n",
       "      <td>Cannot find printer</td>\n",
       "    </tr>\n",
       "    <tr>\n",
       "      <th>9</th>\n",
       "      <td>0</td>\n",
       "      <td>Missing peripheral driver</td>\n",
       "    </tr>\n",
       "    <tr>\n",
       "      <th>10</th>\n",
       "      <td>1</td>\n",
       "      <td>Cannot detect keyboard</td>\n",
       "    </tr>\n",
       "    <tr>\n",
       "      <th>11</th>\n",
       "      <td>1</td>\n",
       "      <td>Cannot detect mouse</td>\n",
       "    </tr>\n",
       "    <tr>\n",
       "      <th>12</th>\n",
       "      <td>1</td>\n",
       "      <td>Head phone jack not working</td>\n",
       "    </tr>\n",
       "    <tr>\n",
       "      <th>13</th>\n",
       "      <td>2</td>\n",
       "      <td>DVD read error</td>\n",
       "    </tr>\n",
       "    <tr>\n",
       "      <th>14</th>\n",
       "      <td>0</td>\n",
       "      <td>Cannot recover using restore</td>\n",
       "    </tr>\n",
       "    <tr>\n",
       "      <th>15</th>\n",
       "      <td>2</td>\n",
       "      <td>WIFI not functioning</td>\n",
       "    </tr>\n",
       "    <tr>\n",
       "      <th>16</th>\n",
       "      <td>0</td>\n",
       "      <td>Laptop not charging</td>\n",
       "    </tr>\n",
       "    <tr>\n",
       "      <th>17</th>\n",
       "      <td>0</td>\n",
       "      <td>Laptop loses charge very fast</td>\n",
       "    </tr>\n",
       "    <tr>\n",
       "      <th>18</th>\n",
       "      <td>0</td>\n",
       "      <td>Dark areas on screen</td>\n",
       "    </tr>\n",
       "    <tr>\n",
       "      <th>19</th>\n",
       "      <td>2</td>\n",
       "      <td>anti-virus not working</td>\n",
       "    </tr>\n",
       "  </tbody>\n",
       "</table>\n",
       "</div>"
      ],
      "text/plain": [
       "    GROUP                       PROBLEM_TYPE\n",
       "0       0                Admin Password Lost\n",
       "1       0      Windows Reboots automatically\n",
       "2       0  System not coming up after reboot\n",
       "3       2                        Slow system\n",
       "4       1         Internet Connectivity loss\n",
       "5       0             New Installation hangs\n",
       "6       0          Intermittent Blank Screen\n",
       "7       2         Too many popups in Browser\n",
       "8       2                Cannot find printer\n",
       "9       0          Missing peripheral driver\n",
       "10      1             Cannot detect keyboard\n",
       "11      1                Cannot detect mouse\n",
       "12      1        Head phone jack not working\n",
       "13      2                     DVD read error\n",
       "14      0       Cannot recover using restore\n",
       "15      2               WIFI not functioning\n",
       "16      0                Laptop not charging\n",
       "17      0      Laptop loses charge very fast\n",
       "18      0               Dark areas on screen\n",
       "19      2             anti-virus not working"
      ]
     },
     "execution_count": 4,
     "metadata": {},
     "output_type": "execute_result"
    }
   ],
   "source": [
    "#Optimal clusters is 3\n",
    "final_model=KMeans(3)\n",
    "final_model.fit(clust_data)\n",
    "prediction=final_model.predict(clust_data)\n",
    " \n",
    "#Join predicted clusters back to raw data\n",
    "raw_data['GROUP'] = prediction\n",
    "print(\"Groups Assigned : \\n\")\n",
    "raw_data[[\"GROUP\",\"PROBLEM_TYPE\"]]\n"
   ]
  },
  {
   "cell_type": "code",
   "execution_count": 15,
   "metadata": {},
   "outputs": [
    {
     "data": {
      "text/html": [
       "<div>\n",
       "<style scoped>\n",
       "    .dataframe tbody tr th:only-of-type {\n",
       "        vertical-align: middle;\n",
       "    }\n",
       "\n",
       "    .dataframe tbody tr th {\n",
       "        vertical-align: top;\n",
       "    }\n",
       "\n",
       "    .dataframe thead th {\n",
       "        text-align: right;\n",
       "    }\n",
       "</style>\n",
       "<table border=\"1\" class=\"dataframe\">\n",
       "  <thead>\n",
       "    <tr style=\"text-align: right;\">\n",
       "      <th></th>\n",
       "      <th>PROBLEM_TYPE</th>\n",
       "      <th>COUNT</th>\n",
       "      <th>AVG_CALLS_TO_RESOLVE</th>\n",
       "      <th>AVG_RESOLUTION_TIME</th>\n",
       "      <th>REOCCUR_RATE</th>\n",
       "      <th>REPLACEMENT_RATE</th>\n",
       "      <th>GROUP</th>\n",
       "    </tr>\n",
       "  </thead>\n",
       "  <tbody>\n",
       "    <tr>\n",
       "      <th>0</th>\n",
       "      <td>Admin Password Lost</td>\n",
       "      <td>45</td>\n",
       "      <td>2.3</td>\n",
       "      <td>54</td>\n",
       "      <td>0.15</td>\n",
       "      <td>0.00</td>\n",
       "      <td>0</td>\n",
       "    </tr>\n",
       "    <tr>\n",
       "      <th>1</th>\n",
       "      <td>Windows Reboots automatically</td>\n",
       "      <td>47</td>\n",
       "      <td>3.1</td>\n",
       "      <td>132</td>\n",
       "      <td>0.30</td>\n",
       "      <td>0.03</td>\n",
       "      <td>0</td>\n",
       "    </tr>\n",
       "    <tr>\n",
       "      <th>2</th>\n",
       "      <td>System not coming up after reboot</td>\n",
       "      <td>12</td>\n",
       "      <td>4.0</td>\n",
       "      <td>154</td>\n",
       "      <td>0.02</td>\n",
       "      <td>0.05</td>\n",
       "      <td>0</td>\n",
       "    </tr>\n",
       "    <tr>\n",
       "      <th>3</th>\n",
       "      <td>Slow system</td>\n",
       "      <td>165</td>\n",
       "      <td>1.2</td>\n",
       "      <td>32</td>\n",
       "      <td>0.03</td>\n",
       "      <td>0.00</td>\n",
       "      <td>2</td>\n",
       "    </tr>\n",
       "    <tr>\n",
       "      <th>4</th>\n",
       "      <td>Internet Connectivity loss</td>\n",
       "      <td>321</td>\n",
       "      <td>1.0</td>\n",
       "      <td>5</td>\n",
       "      <td>0.21</td>\n",
       "      <td>0.00</td>\n",
       "      <td>1</td>\n",
       "    </tr>\n",
       "  </tbody>\n",
       "</table>\n",
       "</div>"
      ],
      "text/plain": [
       "                        PROBLEM_TYPE  COUNT  AVG_CALLS_TO_RESOLVE  \\\n",
       "0                Admin Password Lost     45                   2.3   \n",
       "1      Windows Reboots automatically     47                   3.1   \n",
       "2  System not coming up after reboot     12                   4.0   \n",
       "3                        Slow system    165                   1.2   \n",
       "4         Internet Connectivity loss    321                   1.0   \n",
       "\n",
       "   AVG_RESOLUTION_TIME  REOCCUR_RATE  REPLACEMENT_RATE  GROUP  \n",
       "0                   54          0.15              0.00      0  \n",
       "1                  132          0.30              0.03      0  \n",
       "2                  154          0.02              0.05      0  \n",
       "3                   32          0.03              0.00      2  \n",
       "4                    5          0.21              0.00      1  "
      ]
     },
     "execution_count": 15,
     "metadata": {},
     "output_type": "execute_result"
    }
   ],
   "source": [
    "raw_data.head()"
   ]
  },
  {
   "cell_type": "code",
   "execution_count": 26,
   "metadata": {},
   "outputs": [
    {
     "name": "stderr",
     "output_type": "stream",
     "text": [
      "/Users/sulbha/anaconda/lib/python3.6/site-packages/numpy/core/fromnumeric.py:52: FutureWarning: reshape is deprecated and will raise in a subsequent release. Please use .values.reshape(...) instead\n",
      "  return getattr(obj, method)(*args, **kwds)\n"
     ]
    },
    {
     "data": {
      "text/plain": [
       "{'boxes': [<matplotlib.lines.Line2D at 0x1a1bcd5c88>,\n",
       "  <matplotlib.lines.Line2D at 0x1a1bcded30>,\n",
       "  <matplotlib.lines.Line2D at 0x1a1bd534a8>],\n",
       " 'caps': [<matplotlib.lines.Line2D at 0x1a1bcde438>,\n",
       "  <matplotlib.lines.Line2D at 0x1a1bcbca20>,\n",
       "  <matplotlib.lines.Line2D at 0x1a1bcec780>,\n",
       "  <matplotlib.lines.Line2D at 0x1a1bcecac8>,\n",
       "  <matplotlib.lines.Line2D at 0x1a1bd53eb8>,\n",
       "  <matplotlib.lines.Line2D at 0x1a1bd5b240>],\n",
       " 'fliers': [<matplotlib.lines.Line2D at 0x1a1bcdea20>,\n",
       "  <matplotlib.lines.Line2D at 0x1a1bd53198>,\n",
       "  <matplotlib.lines.Line2D at 0x1a1bd5b8d0>],\n",
       " 'means': [],\n",
       " 'medians': [<matplotlib.lines.Line2D at 0x1a1bcc1630>,\n",
       "  <matplotlib.lines.Line2D at 0x1a1bcece10>,\n",
       "  <matplotlib.lines.Line2D at 0x1a1bd5b588>],\n",
       " 'whiskers': [<matplotlib.lines.Line2D at 0x1a1bcd5dd8>,\n",
       "  <matplotlib.lines.Line2D at 0x1a1bcde128>,\n",
       "  <matplotlib.lines.Line2D at 0x1a1bcec0f0>,\n",
       "  <matplotlib.lines.Line2D at 0x1a1bcec438>,\n",
       "  <matplotlib.lines.Line2D at 0x1a1bd53828>,\n",
       "  <matplotlib.lines.Line2D at 0x1a1bd53b70>]}"
      ]
     },
     "execution_count": 26,
     "metadata": {},
     "output_type": "execute_result"
    },
    {
     "data": {
      "image/png": "[encoded data removed]",
      "text/plain": [
       "<Figure size 432x288 with 1 Axes>"
      ]
     },
     "metadata": {},
     "output_type": "display_data"
    }
   ],
   "source": [
    "plt.cla()\n",
    "plt.boxplot([raw_data[\"COUNT\"][raw_data.GROUP==0],\n",
    "             raw_data[\"COUNT\"][raw_data.GROUP==1],\n",
    "              raw_data[\"COUNT\"][raw_data.GROUP==2]],\n",
    "           labels=('GROUP 1','GROUP 2','GROUP 3'))"
   ]
  },
  {
   "cell_type": "code",
   "execution_count": 27,
   "metadata": {},
   "outputs": [
    {
     "name": "stderr",
     "output_type": "stream",
     "text": [
      "/Users/sulbha/anaconda/lib/python3.6/site-packages/numpy/core/fromnumeric.py:52: FutureWarning: reshape is deprecated and will raise in a subsequent release. Please use .values.reshape(...) instead\n",
      "  return getattr(obj, method)(*args, **kwds)\n"
     ]
    },
    {
     "data": {
      "text/plain": [
       "{'boxes': [<matplotlib.lines.Line2D at 0x1a1bdae320>,\n",
       "  <matplotlib.lines.Line2D at 0x1a1bdb8828>,\n",
       "  <matplotlib.lines.Line2D at 0x1a1bdc2f60>],\n",
       " 'caps': [<matplotlib.lines.Line2D at 0x1a1bdaeb00>,\n",
       "  <matplotlib.lines.Line2D at 0x1a1bdaee48>,\n",
       "  <matplotlib.lines.Line2D at 0x1a1bdc2278>,\n",
       "  <matplotlib.lines.Line2D at 0x1a1bdc25c0>,\n",
       "  <matplotlib.lines.Line2D at 0x1a1bdcc9b0>,\n",
       "  <matplotlib.lines.Line2D at 0x1a1bdcccf8>],\n",
       " 'fliers': [<matplotlib.lines.Line2D at 0x1a1bdb8518>,\n",
       "  <matplotlib.lines.Line2D at 0x1a1bdc2c50>,\n",
       "  <matplotlib.lines.Line2D at 0x1a1be343c8>],\n",
       " 'means': [],\n",
       " 'medians': [<matplotlib.lines.Line2D at 0x1a1bdb81d0>,\n",
       "  <matplotlib.lines.Line2D at 0x1a1bdc2908>,\n",
       "  <matplotlib.lines.Line2D at 0x1a1be34080>],\n",
       " 'whiskers': [<matplotlib.lines.Line2D at 0x1a1bdae470>,\n",
       "  <matplotlib.lines.Line2D at 0x1a1bdae7b8>,\n",
       "  <matplotlib.lines.Line2D at 0x1a1bdb8ba8>,\n",
       "  <matplotlib.lines.Line2D at 0x1a1bdb8ef0>,\n",
       "  <matplotlib.lines.Line2D at 0x1a1bdcc320>,\n",
       "  <matplotlib.lines.Line2D at 0x1a1bdcc668>]}"
      ]
     },
     "execution_count": 27,
     "metadata": {},
     "output_type": "execute_result"
    },
    {
     "data": {
      "image/png": "[encoded data removed]",
      "text/plain": [
       "<Figure size 432x288 with 1 Axes>"
      ]
     },
     "metadata": {},
     "output_type": "display_data"
    }
   ],
   "source": [
    "plt.boxplot([raw_data[\"REOCCUR_RATE\"][raw_data.GROUP==0],\n",
    "             raw_data[\"REOCCUR_RATE\"][raw_data.GROUP==1],\n",
    "             raw_data[\"REOCCUR_RATE\"][raw_data.GROUP==2]],\n",
    "           labels=('GROUP 1','GROUP 2','GROUP 3'))"
   ]
  },
  {
   "cell_type": "code",
   "execution_count": 29,
   "metadata": {},
   "outputs": [
    {
     "name": "stderr",
     "output_type": "stream",
     "text": [
      "/Users/sulbha/anaconda/lib/python3.6/site-packages/numpy/core/fromnumeric.py:52: FutureWarning: reshape is deprecated and will raise in a subsequent release. Please use .values.reshape(...) instead\n",
      "  return getattr(obj, method)(*args, **kwds)\n"
     ]
    },
    {
     "data": {
      "text/plain": [
       "{'boxes': [<matplotlib.lines.Line2D at 0x1a1bfb3f28>,\n",
       "  <matplotlib.lines.Line2D at 0x1a1bfc4080>,\n",
       "  <matplotlib.lines.Line2D at 0x1a1bfce7b8>],\n",
       " 'caps': [<matplotlib.lines.Line2D at 0x1a1bfbb748>,\n",
       "  <matplotlib.lines.Line2D at 0x1a1bf482b0>,\n",
       "  <matplotlib.lines.Line2D at 0x1a1bfc4a90>,\n",
       "  <matplotlib.lines.Line2D at 0x1a1bfc4dd8>,\n",
       "  <matplotlib.lines.Line2D at 0x1a1bfd8208>,\n",
       "  <matplotlib.lines.Line2D at 0x1a1bfd8550>],\n",
       " 'fliers': [<matplotlib.lines.Line2D at 0x1a1bfbbd30>,\n",
       "  <matplotlib.lines.Line2D at 0x1a1bfce4a8>,\n",
       "  <matplotlib.lines.Line2D at 0x1a1bfd8be0>],\n",
       " 'means': [],\n",
       " 'medians': [<matplotlib.lines.Line2D at 0x1a1bf3e898>,\n",
       "  <matplotlib.lines.Line2D at 0x1a1bfce160>,\n",
       "  <matplotlib.lines.Line2D at 0x1a1bfd8898>],\n",
       " 'whiskers': [<matplotlib.lines.Line2D at 0x1a1bfbb0b8>,\n",
       "  <matplotlib.lines.Line2D at 0x1a1bfbb400>,\n",
       "  <matplotlib.lines.Line2D at 0x1a1bfc4400>,\n",
       "  <matplotlib.lines.Line2D at 0x1a1bfc4748>,\n",
       "  <matplotlib.lines.Line2D at 0x1a1bfceb38>,\n",
       "  <matplotlib.lines.Line2D at 0x1a1bfcee80>]}"
      ]
     },
     "execution_count": 29,
     "metadata": {},
     "output_type": "execute_result"
    },
    {
     "data": {
      "image/png": "[encoded data removed]",
      "text/plain": [
       "<Figure size 432x288 with 1 Axes>"
      ]
     },
     "metadata": {},
     "output_type": "display_data"
    }
   ],
   "source": [
    "#Now for Avg. Calls to resolve\n",
    "plt.cla()\n",
    "plt.boxplot([raw_data[\"AVG_CALLS_TO_RESOLVE\"][raw_data.GROUP==0],\n",
    "             raw_data[\"AVG_CALLS_TO_RESOLVE\"][raw_data.GROUP==1],\n",
    "             raw_data[\"AVG_CALLS_TO_RESOLVE\"][raw_data.GROUP==2]],\n",
    "           labels=('GROUP 1','GROUP 2','GROUP 3'))"
   ]
  },
  {
   "cell_type": "code",
   "execution_count": 31,
   "metadata": {},
   "outputs": [
    {
     "name": "stderr",
     "output_type": "stream",
     "text": [
      "/Users/sulbha/anaconda/lib/python3.6/site-packages/numpy/core/fromnumeric.py:52: FutureWarning: reshape is deprecated and will raise in a subsequent release. Please use .values.reshape(...) instead\n",
      "  return getattr(obj, method)(*args, **kwds)\n"
     ]
    },
    {
     "data": {
      "text/plain": [
       "{'boxes': [<matplotlib.lines.Line2D at 0x1a1befa3c8>,\n",
       "  <matplotlib.lines.Line2D at 0x1a1bef4be0>,\n",
       "  <matplotlib.lines.Line2D at 0x1a1c026358>],\n",
       " 'caps': [<matplotlib.lines.Line2D at 0x1a1befaeb8>,\n",
       "  <matplotlib.lines.Line2D at 0x1a1bef4240>,\n",
       "  <matplotlib.lines.Line2D at 0x1a1c021630>,\n",
       "  <matplotlib.lines.Line2D at 0x1a1c021978>,\n",
       "  <matplotlib.lines.Line2D at 0x1a1c026d68>,\n",
       "  <matplotlib.lines.Line2D at 0x1a1b9210f0>],\n",
       " 'fliers': [<matplotlib.lines.Line2D at 0x1a1bef48d0>,\n",
       "  <matplotlib.lines.Line2D at 0x1a1c026048>,\n",
       "  <matplotlib.lines.Line2D at 0x1a1b921780>],\n",
       " 'means': [],\n",
       " 'medians': [<matplotlib.lines.Line2D at 0x1a1bef4588>,\n",
       "  <matplotlib.lines.Line2D at 0x1a1c021cc0>,\n",
       "  <matplotlib.lines.Line2D at 0x1a1b921438>],\n",
       " 'whiskers': [<matplotlib.lines.Line2D at 0x1a1b910f60>,\n",
       "  <matplotlib.lines.Line2D at 0x1a1b8f2240>,\n",
       "  <matplotlib.lines.Line2D at 0x1a1bef4f60>,\n",
       "  <matplotlib.lines.Line2D at 0x1a1c0212e8>,\n",
       "  <matplotlib.lines.Line2D at 0x1a1c0266d8>,\n",
       "  <matplotlib.lines.Line2D at 0x1a1c026a20>]}"
      ]
     },
     "execution_count": 31,
     "metadata": {},
     "output_type": "execute_result"
    },
    {
     "data": {
      "image/png": "[encoded data removed]",
      "text/plain": [
       "<Figure size 432x288 with 1 Axes>"
      ]
     },
     "metadata": {},
     "output_type": "display_data"
    }
   ],
   "source": [
    "plt.cla()\n",
    "plt.boxplot([raw_data[\"REPLACEMENT_RATE\"][raw_data.GROUP==0],\n",
    "             raw_data[\"REPLACEMENT_RATE\"][raw_data.GROUP==1],\n",
    "             raw_data[\"REPLACEMENT_RATE\"][raw_data.GROUP==2]],\n",
    "           labels=('GROUP 1','GROUP 2','GROUP 3'))"
   ]
  },
  {
   "cell_type": "code",
   "execution_count": null,
   "metadata": {
    "collapsed": true
   },
   "outputs": [],
   "source": []
  }
 ],
 "metadata": {
  "kernelspec": {
   "display_name": "Python 3",
   "language": "python",
   "name": "python3"
  },
  "language_info": {
   "codemirror_mode": {
    "name": "ipython",
    "version": 3
   },
   "file_extension": ".py",
   "mimetype": "text/x-python",
   "name": "python",
   "nbconvert_exporter": "python",
   "pygments_lexer": "ipython3",
   "version": "3.6.6"
  }
 },
 "nbformat": 4,
 "nbformat_minor": 2
}
