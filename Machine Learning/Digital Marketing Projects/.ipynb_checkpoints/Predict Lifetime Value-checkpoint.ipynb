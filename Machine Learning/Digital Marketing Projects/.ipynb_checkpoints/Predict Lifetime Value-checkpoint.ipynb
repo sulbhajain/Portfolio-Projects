{
 "cells": [
  {
   "cell_type": "code",
   "execution_count": 1,
   "metadata": {
    "collapsed": true
   },
   "outputs": [],
   "source": [
    "#ref: https://towardsdatascience.com/predictive-customer-analytics-part-iii-aeb996beafba"
   ]
  },
  {
   "cell_type": "code",
   "execution_count": 2,
   "metadata": {
    "collapsed": true
   },
   "outputs": [],
   "source": [
    "path=\"https://raw.githubusercontent.com/RyanSydney/PredictiveCustomerAnalytics/master/history.csv\""
   ]
  },
  {
   "cell_type": "code",
   "execution_count": 3,
   "metadata": {},
   "outputs": [
    {
     "data": {
      "text/plain": [
       "CUST_ID    int64\n",
       "MONTH_1    int64\n",
       "MONTH_2    int64\n",
       "MONTH_3    int64\n",
       "MONTH_4    int64\n",
       "MONTH_5    int64\n",
       "MONTH_6    int64\n",
       "CLV        int64\n",
       "dtype: object"
      ]
     },
     "execution_count": 3,
     "metadata": {},
     "output_type": "execute_result"
    }
   ],
   "source": [
    "from pandas import Series, DataFrame\n",
    "\n",
    "import pandas as pd\n",
    "\n",
    "import numpy as np\n",
    "\n",
    "import os\n",
    "\n",
    "import matplotlib.pylab as plt\n",
    "\n",
    "from sklearn.model_selection import train_test_split\n",
    "\n",
    "from sklearn.linear_model import LinearRegression\n",
    "\n",
    "import sklearn.metrics\n",
    "\n",
    "raw_data = pd.read_csv(path)\n",
    "\n",
    "raw_data.dtypes"
   ]
  },
  {
   "cell_type": "code",
   "execution_count": 6,
   "metadata": {},
   "outputs": [
    {
     "data": {
      "text/plain": [
       "MONTH_1    0.734122\n",
       "MONTH_2    0.250397\n",
       "MONTH_3    0.371742\n",
       "MONTH_4    0.297408\n",
       "MONTH_5    0.376775\n",
       "MONTH_6    0.327064\n",
       "CLV        1.000000\n",
       "Name: CLV, dtype: float64"
      ]
     },
     "execution_count": 6,
     "metadata": {},
     "output_type": "execute_result"
    }
   ],
   "source": [
    "cleaned_data = raw_data.drop(\"CUST_ID\",axis=1)\n",
    "\n",
    "cleaned_data .corr()['CLV']"
   ]
  },
  {
   "cell_type": "code",
   "execution_count": 9,
   "metadata": {},
   "outputs": [
    {
     "name": "stdout",
     "output_type": "stream",
     "text": [
      "Predictor — Training :  (90, 6) Predictor — Testing :  (10, 6)\n"
     ]
    }
   ],
   "source": [
    "predictors = cleaned_data.drop(\"CLV\",axis=1)\n",
    "\n",
    "targets = cleaned_data.CLV\n",
    "\n",
    "pred_train, pred_test, tar_train, tar_test = train_test_split(predictors, targets, test_size=.1)\n",
    "\n",
    "print( \"Predictor — Training : \", pred_train.shape, \"Predictor — Testing : \", pred_test.shape)"
   ]
  },
  {
   "cell_type": "code",
   "execution_count": 11,
   "metadata": {},
   "outputs": [
    {
     "name": "stdout",
     "output_type": "stream",
     "text": [
      "Coefficients: \n",
      " [34.50439368 10.1934809  15.47826964 12.62817938  7.55701326  5.45751474]\n",
      "Intercept: -56.01994205781739\n"
     ]
    },
    {
     "data": {
      "text/plain": [
       "0.8813113078035782"
      ]
     },
     "execution_count": 11,
     "metadata": {},
     "output_type": "execute_result"
    }
   ],
   "source": [
    "#Build model on training data\n",
    "\n",
    "model = LinearRegression()\n",
    "\n",
    "model.fit(pred_train,tar_train)\n",
    "\n",
    "print(\"Coefficients: \\n\", model.coef_)\n",
    "\n",
    "print(\"Intercept:\", model.intercept_)\n",
    "\n",
    "#Test on testing data\n",
    "\n",
    "predictions = model.predict(pred_test)\n",
    "\n",
    "predictions\n",
    "\n",
    "sklearn.metrics.r2_score(tar_test, predictions)\n",
    "\n"
   ]
  },
  {
   "cell_type": "code",
   "execution_count": 12,
   "metadata": {},
   "outputs": [
    {
     "name": "stdout",
     "output_type": "stream",
     "text": [
      "The CLV for the new customer is : $ 4168.332907878297\n"
     ]
    }
   ],
   "source": [
    "new_data = np.array([100,0,50,0,0,0]).reshape(1, -1)\n",
    "\n",
    "new_pred=model.predict(new_data)\n",
    "\n",
    "print(\"The CLV for the new customer is : $\",new_pred[0])"
   ]
  },
  {
   "cell_type": "code",
   "execution_count": null,
   "metadata": {
    "collapsed": true
   },
   "outputs": [],
   "source": []
  }
 ],
 "metadata": {
  "kernelspec": {
   "display_name": "Python 3",
   "language": "python",
   "name": "python3"
  },
  "language_info": {
   "codemirror_mode": {
    "name": "ipython",
    "version": 3
   },
   "file_extension": ".py",
   "mimetype": "text/x-python",
   "name": "python",
   "nbconvert_exporter": "python",
   "pygments_lexer": "ipython3",
   "version": "3.6.6"
  }
 },
 "nbformat": 4,
 "nbformat_minor": 2
}
