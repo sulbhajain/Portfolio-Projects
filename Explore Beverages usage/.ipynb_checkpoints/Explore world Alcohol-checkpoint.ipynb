{
 "cells": [
  {
   "cell_type": "code",
   "execution_count": 2,
   "metadata": {
    "collapsed": true
   },
   "outputs": [],
   "source": [
    "\n",
    "import numpy as np\n",
    "\n"
   ]
  },
  {
   "cell_type": "code",
   "execution_count": 3,
   "metadata": {},
   "outputs": [
    {
     "data": {
      "text/plain": [
       "array([['1986', 'Western Pacific', 'Viet Nam', 'Wine', '0'],\n",
       "       ['1986', 'Americas', 'Uruguay', 'Other', '0.5'],\n",
       "       ['1985', 'Africa', \"Cte d'Ivoire\", 'Wine', '1.62'],\n",
       "       ..., \n",
       "       ['1986', 'Europe', 'Switzerland', 'Spirits', '2.54'],\n",
       "       ['1987', 'Western Pacific', 'Papua New Guinea', 'Other', '0'],\n",
       "       ['1986', 'Africa', 'Swaziland', 'Other', '5.15']], \n",
       "      dtype='<U75')"
      ]
     },
     "execution_count": 3,
     "metadata": {},
     "output_type": "execute_result"
    }
   ],
   "source": [
    " \n",
    "\n",
    "file_data = np.genfromtxt(\"data/world_alcohol.csv\", delimiter = ',', dtype = 'U75', skip_header = 1)\n",
    "file_data"
   ]
  },
  {
   "cell_type": "code",
   "execution_count": 4,
   "metadata": {},
   "outputs": [
    {
     "data": {
      "text/plain": [
       "array(['Afghanistan', 'Albania', 'Algeria', 'American Samoa', 'Andorra',\n",
       "       'Angola', 'Anguilla', 'Antarctica', 'Antigua and Barbuda',\n",
       "       'Argentina', 'Armenia', 'Aruba', 'Switzerland', 'Americas'], \n",
       "      dtype='<U75')"
      ]
     },
     "execution_count": 4,
     "metadata": {},
     "output_type": "execute_result"
    }
   ],
   "source": [
    "\n",
    "countries = np.genfromtxt(\"data/countries.csv\", delimiter = ',', dtype = 'U75', skip_header = 1)\n",
    "countries\n",
    "#country_list = countries[:,0]\n",
    "#country_list"
   ]
  },
  {
   "cell_type": "code",
   "execution_count": null,
   "metadata": {
    "collapsed": true
   },
   "outputs": [],
   "source": []
  },
  {
   "cell_type": "code",
   "execution_count": 5,
   "metadata": {
    "collapsed": true
   },
   "outputs": [],
   "source": [
    "yr = '1986'\n"
   ]
  },
  {
   "cell_type": "code",
   "execution_count": 6,
   "metadata": {
    "collapsed": true
   },
   "outputs": [],
   "source": [
    "data_1986 = file_data[file_data[:,0]=='1986',:]"
   ]
  },
  {
   "cell_type": "code",
   "execution_count": 7,
   "metadata": {
    "collapsed": true
   },
   "outputs": [],
   "source": [
    "totals = {}\n",
    "\n",
    "for cty in countries:\n",
    "    cty_1986 = data_1986[(data_1986[:,2] == cty),:]\n",
    "    cty_1986[cty_1986[:,4] == '', 4]= '0'\n",
    "    val = cty_1986[:,4]\n",
    "    val = val.astype(float)\n",
    "    tot = val.sum(axis=0)\n",
    "    totals[cty] = tot\n",
    "    "
   ]
  },
  {
   "cell_type": "code",
   "execution_count": 8,
   "metadata": {},
   "outputs": [
    {
     "data": {
      "text/plain": [
       "{'Afghanistan': 0.0,\n",
       " 'Albania': 1.3799999999999999,\n",
       " 'Algeria': 0.28999999999999998,\n",
       " 'American Samoa': 0.0,\n",
       " 'Americas': 0.0,\n",
       " 'Andorra': 0.0,\n",
       " 'Angola': 1.7,\n",
       " 'Anguilla': 0.0,\n",
       " 'Antarctica': 0.0,\n",
       " 'Antigua and Barbuda': 3.5499999999999998,\n",
       " 'Argentina': 12.890000000000001,\n",
       " 'Armenia': 0.0,\n",
       " 'Aruba': 0.0,\n",
       " 'Switzerland': 14.07}"
      ]
     },
     "execution_count": 8,
     "metadata": {},
     "output_type": "execute_result"
    }
   ],
   "source": [
    "totals"
   ]
  },
  {
   "cell_type": "code",
   "execution_count": 9,
   "metadata": {
    "collapsed": true
   },
   "outputs": [],
   "source": [
    "high_key = 0\n",
    "high_val = 0\n",
    "\n",
    "for key in totals:\n",
    "    if totals[key] > high_val:\n",
    "        high_val = totals[key]\n",
    "        high_key = key\n"
   ]
  },
  {
   "cell_type": "code",
   "execution_count": 10,
   "metadata": {},
   "outputs": [
    {
     "data": {
      "text/plain": [
       "'Switzerland'"
      ]
     },
     "execution_count": 10,
     "metadata": {},
     "output_type": "execute_result"
    }
   ],
   "source": [
    "high_key\n"
   ]
  },
  {
   "cell_type": "code",
   "execution_count": 11,
   "metadata": {},
   "outputs": [
    {
     "data": {
      "text/plain": [
       "14.07"
      ]
     },
     "execution_count": 11,
     "metadata": {},
     "output_type": "execute_result"
    }
   ],
   "source": [
    "high_val"
   ]
  },
  {
   "cell_type": "code",
   "execution_count": 12,
   "metadata": {
    "collapsed": true
   },
   "outputs": [],
   "source": [
    "import matplotlib.pyplot as plt\n",
    "%matplotlib inline"
   ]
  },
  {
   "cell_type": "code",
   "execution_count": 13,
   "metadata": {
    "scrolled": true
   },
   "outputs": [
    {
     "data": {
      "image/png": "[encoded data removed]",
      "text/plain": [
       "<matplotlib.figure.Figure at 0x10ceeae48>"
      ]
     },
     "metadata": {},
     "output_type": "display_data"
    }
   ],
   "source": [
    "\n",
    "zero_rows = (file_data[:,4] =='')\n",
    "file_data[zero_rows,4] = '0'\n",
    "\n",
    "# study wine pattern over the years in Switzerland\n",
    "wine_data = file_data[file_data[:,3] == 'Wine',:]\n",
    "wine_data = wine_data[wine_data[:,2]=='Switzerland',:]\n",
    "\n",
    "\n",
    "x_val = wine_data[:,0].astype(float)\n",
    "\n",
    "y_val = wine_data[:,4].astype(float)\n",
    "plt.plot(x_val,y_val)\n",
    "plt.show()\n",
    "\n"
   ]
  },
  {
   "cell_type": "code",
   "execution_count": 27,
   "metadata": {},
   "outputs": [],
   "source": [
    "import pandas as pd\n",
    "file_df = pd.read_csv(\"data/world_alcohol.csv\")"
   ]
  },
  {
   "cell_type": "markdown",
   "metadata": {},
   "source": []
  },
  {
   "cell_type": "code",
   "execution_count": 28,
   "metadata": {},
   "outputs": [
    {
     "data": {
      "text/html": [
       "<div>\n",
       "<style>\n",
       "    .dataframe thead tr:only-child th {\n",
       "        text-align: right;\n",
       "    }\n",
       "\n",
       "    .dataframe thead th {\n",
       "        text-align: left;\n",
       "    }\n",
       "\n",
       "    .dataframe tbody tr th {\n",
       "        vertical-align: top;\n",
       "    }\n",
       "</style>\n",
       "<table border=\"1\" class=\"dataframe\">\n",
       "  <thead>\n",
       "    <tr style=\"text-align: right;\">\n",
       "      <th></th>\n",
       "      <th>Year</th>\n",
       "      <th>WHO region</th>\n",
       "      <th>Country</th>\n",
       "      <th>Beverage Types</th>\n",
       "      <th>Display Value</th>\n",
       "    </tr>\n",
       "  </thead>\n",
       "  <tbody>\n",
       "    <tr>\n",
       "      <th>0</th>\n",
       "      <td>1986</td>\n",
       "      <td>Western Pacific</td>\n",
       "      <td>Viet Nam</td>\n",
       "      <td>Wine</td>\n",
       "      <td>0.00</td>\n",
       "    </tr>\n",
       "    <tr>\n",
       "      <th>1</th>\n",
       "      <td>1986</td>\n",
       "      <td>Americas</td>\n",
       "      <td>Uruguay</td>\n",
       "      <td>Other</td>\n",
       "      <td>0.50</td>\n",
       "    </tr>\n",
       "    <tr>\n",
       "      <th>2</th>\n",
       "      <td>1985</td>\n",
       "      <td>Africa</td>\n",
       "      <td>Cte d'Ivoire</td>\n",
       "      <td>Wine</td>\n",
       "      <td>1.62</td>\n",
       "    </tr>\n",
       "    <tr>\n",
       "      <th>3</th>\n",
       "      <td>1986</td>\n",
       "      <td>Americas</td>\n",
       "      <td>Colombia</td>\n",
       "      <td>Beer</td>\n",
       "      <td>4.27</td>\n",
       "    </tr>\n",
       "    <tr>\n",
       "      <th>4</th>\n",
       "      <td>1987</td>\n",
       "      <td>Americas</td>\n",
       "      <td>Saint Kitts and Nevis</td>\n",
       "      <td>Beer</td>\n",
       "      <td>1.98</td>\n",
       "    </tr>\n",
       "  </tbody>\n",
       "</table>\n",
       "</div>"
      ],
      "text/plain": [
       "   Year       WHO region                Country Beverage Types  Display Value\n",
       "0  1986  Western Pacific               Viet Nam           Wine           0.00\n",
       "1  1986         Americas                Uruguay          Other           0.50\n",
       "2  1985           Africa           Cte d'Ivoire           Wine           1.62\n",
       "3  1986         Americas               Colombia           Beer           4.27\n",
       "4  1987         Americas  Saint Kitts and Nevis           Beer           1.98"
      ]
     },
     "execution_count": 28,
     "metadata": {},
     "output_type": "execute_result"
    }
   ],
   "source": [
    "file_df.head()"
   ]
  },
  {
   "cell_type": "code",
   "execution_count": 70,
   "metadata": {},
   "outputs": [
    {
     "data": {
      "text/plain": [
       "Index(['Year', 'WHO region', 'Country', 'Beverage Types', 'Display Value'], dtype='object')"
      ]
     },
     "execution_count": 70,
     "metadata": {},
     "output_type": "execute_result"
    }
   ],
   "source": [
    "\n",
    "file_df.columns"
   ]
  },
  {
   "cell_type": "code",
   "execution_count": 54,
   "metadata": {},
   "outputs": [],
   "source": [
    "wine_df = file_df[file_df['Beverage Types'] == 'Wine']\n",
    "africa_df =wine_df[ wine_df['WHO region'] == 'Africa']"
   ]
  },
  {
   "cell_type": "code",
   "execution_count": 55,
   "metadata": {},
   "outputs": [
    {
     "data": {
      "text/html": [
       "<div>\n",
       "<style>\n",
       "    .dataframe thead tr:only-child th {\n",
       "        text-align: right;\n",
       "    }\n",
       "\n",
       "    .dataframe thead th {\n",
       "        text-align: left;\n",
       "    }\n",
       "\n",
       "    .dataframe tbody tr th {\n",
       "        vertical-align: top;\n",
       "    }\n",
       "</style>\n",
       "<table border=\"1\" class=\"dataframe\">\n",
       "  <thead>\n",
       "    <tr style=\"text-align: right;\">\n",
       "      <th></th>\n",
       "      <th>Year</th>\n",
       "      <th>WHO region</th>\n",
       "      <th>Country</th>\n",
       "      <th>Beverage Types</th>\n",
       "      <th>Display Value</th>\n",
       "    </tr>\n",
       "  </thead>\n",
       "  <tbody>\n",
       "    <tr>\n",
       "      <th>2</th>\n",
       "      <td>1985</td>\n",
       "      <td>Africa</td>\n",
       "      <td>Cte d'Ivoire</td>\n",
       "      <td>Wine</td>\n",
       "      <td>1.62</td>\n",
       "    </tr>\n",
       "    <tr>\n",
       "      <th>6</th>\n",
       "      <td>1987</td>\n",
       "      <td>Africa</td>\n",
       "      <td>Mauritius</td>\n",
       "      <td>Wine</td>\n",
       "      <td>0.13</td>\n",
       "    </tr>\n",
       "    <tr>\n",
       "      <th>10</th>\n",
       "      <td>1987</td>\n",
       "      <td>Africa</td>\n",
       "      <td>Botswana</td>\n",
       "      <td>Wine</td>\n",
       "      <td>0.20</td>\n",
       "    </tr>\n",
       "    <tr>\n",
       "      <th>15</th>\n",
       "      <td>1987</td>\n",
       "      <td>Africa</td>\n",
       "      <td>Guinea-Bissau</td>\n",
       "      <td>Wine</td>\n",
       "      <td>0.07</td>\n",
       "    </tr>\n",
       "    <tr>\n",
       "      <th>85</th>\n",
       "      <td>1985</td>\n",
       "      <td>Africa</td>\n",
       "      <td>Democratic Republic of the Congo</td>\n",
       "      <td>Wine</td>\n",
       "      <td>0.01</td>\n",
       "    </tr>\n",
       "  </tbody>\n",
       "</table>\n",
       "</div>"
      ],
      "text/plain": [
       "    Year WHO region                           Country Beverage Types  \\\n",
       "2   1985     Africa                      Cte d'Ivoire           Wine   \n",
       "6   1987     Africa                         Mauritius           Wine   \n",
       "10  1987     Africa                          Botswana           Wine   \n",
       "15  1987     Africa                     Guinea-Bissau           Wine   \n",
       "85  1985     Africa  Democratic Republic of the Congo           Wine   \n",
       "\n",
       "    Display Value  \n",
       "2            1.62  \n",
       "6            0.13  \n",
       "10           0.20  \n",
       "15           0.07  \n",
       "85           0.01  "
      ]
     },
     "execution_count": 55,
     "metadata": {},
     "output_type": "execute_result"
    }
   ],
   "source": [
    "africa_df.head()"
   ]
  },
  {
   "cell_type": "code",
   "execution_count": 73,
   "metadata": {},
   "outputs": [],
   "source": [
    "cols = ['Year', 'Display Value']\n",
    "sel_df = africa_df[cols].dropna()\n"
   ]
  },
  {
   "cell_type": "code",
   "execution_count": 74,
   "metadata": {},
   "outputs": [
    {
     "data": {
      "text/html": [
       "<div>\n",
       "<style>\n",
       "    .dataframe thead tr:only-child th {\n",
       "        text-align: right;\n",
       "    }\n",
       "\n",
       "    .dataframe thead th {\n",
       "        text-align: left;\n",
       "    }\n",
       "\n",
       "    .dataframe tbody tr th {\n",
       "        vertical-align: top;\n",
       "    }\n",
       "</style>\n",
       "<table border=\"1\" class=\"dataframe\">\n",
       "  <thead>\n",
       "    <tr style=\"text-align: right;\">\n",
       "      <th></th>\n",
       "      <th>Year</th>\n",
       "      <th>Display Value</th>\n",
       "    </tr>\n",
       "  </thead>\n",
       "  <tbody>\n",
       "    <tr>\n",
       "      <th>2</th>\n",
       "      <td>1985</td>\n",
       "      <td>1.62</td>\n",
       "    </tr>\n",
       "    <tr>\n",
       "      <th>6</th>\n",
       "      <td>1987</td>\n",
       "      <td>0.13</td>\n",
       "    </tr>\n",
       "    <tr>\n",
       "      <th>10</th>\n",
       "      <td>1987</td>\n",
       "      <td>0.20</td>\n",
       "    </tr>\n",
       "    <tr>\n",
       "      <th>15</th>\n",
       "      <td>1987</td>\n",
       "      <td>0.07</td>\n",
       "    </tr>\n",
       "    <tr>\n",
       "      <th>85</th>\n",
       "      <td>1985</td>\n",
       "      <td>0.01</td>\n",
       "    </tr>\n",
       "  </tbody>\n",
       "</table>\n",
       "</div>"
      ],
      "text/plain": [
       "    Year  Display Value\n",
       "2   1985           1.62\n",
       "6   1987           0.13\n",
       "10  1987           0.20\n",
       "15  1987           0.07\n",
       "85  1985           0.01"
      ]
     },
     "execution_count": 74,
     "metadata": {},
     "output_type": "execute_result"
    }
   ],
   "source": [
    "sel_df.head()"
   ]
  },
  {
   "cell_type": "code",
   "execution_count": 69,
   "metadata": {},
   "outputs": [
    {
     "data": {
      "text/plain": [
       "<matplotlib.axes._subplots.AxesSubplot at 0x1166a4978>"
      ]
     },
     "execution_count": 69,
     "metadata": {},
     "output_type": "execute_result"
    },
    {
     "data": {
      "image/png": "[encoded data removed]",
      "text/plain": [
       "<matplotlib.figure.Figure at 0x116642128>"
      ]
     },
     "metadata": {},
     "output_type": "display_data"
    }
   ],
   "source": [
    "# common display value i.e. consumption amount in Africa for wine\n",
    "sel_df[\"Display Value\"].plot.hist()"
   ]
  },
  {
   "cell_type": "code",
   "execution_count": 65,
   "metadata": {},
   "outputs": [
    {
     "data": {
      "text/plain": [
       "<matplotlib.axes._subplots.AxesSubplot at 0x11581ff60>"
      ]
     },
     "execution_count": 65,
     "metadata": {},
     "output_type": "execute_result"
    },
    {
     "data": {
      "image/png": "[encoded data removed]",
      "text/plain": [
       "<matplotlib.figure.Figure at 0x1157b4c50>"
      ]
     },
     "metadata": {},
     "output_type": "display_data"
    }
   ],
   "source": [
    "# study pattern of display value over the years\n",
    "sel_df.plot.scatter(x= 'Year', y='Display Value')\n"
   ]
  },
  {
   "cell_type": "code",
   "execution_count": null,
   "metadata": {
    "collapsed": true
   },
   "outputs": [],
   "source": []
  }
 ],
 "metadata": {
  "kernelspec": {
   "display_name": "Python 3",
   "language": "python",
   "name": "python3"
  },
  "language_info": {
   "codemirror_mode": {
    "name": "ipython",
    "version": 3
   },
   "file_extension": ".py",
   "mimetype": "text/x-python",
   "name": "python",
   "nbconvert_exporter": "python",
   "pygments_lexer": "ipython3",
   "version": "3.6.1"
  }
 },
 "nbformat": 4,
 "nbformat_minor": 2
}
