{
 "cells": [
  {
   "cell_type": "code",
   "execution_count": 1,
   "metadata": {
    "collapsed": true
   },
   "outputs": [],
   "source": [
    "#ref: https://machinelearningmastery.com/how-to-control-neural-network-model-capacity-with-nodes-and-layers/"
   ]
  },
  {
   "cell_type": "code",
   "execution_count": 2,
   "metadata": {
    "collapsed": true
   },
   "outputs": [],
   "source": [
    "from sklearn.datasets.samples_generator import make_blobs\n",
    "from matplotlib import pyplot\n",
    "from numpy import where"
   ]
  },
  {
   "cell_type": "code",
   "execution_count": 3,
   "metadata": {},
   "outputs": [],
   "source": [
    "# generate 2d classification dataset\n",
    "X, y = make_blobs(n_samples=1000, centers=3, n_features=2, cluster_std=2, random_state=2)\n",
    "# scatter plot for each class value"
   ]
  },
  {
   "cell_type": "code",
   "execution_count": 4,
   "metadata": {},
   "outputs": [
    {
     "data": {
      "text/plain": [
       "array([[  0.48719811,  -0.43160548],\n",
       "       [ -1.48958879,  -3.47915742],\n",
       "       [ -2.06250444,  -7.73300419],\n",
       "       ...,\n",
       "       [ -4.4839941 ,  -3.17623663],\n",
       "       [ -1.92705839,   2.94801349],\n",
       "       [ -2.32988529, -10.66109273]])"
      ]
     },
     "execution_count": 4,
     "metadata": {},
     "output_type": "execute_result"
    }
   ],
   "source": [
    "X"
   ]
  },
  {
   "cell_type": "code",
   "execution_count": null,
   "metadata": {},
   "outputs": [],
   "source": []
  },
  {
   "cell_type": "code",
   "execution_count": 5,
   "metadata": {},
   "outputs": [
    {
     "data": {
      "image/png": "[encoded data removed]",
      "text/plain": [
       "<Figure size 432x288 with 1 Axes>"
      ]
     },
     "metadata": {},
     "output_type": "display_data"
    }
   ],
   "source": [
    "for i in range(3):\n",
    "    row_ix = where(y==i)\n",
    "    pyplot.scatter(X[row_ix,0], X[row_ix,1])\n",
    "pyplot.show()"
   ]
  },
  {
   "cell_type": "markdown",
   "metadata": {},
   "source": [
    "### standard deviation of 2.0 means that the classes are not linearly separable (separable by a line), causing many ambiguous points. This is desirable as it means that the problem is non-trivial and will allow a neural network model to find many different “good enough” candidate solutions."
   ]
  },
  {
   "cell_type": "markdown",
   "metadata": {},
   "source": [
    "### In order to explore model capacity, we need more complexity in the problem than three classes and two variables.\n",
    "\n",
    "For the purposes of the following experiments, we will use 100 input features and 20 classes; for example:"
   ]
  },
  {
   "cell_type": "code",
   "execution_count": 6,
   "metadata": {
    "collapsed": true
   },
   "outputs": [],
   "source": [
    "X, y = make_blobs(n_samples=1000, centers=20, n_features=100, cluster_std=2, random_state=2)"
   ]
  },
  {
   "cell_type": "code",
   "execution_count": null,
   "metadata": {
    "collapsed": true
   },
   "outputs": [],
   "source": [
    "# MLP - multi-layer perceptron"
   ]
  },
  {
   "cell_type": "code",
   "execution_count": null,
   "metadata": {},
   "outputs": [
    {
     "name": "stderr",
     "output_type": "stream",
     "text": [
      "Using TensorFlow backend.\n"
     ]
    },
    {
     "name": "stdout",
     "output_type": "stream",
     "text": [
      "nodes=1: 0.150\n"
     ]
    }
   ],
   "source": [
    "# study of mlp learning curves given different number of nodes for multi-class classification\n",
    "from sklearn.datasets.samples_generator import make_blobs\n",
    "from keras.layers import Dense\n",
    "from keras.models import Sequential\n",
    "from keras.optimizers import SGD\n",
    "from keras.utils import to_categorical\n",
    "from matplotlib import pyplot\n",
    "\n",
    "# prepare multi-class classification dataset\n",
    "def create_dataset():\n",
    "\t# generate 2d classification dataset\n",
    "\tX, y = make_blobs(n_samples=1000, centers=20, n_features=100, cluster_std=2, random_state=2)\n",
    "\t# one hot encode output variable\n",
    "\ty = to_categorical(y)\n",
    "\t# split into train and test\n",
    "\tn_train = 500\n",
    "\ttrainX, testX = X[:n_train, :], X[n_train:, :]\n",
    "\ttrainy, testy = y[:n_train], y[n_train:]\n",
    "\treturn trainX, trainy, testX, testy\n",
    "\n",
    "# fit model with given number of nodes, returns test set accuracy\n",
    "def evaluate_model(n_nodes, trainX, trainy, testX, testy):\n",
    "\t# configure the model based on the data\n",
    "\tn_input, n_classes = trainX.shape[1], testy.shape[1]\n",
    "\t# define model\n",
    "\tmodel = Sequential()\n",
    "\tmodel.add(Dense(n_nodes, input_dim=n_input, activation='relu', kernel_initializer='he_uniform'))\n",
    "\tmodel.add(Dense(n_classes, activation='softmax'))\n",
    "\t# compile model\n",
    "\topt = SGD(lr=0.01, momentum=0.9)\n",
    "\tmodel.compile(loss='categorical_crossentropy', optimizer=opt, metrics=['accuracy'])\n",
    "\t# fit model on train set\n",
    "\thistory = model.fit(trainX, trainy, epochs=100, verbose=0)\n",
    "\t# evaluate model on test set\n",
    "\t_, test_acc = model.evaluate(testX, testy, verbose=0)\n",
    "\treturn history, test_acc\n",
    "\n",
    "# prepare dataset\n",
    "trainX, trainy, testX, testy = create_dataset()\n",
    "# evaluate model and plot learning curve with given number of nodes\n",
    "num_nodes = [1, 2, 3, 4, 5, 6, 7]\n",
    "for n_nodes in num_nodes:\n",
    "\t# evaluate model with a given number of nodes\n",
    "\thistory, result = evaluate_model(n_nodes, trainX, trainy, testX, testy)\n",
    "\t# summarize final test set accuracy\n",
    "\tprint('nodes=%d: %.3f' % (n_nodes, result))\n",
    "\t# plot learning curve\n",
    "\tpyplot.plot(history.history['loss'], label=str(n_nodes))\n",
    "# show the plot\n",
    "pyplot.legend()\n",
    "pyplot.show()"
   ]
  },
  {
   "cell_type": "markdown",
   "metadata": {},
   "source": [
    "A line plot is also created showing cross entropy loss on the training dataset for each model configuration (1 to 7 nodes in the hidden layer) over the 100 training epochs.\n",
    "\n",
    "We can see that as the number of nodes is increased, the model is able to better decrease the loss, e.g. to better learn the training dataset. This plot shows the direct relationship between model capacity, as defined by the number of nodes in the hidden layer and the model’s ability to learn.\n",
    "\n",
    "The number of nodes can be increased to the point (e.g. 1,000 nodes) where the learning algorithm is no longer able to sufficiently learn the mapping function."
   ]
  },
  {
   "cell_type": "code",
   "execution_count": null,
   "metadata": {},
   "outputs": [],
   "source": [
    "\n",
    "# study of mlp learning curves given different number of layers for multi-class classification\n",
    "from sklearn.datasets.samples_generator import make_blobs\n",
    "from keras.models import Sequential\n",
    "from keras.layers import Dense\n",
    "from keras.optimizers import SGD`a\n",
    "from keras.utils import to_categorical\n",
    "from matplotlib import pyplot\n",
    " \n",
    "# prepare multi-class classification dataset\n",
    "def create_dataset():\n",
    "\t# generate 2d classification dataset\n",
    "\tX, y = make_blobs(n_samples=1000, centers=20, n_features=100, cluster_std=2, random_state=2)\n",
    "\t# one hot encode output variable\n",
    "\ty = to_categorical(y)\n",
    "\t# split into train and test\n",
    "\tn_train = 500\n",
    "\ttrainX, testX = X[:n_train, :], X[n_train:, :]\n",
    "\ttrainy, testy = y[:n_train], y[n_train:]\n",
    "\treturn trainX, trainy, testX, testy\n",
    " \n",
    "# fit model with given number of layers, returns test set accuracy\n",
    "def evaluate_model(n_layers, trainX, trainy, testX, testy):\n",
    "\t# configure the model based on the data\n",
    "\tn_input, n_classes = trainX.shape[1], testy.shape[1]\n",
    "\t# define model\n",
    "\tmodel = Sequential()\n",
    "\tmodel.add(Dense(10, input_dim=n_input, activation='relu', kernel_initializer='he_uniform'))\n",
    "\tfor _ in range(1, n_layers):\n",
    "\t\tmodel.add(Dense(10, activation='relu', kernel_initializer='he_uniform'))\n",
    "\tmodel.add(Dense(n_classes, activation='softmax'))\n",
    "\t# compile model\n",
    "\topt = SGD(lr=0.01, momentum=0.9)\n",
    "\tmodel.compile(loss='categorical_crossentropy', optimizer=opt, metrics=['accuracy'])\n",
    "\t# fit model\n",
    "\thistory = model.fit(trainX, trainy, epochs=100, verbose=0)\n",
    "\t# evaluate model on test set\n",
    "\t_, test_acc = model.evaluate(testX, testy, verbose=0)\n",
    "\treturn history, test_acc\n",
    " \n",
    "# get dataset\n",
    "trainX, trainy, testX, testy = create_dataset()\n",
    "# evaluate model and plot learning curve of model with given number of layers\n",
    "all_history = list()\n",
    "num_layers = [1, 2, 3, 4, 5]\n",
    "for n_layers in num_layers:\n",
    "\t# evaluate model with a given number of layers\n",
    "\thistory, result = evaluate_model(n_layers, trainX, trainy, testX, testy)\n",
    "\tprint('layers=%d: %.3f' % (n_layers, result))\n",
    "\t# plot learning curve\n",
    "\tpyplot.plot(history.history['loss'], label=str(n_layers))\n",
    "pyplot.legend()\n",
    "pyplot.show()"
   ]
  },
  {
   "cell_type": "markdown",
   "metadata": {},
   "source": [
    "In this case, we can see that the model is capable of learning the problem well with up to three layers, then begins to falter. We can see that performance really drops with five layers and is expected to continue to fall if the number of layers is increased further.\n",
    "\n",
    "A line plot is also created showing cross entropy loss on the training dataset for each model configuration (1 to 5 layers) over the 100 training epochs.\n",
    "\n",
    "We can see that the dynamics of the model with 1, 2, and 3 models (blue, orange and green) are pretty similar, learning the problem quickly.\n",
    "\n",
    "Surprisingly, training loss with four and five layers shows signs of initially doing well, then leaping up, suggesting that the model is likely stuck with a sub-optimal set of weights rather than overfitting the training dataset."
   ]
  },
  {
   "cell_type": "code",
   "execution_count": null,
   "metadata": {
    "collapsed": true
   },
   "outputs": [],
   "source": []
  }
 ],
 "metadata": {
  "kernelspec": {
   "display_name": "Python 3",
   "language": "python",
   "name": "python3"
  },
  "language_info": {
   "codemirror_mode": {
    "name": "ipython",
    "version": 3
   },
   "file_extension": ".py",
   "mimetype": "text/x-python",
   "name": "python",
   "nbconvert_exporter": "python",
   "pygments_lexer": "ipython3",
   "version": "3.6.6"
  }
 },
 "nbformat": 4,
 "nbformat_minor": 2
}
